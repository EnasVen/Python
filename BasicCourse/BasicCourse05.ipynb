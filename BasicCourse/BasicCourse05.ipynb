{
 "cells": [
  {
   "cell_type": "markdown",
   "id": "6cfb8a21-1a07-4259-a8ac-540e9ae5b41c",
   "metadata": {},
   "source": [
    "# 標準程式庫\n",
    "https://docs.python.org/3/library/index.html  \n",
    "sys Module允許接收執行時的環境資訊，也可以修改環境資訊!    \n",
    "sys.exit可以正常結束程式!  \n",
    "sys.argv 串列的第一個引數為檔案.py名稱，其餘項目表示其他引數值  \n",
    "用pip install記得切換管理員(sudo -i)  \n",
    "pip list可以看安裝套件的列表 --help查看相關指令  \n",
    "輸出套件清單: pip freeze > requirements.txt  \n",
    "輸出後可透過這個txt來安裝套件列表: pip install -r requirements.txt  "
   ]
  },
  {
   "cell_type": "code",
   "execution_count": 4,
   "id": "fee05556-562a-4c8a-ac62-2cfe48f9f0c5",
   "metadata": {},
   "outputs": [
    {
     "data": {
      "text/plain": [
       "0.5253219888177297"
      ]
     },
     "execution_count": 4,
     "metadata": {},
     "output_type": "execute_result"
    }
   ],
   "source": [
    "import math\n",
    "math.cos(45)"
   ]
  },
  {
   "cell_type": "code",
   "execution_count": 5,
   "id": "7476caa6-1529-46ef-9662-5d81925a4603",
   "metadata": {},
   "outputs": [
    {
     "data": {
      "text/plain": [
       "'win32'"
      ]
     },
     "execution_count": 5,
     "metadata": {},
     "output_type": "execute_result"
    }
   ],
   "source": [
    "import sys\n",
    "sys.platform"
   ]
  },
  {
   "cell_type": "code",
   "execution_count": 6,
   "id": "21c1d541-cbd7-4e3a-8012-37c26e7e480c",
   "metadata": {},
   "outputs": [
    {
     "data": {
      "text/plain": [
       "'3.10.4 (tags/v3.10.4:9d38120, Mar 23 2022, 23:13:41) [MSC v.1929 64 bit (AMD64)]'"
      ]
     },
     "execution_count": 6,
     "metadata": {},
     "output_type": "execute_result"
    }
   ],
   "source": [
    "sys.version"
   ]
  },
  {
   "cell_type": "code",
   "execution_count": 7,
   "id": "4e284405-1dd6-4907-967a-03708ad5fbc0",
   "metadata": {},
   "outputs": [
    {
     "data": {
      "text/plain": [
       "sys.version_info(major=3, minor=10, micro=4, releaselevel='final', serial=0)"
      ]
     },
     "execution_count": 7,
     "metadata": {},
     "output_type": "execute_result"
    }
   ],
   "source": [
    "sys.version_info"
   ]
  },
  {
   "cell_type": "code",
   "execution_count": 132,
   "id": "67b0c80b-dc3d-43b6-a353-0874d0f7437f",
   "metadata": {
    "tags": []
   },
   "outputs": [],
   "source": [
    "def Func(a):\n",
    "    lst2=[]\n",
    "    for i in range(2,a+1):\n",
    "        lst1 = [v for v in range(2,i+1) if v!=i]\n",
    "        lst3 = [i%v for v in lst1]\n",
    "        if all(lst3): lst2 += [i]\n",
    "    return lst2\n",
    "result = Func(1000)"
   ]
  },
  {
   "cell_type": "code",
   "execution_count": 159,
   "id": "fd9f523c-38ae-492b-a898-88581a694436",
   "metadata": {},
   "outputs": [
    {
     "name": "stdout",
     "output_type": "stream",
     "text": [
      "   2     3     5     7    11    13    17    19    23    29\n",
      "  31    37    41    43    47    53    59    61    67    71\n",
      "  73    79    83    89    97   101   103   107   109   113\n",
      " 127   131   137   139   149   151   157   163   167   173\n",
      " 179   181   191   193   197   199   211   223   227   229\n",
      " 233   239   241   251   257   263   269   271   277   281\n",
      " 283   293   307   311   313   317   331   337   347   349\n",
      " 353   359   367   373   379   383   389   397   401   409\n",
      " 419   421   431   433   439   443   449   457   461   463\n",
      " 467   479   487   491   499   503   509   521   523   541\n",
      " 547   557   563   569   571   577   587   593   599   601\n",
      " 607   613   617   619   631   641   643   647   653   659\n",
      " 661   673   677   683   691   701   709   719   727   733\n",
      " 739   743   751   757   761   769   773   787   797   809\n",
      " 811   821   823   827   829   839   853   857   859   863\n",
      " 877   881   883   887   907   911   919   929   937   941\n",
      " 947   953   967   971   977   983   991   997  "
     ]
    }
   ],
   "source": [
    "for j in range(1,len(result)+1):\n",
    "    if not j%10:\n",
    "        print(f'{result[j-1]:4d}',end='\\r\\n')\n",
    "    else:\n",
    "        print(f'{result[j-1]:4d} ',end=' ')"
   ]
  }
 ],
 "metadata": {
  "kernelspec": {
   "display_name": "Python 3 (ipykernel)",
   "language": "python",
   "name": "python3"
  },
  "language_info": {
   "codemirror_mode": {
    "name": "ipython",
    "version": 3
   },
   "file_extension": ".py",
   "mimetype": "text/x-python",
   "name": "python",
   "nbconvert_exporter": "python",
   "pygments_lexer": "ipython3",
   "version": "3.10.4"
  }
 },
 "nbformat": 4,
 "nbformat_minor": 5
}
