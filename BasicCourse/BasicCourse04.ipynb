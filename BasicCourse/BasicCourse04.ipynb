{
 "cells": [
  {
   "cell_type": "markdown",
   "id": "5cabdf0a-6f07-451c-ac90-4ba8aae3cd6c",
   "metadata": {},
   "source": [
    "# 字典(Dictionary)\n",
    "無順序，可以改變(mutable)  \n",
    "key與value用 : 隔開，並以{}包起來  \n",
    "字典內的key不可變；但value是可變的!  "
   ]
  },
  {
   "cell_type": "code",
   "execution_count": 25,
   "id": "065bd201-3ea1-4fc4-94df-1b657bd30cd2",
   "metadata": {},
   "outputs": [
    {
     "data": {
      "text/plain": [
       "{'Name': 'J', 'Age': 25, 'Sex': 'M'}"
      ]
     },
     "execution_count": 25,
     "metadata": {},
     "output_type": "execute_result"
    }
   ],
   "source": [
    "d1 = {'Name':'J' , 'Age':25 , 'Sex':'M'} ; d1"
   ]
  },
  {
   "cell_type": "code",
   "execution_count": 26,
   "id": "2783e1d5-527c-4147-94e9-cdba7b0687b1",
   "metadata": {},
   "outputs": [
    {
     "data": {
      "text/plain": [
       "{'Age': 25, 'Sex': 'M', 'Name': 'J'}"
      ]
     },
     "execution_count": 26,
     "metadata": {},
     "output_type": "execute_result"
    }
   ],
   "source": [
    "d2 = {'Age':25 , 'Sex':'M' , 'Name':'J'} ; d2 #字典無順序"
   ]
  },
  {
   "cell_type": "code",
   "execution_count": 27,
   "id": "cae73ebb-ac8c-48bc-88ac-466139d942d6",
   "metadata": {},
   "outputs": [
    {
     "data": {
      "text/plain": [
       "False"
      ]
     },
     "execution_count": 27,
     "metadata": {},
     "output_type": "execute_result"
    }
   ],
   "source": [
    "d1 is d2"
   ]
  },
  {
   "cell_type": "code",
   "execution_count": 13,
   "id": "3c4a8c23-1611-4116-9943-3f95820e360e",
   "metadata": {},
   "outputs": [
    {
     "data": {
      "text/plain": [
       "True"
      ]
     },
     "execution_count": 13,
     "metadata": {},
     "output_type": "execute_result"
    }
   ],
   "source": [
    "d1 == d2"
   ]
  },
  {
   "cell_type": "code",
   "execution_count": null,
   "id": "831a3947-f62b-43db-ac4a-eb6528a09584",
   "metadata": {},
   "outputs": [],
   "source": []
  },
  {
   "cell_type": "code",
   "execution_count": null,
   "id": "1c85c328-11c4-49b5-bdab-5a696bbfca68",
   "metadata": {},
   "outputs": [],
   "source": []
  },
  {
   "cell_type": "code",
   "execution_count": null,
   "id": "e0b4ab82-59e5-4a85-9856-9a65820b7822",
   "metadata": {},
   "outputs": [],
   "source": []
  },
  {
   "cell_type": "code",
   "execution_count": null,
   "id": "c74e2edd-7a2d-4454-8ac9-58190012c16d",
   "metadata": {},
   "outputs": [],
   "source": []
  }
 ],
 "metadata": {
  "kernelspec": {
   "display_name": "Python 3 (ipykernel)",
   "language": "python",
   "name": "python3"
  },
  "language_info": {
   "codemirror_mode": {
    "name": "ipython",
    "version": 3
   },
   "file_extension": ".py",
   "mimetype": "text/x-python",
   "name": "python",
   "nbconvert_exporter": "python",
   "pygments_lexer": "ipython3",
   "version": "3.10.4"
  }
 },
 "nbformat": 4,
 "nbformat_minor": 5
}
