{
 "cells": [
  {
   "cell_type": "markdown",
   "id": "5cabdf0a-6f07-451c-ac90-4ba8aae3cd6c",
   "metadata": {},
   "source": [
    "# 字典(Dictionary)\n",
    "無順序，可以改變(mutable)  \n",
    "key與value用 : 隔開，並以{}包起來  \n",
    "字典內的key不可變；但value是可變的!  "
   ]
  },
  {
   "cell_type": "code",
   "execution_count": 2,
   "id": "065bd201-3ea1-4fc4-94df-1b657bd30cd2",
   "metadata": {},
   "outputs": [
    {
     "data": {
      "text/plain": [
       "{'Name': 'J', 'Age': 25, 'Sex': 'M'}"
      ]
     },
     "execution_count": 2,
     "metadata": {},
     "output_type": "execute_result"
    }
   ],
   "source": [
    "d1 = {'Name':'J' , 'Age':25 , 'Sex':'M'} ; d1"
   ]
  },
  {
   "cell_type": "code",
   "execution_count": 3,
   "id": "2783e1d5-527c-4147-94e9-cdba7b0687b1",
   "metadata": {},
   "outputs": [
    {
     "data": {
      "text/plain": [
       "{'Age': 25, 'Sex': 'M', 'Name': 'J'}"
      ]
     },
     "execution_count": 3,
     "metadata": {},
     "output_type": "execute_result"
    }
   ],
   "source": [
    "d2 = {'Age':25 , 'Sex':'M' , 'Name':'J'} ; d2 #字典無順序"
   ]
  },
  {
   "cell_type": "code",
   "execution_count": 4,
   "id": "cae73ebb-ac8c-48bc-88ac-466139d942d6",
   "metadata": {},
   "outputs": [
    {
     "data": {
      "text/plain": [
       "False"
      ]
     },
     "execution_count": 4,
     "metadata": {},
     "output_type": "execute_result"
    }
   ],
   "source": [
    "d1 is d2"
   ]
  },
  {
   "cell_type": "code",
   "execution_count": 5,
   "id": "3c4a8c23-1611-4116-9943-3f95820e360e",
   "metadata": {},
   "outputs": [
    {
     "data": {
      "text/plain": [
       "True"
      ]
     },
     "execution_count": 5,
     "metadata": {},
     "output_type": "execute_result"
    }
   ],
   "source": [
    "d1 == d2"
   ]
  },
  {
   "cell_type": "code",
   "execution_count": 6,
   "id": "831a3947-f62b-43db-ac4a-eb6528a09584",
   "metadata": {},
   "outputs": [
    {
     "data": {
      "text/plain": [
       "25"
      ]
     },
     "execution_count": 6,
     "metadata": {},
     "output_type": "execute_result"
    }
   ],
   "source": [
    "d1['Age']"
   ]
  },
  {
   "cell_type": "code",
   "execution_count": 7,
   "id": "1c85c328-11c4-49b5-bdab-5a696bbfca68",
   "metadata": {},
   "outputs": [
    {
     "data": {
      "text/plain": [
       "'M'"
      ]
     },
     "execution_count": 7,
     "metadata": {},
     "output_type": "execute_result"
    }
   ],
   "source": [
    "d2['Sex'][0]"
   ]
  },
  {
   "cell_type": "code",
   "execution_count": 8,
   "id": "e0b4ab82-59e5-4a85-9856-9a65820b7822",
   "metadata": {},
   "outputs": [],
   "source": [
    "del d1['Age']  # remove key"
   ]
  },
  {
   "cell_type": "code",
   "execution_count": 9,
   "id": "c74e2edd-7a2d-4454-8ac9-58190012c16d",
   "metadata": {},
   "outputs": [
    {
     "data": {
      "text/plain": [
       "{'Name': 'J', 'Sex': 'M'}"
      ]
     },
     "execution_count": 9,
     "metadata": {},
     "output_type": "execute_result"
    }
   ],
   "source": [
    "d1"
   ]
  },
  {
   "cell_type": "code",
   "execution_count": 10,
   "id": "1a1928f5",
   "metadata": {},
   "outputs": [],
   "source": [
    "d1.clear()"
   ]
  },
  {
   "cell_type": "code",
   "execution_count": 11,
   "id": "090993ef",
   "metadata": {},
   "outputs": [
    {
     "data": {
      "text/plain": [
       "{}"
      ]
     },
     "execution_count": 11,
     "metadata": {},
     "output_type": "execute_result"
    }
   ],
   "source": [
    "d1"
   ]
  },
  {
   "cell_type": "code",
   "execution_count": 12,
   "id": "92252bc6",
   "metadata": {},
   "outputs": [
    {
     "ename": "NameError",
     "evalue": "name 'd1' is not defined",
     "output_type": "error",
     "traceback": [
      "\u001b[1;31m---------------------------------------------------------------------------\u001b[0m",
      "\u001b[1;31mNameError\u001b[0m                                 Traceback (most recent call last)",
      "Input \u001b[1;32mIn [12]\u001b[0m, in \u001b[0;36m<cell line: 1>\u001b[1;34m()\u001b[0m\n\u001b[1;32m----> 1\u001b[0m \u001b[38;5;28;01mdel\u001b[39;00m d1 ; \u001b[43md1\u001b[49m\n",
      "\u001b[1;31mNameError\u001b[0m: name 'd1' is not defined"
     ]
    }
   ],
   "source": [
    "del d1 ; d1"
   ]
  },
  {
   "cell_type": "markdown",
   "id": "7d29c76b",
   "metadata": {},
   "source": [
    "# 集合(Set)\n",
    "無順序，不可改變(immutable)且元素為unique存在(不重複)"
   ]
  },
  {
   "cell_type": "code",
   "execution_count": 16,
   "id": "c64d8086",
   "metadata": {},
   "outputs": [
    {
     "data": {
      "text/plain": [
       "{'a', 'b', 'c', 'd'}"
      ]
     },
     "execution_count": 16,
     "metadata": {},
     "output_type": "execute_result"
    }
   ],
   "source": [
    "s1 = {'a','b','c','c','d'}  ;s1"
   ]
  },
  {
   "cell_type": "code",
   "execution_count": 14,
   "id": "b261ac96",
   "metadata": {},
   "outputs": [
    {
     "data": {
      "text/plain": [
       "set()"
      ]
     },
     "execution_count": 14,
     "metadata": {},
     "output_type": "execute_result"
    }
   ],
   "source": [
    "s2=set() ; s2  #空集合，不能用{}因為{}代表空字典"
   ]
  },
  {
   "cell_type": "code",
   "execution_count": 18,
   "id": "50ebe633",
   "metadata": {},
   "outputs": [
    {
     "ename": "TypeError",
     "evalue": "'set' object does not support item assignment",
     "output_type": "error",
     "traceback": [
      "\u001b[1;31m---------------------------------------------------------------------------\u001b[0m",
      "\u001b[1;31mTypeError\u001b[0m                                 Traceback (most recent call last)",
      "Input \u001b[1;32mIn [18]\u001b[0m, in \u001b[0;36m<cell line: 1>\u001b[1;34m()\u001b[0m\n\u001b[1;32m----> 1\u001b[0m s1[\u001b[38;5;241m0\u001b[39m] \u001b[38;5;241m=\u001b[39m \u001b[38;5;124m'\u001b[39m\u001b[38;5;124me\u001b[39m\u001b[38;5;124m'\u001b[39m\n",
      "\u001b[1;31mTypeError\u001b[0m: 'set' object does not support item assignment"
     ]
    }
   ],
   "source": [
    "s1[0] = 'e'"
   ]
  },
  {
   "cell_type": "code",
   "execution_count": 5,
   "id": "94e4f429",
   "metadata": {},
   "outputs": [],
   "source": [
    "lst = [1,1,5,5,2,3,10] #list"
   ]
  },
  {
   "cell_type": "code",
   "execution_count": 6,
   "id": "a54709ff",
   "metadata": {},
   "outputs": [],
   "source": [
    "s3 = set(lst)"
   ]
  },
  {
   "cell_type": "code",
   "execution_count": 7,
   "id": "f108fb42",
   "metadata": {},
   "outputs": [
    {
     "data": {
      "text/plain": [
       "{1, 2, 3, 5, 10}"
      ]
     },
     "execution_count": 7,
     "metadata": {},
     "output_type": "execute_result"
    }
   ],
   "source": [
    "s3"
   ]
  },
  {
   "cell_type": "code",
   "execution_count": 8,
   "id": "32b3d5ee",
   "metadata": {},
   "outputs": [
    {
     "data": {
      "text/plain": [
       "True"
      ]
     },
     "execution_count": 8,
     "metadata": {},
     "output_type": "execute_result"
    }
   ],
   "source": [
    "isinstance(s3,set)"
   ]
  },
  {
   "cell_type": "code",
   "execution_count": 8,
   "id": "d22f0873",
   "metadata": {},
   "outputs": [],
   "source": [
    "s4 = {1,2,3,5,10}"
   ]
  },
  {
   "cell_type": "code",
   "execution_count": 10,
   "id": "09254af8",
   "metadata": {},
   "outputs": [
    {
     "data": {
      "text/plain": [
       "False"
      ]
     },
     "execution_count": 10,
     "metadata": {},
     "output_type": "execute_result"
    }
   ],
   "source": [
    "s3 is s4"
   ]
  },
  {
   "cell_type": "code",
   "execution_count": 11,
   "id": "3c796443",
   "metadata": {},
   "outputs": [
    {
     "data": {
      "text/plain": [
       "True"
      ]
     },
     "execution_count": 11,
     "metadata": {},
     "output_type": "execute_result"
    }
   ],
   "source": [
    "s3 == s4"
   ]
  },
  {
   "cell_type": "code",
   "execution_count": 12,
   "id": "4491ac4e",
   "metadata": {},
   "outputs": [
    {
     "data": {
      "text/plain": [
       "{1, 2, 3, 5, 10}"
      ]
     },
     "execution_count": 12,
     "metadata": {},
     "output_type": "execute_result"
    }
   ],
   "source": [
    "s4"
   ]
  },
  {
   "cell_type": "code",
   "execution_count": 9,
   "id": "41e12591",
   "metadata": {},
   "outputs": [
    {
     "name": "stdout",
     "output_type": "stream",
     "text": [
      "2\n",
      "100\n",
      "7\n",
      "10\n",
      "-3\n"
     ]
    }
   ],
   "source": [
    "# 集合沒有順序\n",
    "s5 = {10,2,-3,7,100}\n",
    "for x in s5:\n",
    "    print(x)"
   ]
  },
  {
   "cell_type": "code",
   "execution_count": 16,
   "id": "418245fa",
   "metadata": {},
   "outputs": [
    {
     "data": {
      "text/plain": [
       "{-3, 7, 100}"
      ]
     },
     "execution_count": 16,
     "metadata": {},
     "output_type": "execute_result"
    }
   ],
   "source": [
    "s5 - s3 #差集"
   ]
  },
  {
   "cell_type": "code",
   "execution_count": 17,
   "id": "a06787fc",
   "metadata": {},
   "outputs": [
    {
     "data": {
      "text/plain": [
       "{-3, 1, 2, 3, 5, 7, 10, 100}"
      ]
     },
     "execution_count": 17,
     "metadata": {},
     "output_type": "execute_result"
    }
   ],
   "source": [
    "s5 | s3 #聯集"
   ]
  },
  {
   "cell_type": "code",
   "execution_count": 18,
   "id": "d0ddb9ae-9a89-4ea6-a8e6-1dc0446b9efc",
   "metadata": {},
   "outputs": [
    {
     "data": {
      "text/plain": [
       "{2, 10}"
      ]
     },
     "execution_count": 18,
     "metadata": {},
     "output_type": "execute_result"
    }
   ],
   "source": [
    "s5 & s3 #交集"
   ]
  },
  {
   "cell_type": "code",
   "execution_count": 19,
   "id": "4cd3cef0-9537-4bca-a694-4ac42b356581",
   "metadata": {},
   "outputs": [
    {
     "data": {
      "text/plain": [
       "{-3, 1, 3, 5, 7, 100}"
      ]
     },
     "execution_count": 19,
     "metadata": {},
     "output_type": "execute_result"
    }
   ],
   "source": [
    "s5 ^ s3 #對稱差集"
   ]
  },
  {
   "cell_type": "code",
   "execution_count": 22,
   "id": "10a1fe46-b362-4efa-bced-dc9901dde160",
   "metadata": {},
   "outputs": [
    {
     "data": {
      "text/plain": [
       "True"
      ]
     },
     "execution_count": 22,
     "metadata": {},
     "output_type": "execute_result"
    }
   ],
   "source": [
    "{2,7} < s5 #包含於"
   ]
  },
  {
   "cell_type": "code",
   "execution_count": 23,
   "id": "c5f04578-7ab9-4382-adbf-09ccba02957f",
   "metadata": {},
   "outputs": [
    {
     "data": {
      "text/plain": [
       "False"
      ]
     },
     "execution_count": 23,
     "metadata": {},
     "output_type": "execute_result"
    }
   ],
   "source": [
    "{99,98} > s5 #包含"
   ]
  },
  {
   "cell_type": "code",
   "execution_count": 21,
   "id": "2c5f34f8-bd0a-402b-aa2a-47442686b7b9",
   "metadata": {},
   "outputs": [
    {
     "data": {
      "text/plain": [
       "[2, 100, 7, 10, -3]"
      ]
     },
     "execution_count": 21,
     "metadata": {},
     "output_type": "execute_result"
    }
   ],
   "source": [
    "list(s5) #轉換資料型別"
   ]
  },
  {
   "cell_type": "code",
   "execution_count": 11,
   "id": "5cc64fb5-0432-41a4-8da0-3444d6e55ea0",
   "metadata": {},
   "outputs": [
    {
     "data": {
      "text/plain": [
       "(2, 100, 7, 10, -3)"
      ]
     },
     "execution_count": 11,
     "metadata": {},
     "output_type": "execute_result"
    }
   ],
   "source": [
    "tuple(s5) #set轉tuple"
   ]
  },
  {
   "cell_type": "code",
   "execution_count": 13,
   "id": "69456bb5-c847-4837-b09c-55a90abb427a",
   "metadata": {},
   "outputs": [
    {
     "data": {
      "text/plain": [
       "(2, 100, 7, 10, -3)"
      ]
     },
     "execution_count": 13,
     "metadata": {},
     "output_type": "execute_result"
    }
   ],
   "source": [
    "tuple(list(s5)) #list轉tuple"
   ]
  },
  {
   "cell_type": "markdown",
   "id": "22b5c548-164b-424c-976c-038eda6d7749",
   "metadata": {},
   "source": [
    "# 函數(function)\n",
    "def開頭，後面加上函數名稱以及()  \n",
    "return [expression] 可結束func.也可以回傳結果(預設為None)  \n",
    "可使用Tuple回傳多個資料!  "
   ]
  },
  {
   "cell_type": "code",
   "execution_count": null,
   "id": "d20f6ec7-c5f1-4034-98cf-c78e1c1b970f",
   "metadata": {},
   "outputs": [],
   "source": [
    "#%run ex51_func_def1.py  #notebook將程式載入並執行(只能在notebook使用!)"
   ]
  },
  {
   "cell_type": "code",
   "execution_count": null,
   "id": "6018c768",
   "metadata": {
    "tags": []
   },
   "outputs": [],
   "source": [
    "#make_a_sound()"
   ]
  },
  {
   "cell_type": "code",
   "execution_count": null,
   "id": "0fab3514-bc30-4bb9-9449-b6eff8892927",
   "metadata": {},
   "outputs": [],
   "source": [
    "# 查詢 func.\n",
    "len?"
   ]
  },
  {
   "cell_type": "code",
   "execution_count": 2,
   "id": "68c81f5b-a540-4ae2-916d-b6ba51461c2b",
   "metadata": {},
   "outputs": [],
   "source": [
    "make_a_sound? #會產出說明文字(docstring)，介紹func.的文字，所以\"\"\"...\"\"\"不能亂用當成註解!"
   ]
  },
  {
   "cell_type": "code",
   "execution_count": 4,
   "id": "b52b6875-c6d3-499c-a339-74d45cecd2a8",
   "metadata": {},
   "outputs": [
    {
     "name": "stdout",
     "output_type": "stream",
     "text": [
      "Hello Python\n",
      "Python Programming\n",
      "Python Programming\n",
      "Return value:None\n"
     ]
    }
   ],
   "source": [
    "# Function definition\n",
    "def printme(pstr):\n",
    "    \"\"\"This function print a string\"\"\"\n",
    "    print(pstr)\n",
    "\n",
    "def sum_nums(n1, n2):\n",
    "    \"\"\"This function return sum of two numbers\"\"\"\n",
    "    return n1+n2\n",
    "    \n",
    "# Call function\n",
    "printme('Hello Python')\n",
    "printme('Python Programming')\n",
    "ret = printme('Python Programming')\n",
    "print(f'Return value:{ret}') #無設定return，default return none"
   ]
  },
  {
   "cell_type": "code",
   "execution_count": 5,
   "id": "867271a0-b18d-473a-94fa-d94f6433ea83",
   "metadata": {},
   "outputs": [
    {
     "name": "stdout",
     "output_type": "stream",
     "text": [
      "In function, before change: [10, 20, 30]\n",
      "In function, after change: 50\n",
      "Outside function: [10, 20, 30]\n"
     ]
    }
   ],
   "source": [
    "# Function definition\n",
    "def changeme(mylist):\n",
    "    print('In function, before change:', mylist)\n",
    "    mylist = 50\n",
    "    print('In function, after change:', mylist)\n",
    "\n",
    "# Call function\n",
    "mylist = [10,20,30]\n",
    "changeme(mylist)\n",
    "print('Outside function:',mylist)"
   ]
  },
  {
   "cell_type": "code",
   "execution_count": 6,
   "id": "d49fc824-f279-4668-bd24-3fe0b3356bf4",
   "metadata": {},
   "outputs": [
    {
     "name": "stdout",
     "output_type": "stream",
     "text": [
      "In function, before change: [10, 20, 30]\n",
      "In function, after change: [10, 20, 50]\n",
      "Outside function: [10, 20, 50]\n"
     ]
    }
   ],
   "source": [
    "# Function definition\n",
    "def changeme(mylist):\n",
    "    print('In function, before change:', mylist)\n",
    "    mylist[2] = 50\n",
    "    print('In function, after change:', mylist)\n",
    "\n",
    "# Call function\n",
    "mylist = [10,20,30]\n",
    "changeme(mylist)\n",
    "print('Outside function:',mylist)"
   ]
  },
  {
   "cell_type": "markdown",
   "id": "b5083f6c-f8f6-4d93-9182-6291d4067282",
   "metadata": {},
   "source": [
    "# 函數引數(Functional Arguments)\n",
    "python函數有4種傳引數的方法:  \n",
    "1.位置引數(Positional Arguments)  \n",
    "2.關鍵字引數(Keyword Arguments)  \n",
    "3.預設引數(Default Arguments)  \n",
    "4.不固定個數引數(Arbitrary Arguments)  \n",
    "5.特殊引數(Special Arguments)  "
   ]
  },
  {
   "cell_type": "code",
   "execution_count": 12,
   "id": "7d0778ba-261a-430f-9457-a2d10531c101",
   "metadata": {},
   "outputs": [
    {
     "name": "stdout",
     "output_type": "stream",
     "text": [
      "Area = 120\n"
     ]
    }
   ],
   "source": [
    "# Postional Arguments / Required Arguments\n",
    "\n",
    "# Function definition\n",
    "def area(length,width):\n",
    "    return length*width\n",
    "\n",
    "# MAIN\n",
    "# Call function\n",
    "result = area(15,8)\n",
    "print('Area =',result)"
   ]
  },
  {
   "cell_type": "code",
   "execution_count": 9,
   "id": "c09e0a1e-8883-428f-bb2c-1b161933ba28",
   "metadata": {},
   "outputs": [
    {
     "ename": "TypeError",
     "evalue": "area() missing 1 required positional argument: 'width'",
     "output_type": "error",
     "traceback": [
      "\u001b[1;31m---------------------------------------------------------------------------\u001b[0m",
      "\u001b[1;31mTypeError\u001b[0m                                 Traceback (most recent call last)",
      "Input \u001b[1;32mIn [9]\u001b[0m, in \u001b[0;36m<cell line: 2>\u001b[1;34m()\u001b[0m\n\u001b[0;32m      1\u001b[0m \u001b[38;5;66;03m# Call function\u001b[39;00m\n\u001b[1;32m----> 2\u001b[0m result \u001b[38;5;241m=\u001b[39m \u001b[43marea\u001b[49m\u001b[43m(\u001b[49m\u001b[38;5;241;43m8\u001b[39;49m\u001b[43m)\u001b[49m\n\u001b[0;32m      3\u001b[0m \u001b[38;5;28mprint\u001b[39m(\u001b[38;5;124m'\u001b[39m\u001b[38;5;124mArea =\u001b[39m\u001b[38;5;124m'\u001b[39m,result)\n",
      "\u001b[1;31mTypeError\u001b[0m: area() missing 1 required positional argument: 'width'"
     ]
    }
   ],
   "source": [
    "# Call function\n",
    "result = area(8)\n",
    "print('Area =',result)  #只給一個引數就會報錯"
   ]
  },
  {
   "cell_type": "code",
   "execution_count": 17,
   "id": "d54d02a7-dbbf-48a3-9092-fe33a36471d6",
   "metadata": {},
   "outputs": [
    {
     "name": "stdout",
     "output_type": "stream",
     "text": [
      "Area = 990\n"
     ]
    }
   ],
   "source": [
    "# Keyword Arguments\n",
    "\n",
    "def area(length,width):\n",
    "    return length*width\n",
    "\n",
    "# Call function\n",
    "result = area(width = 10 , length = 99) # 注意argument順序不同!\n",
    "print('Area =',result)"
   ]
  },
  {
   "cell_type": "code",
   "execution_count": 18,
   "id": "56011748-7f2e-4e0d-8865-884bf1339eb2",
   "metadata": {},
   "outputs": [
    {
     "name": "stdout",
     "output_type": "stream",
     "text": [
      "Area = 24\n"
     ]
    }
   ],
   "source": [
    "# Default Arguments\n",
    "\n",
    "def area(length,width=3):\n",
    "    return length*width\n",
    "\n",
    "# Call function\n",
    "result = area(8) # 給定default的話，初始值不給也能run\n",
    "print('Area =',result)"
   ]
  },
  {
   "cell_type": "code",
   "execution_count": 19,
   "id": "e41f149d-07c0-4fcd-ba43-32caf4d98427",
   "metadata": {},
   "outputs": [
    {
     "ename": "SyntaxError",
     "evalue": "non-default argument follows default argument (2528493637.py, line 2)",
     "output_type": "error",
     "traceback": [
      "\u001b[1;36m  Input \u001b[1;32mIn [19]\u001b[1;36m\u001b[0m\n\u001b[1;33m    def area(width=3,length):\u001b[0m\n\u001b[1;37m                     ^\u001b[0m\n\u001b[1;31mSyntaxError\u001b[0m\u001b[1;31m:\u001b[0m non-default argument follows default argument\n"
     ]
    }
   ],
   "source": [
    "# default argument必須放在positional argument後面!\n",
    "def area(width=3,length):\n",
    "    return length*width"
   ]
  },
  {
   "cell_type": "code",
   "execution_count": 24,
   "id": "64231ebc-89f6-4d79-af65-197f4fe222bd",
   "metadata": {
    "tags": []
   },
   "outputs": [
    {
     "data": {
      "text/plain": [
       "5600"
      ]
     },
     "execution_count": 24,
     "metadata": {},
     "output_type": "execute_result"
    }
   ],
   "source": [
    "# 混合式argument (positional + keyword)\n",
    "area(70,width=80)"
   ]
  },
  {
   "cell_type": "code",
   "execution_count": 25,
   "id": "95416fbe-cfd2-4382-94d5-91a9d81e5e15",
   "metadata": {},
   "outputs": [
    {
     "name": "stdout",
     "output_type": "stream",
     "text": [
      "Output is: \n",
      "first: 10\n",
      "\n",
      "Output is: \n",
      "first: 70\n",
      "60\n",
      "50\n",
      "40\n",
      "30\n",
      "20\n",
      "5\n",
      "\n"
     ]
    }
   ],
   "source": [
    "# Arbitrary Arguments (*var代表不固定參數的集合)\n",
    "\n",
    "# Function definition\n",
    "def printinfo(arg1, *vartuple):\n",
    "    print('Output is: ')\n",
    "    print('first:',arg1)\n",
    "    for var in vartuple:\n",
    "        print(var)\n",
    "    print()\n",
    "    \n",
    "# MAIN\n",
    "# Call function\n",
    "printinfo(10)\n",
    "printinfo(70, 60, 50 , 40 , 30 , 20 , 5)\n"
   ]
  },
  {
   "cell_type": "code",
   "execution_count": 26,
   "id": "d9afb48f-c208-4180-a857-72795a5293c3",
   "metadata": {},
   "outputs": [],
   "source": [
    "def printinfo(arg1, *vartuple , arg2):\n",
    "    print('Output is: ')\n",
    "    print('first:',arg1)\n",
    "    for var in vartuple:\n",
    "        print(var)\n",
    "    print()"
   ]
  },
  {
   "cell_type": "code",
   "execution_count": 29,
   "id": "df2cd0d2-754d-4159-96be-a78120d6a6ca",
   "metadata": {},
   "outputs": [
    {
     "ename": "TypeError",
     "evalue": "printinfo() missing 1 required keyword-only argument: 'arg2'",
     "output_type": "error",
     "traceback": [
      "\u001b[1;31m---------------------------------------------------------------------------\u001b[0m",
      "\u001b[1;31mTypeError\u001b[0m                                 Traceback (most recent call last)",
      "Input \u001b[1;32mIn [29]\u001b[0m, in \u001b[0;36m<cell line: 1>\u001b[1;34m()\u001b[0m\n\u001b[1;32m----> 1\u001b[0m \u001b[43mprintinfo\u001b[49m\u001b[43m(\u001b[49m\u001b[38;5;241;43m70\u001b[39;49m\u001b[43m,\u001b[49m\u001b[43m \u001b[49m\u001b[38;5;241;43m60\u001b[39;49m\u001b[43m,\u001b[49m\u001b[43m \u001b[49m\u001b[38;5;241;43m50\u001b[39;49m\u001b[43m \u001b[49m\u001b[43m,\u001b[49m\u001b[43m \u001b[49m\u001b[38;5;241;43m40\u001b[39;49m\u001b[43m \u001b[49m\u001b[43m,\u001b[49m\u001b[43m \u001b[49m\u001b[38;5;241;43m30\u001b[39;49m\u001b[43m \u001b[49m\u001b[43m,\u001b[49m\u001b[43m \u001b[49m\u001b[38;5;241;43m20\u001b[39;49m\u001b[43m \u001b[49m\u001b[43m,\u001b[49m\u001b[43m \u001b[49m\u001b[38;5;241;43m5\u001b[39;49m\u001b[43m)\u001b[49m\n",
      "\u001b[1;31mTypeError\u001b[0m: printinfo() missing 1 required keyword-only argument: 'arg2'"
     ]
    }
   ],
   "source": [
    "printinfo(70, 60, 50 , 40 , 30 , 20 , 5) "
   ]
  },
  {
   "cell_type": "code",
   "execution_count": 30,
   "id": "5cef6613-5e11-4bd5-9815-1194bf438503",
   "metadata": {},
   "outputs": [
    {
     "ename": "TypeError",
     "evalue": "printinfo() missing 1 required keyword-only argument: 'arg2'",
     "output_type": "error",
     "traceback": [
      "\u001b[1;31m---------------------------------------------------------------------------\u001b[0m",
      "\u001b[1;31mTypeError\u001b[0m                                 Traceback (most recent call last)",
      "Input \u001b[1;32mIn [30]\u001b[0m, in \u001b[0;36m<cell line: 1>\u001b[1;34m()\u001b[0m\n\u001b[1;32m----> 1\u001b[0m \u001b[43mprintinfo\u001b[49m\u001b[43m(\u001b[49m\u001b[38;5;241;43m10\u001b[39;49m\u001b[43m)\u001b[49m\n",
      "\u001b[1;31mTypeError\u001b[0m: printinfo() missing 1 required keyword-only argument: 'arg2'"
     ]
    }
   ],
   "source": [
    "printinfo(10) #arg2 沒給所以報錯"
   ]
  },
  {
   "cell_type": "code",
   "execution_count": 32,
   "id": "7f4e8595-1eb9-42dc-88f9-d82814693c9c",
   "metadata": {},
   "outputs": [
    {
     "name": "stdout",
     "output_type": "stream",
     "text": [
      "Output is: \n",
      "first: 70\n",
      "60\n",
      "50\n",
      "40\n",
      "30\n",
      "20\n",
      "\n"
     ]
    }
   ],
   "source": [
    "printinfo(70, 60, 50 , 40 , 30 , 20 , arg2=5) #不固定參數後面只能放default parameter"
   ]
  },
  {
   "cell_type": "code",
   "execution_count": 34,
   "id": "eb6b1d5d-8645-42f6-8cd4-39b2ff3a5ce7",
   "metadata": {},
   "outputs": [
    {
     "data": {
      "text/plain": [
       "\u001b[1;31mDocstring:\u001b[0m\n",
       "print(value, ..., sep=' ', end='\\n', file=sys.stdout, flush=False)\n",
       "\n",
       "Prints the values to a stream, or to sys.stdout by default.\n",
       "Optional keyword arguments:\n",
       "file:  a file-like object (stream); defaults to the current sys.stdout.\n",
       "sep:   string inserted between values, default a space.\n",
       "end:   string appended after the last value, default a newline.\n",
       "flush: whether to forcibly flush the stream.\n",
       "\u001b[1;31mType:\u001b[0m      builtin_function_or_method\n"
      ]
     },
     "metadata": {},
     "output_type": "display_data"
    }
   ],
   "source": [
    "print?"
   ]
  },
  {
   "cell_type": "code",
   "execution_count": 49,
   "id": "8d8c4149-1e32-4cac-9ba2-699aebb5866d",
   "metadata": {},
   "outputs": [],
   "source": [
    "# Special Arguments\n",
    "\n",
    "# Positional only:   /以前只能使用positional arguments\n",
    "def tri_area(b,h,/):\n",
    "    \"\"\" postional only !!! \"\"\"\n",
    "    return b*h/2."
   ]
  },
  {
   "cell_type": "code",
   "execution_count": 40,
   "id": "80ea3b25-a530-4b05-9b34-2601cd2d647e",
   "metadata": {},
   "outputs": [],
   "source": [
    "# Keyword only:  *以後只能使用 keyword arguments\n",
    "def rect_area(*,length,width):\n",
    "    return length*width"
   ]
  },
  {
   "cell_type": "code",
   "execution_count": 39,
   "id": "5d9f1365-0aec-4a36-b37a-83afd12111ea",
   "metadata": {},
   "outputs": [],
   "source": [
    "# Positional or Keyword\n",
    "def BMI(weight,height):\n",
    "    return weight/(height/100)**2"
   ]
  },
  {
   "cell_type": "code",
   "execution_count": 36,
   "id": "7b45d603-7587-4700-950e-d0a62fe337c8",
   "metadata": {},
   "outputs": [
    {
     "data": {
      "text/plain": [
       "100.0"
      ]
     },
     "execution_count": 36,
     "metadata": {},
     "output_type": "execute_result"
    }
   ],
   "source": [
    "tri_area(10,20)"
   ]
  },
  {
   "cell_type": "code",
   "execution_count": 48,
   "id": "2f07080a-eb91-4bf8-ac37-22a8bf668a83",
   "metadata": {},
   "outputs": [
    {
     "ename": "TypeError",
     "evalue": "tri_area() got some positional-only arguments passed as keyword arguments: 'b, h'",
     "output_type": "error",
     "traceback": [
      "\u001b[1;31m---------------------------------------------------------------------------\u001b[0m",
      "\u001b[1;31mTypeError\u001b[0m                                 Traceback (most recent call last)",
      "Input \u001b[1;32mIn [48]\u001b[0m, in \u001b[0;36m<cell line: 1>\u001b[1;34m()\u001b[0m\n\u001b[1;32m----> 1\u001b[0m \u001b[43mtri_area\u001b[49m\u001b[43m(\u001b[49m\u001b[43mh\u001b[49m\u001b[38;5;241;43m=\u001b[39;49m\u001b[38;5;241;43m10\u001b[39;49m\u001b[43m,\u001b[49m\u001b[43mb\u001b[49m\u001b[38;5;241;43m=\u001b[39;49m\u001b[38;5;241;43m20\u001b[39;49m\u001b[43m)\u001b[49m\n",
      "\u001b[1;31mTypeError\u001b[0m: tri_area() got some positional-only arguments passed as keyword arguments: 'b, h'"
     ]
    }
   ],
   "source": [
    "tri_area(h=10,b=20) #只能用postional arguments"
   ]
  },
  {
   "cell_type": "code",
   "execution_count": 47,
   "id": "4131da0a-eea1-4430-8eae-20974bc549e0",
   "metadata": {},
   "outputs": [
    {
     "ename": "TypeError",
     "evalue": "tri_area() got some positional-only arguments passed as keyword arguments: 'b, h'",
     "output_type": "error",
     "traceback": [
      "\u001b[1;31m---------------------------------------------------------------------------\u001b[0m",
      "\u001b[1;31mTypeError\u001b[0m                                 Traceback (most recent call last)",
      "Input \u001b[1;32mIn [47]\u001b[0m, in \u001b[0;36m<cell line: 1>\u001b[1;34m()\u001b[0m\n\u001b[1;32m----> 1\u001b[0m \u001b[43mtri_area\u001b[49m\u001b[43m(\u001b[49m\u001b[43mb\u001b[49m\u001b[38;5;241;43m=\u001b[39;49m\u001b[38;5;241;43m10\u001b[39;49m\u001b[43m,\u001b[49m\u001b[43mh\u001b[49m\u001b[38;5;241;43m=\u001b[39;49m\u001b[38;5;241;43m20\u001b[39;49m\u001b[43m)\u001b[49m\n",
      "\u001b[1;31mTypeError\u001b[0m: tri_area() got some positional-only arguments passed as keyword arguments: 'b, h'"
     ]
    }
   ],
   "source": [
    "tri_area(b=10,h=20) #只能用postional arguments"
   ]
  },
  {
   "cell_type": "code",
   "execution_count": 38,
   "id": "3350f1e4-81d1-4c0a-9286-de5c8124bad1",
   "metadata": {},
   "outputs": [
    {
     "ename": "TypeError",
     "evalue": "rect_area() takes 0 positional arguments but 2 were given",
     "output_type": "error",
     "traceback": [
      "\u001b[1;31m---------------------------------------------------------------------------\u001b[0m",
      "\u001b[1;31mTypeError\u001b[0m                                 Traceback (most recent call last)",
      "Input \u001b[1;32mIn [38]\u001b[0m, in \u001b[0;36m<cell line: 1>\u001b[1;34m()\u001b[0m\n\u001b[1;32m----> 1\u001b[0m \u001b[43mrect_area\u001b[49m\u001b[43m(\u001b[49m\u001b[38;5;241;43m20\u001b[39;49m\u001b[43m,\u001b[49m\u001b[38;5;241;43m5\u001b[39;49m\u001b[43m)\u001b[49m\n",
      "\u001b[1;31mTypeError\u001b[0m: rect_area() takes 0 positional arguments but 2 were given"
     ]
    }
   ],
   "source": [
    "rect_area(20,5)"
   ]
  },
  {
   "cell_type": "code",
   "execution_count": 45,
   "id": "8a32d6e8-bdf3-4308-a414-dddb81399270",
   "metadata": {},
   "outputs": [
    {
     "data": {
      "text/plain": [
       "100"
      ]
     },
     "execution_count": 45,
     "metadata": {},
     "output_type": "execute_result"
    }
   ],
   "source": [
    "rect_area(length=20,width=5) #一定要用keyword"
   ]
  },
  {
   "cell_type": "code",
   "execution_count": 55,
   "id": "103813e7-a7d0-4d47-bbfa-b6824ef63305",
   "metadata": {},
   "outputs": [
    {
     "data": {
      "text/plain": [
       "\u001b[1;31mSignature:\u001b[0m \u001b[0mtri_area\u001b[0m\u001b[1;33m(\u001b[0m\u001b[0mb\u001b[0m\u001b[1;33m,\u001b[0m \u001b[0mh\u001b[0m\u001b[1;33m,\u001b[0m \u001b[1;33m/\u001b[0m\u001b[1;33m)\u001b[0m\u001b[1;33m\u001b[0m\u001b[1;33m\u001b[0m\u001b[0m\n",
       "\u001b[1;31mDocstring:\u001b[0m postional only !!! \n",
       "\u001b[1;31mFile:\u001b[0m      c:\\users\\student\\appdata\\local\\temp\\ipykernel_3520\\504375885.py\n",
       "\u001b[1;31mType:\u001b[0m      function\n"
      ]
     },
     "metadata": {},
     "output_type": "display_data"
    }
   ],
   "source": [
    "#記得加入DocString，不然沒人知道func.怎麼work!\n",
    "tri_area?"
   ]
  },
  {
   "cell_type": "code",
   "execution_count": 62,
   "id": "698c07cf-03a2-4658-a082-f653112a0a38",
   "metadata": {},
   "outputs": [
    {
     "data": {
      "text/plain": [
       "\u001b[1;31mSignature:\u001b[0m \u001b[0mtri_area2\u001b[0m\u001b[1;33m(\u001b[0m\u001b[0mb\u001b[0m\u001b[1;33m,\u001b[0m \u001b[0mh\u001b[0m\u001b[1;33m,\u001b[0m \u001b[1;33m/\u001b[0m\u001b[1;33m)\u001b[0m\u001b[1;33m\u001b[0m\u001b[1;33m\u001b[0m\u001b[0m\n",
       "\u001b[1;31mDocstring:\u001b[0m <no docstring>\n",
       "\u001b[1;31mFile:\u001b[0m      c:\\users\\student\\appdata\\local\\temp\\ipykernel_3520\\2131870213.py\n",
       "\u001b[1;31mType:\u001b[0m      function\n"
      ]
     },
     "metadata": {},
     "output_type": "display_data"
    }
   ],
   "source": [
    "def tri_area2(b,h,/):\n",
    "    return b*h/2.\n",
    "    \"\"\" postional only !!! \"\"\"\n",
    "tri_area2?"
   ]
  },
  {
   "cell_type": "markdown",
   "id": "8ee91a8f-0f17-4d0a-b8b9-9f9c1dfa6f58",
   "metadata": {},
   "source": [
    "# Lambda 運算  \n",
    "此為匿名函數運算，可接收多個引數，但只能執行一個運算，並回傳一個資料，使用single statement!  "
   ]
  },
  {
   "cell_type": "code",
   "execution_count": 63,
   "id": "96ee4092-4e91-43bd-a039-a5097bbb3583",
   "metadata": {},
   "outputs": [],
   "source": [
    "# function: return sum of two values\n",
    "def sum_data(a, b):\n",
    "    return a+b\n",
    "    "
   ]
  },
  {
   "cell_type": "code",
   "execution_count": 64,
   "id": "8f93f952-82fa-44a5-849c-7784106b959f",
   "metadata": {},
   "outputs": [],
   "source": [
    "# function: using function as parameter    \n",
    "def operate_on(x, y, func):\n",
    "    return func(x, y)"
   ]
  },
  {
   "cell_type": "code",
   "execution_count": 65,
   "id": "ba59d261-60eb-4d59-b2aa-49ad2e8d5817",
   "metadata": {},
   "outputs": [
    {
     "name": "stdout",
     "output_type": "stream",
     "text": [
      "operate_on(16,20,sum_data) = 36\n"
     ]
    }
   ],
   "source": [
    "# MAIN\n",
    "r = operate_on(16,20,sum_data)   # call function\n",
    "print('operate_on(16,20,sum_data) =',r)\n",
    "          "
   ]
  },
  {
   "cell_type": "code",
   "execution_count": 66,
   "id": "f4911ff2-064c-48e3-8866-b2996c8a6ba6",
   "metadata": {},
   "outputs": [
    {
     "name": "stdout",
     "output_type": "stream",
     "text": [
      "operate_on(10,40,Lambda_function) = -30\n"
     ]
    }
   ],
   "source": [
    "r = operate_on(10,40,lambda a,b:a-b)   # with anonymous function\n",
    "print('operate_on(10,40,Lambda_function) =', r)"
   ]
  },
  {
   "cell_type": "code",
   "execution_count": 68,
   "id": "d183ca55-341a-4133-93c6-a7fd49ad1c43",
   "metadata": {},
   "outputs": [
    {
     "data": {
      "text/plain": [
       "6"
      ]
     },
     "execution_count": 68,
     "metadata": {},
     "output_type": "execute_result"
    }
   ],
   "source": [
    "ttt = lambda x,y,z,/: x+y+z\n",
    "ttt(1,2,3)"
   ]
  },
  {
   "cell_type": "code",
   "execution_count": 69,
   "id": "de13fdcd-f4a2-4887-bfe5-10283f9e6c2a",
   "metadata": {},
   "outputs": [
    {
     "data": {
      "text/plain": [
       "6"
      ]
     },
     "execution_count": 69,
     "metadata": {},
     "output_type": "execute_result"
    }
   ],
   "source": [
    "ttt = lambda *,x,y,z: x+y+z\n",
    "ttt(x=1,y=2,z=3)"
   ]
  },
  {
   "cell_type": "markdown",
   "id": "928d040b-bf71-41d2-9086-fbfeea440491",
   "metadata": {},
   "source": [
    "# 全域變數 & 區域變數(Global & Local variable)  \n",
    "func.內 => 區域變數  \n",
    "func.外 => 全域變數  \n",
    "func. 可直接參考 gloabal vars.  \n",
    "func.內指定的var自動視為local var，除非有宣告global  "
   ]
  },
  {
   "cell_type": "code",
   "execution_count": 70,
   "id": "54def956-5c60-4c5e-aed0-9be1cc543461",
   "metadata": {},
   "outputs": [
    {
     "name": "stdout",
     "output_type": "stream",
     "text": [
      "42\n",
      "42\n",
      "spam\n"
     ]
    }
   ],
   "source": [
    "def spam():\n",
    "    global eggs\n",
    "    eggs = 'spam'    # this is the global\n",
    "    \n",
    "def bacon():\n",
    "    eggs = 'bacon'   # this is a local\n",
    "    \n",
    "def ham():\n",
    "    print(eggs)  # this is the global\n",
    "\n",
    "# MAIN\n",
    "eggs = 42        # this is the global\n",
    "\n",
    "ham()\n",
    "\n",
    "bacon()\n",
    "print(eggs)      # 42\n",
    "\n",
    "spam()\n",
    "print(eggs)      # spam\n"
   ]
  },
  {
   "cell_type": "code",
   "execution_count": 71,
   "id": "2e098ea0-7edf-45e2-8598-4d592f8c383b",
   "metadata": {},
   "outputs": [
    {
     "name": "stdout",
     "output_type": "stream",
     "text": [
      "In function local total : 30\n",
      "Outside function global total : 0\n"
     ]
    }
   ],
   "source": [
    "# Using global variable\n",
    "total = 0   # This is global variable\n",
    "\n",
    "# Function definition\n",
    "def sum_data(arg1, arg2):\n",
    "    total = arg1 + arg2; # total is local variable\n",
    "    # print 30\n",
    "    print('In function local total :', total)\n",
    "\n",
    "# MAIN    \n",
    "# Call function\n",
    "sum_data(10, 20)\n",
    "\n",
    "# print 0\n",
    "print('Outside function global total :', total)"
   ]
  },
  {
   "cell_type": "code",
   "execution_count": 74,
   "id": "437574aa-a38b-4115-9f7e-9f1f30ece609",
   "metadata": {},
   "outputs": [
    {
     "data": {
      "text/plain": [
       "0"
      ]
     },
     "execution_count": 74,
     "metadata": {},
     "output_type": "execute_result"
    }
   ],
   "source": [
    "total"
   ]
  },
  {
   "cell_type": "code",
   "execution_count": 72,
   "id": "767e28eb-95ea-4d04-b137-bf6dbd709b0c",
   "metadata": {},
   "outputs": [
    {
     "name": "stdout",
     "output_type": "stream",
     "text": [
      "In function local total : 30\n",
      "Outside function global total : 0\n"
     ]
    }
   ],
   "source": [
    "%run ex53_local_var.py"
   ]
  },
  {
   "cell_type": "code",
   "execution_count": 73,
   "id": "349b4ff2-20a6-4cdb-97b3-820160b6fd3d",
   "metadata": {},
   "outputs": [
    {
     "data": {
      "text/plain": [
       "0"
      ]
     },
     "execution_count": 73,
     "metadata": {},
     "output_type": "execute_result"
    }
   ],
   "source": [
    "total"
   ]
  },
  {
   "cell_type": "code",
   "execution_count": 77,
   "id": "c7aed551-9935-4507-aa86-0822f90ae614",
   "metadata": {},
   "outputs": [
    {
     "name": "stdout",
     "output_type": "stream",
     "text": [
      "0 1 2 3 4 5 6 7 8 9 \n",
      "data is : 9\n",
      "data now is myfunc\n"
     ]
    }
   ],
   "source": [
    "def myfunc():\n",
    "    global data\n",
    "    data='myfunc'\n",
    "    \n",
    "# MAIN\n",
    "for data in range(10):\n",
    "    print(data,end=' ')\n",
    "print()\n",
    "print(f'data is : {data}')\n",
    "\n",
    "# Call function\n",
    "myfunc()\n",
    "\n",
    "print(f'data now is {data}')"
   ]
  },
  {
   "cell_type": "markdown",
   "id": "25c793d3-a401-4804-979d-a970bd3afba6",
   "metadata": {
    "tags": []
   },
   "source": [
    "# 模組(Module)\n",
    "module為程式碼組合  \n",
    "每一支.py的程式都是一個python module  \n",
    "module內可定義func. class 或 var，也可以包含runnable codes(記憶體發生變化的地方開始的程式碼)  \n",
    "if __name__ = '__main__' => 代表程式直接被call  \n",
    "if __name__ = 模組名稱(檔名)，代表這支程式是被import的\n"
   ]
  },
  {
   "cell_type": "code",
   "execution_count": 85,
   "id": "c021930f-771c-4de8-a896-d5c5bf05cfd8",
   "metadata": {},
   "outputs": [],
   "source": [
    "import support as sp # import 就是把模組內的程式載入記憶體! (MODULE如果有dash-就會報錯，所以不建議檔名包含-)"
   ]
  },
  {
   "cell_type": "code",
   "execution_count": 81,
   "id": "17ff9b19-8dd8-48f5-aff5-578ed544f13a",
   "metadata": {},
   "outputs": [
    {
     "name": "stdout",
     "output_type": "stream",
     "text": [
      "support\n",
      "Hello : abc\n"
     ]
    }
   ],
   "source": [
    "support.print_func('abc') # __name__ 代表模組名稱!"
   ]
  },
  {
   "cell_type": "code",
   "execution_count": 84,
   "id": "5986d5d3-84d1-41d2-8d9b-92fb2827c91e",
   "metadata": {},
   "outputs": [
    {
     "name": "stdin",
     "output_type": "stream",
     "text": [
      "Enter your name:  ABC\n"
     ]
    },
    {
     "name": "stdout",
     "output_type": "stream",
     "text": [
      "support\n",
      "Hello : ABC\n"
     ]
    }
   ],
   "source": [
    "sp.print_func(input('Enter your name: '))"
   ]
  },
  {
   "cell_type": "code",
   "execution_count": 88,
   "id": "6fb24952-d741-4b92-84d0-bbf99f39397f",
   "metadata": {},
   "outputs": [
    {
     "name": "stdout",
     "output_type": "stream",
     "text": [
      "BMI=24.2215\n"
     ]
    }
   ],
   "source": [
    "from bmi import BMI\n",
    "result = BMI(70,170)  #不需要呼叫 bmi.BMI\n",
    "print('BMI={:.4F}'.format(result))"
   ]
  },
  {
   "cell_type": "code",
   "execution_count": 89,
   "id": "0ea18aa1-f0a6-40a2-9799-79164061cecf",
   "metadata": {},
   "outputs": [
    {
     "data": {
      "text/plain": [
       "24.221453287197235"
      ]
     },
     "execution_count": 89,
     "metadata": {},
     "output_type": "execute_result"
    }
   ],
   "source": [
    "import bmi\n",
    "BMI(70,170) "
   ]
  },
  {
   "cell_type": "code",
   "execution_count": 90,
   "id": "ee887391-f0c4-4061-b175-932c30826a6a",
   "metadata": {},
   "outputs": [
    {
     "name": "stdout",
     "output_type": "stream",
     "text": [
      "175cm,67kg,BMI=21.8776\n"
     ]
    }
   ],
   "source": [
    "%run ex62_bmi.py"
   ]
  },
  {
   "cell_type": "code",
   "execution_count": 91,
   "id": "ac77d8f9-e93d-4e6b-95b1-61053210ad7e",
   "metadata": {
    "tags": []
   },
   "outputs": [
    {
     "name": "stdout",
     "output_type": "stream",
     "text": [
      "__main__\n",
      "C:\\Users\\Student\\Desktop\\shared\\Python\\lab_codes20220102\\bmi.py\n"
     ]
    },
    {
     "name": "stdin",
     "output_type": "stream",
     "text": [
      "Height(cm):  170\n",
      "Weight(kg):  100\n"
     ]
    },
    {
     "name": "stdout",
     "output_type": "stream",
     "text": [
      "BMI is  34.602076124567475\n"
     ]
    }
   ],
   "source": [
    "%run bmi.py"
   ]
  },
  {
   "cell_type": "code",
   "execution_count": 96,
   "id": "d5628f3a-3689-4708-b61a-b29f7f8c338a",
   "metadata": {},
   "outputs": [
    {
     "data": {
      "text/plain": [
       "'value =  12.35'"
      ]
     },
     "execution_count": 96,
     "metadata": {},
     "output_type": "execute_result"
    }
   ],
   "source": [
    "a = 12.345567\n",
    "'value = {:#6.2f}'.format(a)"
   ]
  },
  {
   "cell_type": "code",
   "execution_count": null,
   "id": "6b03840a-d0fd-451c-a324-4bbe180a5e8a",
   "metadata": {},
   "outputs": [],
   "source": []
  }
 ],
 "metadata": {
  "kernelspec": {
   "display_name": "Python 3 (ipykernel)",
   "language": "python",
   "name": "python3"
  },
  "language_info": {
   "codemirror_mode": {
    "name": "ipython",
    "version": 3
   },
   "file_extension": ".py",
   "mimetype": "text/x-python",
   "name": "python",
   "nbconvert_exporter": "python",
   "pygments_lexer": "ipython3",
   "version": "3.10.4"
  }
 },
 "nbformat": 4,
 "nbformat_minor": 5
}
