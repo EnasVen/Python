{
 "cells": [
  {
   "cell_type": "markdown",
   "id": "08042e46-fff4-484b-8a08-c93c62bc7f71",
   "metadata": {},
   "source": [
    "# List(串列)\n",
    "有順序性且內容可變更(mutable)  \n",
    "內容資料型態可以不同(可以是string/numeric/list/tuple/set/dict)  "
   ]
  },
  {
   "cell_type": "code",
   "execution_count": 4,
   "id": "53225e42-6fd2-45f7-b5f6-72be6139468d",
   "metadata": {},
   "outputs": [
    {
     "data": {
      "text/plain": [
       "[100, 200, 300, 400, 500, 600]"
      ]
     },
     "execution_count": 4,
     "metadata": {},
     "output_type": "execute_result"
    }
   ],
   "source": [
    "lst1  = list(range(100,700,100)) ; lst1"
   ]
  },
  {
   "cell_type": "code",
   "execution_count": 6,
   "id": "11469b70-e1ec-4949-880f-3bbd7aeaae74",
   "metadata": {},
   "outputs": [
    {
     "data": {
      "text/plain": [
       "[55, 66, 77, 88, 'A', 'B']"
      ]
     },
     "execution_count": 6,
     "metadata": {},
     "output_type": "execute_result"
    }
   ],
   "source": [
    "lst2 = [55,66,77,88,'A','B'] ; lst2"
   ]
  },
  {
   "cell_type": "code",
   "execution_count": 7,
   "id": "140ded6e-4eb8-40a3-bc49-150ba8803c56",
   "metadata": {},
   "outputs": [
    {
     "data": {
      "text/plain": [
       "500"
      ]
     },
     "execution_count": 7,
     "metadata": {},
     "output_type": "execute_result"
    }
   ],
   "source": [
    "lst1[-2]"
   ]
  },
  {
   "cell_type": "code",
   "execution_count": 8,
   "id": "c9db7a5d-984a-463a-b082-e869ff34d0de",
   "metadata": {},
   "outputs": [
    {
     "data": {
      "text/plain": [
       "[55, 77]"
      ]
     },
     "execution_count": 8,
     "metadata": {},
     "output_type": "execute_result"
    }
   ],
   "source": [
    "lst2[0:4:2]"
   ]
  },
  {
   "cell_type": "code",
   "execution_count": 10,
   "id": "bdcb15e4-85ea-4cf0-b2cf-48566b03ae3e",
   "metadata": {},
   "outputs": [
    {
     "data": {
      "text/plain": [
       "[200, 300, 400]"
      ]
     },
     "execution_count": 10,
     "metadata": {},
     "output_type": "execute_result"
    }
   ],
   "source": [
    "lst1[-5:-2]"
   ]
  },
  {
   "cell_type": "code",
   "execution_count": 11,
   "id": "23edc792-7e16-4b46-80ef-1ce194938508",
   "metadata": {},
   "outputs": [
    {
     "data": {
      "text/plain": [
       "[77, 88, 'A', 'B']"
      ]
     },
     "execution_count": 11,
     "metadata": {},
     "output_type": "execute_result"
    }
   ],
   "source": [
    "lst2[2:]"
   ]
  },
  {
   "cell_type": "code",
   "execution_count": 13,
   "id": "45a58813-3594-4968-a1e9-06dede18aafe",
   "metadata": {},
   "outputs": [
    {
     "data": {
      "text/plain": [
       "[100, 200, 'AIEN18', 400, 500, 600]"
      ]
     },
     "execution_count": 13,
     "metadata": {},
     "output_type": "execute_result"
    }
   ],
   "source": [
    "lst1[2] = 'AIEN18' ; lst1"
   ]
  },
  {
   "cell_type": "code",
   "execution_count": 15,
   "id": "b52fad51-d5b2-4990-8779-20d027b14f7c",
   "metadata": {},
   "outputs": [
    {
     "data": {
      "text/plain": [
       "[500, 600]"
      ]
     },
     "execution_count": 15,
     "metadata": {},
     "output_type": "execute_result"
    }
   ],
   "source": [
    "lst1[-2:]  # last 2 element"
   ]
  },
  {
   "cell_type": "code",
   "execution_count": 16,
   "id": "ab905ffb-ae13-4e0c-a457-06ea0bf5d5f8",
   "metadata": {},
   "outputs": [
    {
     "data": {
      "text/plain": [
       "6"
      ]
     },
     "execution_count": 16,
     "metadata": {},
     "output_type": "execute_result"
    }
   ],
   "source": [
    "len(lst1)"
   ]
  },
  {
   "cell_type": "code",
   "execution_count": 17,
   "id": "be4e1483-6f1b-480e-b594-888ca0a3578c",
   "metadata": {},
   "outputs": [
    {
     "data": {
      "text/plain": [
       "[500, 600]"
      ]
     },
     "execution_count": 17,
     "metadata": {},
     "output_type": "execute_result"
    }
   ],
   "source": [
    "lst1[(len(lst1)-2):]"
   ]
  },
  {
   "cell_type": "code",
   "execution_count": 18,
   "id": "01fb1476-9cbe-4895-b48f-c222a7a2db40",
   "metadata": {},
   "outputs": [
    {
     "data": {
      "text/plain": [
       "[[100, 200, 'AIEN18', 400, 500, 600], [55, 66, 77, 88, 'A', 'B']]"
      ]
     },
     "execution_count": 18,
     "metadata": {},
     "output_type": "execute_result"
    }
   ],
   "source": [
    "lst3 = [lst1  ,lst2] ; lst3"
   ]
  },
  {
   "cell_type": "code",
   "execution_count": 19,
   "id": "ef3cf130-61b8-4d74-a9ee-30617b309540",
   "metadata": {},
   "outputs": [
    {
     "data": {
      "text/plain": [
       "[55, 66, 77, 88, 'A', 'B']"
      ]
     },
     "execution_count": 19,
     "metadata": {},
     "output_type": "execute_result"
    }
   ],
   "source": [
    "lst3[1]"
   ]
  },
  {
   "cell_type": "code",
   "execution_count": 20,
   "id": "b81fb21a-c2a4-45a6-87d7-d1980c572194",
   "metadata": {},
   "outputs": [
    {
     "data": {
      "text/plain": [
       "55"
      ]
     },
     "execution_count": 20,
     "metadata": {},
     "output_type": "execute_result"
    }
   ],
   "source": [
    "lst3[1][0]"
   ]
  },
  {
   "cell_type": "code",
   "execution_count": 42,
   "id": "19e82807-f5ee-43f7-ad6f-f229215b032c",
   "metadata": {},
   "outputs": [],
   "source": [
    "lst3 = ['a','b','c'] ; lst4 = ['b','a','c'] ; lst5 = ['a','b','c']"
   ]
  },
  {
   "cell_type": "code",
   "execution_count": 29,
   "id": "03b8d6e3-d134-4df5-9a10-f00deac5107a",
   "metadata": {},
   "outputs": [
    {
     "data": {
      "text/plain": [
       "False"
      ]
     },
     "execution_count": 29,
     "metadata": {},
     "output_type": "execute_result"
    }
   ],
   "source": [
    "lst3 == lst4"
   ]
  },
  {
   "cell_type": "code",
   "execution_count": 37,
   "id": "a70b35f0-18f8-4d6a-a341-dc0b35fb2881",
   "metadata": {},
   "outputs": [
    {
     "data": {
      "text/plain": [
       "True"
      ]
     },
     "execution_count": 37,
     "metadata": {},
     "output_type": "execute_result"
    }
   ],
   "source": [
    "lst3 == lst5"
   ]
  },
  {
   "cell_type": "code",
   "execution_count": 30,
   "id": "359ff22d-4838-429b-9af4-1b5bc0e499e5",
   "metadata": {},
   "outputs": [
    {
     "data": {
      "text/plain": [
       "False"
      ]
     },
     "execution_count": 30,
     "metadata": {},
     "output_type": "execute_result"
    }
   ],
   "source": [
    "lst3 is lst4"
   ]
  },
  {
   "cell_type": "code",
   "execution_count": 43,
   "id": "b800dac8-8f64-40e7-bd49-92192dacdba2",
   "metadata": {},
   "outputs": [
    {
     "data": {
      "text/plain": [
       "False"
      ]
     },
     "execution_count": 43,
     "metadata": {},
     "output_type": "execute_result"
    }
   ],
   "source": [
    "lst3 is lst5"
   ]
  },
  {
   "cell_type": "code",
   "execution_count": 35,
   "id": "299e3f44-ad18-476f-8f7d-9069f15a72ea",
   "metadata": {},
   "outputs": [
    {
     "data": {
      "text/plain": [
       "2466556699456"
      ]
     },
     "execution_count": 35,
     "metadata": {},
     "output_type": "execute_result"
    }
   ],
   "source": [
    "id(lst3)"
   ]
  },
  {
   "cell_type": "code",
   "execution_count": 36,
   "id": "7121afd2-34b1-4199-b2ab-0c87af7abec5",
   "metadata": {},
   "outputs": [
    {
     "data": {
      "text/plain": [
       "2466585263232"
      ]
     },
     "execution_count": 36,
     "metadata": {},
     "output_type": "execute_result"
    }
   ],
   "source": [
    "id(lst5)"
   ]
  },
  {
   "cell_type": "code",
   "execution_count": 110,
   "id": "1188edc3-279b-4c69-8fa0-9b9b280eed75",
   "metadata": {
    "tags": []
   },
   "outputs": [
    {
     "name": "stdout",
     "output_type": "stream",
     "text": [
      "ok\n"
     ]
    }
   ],
   "source": [
    "idx=0\n",
    "while True:\n",
    "    idx += 1\n",
    "    lst3 = ['a','b','c'] ; lst4 = ['b','a','c'] ; lst5 = ['a','b','c']\n",
    "    if lst3 is lst5 or idx>= 1000000:print('ok');break"
   ]
  },
  {
   "cell_type": "code",
   "execution_count": 111,
   "id": "b2e68a82-6483-478a-8429-bccc5922ca44",
   "metadata": {},
   "outputs": [
    {
     "data": {
      "text/plain": [
       "(2466556923200, 2466585708160, False)"
      ]
     },
     "execution_count": 111,
     "metadata": {},
     "output_type": "execute_result"
    }
   ],
   "source": [
    "(id(lst3) , id(lst5) , lst3 is lst5)"
   ]
  },
  {
   "cell_type": "code",
   "execution_count": 108,
   "id": "d9a7f193-0fe2-4460-b581-3304ac007775",
   "metadata": {},
   "outputs": [],
   "source": [
    "del lst3 , lst5"
   ]
  },
  {
   "cell_type": "code",
   "execution_count": 112,
   "id": "0d3f7a2f-1762-4c76-9cfb-c47e5cd71d17",
   "metadata": {},
   "outputs": [
    {
     "data": {
      "text/plain": [
       "3"
      ]
     },
     "execution_count": 112,
     "metadata": {},
     "output_type": "execute_result"
    }
   ],
   "source": [
    "len(lst3)"
   ]
  },
  {
   "cell_type": "markdown",
   "id": "5f1c3a35-a626-4f8c-841c-bbfdf458f85a",
   "metadata": {},
   "source": [
    "list 切割後仍為list型別"
   ]
  },
  {
   "cell_type": "code",
   "execution_count": 114,
   "id": "0847902f-ec5b-435f-a394-b10d13d844a5",
   "metadata": {},
   "outputs": [
    {
     "data": {
      "text/plain": [
       "['A', 'B']"
      ]
     },
     "execution_count": 114,
     "metadata": {},
     "output_type": "execute_result"
    }
   ],
   "source": [
    "lst6 = lst2[-2:] ; lst6"
   ]
  },
  {
   "cell_type": "code",
   "execution_count": 115,
   "id": "49b9b4ac-6490-4e09-8519-817fb8fdf147",
   "metadata": {},
   "outputs": [
    {
     "data": {
      "text/plain": [
       "True"
      ]
     },
     "execution_count": 115,
     "metadata": {},
     "output_type": "execute_result"
    }
   ],
   "source": [
    "isinstance(lst6, list)"
   ]
  },
  {
   "cell_type": "markdown",
   "id": "93981c33-204d-44e0-8863-f3d7ba5e9e16",
   "metadata": {},
   "source": [
    "list 基本運算  "
   ]
  },
  {
   "cell_type": "code",
   "execution_count": 116,
   "id": "a3f75f69-c5ad-41f9-9960-108efb2e32af",
   "metadata": {},
   "outputs": [
    {
     "data": {
      "text/plain": [
       "[1, 2, 3, 4, 5, 6]"
      ]
     },
     "execution_count": 116,
     "metadata": {},
     "output_type": "execute_result"
    }
   ],
   "source": [
    "[1,2,3]+[4,5,6]"
   ]
  },
  {
   "cell_type": "code",
   "execution_count": 117,
   "id": "fd181a3a-f023-4a97-aa3a-073153a6c83b",
   "metadata": {},
   "outputs": [
    {
     "data": {
      "text/plain": [
       "['A', 'B', 'A', 'B']"
      ]
     },
     "execution_count": 117,
     "metadata": {},
     "output_type": "execute_result"
    }
   ],
   "source": [
    "lst6 * 2"
   ]
  },
  {
   "cell_type": "code",
   "execution_count": 118,
   "id": "340a161b-69be-466e-84ad-9868f9604a9a",
   "metadata": {
    "tags": []
   },
   "outputs": [
    {
     "data": {
      "text/plain": [
       "False"
      ]
     },
     "execution_count": 118,
     "metadata": {},
     "output_type": "execute_result"
    }
   ],
   "source": [
    "'C' in lst6"
   ]
  },
  {
   "cell_type": "code",
   "execution_count": 124,
   "id": "ced39f25-4251-4263-a386-7fd995f70ac8",
   "metadata": {},
   "outputs": [
    {
     "name": "stdout",
     "output_type": "stream",
     "text": [
      "A\n",
      "B\n"
     ]
    },
    {
     "data": {
      "text/plain": [
       "[None, None]"
      ]
     },
     "execution_count": 124,
     "metadata": {},
     "output_type": "execute_result"
    }
   ],
   "source": [
    "[print(x) for x in lst6]"
   ]
  },
  {
   "cell_type": "code",
   "execution_count": 126,
   "id": "3ea511c3-46f7-4e8e-b39a-5909e1f31a2f",
   "metadata": {},
   "outputs": [
    {
     "data": {
      "text/plain": [
       "1"
      ]
     },
     "execution_count": 126,
     "metadata": {},
     "output_type": "execute_result"
    }
   ],
   "source": [
    "lst6.index('B')"
   ]
  },
  {
   "cell_type": "code",
   "execution_count": 132,
   "id": "06f53d3c-09aa-431e-9c5e-b856154360db",
   "metadata": {},
   "outputs": [
    {
     "data": {
      "text/plain": [
       "(['A', 'B', 'A', 'B', 'A', 'B'], ['A', 'B', 'A', 'B'])"
      ]
     },
     "execution_count": 132,
     "metadata": {},
     "output_type": "execute_result"
    }
   ],
   "source": [
    "(lst6 * 3 , (lst6*3)[-2:0:-1])"
   ]
  },
  {
   "cell_type": "markdown",
   "id": "f7641182-9ed4-4994-971c-ff9aa22aa8c3",
   "metadata": {},
   "source": [
    "# Tuple(元組)  \n",
    "有順序性，但內容不可改變"
   ]
  },
  {
   "cell_type": "code",
   "execution_count": 135,
   "id": "110963f7-a579-4dbb-9923-bf5100fa149e",
   "metadata": {},
   "outputs": [
    {
     "data": {
      "text/plain": [
       "(100, 200, 300, 400)"
      ]
     },
     "execution_count": 135,
     "metadata": {},
     "output_type": "execute_result"
    }
   ],
   "source": [
    "tup1 = (100,200,300,400)  ;tup1"
   ]
  },
  {
   "cell_type": "code",
   "execution_count": 136,
   "id": "4a9f87c5-3df3-4c48-98f5-4fce8dfe9362",
   "metadata": {},
   "outputs": [
    {
     "data": {
      "text/plain": [
       "(30, 40, 50, 60)"
      ]
     },
     "execution_count": 136,
     "metadata": {},
     "output_type": "execute_result"
    }
   ],
   "source": [
    "tup2 = 30,40,50,60 ; tup2"
   ]
  },
  {
   "cell_type": "code",
   "execution_count": 137,
   "id": "cbc6e443-cc32-42bf-9adb-f8a66b004f1e",
   "metadata": {},
   "outputs": [
    {
     "data": {
      "text/plain": [
       "50"
      ]
     },
     "execution_count": 137,
     "metadata": {},
     "output_type": "execute_result"
    }
   ],
   "source": [
    "tup3 = (50) ; tup3"
   ]
  },
  {
   "cell_type": "code",
   "execution_count": 138,
   "id": "d5308da1-946b-4224-8e50-e7eb5990009d",
   "metadata": {},
   "outputs": [
    {
     "data": {
      "text/plain": [
       "False"
      ]
     },
     "execution_count": 138,
     "metadata": {},
     "output_type": "execute_result"
    }
   ],
   "source": [
    "type(tup3) ; isinstance(tup3 , tuple)"
   ]
  },
  {
   "cell_type": "code",
   "execution_count": 139,
   "id": "8b001f62-5f1d-4848-a3f6-26bc169f9610",
   "metadata": {},
   "outputs": [
    {
     "data": {
      "text/plain": [
       "tuple"
      ]
     },
     "execution_count": 139,
     "metadata": {},
     "output_type": "execute_result"
    }
   ],
   "source": [
    "tup4 = (50,) #加逗點就是tuple了(只具備單一元素)\n",
    "type(tup4)"
   ]
  },
  {
   "cell_type": "code",
   "execution_count": 140,
   "id": "3185e6eb-4e60-4e58-9f48-ce8b21d46bc7",
   "metadata": {},
   "outputs": [
    {
     "data": {
      "text/plain": [
       "300"
      ]
     },
     "execution_count": 140,
     "metadata": {},
     "output_type": "execute_result"
    }
   ],
   "source": [
    "tup1[-2]"
   ]
  },
  {
   "cell_type": "code",
   "execution_count": 142,
   "id": "c9af0ecf-4278-47fc-9da7-e4f432ce11fc",
   "metadata": {},
   "outputs": [
    {
     "data": {
      "text/plain": [
       "(400, 300, 200, 100)"
      ]
     },
     "execution_count": 142,
     "metadata": {},
     "output_type": "execute_result"
    }
   ],
   "source": [
    "tup1[::-1] #reverse ::代表全部 -1代表反向"
   ]
  },
  {
   "cell_type": "code",
   "execution_count": 143,
   "id": "2715085f-55ee-4ca3-ba51-0096964f45ec",
   "metadata": {},
   "outputs": [
    {
     "data": {
      "text/plain": [
       "(100, 200, 300, 400, 30, 40, 50, 60)"
      ]
     },
     "execution_count": 143,
     "metadata": {},
     "output_type": "execute_result"
    }
   ],
   "source": [
    "tup1 + tup2"
   ]
  },
  {
   "cell_type": "code",
   "execution_count": 144,
   "id": "3975d782-e5c8-421e-8544-7e8e4389ece3",
   "metadata": {},
   "outputs": [
    {
     "ename": "TypeError",
     "evalue": "'tuple' object does not support item assignment",
     "output_type": "error",
     "traceback": [
      "\u001b[1;31m---------------------------------------------------------------------------\u001b[0m",
      "\u001b[1;31mTypeError\u001b[0m                                 Traceback (most recent call last)",
      "Input \u001b[1;32mIn [144]\u001b[0m, in \u001b[0;36m<cell line: 1>\u001b[1;34m()\u001b[0m\n\u001b[1;32m----> 1\u001b[0m tup1[\u001b[38;5;241m0\u001b[39m] \u001b[38;5;241m=\u001b[39m \u001b[38;5;241m55\u001b[39m\n",
      "\u001b[1;31mTypeError\u001b[0m: 'tuple' object does not support item assignment"
     ]
    }
   ],
   "source": [
    "tup1[0] = 55 #不可修改內容"
   ]
  },
  {
   "cell_type": "code",
   "execution_count": 145,
   "id": "f321a136-0ffa-4ef9-af01-a781b496ee6a",
   "metadata": {},
   "outputs": [
    {
     "ename": "TypeError",
     "evalue": "'str' object does not support item assignment",
     "output_type": "error",
     "traceback": [
      "\u001b[1;31m---------------------------------------------------------------------------\u001b[0m",
      "\u001b[1;31mTypeError\u001b[0m                                 Traceback (most recent call last)",
      "Input \u001b[1;32mIn [145]\u001b[0m, in \u001b[0;36m<cell line: 2>\u001b[1;34m()\u001b[0m\n\u001b[0;32m      1\u001b[0m str1 \u001b[38;5;241m=\u001b[39m \u001b[38;5;124m'\u001b[39m\u001b[38;5;124mhello\u001b[39m\u001b[38;5;124m'\u001b[39m\n\u001b[1;32m----> 2\u001b[0m str1[\u001b[38;5;241m2\u001b[39m] \u001b[38;5;241m=\u001b[39m \u001b[38;5;124m'\u001b[39m\u001b[38;5;124mA\u001b[39m\u001b[38;5;124m'\u001b[39m\n",
      "\u001b[1;31mTypeError\u001b[0m: 'str' object does not support item assignment"
     ]
    }
   ],
   "source": [
    "str1 = 'hello'\n",
    "str1[2] = 'A'"
   ]
  },
  {
   "cell_type": "code",
   "execution_count": 154,
   "id": "44d453ac-2d30-4aa3-8351-6a88139d4489",
   "metadata": {},
   "outputs": [
    {
     "data": {
      "text/plain": [
       "<generator object <genexpr> at 0x0000023E4C1EA8F0>"
      ]
     },
     "execution_count": 154,
     "metadata": {},
     "output_type": "execute_result"
    }
   ],
   "source": [
    "tup0 = ( range(s,s+100,100) for s in range(100,700,100)) ; tup0"
   ]
  },
  {
   "cell_type": "code",
   "execution_count": 149,
   "id": "7579e508-b71a-4a27-86d9-c871cab63131",
   "metadata": {},
   "outputs": [
    {
     "data": {
      "text/plain": [
       "(33, 'python', [11, 12, 13], 77)"
      ]
     },
     "execution_count": 149,
     "metadata": {},
     "output_type": "execute_result"
    }
   ],
   "source": [
    "tup5 = 33,'python',[11,12,13],77 ; tup5"
   ]
  },
  {
   "cell_type": "code",
   "execution_count": 150,
   "id": "3bcd00f3-4c26-42dc-9224-1713a9669c5f",
   "metadata": {},
   "outputs": [
    {
     "data": {
      "text/plain": [
       "tuple"
      ]
     },
     "execution_count": 150,
     "metadata": {},
     "output_type": "execute_result"
    }
   ],
   "source": [
    "type(tup5)"
   ]
  },
  {
   "cell_type": "code",
   "execution_count": 153,
   "id": "db7273b3-8f6d-4137-8d87-e8eea64cbf35",
   "metadata": {},
   "outputs": [
    {
     "data": {
      "text/plain": [
       "(33, 'python', [11, 9999, 13], 77)"
      ]
     },
     "execution_count": 153,
     "metadata": {},
     "output_type": "execute_result"
    }
   ],
   "source": [
    "tup5[2][1] = 9999 ; tup5"
   ]
  },
  {
   "cell_type": "markdown",
   "id": "9df9b0f5-26c7-40e9-85ac-3ca340ca12bf",
   "metadata": {},
   "source": [
    "tuple 索引與切割同string與list"
   ]
  },
  {
   "cell_type": "code",
   "execution_count": 155,
   "id": "7a4f2114-9e41-4353-a2b4-3d042688e673",
   "metadata": {},
   "outputs": [
    {
     "data": {
      "text/plain": [
       "[11, 9999, 13]"
      ]
     },
     "execution_count": 155,
     "metadata": {},
     "output_type": "execute_result"
    }
   ],
   "source": [
    "tup5[2]"
   ]
  },
  {
   "cell_type": "code",
   "execution_count": 156,
   "id": "14bb664c-1666-4796-b38f-62e44c5cfb25",
   "metadata": {},
   "outputs": [
    {
     "data": {
      "text/plain": [
       "False"
      ]
     },
     "execution_count": 156,
     "metadata": {},
     "output_type": "execute_result"
    }
   ],
   "source": [
    "9999 in tup5"
   ]
  },
  {
   "cell_type": "code",
   "execution_count": 158,
   "id": "6344e2c3-12e1-470a-83da-ad7000570f76",
   "metadata": {},
   "outputs": [
    {
     "data": {
      "text/plain": [
       "0"
      ]
     },
     "execution_count": 158,
     "metadata": {},
     "output_type": "execute_result"
    }
   ],
   "source": [
    "tup5.index(33)"
   ]
  },
  {
   "cell_type": "code",
   "execution_count": 162,
   "id": "9a2d0ee0-a1b0-4261-9e0b-1f93d5eab374",
   "metadata": {},
   "outputs": [
    {
     "data": {
      "text/plain": [
       "0"
      ]
     },
     "execution_count": 162,
     "metadata": {},
     "output_type": "execute_result"
    }
   ],
   "source": [
    "tup5.count(11) #尋找指定元素出現幾次"
   ]
  },
  {
   "cell_type": "markdown",
   "id": "d713a7d1-b2bf-400b-ab94-73305fd69195",
   "metadata": {},
   "source": [
    "# List Comprehension\n",
    "用簡易的方法建立list，但無法用此類方法建立tuple，但可以用於Dictionary和Set"
   ]
  },
  {
   "cell_type": "code",
   "execution_count": 163,
   "id": "86434a1f-de42-43cc-9c1c-93c72673629d",
   "metadata": {},
   "outputs": [
    {
     "data": {
      "text/plain": [
       "[0, 1, 4, 9, 16, 25, 36, 49, 64, 81]"
      ]
     },
     "execution_count": 163,
     "metadata": {},
     "output_type": "execute_result"
    }
   ],
   "source": [
    "S=[x**2 for x in range(10)] ; S"
   ]
  },
  {
   "cell_type": "code",
   "execution_count": 165,
   "id": "27f64cc3-cfa4-4907-ba4e-b6ba6bb9a3d5",
   "metadata": {},
   "outputs": [
    {
     "data": {
      "text/plain": [
       "[1, 2, 4, 8, 16, 32, 64, 128, 256, 512, 1024]"
      ]
     },
     "execution_count": 165,
     "metadata": {},
     "output_type": "execute_result"
    }
   ],
   "source": [
    "V=[2**i for i in range(11)] ; V"
   ]
  },
  {
   "cell_type": "code",
   "execution_count": 167,
   "id": "f18a3486-d583-4d3b-8563-cec513fd8e2b",
   "metadata": {},
   "outputs": [
    {
     "data": {
      "text/plain": [
       "[0, 4, 16, 36, 64]"
      ]
     },
     "execution_count": 167,
     "metadata": {},
     "output_type": "execute_result"
    }
   ],
   "source": [
    "M=[x for x in S if x%2==0] ; M"
   ]
  },
  {
   "cell_type": "markdown",
   "id": "ea864c52-7dfc-4d89-86e7-a82cacc76466",
   "metadata": {},
   "source": [
    "測試 List Comprehension執行速度是否有比較快"
   ]
  },
  {
   "cell_type": "code",
   "execution_count": 177,
   "id": "e4fd1b4b-fb56-45d7-9057-7616a8d09c36",
   "metadata": {},
   "outputs": [
    {
     "name": "stdout",
     "output_type": "stream",
     "text": [
      "459 ns ± 2.91 ns per loop (mean ± std. dev. of 7 runs, 1,000,000 loops each)\n"
     ]
    }
   ],
   "source": [
    "%%timeit\n",
    "M=[]\n",
    "for x in S:\n",
    "    if x%2==0:\n",
    "        M.append(x)"
   ]
  },
  {
   "cell_type": "code",
   "execution_count": 176,
   "id": "cfdac4cb-289f-4d63-8dea-4b45f18a19ea",
   "metadata": {},
   "outputs": [
    {
     "name": "stdout",
     "output_type": "stream",
     "text": [
      "485 ns ± 3.29 ns per loop (mean ± std. dev. of 7 runs, 1,000,000 loops each)\n"
     ]
    }
   ],
   "source": [
    "%%timeit \n",
    "M=[x for x in S if x%2==0]"
   ]
  },
  {
   "cell_type": "code",
   "execution_count": 171,
   "id": "239374a2-53d8-4b5e-a54c-c38dbdb49c61",
   "metadata": {
    "tags": []
   },
   "outputs": [],
   "source": [
    "del M"
   ]
  },
  {
   "cell_type": "code",
   "execution_count": 174,
   "id": "ab7590c8-7298-4bc0-b2f2-8f59746cce4a",
   "metadata": {},
   "outputs": [
    {
     "name": "stdout",
     "output_type": "stream",
     "text": [
      "508 ns ± 2.16 ns per loop (mean ± std. dev. of 7 runs, 1,000,000 loops each)\n"
     ]
    }
   ],
   "source": [
    "%%timeit\n",
    "M=[]\n",
    "for x in S:\n",
    "    if x%2==0:\n",
    "        M += [x]"
   ]
  },
  {
   "cell_type": "code",
   "execution_count": null,
   "id": "c014011c-c624-4c9a-8385-5d3e2c125fbf",
   "metadata": {},
   "outputs": [],
   "source": []
  },
  {
   "cell_type": "code",
   "execution_count": null,
   "id": "3eddbd6e-3944-4525-bcf6-6443af9befa7",
   "metadata": {},
   "outputs": [],
   "source": []
  },
  {
   "cell_type": "code",
   "execution_count": null,
   "id": "8819b64f-58ac-41b7-ada8-e2af55c7b3b3",
   "metadata": {},
   "outputs": [],
   "source": []
  },
  {
   "cell_type": "code",
   "execution_count": null,
   "id": "a357bacd-274f-4855-9728-c5a3726687e5",
   "metadata": {},
   "outputs": [],
   "source": []
  }
 ],
 "metadata": {
  "kernelspec": {
   "display_name": "Python 3 (ipykernel)",
   "language": "python",
   "name": "python3"
  },
  "language_info": {
   "codemirror_mode": {
    "name": "ipython",
    "version": 3
   },
   "file_extension": ".py",
   "mimetype": "text/x-python",
   "name": "python",
   "nbconvert_exporter": "python",
   "pygments_lexer": "ipython3",
   "version": "3.10.4"
  }
 },
 "nbformat": 4,
 "nbformat_minor": 5
}
