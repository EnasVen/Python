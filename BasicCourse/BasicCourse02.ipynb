{
 "cells": [
  {
   "cell_type": "markdown",
   "id": "10e6ae81-811e-4b9a-886a-de0eb2a04ec8",
   "metadata": {},
   "source": [
    "# 程式流程"
   ]
  },
  {
   "cell_type": "markdown",
   "id": "f2acb5c3",
   "metadata": {},
   "source": [
    "# 敘述\n",
    "1列代表1個statement<br>\n",
    "可以用;區隔statement，將程式寫在同一列<br>\n",
    "pass敘述代表空敘述(do nothing)，不做任何運算<br>"
   ]
  },
  {
   "cell_type": "code",
   "execution_count": 1,
   "id": "7a6a3aea-5b1e-465d-be2f-1cdec7e3fec2",
   "metadata": {},
   "outputs": [],
   "source": [
    "x=3"
   ]
  },
  {
   "cell_type": "code",
   "execution_count": 2,
   "id": "179065b5-9e91-4775-9c4a-585996f748bf",
   "metadata": {},
   "outputs": [],
   "source": [
    "y=7"
   ]
  },
  {
   "cell_type": "code",
   "execution_count": 3,
   "id": "fb105493-9dc7-4b01-ba66-cb9bd7d370af",
   "metadata": {},
   "outputs": [
    {
     "name": "stdout",
     "output_type": "stream",
     "text": [
      "Result: 10\n"
     ]
    }
   ],
   "source": [
    "print('Result:',x+y)"
   ]
  },
  {
   "cell_type": "code",
   "execution_count": 6,
   "id": "aa1e7acf-d0a7-4006-86b7-be92953355f9",
   "metadata": {},
   "outputs": [
    {
     "name": "stdout",
     "output_type": "stream",
     "text": [
      "Result: 11\n"
     ]
    }
   ],
   "source": [
    "x=5 ; y=6 ; print('Result:',x+y)"
   ]
  },
  {
   "cell_type": "code",
   "execution_count": 7,
   "id": "86fcf7de-bf8c-43c0-b418-d2f72c553915",
   "metadata": {},
   "outputs": [
    {
     "name": "stdout",
     "output_type": "stream",
     "text": [
      "Result: 11\n"
     ]
    }
   ],
   "source": [
    "print(f'Result: {x+y}') #使用昨天的f-string"
   ]
  },
  {
   "cell_type": "code",
   "execution_count": 9,
   "id": "8a638a72-df88-4291-9d37-04fd97c7cf5f",
   "metadata": {},
   "outputs": [
    {
     "data": {
      "text/plain": [
       "'Result: 11'"
      ]
     },
     "execution_count": 9,
     "metadata": {},
     "output_type": "execute_result"
    }
   ],
   "source": [
    "'Result: {}'.format(x+y)"
   ]
  },
  {
   "cell_type": "markdown",
   "id": "a777042e",
   "metadata": {},
   "source": [
    "\\可以將多列指令接續成同一個statement"
   ]
  },
  {
   "cell_type": "code",
   "execution_count": 7,
   "id": "76720232-1cdb-4a43-8724-8d6a90410e98",
   "metadata": {},
   "outputs": [],
   "source": [
    "total = 1 + 2 \\\n",
    "+3"
   ]
  },
  {
   "cell_type": "code",
   "execution_count": 8,
   "id": "3f22782f-a0b7-4567-bf75-86002ee09e91",
   "metadata": {
    "scrolled": true
   },
   "outputs": [
    {
     "data": {
      "text/plain": [
       "6"
      ]
     },
     "execution_count": 8,
     "metadata": {},
     "output_type": "execute_result"
    }
   ],
   "source": [
    "total"
   ]
  },
  {
   "cell_type": "markdown",
   "id": "1afea26c",
   "metadata": {},
   "source": [
    "Python不能隨意換行"
   ]
  },
  {
   "cell_type": "code",
   "execution_count": 3,
   "id": "359e054a-0eff-485c-81de-501006aceef5",
   "metadata": {},
   "outputs": [
    {
     "ename": "SyntaxError",
     "evalue": "invalid syntax (1560485806.py, line 1)",
     "output_type": "error",
     "traceback": [
      "\u001b[1;36m  Input \u001b[1;32mIn [3]\u001b[1;36m\u001b[0m\n\u001b[1;33m    total = 1 + 2 +\u001b[0m\n\u001b[1;37m                   ^\u001b[0m\n\u001b[1;31mSyntaxError\u001b[0m\u001b[1;31m:\u001b[0m invalid syntax\n"
     ]
    }
   ],
   "source": [
    "total = 1 + 2 +\n",
    "3+4\n",
    "total"
   ]
  },
  {
   "cell_type": "markdown",
   "id": "ee674344",
   "metadata": {},
   "source": [
    "在[] () {}內的敘述不需要\\就可以接續下列"
   ]
  },
  {
   "cell_type": "code",
   "execution_count": 12,
   "id": "3265d5b6-cb59-468a-83cf-37a87745a181",
   "metadata": {},
   "outputs": [],
   "source": [
    "lst = [1,2,3,\n",
    "4,5]"
   ]
  },
  {
   "cell_type": "code",
   "execution_count": 13,
   "id": "f61d6751-0718-41f6-91c7-0fb4b0b5079d",
   "metadata": {},
   "outputs": [
    {
     "data": {
      "text/plain": [
       "[1, 2, 3, 4, 5]"
      ]
     },
     "execution_count": 13,
     "metadata": {},
     "output_type": "execute_result"
    }
   ],
   "source": [
    "lst"
   ]
  },
  {
   "cell_type": "code",
   "execution_count": 14,
   "id": "50906e79-85de-4766-886c-a1a994fb9686",
   "metadata": {},
   "outputs": [
    {
     "data": {
      "text/plain": [
       "True"
      ]
     },
     "execution_count": 14,
     "metadata": {},
     "output_type": "execute_result"
    }
   ],
   "source": [
    "isinstance(lst , list)"
   ]
  },
  {
   "cell_type": "markdown",
   "id": "a36bfc1e",
   "metadata": {},
   "source": [
    "# 註解\n",
    "井字號+空格代表註解(comment)<br>\n",
    "井字號後面沒接空格代表暫時block該statement"
   ]
  },
  {
   "cell_type": "code",
   "execution_count": null,
   "id": "ca3dad99-d5b4-457d-aa2e-d03ee127c0bb",
   "metadata": {},
   "outputs": [],
   "source": [
    "# This is statement\n",
    "#[i+5 for i in range(10)]"
   ]
  },
  {
   "cell_type": "code",
   "execution_count": 15,
   "id": "54351f8c-33ab-4383-a47d-9f27373bd888",
   "metadata": {},
   "outputs": [
    {
     "data": {
      "text/plain": [
       "[5, 6, 7, 8, 9, 10, 11, 12, 13, 14]"
      ]
     },
     "execution_count": 15,
     "metadata": {},
     "output_type": "execute_result"
    }
   ],
   "source": [
    "[i+5 for i in range(10)]"
   ]
  },
  {
   "cell_type": "markdown",
   "id": "28cc1101",
   "metadata": {},
   "source": [
    "# 縮排\n",
    "Python建議使用4個空格表達一個區塊<br>\n",
    "同一個區塊地縮排一致就可以了!<br>\n",
    "某一列以關鍵字開始，以:結尾，下一列就要縮排表示程式碼區塊!"
   ]
  },
  {
   "cell_type": "code",
   "execution_count": 17,
   "id": "c16ea498-a5af-4765-a4b1-c2be8e01bae3",
   "metadata": {},
   "outputs": [],
   "source": [
    " x=3 #單獨一列可以執行"
   ]
  },
  {
   "cell_type": "code",
   "execution_count": 18,
   "id": "b1f05f88",
   "metadata": {},
   "outputs": [
    {
     "ename": "IndentationError",
     "evalue": "unexpected indent (963813765.py, line 2)",
     "output_type": "error",
     "traceback": [
      "\u001b[1;36m  Input \u001b[1;32mIn [18]\u001b[1;36m\u001b[0m\n\u001b[1;33m    x=2.5\u001b[0m\n\u001b[1;37m    ^\u001b[0m\n\u001b[1;31mIndentationError\u001b[0m\u001b[1;31m:\u001b[0m unexpected indent\n"
     ]
    }
   ],
   "source": [
    "# 已有第一列的話，python就會判斷要對齊了\n",
    " x=2.5\n",
    "    print(x)"
   ]
  },
  {
   "cell_type": "markdown",
   "id": "41a0f324",
   "metadata": {},
   "source": [
    "# 條件判斷式"
   ]
  },
  {
   "cell_type": "markdown",
   "id": "b9126331",
   "metadata": {},
   "source": [
    "# if statement"
   ]
  },
  {
   "cell_type": "code",
   "execution_count": 20,
   "id": "2228a4d4",
   "metadata": {},
   "outputs": [
    {
     "name": "stdout",
     "output_type": "stream",
     "text": [
      "A\n",
      "B\n",
      "Finish!\n"
     ]
    }
   ],
   "source": [
    "var1=100\n",
    "if var1:\n",
    "    print('A')\n",
    "var2=200\n",
    "if var2:\n",
    "    print('B')\n",
    "print('Finish!')"
   ]
  },
  {
   "cell_type": "markdown",
   "id": "5a68c120",
   "metadata": {},
   "source": [
    "# if...else statement"
   ]
  },
  {
   "cell_type": "code",
   "execution_count": 21,
   "id": "47dfcd67",
   "metadata": {},
   "outputs": [
    {
     "name": "stdout",
     "output_type": "stream",
     "text": [
      "8\n"
     ]
    }
   ],
   "source": [
    "amt = 999\n",
    "if amt <= 1000:\n",
    "    discount = 8\n",
    "    print(discount)\n",
    "else:\n",
    "    discount = 3\n",
    "    print(discount)"
   ]
  },
  {
   "cell_type": "markdown",
   "id": "bdaaf574",
   "metadata": {},
   "source": [
    "# if...elif...else statement"
   ]
  },
  {
   "cell_type": "code",
   "execution_count": 22,
   "id": "9c8f65a9",
   "metadata": {},
   "outputs": [
    {
     "name": "stdout",
     "output_type": "stream",
     "text": [
      "Enter a number plz:1050\n",
      "Discount: 105.0\n",
      "Net price: 945.0\n"
     ]
    }
   ],
   "source": [
    "amt = eval(input('Enter a number plz:'))\n",
    "if amt < 1000:\n",
    "    discount = amt * 0.05\n",
    "    print('Discount:',discount)\n",
    "elif amt < 5000:\n",
    "    discount = amt * 0.10\n",
    "    print('Discount:',discount)\n",
    "else:\n",
    "    discount = amt * 0.15\n",
    "    print('Discount:',discount)\n",
    "print('Net price:',amt-discount)"
   ]
  },
  {
   "cell_type": "markdown",
   "id": "859a0bc2",
   "metadata": {},
   "source": [
    "# nested if statement"
   ]
  },
  {
   "cell_type": "code",
   "execution_count": 31,
   "id": "1afcbc64",
   "metadata": {},
   "outputs": [
    {
     "name": "stdout",
     "output_type": "stream",
     "text": [
      "enter a number:17\n",
      "Not divisible by 2 , not divisible by 3\n"
     ]
    }
   ],
   "source": [
    "num = eval(input('enter a number:'))\n",
    "if num%2 ==0:\n",
    "    if not num%3:\n",
    "        print('Divisible by 3 and 2')\n",
    "    else:\n",
    "        print('Divisible by 2 , not divisible by 3')\n",
    "else:\n",
    "    if not num%3:\n",
    "        print('Divisible by 3  ,not divisible by 2')\n",
    "    else:\n",
    "        print('Not divisible by 2 , not divisible by 3')"
   ]
  },
  {
   "cell_type": "markdown",
   "id": "bfd2c651",
   "metadata": {},
   "source": [
    "# 單一運算 vs 二元運算\n",
    "一般來說，除非interpreter有優化，否則單一運算會比二元運算快! "
   ]
  },
  {
   "cell_type": "code",
   "execution_count": 23,
   "id": "2f8a5abc",
   "metadata": {},
   "outputs": [
    {
     "data": {
      "text/plain": [
       "6"
      ]
     },
     "execution_count": 23,
     "metadata": {},
     "output_type": "execute_result"
    }
   ],
   "source": [
    "num = 6\n",
    "num"
   ]
  },
  {
   "cell_type": "code",
   "execution_count": 24,
   "id": "21ef7184",
   "metadata": {},
   "outputs": [
    {
     "data": {
      "text/plain": [
       "True"
      ]
     },
     "execution_count": 24,
     "metadata": {},
     "output_type": "execute_result"
    }
   ],
   "source": [
    "num %2 == 0"
   ]
  },
  {
   "cell_type": "code",
   "execution_count": 25,
   "id": "70153a74",
   "metadata": {},
   "outputs": [
    {
     "data": {
      "text/plain": [
       "True"
      ]
     },
     "execution_count": 25,
     "metadata": {},
     "output_type": "execute_result"
    }
   ],
   "source": [
    "not num%2"
   ]
  },
  {
   "cell_type": "markdown",
   "id": "3a2fa53c",
   "metadata": {},
   "source": [
    "%timeit 用來評估運算效能的magic(%開頭的指令就是magic)"
   ]
  },
  {
   "cell_type": "code",
   "execution_count": 26,
   "id": "44d7aefb",
   "metadata": {},
   "outputs": [
    {
     "name": "stdout",
     "output_type": "stream",
     "text": [
      "32.8 ns ± 0.111 ns per loop (mean ± std. dev. of 7 runs, 10,000,000 loops each)\n"
     ]
    }
   ],
   "source": [
    "%timeit num %2 == 0"
   ]
  },
  {
   "cell_type": "code",
   "execution_count": 27,
   "id": "c53c4838",
   "metadata": {},
   "outputs": [
    {
     "name": "stdout",
     "output_type": "stream",
     "text": [
      "27.9 ns ± 0.171 ns per loop (mean ± std. dev. of 7 runs, 10,000,000 loops each)\n"
     ]
    }
   ],
   "source": [
    "%timeit not num%2"
   ]
  },
  {
   "cell_type": "markdown",
   "id": "bbdf6e56",
   "metadata": {},
   "source": [
    "# 單一敘述套件\n",
    "若if只做一件事情，可以不用換行直寫在一列!"
   ]
  },
  {
   "cell_type": "code",
   "execution_count": 28,
   "id": "e0614a5a",
   "metadata": {},
   "outputs": [
    {
     "data": {
      "text/plain": [
       "1050"
      ]
     },
     "execution_count": 28,
     "metadata": {},
     "output_type": "execute_result"
    }
   ],
   "source": [
    "amt"
   ]
  },
  {
   "cell_type": "code",
   "execution_count": 29,
   "id": "7fdea418",
   "metadata": {},
   "outputs": [
    {
     "name": "stdout",
     "output_type": "stream",
     "text": [
      "got it !\n"
     ]
    }
   ],
   "source": [
    "if amt==1050: print('got it !')"
   ]
  },
  {
   "cell_type": "markdown",
   "id": "4d2af28a",
   "metadata": {},
   "source": [
    "# 條件運算\n",
    "**x if C else y** <br>\n",
    "先評估C的條件，如果C為真則得到x，否則回傳y! <br>\n",
    "通常用來簡化if-else的敘述"
   ]
  },
  {
   "cell_type": "code",
   "execution_count": 30,
   "id": "5d7e746e",
   "metadata": {},
   "outputs": [
    {
     "data": {
      "text/plain": [
       "8"
      ]
     },
     "execution_count": 30,
     "metadata": {},
     "output_type": "execute_result"
    }
   ],
   "source": [
    "8 if 7 else 4"
   ]
  },
  {
   "cell_type": "code",
   "execution_count": 32,
   "id": "97655317",
   "metadata": {},
   "outputs": [
    {
     "data": {
      "text/plain": [
       "99"
      ]
     },
     "execution_count": 32,
     "metadata": {},
     "output_type": "execute_result"
    }
   ],
   "source": [
    "11 if 0 else 99"
   ]
  },
  {
   "cell_type": "code",
   "execution_count": 40,
   "id": "8ef740e9",
   "metadata": {},
   "outputs": [
    {
     "data": {
      "text/plain": [
       "8"
      ]
     },
     "execution_count": 40,
     "metadata": {},
     "output_type": "execute_result"
    }
   ],
   "source": [
    "# 簡化if-else\n",
    "# 非0即為True，所以x取值為8\n",
    "x = 8 if 7 else 4 ; x  "
   ]
  },
  {
   "cell_type": "code",
   "execution_count": 37,
   "id": "86d93ca7",
   "metadata": {},
   "outputs": [
    {
     "data": {
      "text/plain": [
       "8"
      ]
     },
     "execution_count": 37,
     "metadata": {},
     "output_type": "execute_result"
    }
   ],
   "source": [
    "# 正規寫法，較複雜\n",
    "if 7:\n",
    "    x=8\n",
    "else:\n",
    "    x=4\n",
    "x"
   ]
  },
  {
   "cell_type": "code",
   "execution_count": 38,
   "id": "c162965f",
   "metadata": {},
   "outputs": [
    {
     "data": {
      "text/plain": [
       "8"
      ]
     },
     "execution_count": 38,
     "metadata": {},
     "output_type": "execute_result"
    }
   ],
   "source": [
    "# 單一敘述寫法\n",
    "if 7: x=8\n",
    "else: x=4\n",
    "x"
   ]
  },
  {
   "cell_type": "markdown",
   "id": "72c6fce9",
   "metadata": {},
   "source": [
    "# 迴圈敘述"
   ]
  },
  {
   "cell_type": "markdown",
   "id": "70776aab",
   "metadata": {},
   "source": [
    "# while loop"
   ]
  },
  {
   "cell_type": "code",
   "execution_count": 41,
   "id": "eb6b59f7",
   "metadata": {},
   "outputs": [
    {
     "name": "stdout",
     "output_type": "stream",
     "text": [
      "count is: 0\n",
      "count is: 1\n",
      "count is: 2\n",
      "count is: 3\n",
      "count is: 4\n",
      "count is: 5\n",
      "count is: 6\n",
      "count is: 7\n"
     ]
    }
   ],
   "source": [
    "count=0\n",
    "while count<9:\n",
    "    print('count is:',count)\n",
    "    count += 1 \n",
    "    if count == 8: break"
   ]
  },
  {
   "cell_type": "code",
   "execution_count": 46,
   "id": "07fc1b3a",
   "metadata": {},
   "outputs": [
    {
     "name": "stdout",
     "output_type": "stream",
     "text": [
      "0\t1\t1\t2\t3\t5\t8\t"
     ]
    }
   ],
   "source": [
    "a ,b = 0 , 1\n",
    "while a <=10:\n",
    "    print(a , end='\\t')\n",
    "    a,b = b , a+b"
   ]
  },
  {
   "cell_type": "markdown",
   "id": "5f133514",
   "metadata": {},
   "source": [
    "# for loop\n",
    "**for** item_var **in** sequence: <br>\n",
    "    statements <br>\n",
    "sequence可以是 string、tuple或list"
   ]
  },
  {
   "cell_type": "code",
   "execution_count": 44,
   "id": "1cdd0d5f",
   "metadata": {},
   "outputs": [
    {
     "name": "stdout",
     "output_type": "stream",
     "text": [
      "h\te\tl\tl\to\t"
     ]
    }
   ],
   "source": [
    "str1 = 'hello'\n",
    "for ch in str1:\n",
    "    print(ch,end=\"\\t\")"
   ]
  },
  {
   "cell_type": "markdown",
   "id": "ecd238cf",
   "metadata": {},
   "source": [
    "# Nested loop"
   ]
  },
  {
   "cell_type": "code",
   "execution_count": 61,
   "id": "a4464efa",
   "metadata": {},
   "outputs": [
    {
     "name": "stdout",
     "output_type": "stream",
     "text": [
      "01x01=01\t01x02=02\t01x03=03\t01x04=04\t01x05=05\t01x06=06\t01x07=07\t01x08=08\t01x09=09\t02x01=02\t02x02=04\t02x03=06\t02x04=08\t02x05=10\t02x06=12\t02x07=14\t02x08=16\t02x09=18\t03x01=03\t03x02=06\t03x03=09\t03x04=12\t03x05=15\t03x06=18\t03x07=21\t03x08=24\t03x09=27\t04x01=04\t04x02=08\t04x03=12\t04x04=16\t04x05=20\t04x06=24\t04x07=28\t04x08=32\t04x09=36\t05x01=05\t05x02=10\t05x03=15\t05x04=20\t05x05=25\t05x06=30\t05x07=35\t05x08=40\t05x09=45\t06x01=06\t06x02=12\t06x03=18\t06x04=24\t06x05=30\t06x06=36\t06x07=42\t06x08=48\t06x09=54\t07x01=07\t07x02=14\t07x03=21\t07x04=28\t07x05=35\t07x06=42\t07x07=49\t07x08=56\t07x09=63\t08x01=08\t08x02=16\t08x03=24\t08x04=32\t08x05=40\t08x06=48\t08x07=56\t08x08=64\t08x09=72\t09x01=09\t09x02=18\t09x03=27\t09x04=36\t09x05=45\t09x06=54\t09x07=63\t09x08=72\t09x09=81\t"
     ]
    }
   ],
   "source": [
    "# Nested loop\n",
    "for i in range(1,10):\n",
    "    for j in range(1,10):\n",
    "        x = i * j\n",
    "        #print(f'{x:3d}', end='')\n",
    "        print(f'{i:02d}x{j:02d}={x:02d}' , end='\\t')\n"
   ]
  },
  {
   "cell_type": "markdown",
   "id": "c40bfe0c",
   "metadata": {},
   "source": [
    "# range\n",
    "range為內建函數，語法為range(start,stop,step) <br>\n",
    "其中step為間隔；start預設為0；區間計算為[start,stop)"
   ]
  },
  {
   "cell_type": "code",
   "execution_count": 48,
   "id": "f99e6886",
   "metadata": {},
   "outputs": [
    {
     "data": {
      "text/plain": [
       "[0, 2, 4, 6, 8]"
      ]
     },
     "execution_count": 48,
     "metadata": {},
     "output_type": "execute_result"
    }
   ],
   "source": [
    "list(range(0,10,2))"
   ]
  },
  {
   "cell_type": "code",
   "execution_count": 50,
   "id": "ede9cd9f",
   "metadata": {},
   "outputs": [
    {
     "data": {
      "text/plain": [
       "range(0, 5)"
      ]
     },
     "execution_count": 50,
     "metadata": {},
     "output_type": "execute_result"
    }
   ],
   "source": [
    "# lazy evaluation\n",
    "range(5)"
   ]
  },
  {
   "cell_type": "code",
   "execution_count": 51,
   "id": "c84ee999",
   "metadata": {},
   "outputs": [
    {
     "data": {
      "text/plain": [
       "(1, 2, 3, 4, 5, 6)"
      ]
     },
     "execution_count": 51,
     "metadata": {},
     "output_type": "execute_result"
    }
   ],
   "source": [
    "tuple(range(1,7))"
   ]
  },
  {
   "cell_type": "code",
   "execution_count": 54,
   "id": "242d1b1f",
   "metadata": {},
   "outputs": [
    {
     "data": {
      "text/plain": [
       "[10, 8, 6, 4]"
      ]
     },
     "execution_count": 54,
     "metadata": {},
     "output_type": "execute_result"
    }
   ],
   "source": [
    "list(range(10,2,-2))"
   ]
  },
  {
   "cell_type": "markdown",
   "id": "7ccc3a4f",
   "metadata": {},
   "source": [
    "# Endless loop"
   ]
  },
  {
   "cell_type": "code",
   "execution_count": 63,
   "id": "a730eed7",
   "metadata": {},
   "outputs": [
    {
     "name": "stdout",
     "output_type": "stream",
     "text": [
      "Enter a number:38\n",
      "Bingo!\n"
     ]
    }
   ],
   "source": [
    "# Endless loop\n",
    "ans=38\n",
    "\n",
    "while 1:\n",
    "    num=int(input('Enter a number:'))\n",
    "    if num>ans: \n",
    "        print(\"Too big!\")\n",
    "    elif num<ans:\n",
    "        print(\"Too small!\")\n",
    "    else:\n",
    "        print(\"Bingo!\")\n",
    "        break"
   ]
  },
  {
   "cell_type": "markdown",
   "id": "c6aa5eeb",
   "metadata": {},
   "source": [
    "# break/continue statement\n",
    "break:符合條件中止迴圈  \n",
    "continue:符合條件進入下一個迴圈(後續的statements就不執行) "
   ]
  },
  {
   "cell_type": "code",
   "execution_count": 62,
   "id": "82b17bd3",
   "metadata": {},
   "outputs": [
    {
     "name": "stdout",
     "output_type": "stream",
     "text": [
      "1\n",
      "2\n",
      "3\n",
      "4\n",
      "5\n"
     ]
    }
   ],
   "source": [
    "# while with break stmt\n",
    "i = 1\n",
    "while True:\n",
    "    print(i)\n",
    "    i += 1\n",
    "    if i > 5:\n",
    "        break"
   ]
  },
  {
   "cell_type": "code",
   "execution_count": 72,
   "id": "0d192fd2",
   "metadata": {},
   "outputs": [
    {
     "name": "stdout",
     "output_type": "stream",
     "text": [
      "2 4 6 \n"
     ]
    }
   ],
   "source": [
    "# continue stmt\n",
    "for i in range (1, 7):\n",
    "    #if not i%2:\n",
    "    if i % 2 == 1:\n",
    "        continue\n",
    "    print(i, end=' ')\n",
    "\n",
    "print()"
   ]
  },
  {
   "cell_type": "code",
   "execution_count": 73,
   "id": "33b97cb3",
   "metadata": {},
   "outputs": [
    {
     "name": "stdout",
     "output_type": "stream",
     "text": [
      "Enter a number:17\n",
      "number is 17\n",
      "Enter a number:8\n"
     ]
    }
   ],
   "source": [
    "# python3.8以前的寫法\n",
    "num = eval(input('Enter a number:'))\n",
    "while num>0:\n",
    "    if not num%2: break\n",
    "    print(f'number is {num}')\n",
    "    num = eval(input('Enter a number:'))"
   ]
  },
  {
   "cell_type": "code",
   "execution_count": 75,
   "id": "bd23dca7",
   "metadata": {},
   "outputs": [
    {
     "name": "stdout",
     "output_type": "stream",
     "text": [
      "Enter a number:17\n",
      "num is 17\n",
      "Enter a number:3\n",
      "num is 3\n",
      "Enter a number:2\n"
     ]
    }
   ],
   "source": [
    "# python3.8新增:= 運算子 (從C語言轉過來)\n",
    "# 先儲存一個物件並判斷條件\n",
    "while (num:=eval(input('Enter a number:')))>0:\n",
    "    if not num%2: \n",
    "        break\n",
    "    print(f'num is {num}')"
   ]
  },
  {
   "cell_type": "code",
   "execution_count": 76,
   "id": "44994e6d",
   "metadata": {},
   "outputs": [
    {
     "data": {
      "text/plain": [
       "True"
      ]
     },
     "execution_count": 76,
     "metadata": {},
     "output_type": "execute_result"
    }
   ],
   "source": [
    "'A'.isupper()"
   ]
  },
  {
   "cell_type": "code",
   "execution_count": 81,
   "id": "5410d9e8",
   "metadata": {},
   "outputs": [
    {
     "name": "stdout",
     "output_type": "stream",
     "text": [
      "PIF"
     ]
    }
   ],
   "source": [
    "# continue stmt\n",
    "data='Python Is Funny'\n",
    "\n",
    "for ch in data:\n",
    "    if not ch.isupper():\n",
    "    #if ch!=ch.upper(): \n",
    "        continue \n",
    "    print(ch, end='')"
   ]
  },
  {
   "cell_type": "markdown",
   "id": "846086c5",
   "metadata": {},
   "source": [
    "else可搭配迴圈執行；如果使用break則不會進入else區塊!"
   ]
  },
  {
   "cell_type": "code",
   "execution_count": 82,
   "id": "d2c4ac2a",
   "metadata": {},
   "outputs": [
    {
     "name": "stdout",
     "output_type": "stream",
     "text": [
      "end of for loop!\n",
      "sum = 15\n",
      "end of while loop!\n",
      "5! = 120\n"
     ]
    }
   ],
   "source": [
    "# esle stmt\n",
    "# using else block after for loop\n",
    "s = 0\n",
    "for i in range(1, 6):\n",
    "    s += i\n",
    "else:\n",
    "    print('end of for loop!')\n",
    "    print('sum =',s)\n",
    "\n",
    "# using else block after while loop \n",
    "r = n = 1\n",
    "while n <= 5:\n",
    "    r *= n\n",
    "    n += 1\n",
    "else:\n",
    "    print('end of while loop!')\n",
    "    print('5! = ' + str(r))"
   ]
  },
  {
   "cell_type": "code",
   "execution_count": 89,
   "id": "039f3503",
   "metadata": {},
   "outputs": [
    {
     "name": "stdout",
     "output_type": "stream",
     "text": [
      "Enter a number:6\n",
      "end of while loop!\n",
      "6! = 720\n"
     ]
    }
   ],
   "source": [
    "r = n = 1\n",
    "num = eval(input('Enter a number:'))\n",
    "while n <= num:\n",
    "    r *= n\n",
    "    n += 1\n",
    "    if num%3: break\n",
    "else:\n",
    "    print('end of while loop!')\n",
    "    print(f'{num}! = ' + str(r))"
   ]
  },
  {
   "cell_type": "code",
   "execution_count": 88,
   "id": "faeae8ac",
   "metadata": {},
   "outputs": [
    {
     "name": "stdout",
     "output_type": "stream",
     "text": [
      "Enter a number:6\n",
      "end of for loop!\n",
      "sum = 21\n"
     ]
    }
   ],
   "source": [
    "s = 0\n",
    "num = eval(input('Enter a number:'))\n",
    "for i in range(1, num+1):\n",
    "    if num%3: break\n",
    "    s += i\n",
    "else:\n",
    "    print('end of for loop!')\n",
    "    print('sum =',s)"
   ]
  },
  {
   "cell_type": "code",
   "execution_count": 91,
   "id": "a3e2008c",
   "metadata": {},
   "outputs": [
    {
     "name": "stdout",
     "output_type": "stream",
     "text": [
      "Enter status:404\n"
     ]
    },
    {
     "data": {
      "text/plain": [
       "'Not found'"
      ]
     },
     "execution_count": 91,
     "metadata": {},
     "output_type": "execute_result"
    }
   ],
   "source": [
    "# python3.10 新增statement: match\n",
    "status = eval(input('Enter status:'))\n",
    "def http_error(status):\n",
    "    match status:\n",
    "        case 400:\n",
    "            return \"Bad request\"\n",
    "        case 404:\n",
    "            return \"Not found\"\n",
    "        case 418:\n",
    "            return \"I'm a teapot\"\n",
    "        case _: #底線代表萬用字元\n",
    "            return \"Something's wrong with the internet\"\n",
    "http_error(status)"
   ]
  },
  {
   "cell_type": "code",
   "execution_count": null,
   "id": "116c1a3d",
   "metadata": {},
   "outputs": [],
   "source": []
  },
  {
   "cell_type": "code",
   "execution_count": null,
   "id": "76544502",
   "metadata": {},
   "outputs": [],
   "source": []
  },
  {
   "cell_type": "code",
   "execution_count": null,
   "id": "233d5c20",
   "metadata": {},
   "outputs": [],
   "source": []
  },
  {
   "cell_type": "code",
   "execution_count": null,
   "id": "d728587e",
   "metadata": {},
   "outputs": [],
   "source": []
  }
 ],
 "metadata": {
  "kernelspec": {
   "display_name": "Python 3 (ipykernel)",
   "language": "python",
   "name": "python3"
  },
  "language_info": {
   "codemirror_mode": {
    "name": "ipython",
    "version": 3
   },
   "file_extension": ".py",
   "mimetype": "text/x-python",
   "name": "python",
   "nbconvert_exporter": "python",
   "pygments_lexer": "ipython3",
   "version": "3.10.4"
  }
 },
 "nbformat": 4,
 "nbformat_minor": 5
}
