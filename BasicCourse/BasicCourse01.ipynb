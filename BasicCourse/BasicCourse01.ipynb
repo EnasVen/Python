{
 "cells": [
  {
   "cell_type": "markdown",
   "id": "e1b68559-d859-46e0-92b3-26321f20ed59",
   "metadata": {},
   "source": [
    "# 基礎運算\n",
    "Python運算子為以下種類: <br>\n",
    "1.**算術運算子** <br>\n",
    "2.**指定運算子** <br>\n",
    "3.**比較運算子** <br>\n",
    "4.**邏輯運算子** <br>\n",
    "5.**身分運算子** <br>\n",
    "6.**成員運算子** <br>\n",
    "7.**位元運算子** <br>"
   ]
  },
  {
   "cell_type": "markdown",
   "id": "b18be9c6-9c64-45eb-815b-65d826f8a742",
   "metadata": {
    "jp-MarkdownHeadingCollapsed": true,
    "tags": []
   },
   "source": [
    "# 物件具備三個屬性:Identity、Type與Value\n",
    "**Identity**: 代表記憶體的位置 <br>\n",
    "**Type**: 一旦確定就不會改變，決定存放何種資料型態 <br>\n",
    "**Value**:  物件的值 <br>"
   ]
  },
  {
   "cell_type": "markdown",
   "id": "927ac71d-11c6-4018-b4af-60361409f6cf",
   "metadata": {},
   "source": [
    "Python底層都是用C語言的指標進行pointer"
   ]
  },
  {
   "cell_type": "code",
   "execution_count": 11,
   "id": "e63b3f43-7e79-4557-a0b6-5e528c8cc182",
   "metadata": {
    "tags": []
   },
   "outputs": [],
   "source": [
    "x = 100"
   ]
  },
  {
   "cell_type": "code",
   "execution_count": 8,
   "id": "2ae06b42-de12-4e25-a124-8f4b2295113c",
   "metadata": {
    "tags": []
   },
   "outputs": [
    {
     "data": {
      "text/plain": [
       "2714971016528"
      ]
     },
     "execution_count": 8,
     "metadata": {},
     "output_type": "execute_result"
    }
   ],
   "source": [
    "id(x) #取得記憶體的位置"
   ]
  },
  {
   "cell_type": "code",
   "execution_count": 9,
   "id": "58909506-1fdd-4329-bfa8-dac3bf46065f",
   "metadata": {},
   "outputs": [
    {
     "data": {
      "text/plain": [
       "int"
      ]
     },
     "execution_count": 9,
     "metadata": {},
     "output_type": "execute_result"
    }
   ],
   "source": [
    "type(x) #取得物件的資料型態"
   ]
  },
  {
   "cell_type": "code",
   "execution_count": 10,
   "id": "c53650ff-f1e7-485a-a99e-e31e417776c3",
   "metadata": {},
   "outputs": [
    {
     "data": {
      "text/plain": [
       "100"
      ]
     },
     "execution_count": 10,
     "metadata": {},
     "output_type": "execute_result"
    }
   ],
   "source": [
    "x #show出x參考到的值(value)"
   ]
  },
  {
   "cell_type": "markdown",
   "id": "88e0bf8b-5a2e-4851-8621-0e7322e13476",
   "metadata": {
    "jp-MarkdownHeadingCollapsed": true,
    "tags": []
   },
   "source": [
    "# 算術運算子"
   ]
  },
  {
   "cell_type": "code",
   "execution_count": 3,
   "id": "9ea60f85-448a-43b2-bcf8-7b805a818b79",
   "metadata": {
    "tags": []
   },
   "outputs": [
    {
     "data": {
      "text/plain": [
       "1"
      ]
     },
     "execution_count": 3,
     "metadata": {},
     "output_type": "execute_result"
    }
   ],
   "source": [
    "-9 % 2 "
   ]
  },
  {
   "cell_type": "code",
   "execution_count": 13,
   "id": "6cb0feb4-dcbc-47b8-835e-3a5a9862bc55",
   "metadata": {},
   "outputs": [
    {
     "data": {
      "text/plain": [
       "283753509180010707824461062763116716606126555757084586223347181136007"
      ]
     },
     "execution_count": 13,
     "metadata": {},
     "output_type": "execute_result"
    }
   ],
   "source": [
    "7 ** 81"
   ]
  },
  {
   "cell_type": "code",
   "execution_count": 5,
   "id": "e637f5cf-76bf-4703-971b-1a0c8eec0825",
   "metadata": {},
   "outputs": [
    {
     "data": {
      "text/plain": [
       "-5"
      ]
     },
     "execution_count": 5,
     "metadata": {},
     "output_type": "execute_result"
    }
   ],
   "source": [
    "-9 // 2"
   ]
  },
  {
   "cell_type": "markdown",
   "id": "6aee2400-52b6-4d60-90b3-b6128632d13c",
   "metadata": {
    "jp-MarkdownHeadingCollapsed": true,
    "tags": []
   },
   "source": [
    "# 指定運算子"
   ]
  },
  {
   "cell_type": "code",
   "execution_count": 12,
   "id": "8b95b42d-5228-4ac3-8b5c-d4c488e6f6b5",
   "metadata": {},
   "outputs": [
    {
     "data": {
      "text/plain": [
       "15"
      ]
     },
     "execution_count": 12,
     "metadata": {},
     "output_type": "execute_result"
    }
   ],
   "source": [
    "a = 5 \n",
    "a *= 3 \n",
    "a"
   ]
  },
  {
   "cell_type": "code",
   "execution_count": 15,
   "id": "2fe7a1de-c355-4179-8c88-f3e87b9c8f12",
   "metadata": {},
   "outputs": [
    {
     "data": {
      "text/plain": [
       "22"
      ]
     },
     "execution_count": 15,
     "metadata": {},
     "output_type": "execute_result"
    }
   ],
   "source": [
    "a += 7\n",
    "a"
   ]
  },
  {
   "cell_type": "markdown",
   "id": "6f1b1d58-4add-4886-807b-307e5bb29d23",
   "metadata": {
    "jp-MarkdownHeadingCollapsed": true,
    "tags": []
   },
   "source": [
    "# 關係運算子"
   ]
  },
  {
   "cell_type": "code",
   "execution_count": 16,
   "id": "2116c1a1-b359-421c-abd0-ac82e2e5b7ad",
   "metadata": {},
   "outputs": [],
   "source": [
    "b = 300"
   ]
  },
  {
   "cell_type": "code",
   "execution_count": 17,
   "id": "89f79059-d7cc-4c5d-bf39-17968af76831",
   "metadata": {},
   "outputs": [
    {
     "data": {
      "text/plain": [
       "True"
      ]
     },
     "execution_count": 17,
     "metadata": {},
     "output_type": "execute_result"
    }
   ],
   "source": [
    "b != 100"
   ]
  },
  {
   "cell_type": "code",
   "execution_count": 18,
   "id": "0903824b-5dcf-439c-8b5d-64866d96431c",
   "metadata": {},
   "outputs": [
    {
     "data": {
      "text/plain": [
       "False"
      ]
     },
     "execution_count": 18,
     "metadata": {},
     "output_type": "execute_result"
    }
   ],
   "source": [
    "b <= 200"
   ]
  },
  {
   "cell_type": "code",
   "execution_count": 19,
   "id": "db7af764-4f16-48d5-a282-30e65e535a0c",
   "metadata": {},
   "outputs": [
    {
     "data": {
      "text/plain": [
       "True"
      ]
     },
     "execution_count": 19,
     "metadata": {},
     "output_type": "execute_result"
    }
   ],
   "source": [
    "b == 300"
   ]
  },
  {
   "cell_type": "code",
   "execution_count": 20,
   "id": "8add76dd-ccee-48b1-9d13-453e636e462c",
   "metadata": {},
   "outputs": [
    {
     "data": {
      "text/plain": [
       "9"
      ]
     },
     "execution_count": 20,
     "metadata": {},
     "output_type": "execute_result"
    }
   ],
   "source": [
    "(b>905)+9"
   ]
  },
  {
   "cell_type": "code",
   "execution_count": 21,
   "id": "afc99958-9305-4c8c-8e94-1a37701c0d3a",
   "metadata": {},
   "outputs": [
    {
     "data": {
      "text/plain": [
       "False"
      ]
     },
     "execution_count": 21,
     "metadata": {},
     "output_type": "execute_result"
    }
   ],
   "source": [
    "6>7<8"
   ]
  },
  {
   "cell_type": "code",
   "execution_count": 22,
   "id": "f81e6ff2-7b61-4154-a32d-9c56cbc56162",
   "metadata": {},
   "outputs": [
    {
     "data": {
      "text/plain": [
       "True"
      ]
     },
     "execution_count": 22,
     "metadata": {},
     "output_type": "execute_result"
    }
   ],
   "source": [
    "5<6>3"
   ]
  },
  {
   "cell_type": "code",
   "execution_count": 23,
   "id": "c8784eec-9151-45d5-bec0-8df8dc8e4ae1",
   "metadata": {},
   "outputs": [
    {
     "data": {
      "text/plain": [
       "False"
      ]
     },
     "execution_count": 23,
     "metadata": {},
     "output_type": "execute_result"
    }
   ],
   "source": [
    "5>3>4"
   ]
  },
  {
   "cell_type": "markdown",
   "id": "07f202dc-34d7-4d62-8dc1-a611b4df221b",
   "metadata": {
    "jp-MarkdownHeadingCollapsed": true,
    "tags": []
   },
   "source": [
    "# 邏輯運算子\n",
    "Python預設非0為真(True)，其餘為假(False)"
   ]
  },
  {
   "cell_type": "code",
   "execution_count": 24,
   "id": "aaf92471-aa7b-4ef8-8c9a-d5fced5c46af",
   "metadata": {},
   "outputs": [
    {
     "data": {
      "text/plain": [
       "11"
      ]
     },
     "execution_count": 24,
     "metadata": {},
     "output_type": "execute_result"
    }
   ],
   "source": [
    "( 7 > 5 and 9 != 10 ) + 10"
   ]
  },
  {
   "cell_type": "code",
   "execution_count": 25,
   "id": "1e07e5e9-0963-4380-8a48-b8f9e8676d81",
   "metadata": {},
   "outputs": [
    {
     "data": {
      "text/plain": [
       "True"
      ]
     },
     "execution_count": 25,
     "metadata": {},
     "output_type": "execute_result"
    }
   ],
   "source": [
    "(1>0 or 9<0)"
   ]
  },
  {
   "cell_type": "code",
   "execution_count": 26,
   "id": "ba14c4e4-0b08-42c1-a92e-bcb5fceaec15",
   "metadata": {},
   "outputs": [
    {
     "data": {
      "text/plain": [
       "False"
      ]
     },
     "execution_count": 26,
     "metadata": {},
     "output_type": "execute_result"
    }
   ],
   "source": [
    "not (1!=2)"
   ]
  },
  {
   "cell_type": "markdown",
   "id": "01447e1f-38df-48e4-adba-b9c93a16334a",
   "metadata": {},
   "source": [
    "**x or y** : if x is false, then y, else x"
   ]
  },
  {
   "cell_type": "code",
   "execution_count": 27,
   "id": "63e58bd5-bac4-4a82-8e98-0f37e15907e3",
   "metadata": {},
   "outputs": [
    {
     "data": {
      "text/plain": [
       "True"
      ]
     },
     "execution_count": 27,
     "metadata": {},
     "output_type": "execute_result"
    }
   ],
   "source": [
    "9>10 or 5>0"
   ]
  },
  {
   "cell_type": "code",
   "execution_count": 28,
   "id": "b5701468-7aee-45b7-b9f1-52517805bb80",
   "metadata": {},
   "outputs": [
    {
     "data": {
      "text/plain": [
       "9"
      ]
     },
     "execution_count": 28,
     "metadata": {},
     "output_type": "execute_result"
    }
   ],
   "source": [
    "0 or 9 "
   ]
  },
  {
   "cell_type": "code",
   "execution_count": 29,
   "id": "c7291fa5-788a-483c-b2eb-364dbefda145",
   "metadata": {},
   "outputs": [
    {
     "data": {
      "text/plain": [
       "7"
      ]
     },
     "execution_count": 29,
     "metadata": {},
     "output_type": "execute_result"
    }
   ],
   "source": [
    "7 or 9"
   ]
  },
  {
   "cell_type": "markdown",
   "id": "64827447-824d-4d25-abc4-1d4e0c27378d",
   "metadata": {},
   "source": [
    "**x and y** : if x is false, then x, else y"
   ]
  },
  {
   "cell_type": "code",
   "execution_count": 30,
   "id": "a12c848b-3f0d-4f27-88d2-3aabed6efc96",
   "metadata": {},
   "outputs": [
    {
     "data": {
      "text/plain": [
       "0"
      ]
     },
     "execution_count": 30,
     "metadata": {},
     "output_type": "execute_result"
    }
   ],
   "source": [
    "0 and 88"
   ]
  },
  {
   "cell_type": "code",
   "execution_count": 32,
   "id": "f7765d9f-687d-4310-9bba-a15ced01311a",
   "metadata": {},
   "outputs": [
    {
     "data": {
      "text/plain": [
       "71"
      ]
     },
     "execution_count": 32,
     "metadata": {},
     "output_type": "execute_result"
    }
   ],
   "source": [
    "88 and 71 "
   ]
  },
  {
   "cell_type": "markdown",
   "id": "f1f5586e-ef53-4f8b-907b-e1d16382ca5a",
   "metadata": {
    "tags": []
   },
   "source": [
    "**not x** : if x is false, then True, else False"
   ]
  },
  {
   "cell_type": "code",
   "execution_count": 33,
   "id": "fc25c7b9-7f88-4026-bf9b-078554674f94",
   "metadata": {},
   "outputs": [
    {
     "data": {
      "text/plain": [
       "True"
      ]
     },
     "execution_count": 33,
     "metadata": {},
     "output_type": "execute_result"
    }
   ],
   "source": [
    "not 0"
   ]
  },
  {
   "cell_type": "code",
   "execution_count": 34,
   "id": "708c9442-f612-49be-8600-fac12cf501aa",
   "metadata": {},
   "outputs": [
    {
     "data": {
      "text/plain": [
       "False"
      ]
     },
     "execution_count": 34,
     "metadata": {},
     "output_type": "execute_result"
    }
   ],
   "source": [
    "not 9"
   ]
  },
  {
   "cell_type": "markdown",
   "id": "759f98fb-406f-4f1d-bd8d-4cd3cc1da448",
   "metadata": {
    "jp-MarkdownHeadingCollapsed": true,
    "tags": []
   },
   "source": [
    "# ID運算子\n",
    "identity運算子比較兩物件的記憶體位置是否相同"
   ]
  },
  {
   "cell_type": "code",
   "execution_count": 38,
   "id": "156d5a3b-a879-4363-a1cb-4975807a095c",
   "metadata": {},
   "outputs": [
    {
     "data": {
      "text/plain": [
       "(True, False)"
      ]
     },
     "execution_count": 38,
     "metadata": {},
     "output_type": "execute_result"
    }
   ],
   "source": [
    "a=10\n",
    "b=10\n",
    "c=11\n",
    "( id(a) == id(b) , id(a) == id(c))"
   ]
  },
  {
   "cell_type": "code",
   "execution_count": 42,
   "id": "1f116d86-aaf4-4e8e-96e2-62e0cd616a9f",
   "metadata": {},
   "outputs": [
    {
     "data": {
      "text/plain": [
       "True"
      ]
     },
     "execution_count": 42,
     "metadata": {},
     "output_type": "execute_result"
    }
   ],
   "source": [
    "a is b  #相當於 id(a) == id(b)"
   ]
  },
  {
   "cell_type": "code",
   "execution_count": 43,
   "id": "b11bf317-b64a-4007-afc4-b4571e245130",
   "metadata": {},
   "outputs": [
    {
     "data": {
      "text/plain": [
       "True"
      ]
     },
     "execution_count": 43,
     "metadata": {},
     "output_type": "execute_result"
    }
   ],
   "source": [
    "a is not c #相當於id(a) == id(c)"
   ]
  },
  {
   "cell_type": "markdown",
   "id": "5f3021cc-60d5-4c4c-ae11-c8288e04fdcd",
   "metadata": {
    "jp-MarkdownHeadingCollapsed": true,
    "tags": []
   },
   "source": [
    "# 位元運算子\n",
    "by bit 一個一個運算 (暫時略過)"
   ]
  },
  {
   "cell_type": "markdown",
   "id": "c7d2ee45-5ee4-414c-9248-d8ae55eb0a2c",
   "metadata": {
    "jp-MarkdownHeadingCollapsed": true,
    "tags": []
   },
   "source": [
    "# 文字(Text)"
   ]
  },
  {
   "cell_type": "code",
   "execution_count": 44,
   "id": "e84cab23-75bb-4d3d-930e-da7eb0a8e21f",
   "metadata": {},
   "outputs": [
    {
     "data": {
      "text/plain": [
       "'AAA'"
      ]
     },
     "execution_count": 44,
     "metadata": {},
     "output_type": "execute_result"
    }
   ],
   "source": [
    "\"AAA\""
   ]
  },
  {
   "cell_type": "code",
   "execution_count": 47,
   "id": "c86b0bb6-385b-411f-a7df-5105b4d38eb6",
   "metadata": {},
   "outputs": [
    {
     "ename": "SyntaxError",
     "evalue": "unterminated string literal (detected at line 1) (978451155.py, line 1)",
     "output_type": "error",
     "traceback": [
      "\u001b[1;36m  Input \u001b[1;32mIn [47]\u001b[1;36m\u001b[0m\n\u001b[1;33m    var0 = 'Hello\"  # 筆記本可以留下錯誤訊息\u001b[0m\n\u001b[1;37m           ^\u001b[0m\n\u001b[1;31mSyntaxError\u001b[0m\u001b[1;31m:\u001b[0m unterminated string literal (detected at line 1)\n"
     ]
    }
   ],
   "source": [
    "var0 = 'Hello\"  # 筆記本可以留下錯誤訊息"
   ]
  },
  {
   "cell_type": "code",
   "execution_count": 54,
   "id": "e18eba5f-27b3-46fc-98e7-40c6e4dd62b4",
   "metadata": {},
   "outputs": [],
   "source": [
    "var1 = 'Hello World'\n",
    "var2 = \"Hello World\""
   ]
  },
  {
   "cell_type": "code",
   "execution_count": 49,
   "id": "849889c1-7aef-4171-b479-1926cdcb08e1",
   "metadata": {},
   "outputs": [
    {
     "data": {
      "text/plain": [
       "True"
      ]
     },
     "execution_count": 49,
     "metadata": {},
     "output_type": "execute_result"
    }
   ],
   "source": [
    "var1 == var2 #單雙引號字串相同"
   ]
  },
  {
   "cell_type": "code",
   "execution_count": 53,
   "id": "9aa1e30d-2864-4c74-9c3d-7cc1baaf4210",
   "metadata": {},
   "outputs": [
    {
     "data": {
      "text/plain": [
       "'H'"
      ]
     },
     "execution_count": 53,
     "metadata": {},
     "output_type": "execute_result"
    }
   ],
   "source": [
    "var1[0] #索引從0開始算"
   ]
  },
  {
   "cell_type": "code",
   "execution_count": 52,
   "id": "caf63bc3-90fc-4e61-abbb-569423899032",
   "metadata": {},
   "outputs": [
    {
     "data": {
      "text/plain": [
       "'el'"
      ]
     },
     "execution_count": 52,
     "metadata": {},
     "output_type": "execute_result"
    }
   ],
   "source": [
    "var2[1:3] #同義於 [1,3) 尾端open"
   ]
  },
  {
   "cell_type": "code",
   "execution_count": 55,
   "id": "69b6a76c-ec4c-4934-970d-b6673635b93c",
   "metadata": {},
   "outputs": [
    {
     "name": "stdout",
     "output_type": "stream",
     "text": [
      "Hello Python\n"
     ]
    }
   ],
   "source": [
    "var1 = var1[:6] + 'Python'\n",
    "print(var1)"
   ]
  },
  {
   "cell_type": "markdown",
   "id": "1d4ad7c1-0b89-4021-89eb-7bcadfcdd1cc",
   "metadata": {},
   "source": [
    "文字資料型態是有順序的、不可改變(immutable)"
   ]
  },
  {
   "cell_type": "code",
   "execution_count": 56,
   "id": "d462441a-a466-47e7-a130-5c166668b482",
   "metadata": {},
   "outputs": [
    {
     "ename": "TypeError",
     "evalue": "'str' object does not support item assignment",
     "output_type": "error",
     "traceback": [
      "\u001b[1;31m---------------------------------------------------------------------------\u001b[0m",
      "\u001b[1;31mTypeError\u001b[0m                                 Traceback (most recent call last)",
      "Input \u001b[1;32mIn [56]\u001b[0m, in \u001b[0;36m<cell line: 1>\u001b[1;34m()\u001b[0m\n\u001b[1;32m----> 1\u001b[0m var1[\u001b[38;5;241m2\u001b[39m] \u001b[38;5;241m=\u001b[39m \u001b[38;5;124m'\u001b[39m\u001b[38;5;124mB\u001b[39m\u001b[38;5;124m'\u001b[39m\n",
      "\u001b[1;31mTypeError\u001b[0m: 'str' object does not support item assignment"
     ]
    }
   ],
   "source": [
    "var1[2] = 'B'"
   ]
  },
  {
   "cell_type": "code",
   "execution_count": 58,
   "id": "aefe0a2d-a483-4168-83dc-fb5ba24cf496",
   "metadata": {},
   "outputs": [
    {
     "data": {
      "text/plain": [
       "True"
      ]
     },
     "execution_count": 58,
     "metadata": {},
     "output_type": "execute_result"
    }
   ],
   "source": [
    "var1[2] == \"l\""
   ]
  },
  {
   "cell_type": "code",
   "execution_count": 63,
   "id": "b5dee1f8-8c0a-4e4b-9292-8a6154197e7c",
   "metadata": {},
   "outputs": [
    {
     "data": {
      "text/plain": [
       "'綿'"
      ]
     },
     "execution_count": 63,
     "metadata": {},
     "output_type": "execute_result"
    }
   ],
   "source": [
    "var3='角捲綿芽'\n",
    "var3[2]"
   ]
  },
  {
   "cell_type": "code",
   "execution_count": 60,
   "id": "602ac17a-65ba-4a3d-9da3-44d43bfbe407",
   "metadata": {},
   "outputs": [
    {
     "data": {
      "text/plain": [
       "True"
      ]
     },
     "execution_count": 60,
     "metadata": {},
     "output_type": "execute_result"
    }
   ],
   "source": [
    "isinstance(var1,str)"
   ]
  },
  {
   "cell_type": "code",
   "execution_count": 61,
   "id": "5281a93a-676b-47ed-9dd9-970b3031863f",
   "metadata": {},
   "outputs": [
    {
     "data": {
      "text/plain": [
       "str"
      ]
     },
     "execution_count": 61,
     "metadata": {},
     "output_type": "execute_result"
    }
   ],
   "source": [
    "type(var1)"
   ]
  },
  {
   "cell_type": "markdown",
   "id": "7c8f0cea-0552-4c09-ada0-7b4772841d85",
   "metadata": {
    "jp-MarkdownHeadingCollapsed": true,
    "tags": []
   },
   "source": [
    "# 跳脫字元"
   ]
  },
  {
   "cell_type": "code",
   "execution_count": 64,
   "id": "610b575f-9fcd-4291-85a3-7dd71e2bba87",
   "metadata": {},
   "outputs": [
    {
     "ename": "SyntaxError",
     "evalue": "unterminated string literal (detected at line 1) (3958564667.py, line 1)",
     "output_type": "error",
     "traceback": [
      "\u001b[1;36m  Input \u001b[1;32mIn [64]\u001b[1;36m\u001b[0m\n\u001b[1;33m    'I don't know'\u001b[0m\n\u001b[1;37m                 ^\u001b[0m\n\u001b[1;31mSyntaxError\u001b[0m\u001b[1;31m:\u001b[0m unterminated string literal (detected at line 1)\n"
     ]
    }
   ],
   "source": [
    "'I don't know'"
   ]
  },
  {
   "cell_type": "code",
   "execution_count": 65,
   "id": "ba11d8bc-0253-4b5d-86b0-7ec4150b1d48",
   "metadata": {},
   "outputs": [
    {
     "data": {
      "text/plain": [
       "\"I don't know\""
      ]
     },
     "execution_count": 65,
     "metadata": {},
     "output_type": "execute_result"
    }
   ],
   "source": [
    "'I don\\'t know'"
   ]
  },
  {
   "cell_type": "code",
   "execution_count": 68,
   "id": "59b955f4-2406-4540-ab26-c2aa0e625f91",
   "metadata": {},
   "outputs": [
    {
     "name": "stdout",
     "output_type": "stream",
     "text": [
      "This is i-th iteration! \n",
      "Current MSE is 0.000115 !\n"
     ]
    }
   ],
   "source": [
    "print('This is i-th iteration! \\n \\rCurrent MSE is 0.000115 !')"
   ]
  },
  {
   "cell_type": "markdown",
   "id": "64284f74-5a25-4297-bbfa-7898bf6611c9",
   "metadata": {
    "jp-MarkdownHeadingCollapsed": true,
    "tags": []
   },
   "source": [
    "# 三引號\n",
    "三引號通常用於document string，用於說明"
   ]
  },
  {
   "cell_type": "code",
   "execution_count": 74,
   "id": "f5af6a62-d12b-4c2b-afcd-990d568144ee",
   "metadata": {},
   "outputs": [],
   "source": [
    "d = ''' String1 with [Tab\\t] \\n String2 with [Newline\\n] \\n String3 with [Normal]'''"
   ]
  },
  {
   "cell_type": "code",
   "execution_count": 75,
   "id": "f9cf38b7-caf7-4800-8ea9-e4092d55d996",
   "metadata": {},
   "outputs": [
    {
     "name": "stdout",
     "output_type": "stream",
     "text": [
      " String1 with [Tab\t] \n",
      " String2 with [Newline\n",
      "] \n",
      " String3 with [Normal]\n"
     ]
    }
   ],
   "source": [
    "print(d)"
   ]
  },
  {
   "cell_type": "markdown",
   "id": "a32b0839-80fb-4b1c-9fcf-5ff2f79f339f",
   "metadata": {
    "jp-MarkdownHeadingCollapsed": true,
    "tags": []
   },
   "source": [
    "# 成員運算子\n",
    "測試資料是否為指定物件的內容之一"
   ]
  },
  {
   "cell_type": "code",
   "execution_count": 76,
   "id": "5543acd5-4534-4530-b841-94d06891b270",
   "metadata": {},
   "outputs": [],
   "source": [
    "x = 3 \n",
    "y = [1,2,3,4,8]"
   ]
  },
  {
   "cell_type": "code",
   "execution_count": 77,
   "id": "bca5a81e-da0b-4fcb-b819-be6ed391640f",
   "metadata": {},
   "outputs": [
    {
     "data": {
      "text/plain": [
       "True"
      ]
     },
     "execution_count": 77,
     "metadata": {},
     "output_type": "execute_result"
    }
   ],
   "source": [
    "x in y"
   ]
  },
  {
   "cell_type": "code",
   "execution_count": 78,
   "id": "ef0b152b-fd36-4209-821c-3c6263be1bf9",
   "metadata": {},
   "outputs": [],
   "source": [
    "x = 3 \n",
    "y = (1,1,5,4,120)"
   ]
  },
  {
   "cell_type": "code",
   "execution_count": 79,
   "id": "74debccd-33bf-4abe-b792-a5969bb425d9",
   "metadata": {},
   "outputs": [
    {
     "data": {
      "text/plain": [
       "False"
      ]
     },
     "execution_count": 79,
     "metadata": {},
     "output_type": "execute_result"
    }
   ],
   "source": [
    "x in y "
   ]
  },
  {
   "cell_type": "code",
   "execution_count": 80,
   "id": "aa23b30a-419d-41ab-8f4f-3ad7bbaadfb0",
   "metadata": {
    "tags": []
   },
   "outputs": [
    {
     "data": {
      "text/plain": [
       "(1, 1, 5, 4, 120)"
      ]
     },
     "execution_count": 80,
     "metadata": {},
     "output_type": "execute_result"
    }
   ],
   "source": [
    "y"
   ]
  },
  {
   "cell_type": "code",
   "execution_count": 81,
   "id": "a1755fd1-4ca2-4115-8a23-0fd88b3a6226",
   "metadata": {},
   "outputs": [
    {
     "data": {
      "text/plain": [
       "True"
      ]
     },
     "execution_count": 81,
     "metadata": {},
     "output_type": "execute_result"
    }
   ],
   "source": [
    "x not in y"
   ]
  },
  {
   "cell_type": "code",
   "execution_count": 82,
   "id": "4fa56d3b-d760-40a6-970e-751ef4d7587c",
   "metadata": {
    "tags": []
   },
   "outputs": [
    {
     "data": {
      "text/plain": [
       "True"
      ]
     },
     "execution_count": 82,
     "metadata": {},
     "output_type": "execute_result"
    }
   ],
   "source": [
    "'e' in var1"
   ]
  },
  {
   "cell_type": "markdown",
   "id": "aa75fe00-73fe-48f9-81f6-9a3ed4d81fcc",
   "metadata": {
    "jp-MarkdownHeadingCollapsed": true,
    "tags": []
   },
   "source": [
    "# 字串運算 \n",
    "相加 + <br>\n",
    "相乘 * <br>\n",
    "索引 [] <br>\n",
    "成員運算 in/not in <br>\n",
    "保留原始字串 r/R <br>\n",
    "回傳長度 len() <br>\n",
    "回傳字串 str() <br>"
   ]
  },
  {
   "cell_type": "code",
   "execution_count": 83,
   "id": "e4ac560d-33bc-4472-a4cd-4f760462e038",
   "metadata": {},
   "outputs": [
    {
     "data": {
      "text/plain": [
       "'HelloHello'"
      ]
     },
     "execution_count": 83,
     "metadata": {},
     "output_type": "execute_result"
    }
   ],
   "source": [
    "'Hello'*2"
   ]
  },
  {
   "cell_type": "code",
   "execution_count": 84,
   "id": "b864045b-24e7-4754-9bd2-fe20e628ebec",
   "metadata": {},
   "outputs": [
    {
     "data": {
      "text/plain": [
       "'Hello Python0123'"
      ]
     },
     "execution_count": 84,
     "metadata": {},
     "output_type": "execute_result"
    }
   ],
   "source": [
    "var1 + '0123'"
   ]
  },
  {
   "cell_type": "code",
   "execution_count": 98,
   "id": "dcf21045-bdf9-46db-ab97-8c49eea28479",
   "metadata": {},
   "outputs": [
    {
     "name": "stdout",
     "output_type": "stream",
     "text": [
      "I don\\'t know\n"
     ]
    }
   ],
   "source": [
    "print(r'I don\\'t know') #加入r的print會顯示字串內最原始的型態(不跳脫) web scraping時會用到"
   ]
  },
  {
   "cell_type": "code",
   "execution_count": 85,
   "id": "2dca07a0-99de-428d-9bc7-34a718a5c68b",
   "metadata": {},
   "outputs": [
    {
     "ename": "TypeError",
     "evalue": "can only concatenate str (not \"int\") to str",
     "output_type": "error",
     "traceback": [
      "\u001b[1;31m---------------------------------------------------------------------------\u001b[0m",
      "\u001b[1;31mTypeError\u001b[0m                                 Traceback (most recent call last)",
      "Input \u001b[1;32mIn [85]\u001b[0m, in \u001b[0;36m<cell line: 1>\u001b[1;34m()\u001b[0m\n\u001b[1;32m----> 1\u001b[0m \u001b[38;5;124;43m'\u001b[39;49m\u001b[38;5;124;43m22\u001b[39;49m\u001b[38;5;124;43m'\u001b[39;49m\u001b[38;5;241;43m+\u001b[39;49m\u001b[38;5;241;43m33\u001b[39;49m\n",
      "\u001b[1;31mTypeError\u001b[0m: can only concatenate str (not \"int\") to str"
     ]
    }
   ],
   "source": [
    "'22'+33"
   ]
  },
  {
   "cell_type": "markdown",
   "id": "27b94300-de33-4673-9080-5f59bcc98fee",
   "metadata": {
    "jp-MarkdownHeadingCollapsed": true,
    "tags": []
   },
   "source": [
    "# 使用 Notebook 分析程式，盡量不要使用print!"
   ]
  },
  {
   "cell_type": "code",
   "execution_count": 86,
   "id": "0a91f8f2-2222-424c-92a0-44a2e2f67fde",
   "metadata": {},
   "outputs": [],
   "source": [
    "num1 , num2 = 11 , '11'"
   ]
  },
  {
   "cell_type": "code",
   "execution_count": 87,
   "id": "3ffbefdf-5391-4bf1-bd20-8f49c9d265b9",
   "metadata": {},
   "outputs": [
    {
     "data": {
      "text/plain": [
       "11"
      ]
     },
     "execution_count": 87,
     "metadata": {},
     "output_type": "execute_result"
    }
   ],
   "source": [
    "num1"
   ]
  },
  {
   "cell_type": "code",
   "execution_count": 88,
   "id": "4a291ff2-b3a7-4800-84f9-eed9893c2cf1",
   "metadata": {},
   "outputs": [
    {
     "data": {
      "text/plain": [
       "'11'"
      ]
     },
     "execution_count": 88,
     "metadata": {},
     "output_type": "execute_result"
    }
   ],
   "source": [
    "num2"
   ]
  },
  {
   "cell_type": "code",
   "execution_count": 89,
   "id": "7dabdc51-6094-45ba-9524-179a84767dd9",
   "metadata": {},
   "outputs": [
    {
     "name": "stdout",
     "output_type": "stream",
     "text": [
      "22\n"
     ]
    }
   ],
   "source": [
    "print(num1*2)"
   ]
  },
  {
   "cell_type": "code",
   "execution_count": 95,
   "id": "e3c5712b-3ec4-4b32-8d22-47a11eb32e1f",
   "metadata": {},
   "outputs": [
    {
     "name": "stdout",
     "output_type": "stream",
     "text": [
      "1111\n"
     ]
    }
   ],
   "source": [
    "print(num2*2) #print會讓使用者看不出原始物件是數字還是文字"
   ]
  },
  {
   "cell_type": "code",
   "execution_count": 100,
   "id": "b322f7db-c7e9-44bb-bb51-12f845499524",
   "metadata": {},
   "outputs": [
    {
     "name": "stdout",
     "output_type": "stream",
     "text": [
      "z=33\n"
     ]
    }
   ],
   "source": [
    "z = '33'\n",
    "print('z='+str(z))"
   ]
  },
  {
   "cell_type": "code",
   "execution_count": 106,
   "id": "f7342f52-e05c-4f1c-821e-079947e8403c",
   "metadata": {},
   "outputs": [
    {
     "name": "stdout",
     "output_type": "stream",
     "text": [
      "a\tb\n"
     ]
    }
   ],
   "source": [
    "print('a',end='\\t')\n",
    "print('b')"
   ]
  },
  {
   "cell_type": "code",
   "execution_count": 104,
   "id": "532d32ee-3498-4bde-8754-fff274fd3a7a",
   "metadata": {},
   "outputs": [
    {
     "name": "stdout",
     "output_type": "stream",
     "text": [
      "a bThis is end!"
     ]
    }
   ],
   "source": [
    "print('a','b',end='This is end!')"
   ]
  },
  {
   "cell_type": "code",
   "execution_count": 107,
   "id": "a8457bd6-cd8b-4d05-a5a3-02a2e8b5988b",
   "metadata": {},
   "outputs": [
    {
     "data": {
      "text/plain": [
       "(10, 10, 11)"
      ]
     },
     "execution_count": 107,
     "metadata": {},
     "output_type": "execute_result"
    }
   ],
   "source": [
    "a,b,c"
   ]
  },
  {
   "cell_type": "code",
   "execution_count": 108,
   "id": "090455e5-6c50-4428-b80b-6b537fc1ba47",
   "metadata": {},
   "outputs": [
    {
     "name": "stdout",
     "output_type": "stream",
     "text": [
      "10 10 11\n"
     ]
    }
   ],
   "source": [
    "print(a,b,c)"
   ]
  },
  {
   "cell_type": "markdown",
   "id": "12febdf1-ccbe-4e4a-919c-bfe40b1b8ded",
   "metadata": {
    "jp-MarkdownHeadingCollapsed": true,
    "tags": []
   },
   "source": [
    "# 從鍵盤輸入資料\n",
    "從鍵盤使用input函數輸入的資料都是字串型態"
   ]
  },
  {
   "cell_type": "code",
   "execution_count": 109,
   "id": "61cea1ea-9b47-486b-ad4c-0b4af62d97a9",
   "metadata": {},
   "outputs": [
    {
     "name": "stdin",
     "output_type": "stream",
     "text": [
      " yes\n"
     ]
    }
   ],
   "source": [
    "x  =input()"
   ]
  },
  {
   "cell_type": "code",
   "execution_count": 110,
   "id": "9dc9faad-fdba-48c4-b625-bd6bec6f9995",
   "metadata": {},
   "outputs": [
    {
     "name": "stdin",
     "output_type": "stream",
     "text": [
      " 99\n"
     ]
    }
   ],
   "source": [
    "y = input()"
   ]
  },
  {
   "cell_type": "code",
   "execution_count": 111,
   "id": "61acfced-a85d-4f70-b40a-c1116fb4dc62",
   "metadata": {},
   "outputs": [
    {
     "name": "stdout",
     "output_type": "stream",
     "text": [
      "yes 99\n"
     ]
    }
   ],
   "source": [
    "print(x,y)"
   ]
  },
  {
   "cell_type": "code",
   "execution_count": 112,
   "id": "308622b0-8fb9-45c7-a87b-bee6fe2bfad7",
   "metadata": {},
   "outputs": [
    {
     "name": "stdin",
     "output_type": "stream",
     "text": [
      "請輸入文字 87\n"
     ]
    }
   ],
   "source": [
    "ans = input('請輸入文字')"
   ]
  },
  {
   "cell_type": "code",
   "execution_count": 113,
   "id": "00897467-6997-4211-927f-57953beb5365",
   "metadata": {},
   "outputs": [
    {
     "data": {
      "text/plain": [
       "str"
      ]
     },
     "execution_count": 113,
     "metadata": {},
     "output_type": "execute_result"
    }
   ],
   "source": [
    "type(ans)"
   ]
  },
  {
   "cell_type": "markdown",
   "id": "e7a86759-8a3b-4b5c-86da-084af4a4d6fa",
   "metadata": {},
   "source": [
    "eval會將內做運算並return為數值"
   ]
  },
  {
   "cell_type": "code",
   "execution_count": 115,
   "id": "22037840-d402-4537-8a56-95971d74efb7",
   "metadata": {},
   "outputs": [
    {
     "name": "stdin",
     "output_type": "stream",
     "text": [
      "請輸入數字 999\n"
     ]
    }
   ],
   "source": [
    "ans = eval(input('請輸入數字'))"
   ]
  },
  {
   "cell_type": "code",
   "execution_count": 116,
   "id": "a33093b0-838f-4bae-883e-ec749086537f",
   "metadata": {},
   "outputs": [
    {
     "data": {
      "text/plain": [
       "int"
      ]
     },
     "execution_count": 116,
     "metadata": {},
     "output_type": "execute_result"
    }
   ],
   "source": [
    "type(ans)"
   ]
  },
  {
   "cell_type": "code",
   "execution_count": 117,
   "id": "9ed1ebe1-661a-4c38-bc2b-e6d957c84249",
   "metadata": {},
   "outputs": [
    {
     "name": "stdin",
     "output_type": "stream",
     "text": [
      "請輸入數字 kkkkkkkkkk\n"
     ]
    },
    {
     "ename": "NameError",
     "evalue": "name 'kkkkkkkkkk' is not defined",
     "output_type": "error",
     "traceback": [
      "\u001b[1;31m---------------------------------------------------------------------------\u001b[0m",
      "\u001b[1;31mNameError\u001b[0m                                 Traceback (most recent call last)",
      "Input \u001b[1;32mIn [117]\u001b[0m, in \u001b[0;36m<cell line: 1>\u001b[1;34m()\u001b[0m\n\u001b[1;32m----> 1\u001b[0m ans \u001b[38;5;241m=\u001b[39m \u001b[38;5;28;43meval\u001b[39;49m\u001b[43m(\u001b[49m\u001b[38;5;28;43minput\u001b[39;49m\u001b[43m(\u001b[49m\u001b[38;5;124;43m'\u001b[39;49m\u001b[38;5;124;43m請輸入數字\u001b[39;49m\u001b[38;5;124;43m'\u001b[39;49m\u001b[43m)\u001b[49m\u001b[43m)\u001b[49m\n",
      "File \u001b[1;32m<string>:1\u001b[0m, in \u001b[0;36m<module>\u001b[1;34m\u001b[0m\n",
      "\u001b[1;31mNameError\u001b[0m: name 'kkkkkkkkkk' is not defined"
     ]
    }
   ],
   "source": [
    "ans = eval(input('請輸入數字')) #不給數值就會報錯 "
   ]
  },
  {
   "cell_type": "code",
   "execution_count": 118,
   "id": "eeaff723-fd1c-4847-9d12-8c700ac72328",
   "metadata": {},
   "outputs": [
    {
     "name": "stdin",
     "output_type": "stream",
     "text": [
      "請輸入數字 77*77\n"
     ]
    },
    {
     "data": {
      "text/plain": [
       "5929"
      ]
     },
     "execution_count": 118,
     "metadata": {},
     "output_type": "execute_result"
    }
   ],
   "source": [
    "ans = eval(input('請輸入數字')) ; ans"
   ]
  },
  {
   "cell_type": "markdown",
   "id": "b39ac413-d584-4b7e-90cc-c601248794da",
   "metadata": {},
   "source": [
    "# 文字格式化\n",
    "1.需要搭配print功能 <br>\n",
    "2.Python將OOP概念內的method與func.視為相同，但表達方法不一樣: <br>\n",
    "例如:<br> \n",
    "len('A')為func.寫法 <br>\n",
    "'A'.upper()則為method寫法 "
   ]
  },
  {
   "cell_type": "code",
   "execution_count": 121,
   "id": "e707c995-5477-4ed1-a3d7-3fabba94339e",
   "metadata": {},
   "outputs": [],
   "source": [
    "x = 'iSpan' ; y = 2021"
   ]
  },
  {
   "cell_type": "code",
   "execution_count": 122,
   "id": "0a41969e-b673-46ec-b1e3-fbecb3c92860",
   "metadata": {},
   "outputs": [
    {
     "name": "stdout",
     "output_type": "stream",
     "text": [
      "iSpan was established in 2021\n"
     ]
    }
   ],
   "source": [
    "print(f'{x} was established in {y}')"
   ]
  },
  {
   "cell_type": "code",
   "execution_count": 124,
   "id": "aab63047-489d-4687-afc3-ed7affc2b4b9",
   "metadata": {},
   "outputs": [
    {
     "name": "stdout",
     "output_type": "stream",
     "text": [
      "z=33\n"
     ]
    }
   ],
   "source": [
    "print(f'z={z}')  # 大擴號為取變數內容值"
   ]
  },
  {
   "cell_type": "code",
   "execution_count": 134,
   "id": "98807d09-8e7f-4bdd-847e-724da2fa974c",
   "metadata": {},
   "outputs": [],
   "source": [
    "data=12.38451\n",
    "v=1"
   ]
  },
  {
   "cell_type": "code",
   "execution_count": 126,
   "id": "85a443c6-7882-4e12-8a8c-496363e3cff6",
   "metadata": {},
   "outputs": [
    {
     "data": {
      "text/plain": [
       "'12.3845'"
      ]
     },
     "execution_count": 126,
     "metadata": {},
     "output_type": "execute_result"
    }
   ],
   "source": [
    "f'{data}'"
   ]
  },
  {
   "cell_type": "code",
   "execution_count": 127,
   "id": "a14a4f95-07ab-4222-b3d9-368bdf45ec01",
   "metadata": {},
   "outputs": [
    {
     "data": {
      "text/plain": [
       "'12.38'"
      ]
     },
     "execution_count": 127,
     "metadata": {},
     "output_type": "execute_result"
    }
   ],
   "source": [
    "f'{data:.2f}'"
   ]
  },
  {
   "cell_type": "code",
   "execution_count": 133,
   "id": "35ac945a-b985-4f38-9dc3-e7c715d51f84",
   "metadata": {},
   "outputs": [
    {
     "data": {
      "text/plain": [
       "'12.385'"
      ]
     },
     "execution_count": 133,
     "metadata": {},
     "output_type": "execute_result"
    }
   ],
   "source": [
    "f'{data:.3f}'"
   ]
  },
  {
   "cell_type": "code",
   "execution_count": 142,
   "id": "248b8ad2-3bc3-4fae-963b-5fe3fbca49da",
   "metadata": {},
   "outputs": [
    {
     "data": {
      "text/plain": [
       "'00012.38'"
      ]
     },
     "execution_count": 142,
     "metadata": {},
     "output_type": "execute_result"
    }
   ],
   "source": [
    "f'{data:08.2f}'"
   ]
  },
  {
   "cell_type": "code",
   "execution_count": 139,
   "id": "476f2ecd-d82f-4835-9402-78ce76f87f2f",
   "metadata": {},
   "outputs": [
    {
     "data": {
      "text/plain": [
       "'01'"
      ]
     },
     "execution_count": 139,
     "metadata": {},
     "output_type": "execute_result"
    }
   ],
   "source": [
    "f'{v:02d}'"
   ]
  },
  {
   "cell_type": "code",
   "execution_count": 148,
   "id": "ea0d4d40-dcf0-45ab-8b3b-243072539149",
   "metadata": {},
   "outputs": [
    {
     "data": {
      "text/plain": [
       "'2022-04-25 10:11:23'"
      ]
     },
     "execution_count": 148,
     "metadata": {},
     "output_type": "execute_result"
    }
   ],
   "source": [
    "from datetime import datetime\n",
    "f'{datetime(2022,4,25,10,11,23):%Y-%m-%d %H:%M:%S}' # dash - 是標準公認年-月-日，不會反過來，但斜線/就不一定每個國家都相同"
   ]
  },
  {
   "cell_type": "code",
   "execution_count": 159,
   "id": "c333bcd2-1b16-4d62-a296-3230dd8a8e62",
   "metadata": {},
   "outputs": [],
   "source": [
    "ACC = 0.9763832"
   ]
  },
  {
   "cell_type": "code",
   "execution_count": 146,
   "id": "55b82f05-def9-4011-b978-8e834892001f",
   "metadata": {},
   "outputs": [
    {
     "data": {
      "text/plain": [
       "'97.64%'"
      ]
     },
     "execution_count": 146,
     "metadata": {},
     "output_type": "execute_result"
    }
   ],
   "source": [
    "f'{ACC*100:.02f}%'"
   ]
  },
  {
   "cell_type": "code",
   "execution_count": 158,
   "id": "8b33201d-2523-4ae6-81d0-d4c899cef64a",
   "metadata": {},
   "outputs": [
    {
     "data": {
      "text/plain": [
       "'精確度為 97.64%'"
      ]
     },
     "execution_count": 158,
     "metadata": {},
     "output_type": "execute_result"
    }
   ],
   "source": [
    "'精確度為 {:.02f}%'.format(0.9763832*100)"
   ]
  },
  {
   "cell_type": "code",
   "execution_count": 161,
   "id": "118a3eca-4a92-4f8b-8fa9-427ad2145f97",
   "metadata": {},
   "outputs": [
    {
     "data": {
      "text/plain": [
       "'2022-04-25 10:11:23'"
      ]
     },
     "execution_count": 161,
     "metadata": {},
     "output_type": "execute_result"
    }
   ],
   "source": [
    "'{:%Y-%m-%d %H:%M:%S}'.format(datetime(2022,4,25,10,11,23))"
   ]
  },
  {
   "cell_type": "code",
   "execution_count": 163,
   "id": "2d2916a3-ef77-41d4-827f-8448f70efbd4",
   "metadata": {},
   "outputs": [
    {
     "data": {
      "text/plain": [
       "'精確度為 97.64%'"
      ]
     },
     "execution_count": 163,
     "metadata": {},
     "output_type": "execute_result"
    }
   ],
   "source": [
    "'精確度為 %.2f%%' % (0.9763832*100) # python2 舊寫法"
   ]
  },
  {
   "cell_type": "code",
   "execution_count": 164,
   "id": "a4c892df-eb00-463c-a72e-05a2d124991c",
   "metadata": {},
   "outputs": [
    {
     "data": {
      "text/plain": [
       "'a=95 , b=99'"
      ]
     },
     "execution_count": 164,
     "metadata": {},
     "output_type": "execute_result"
    }
   ],
   "source": [
    "'a={} , b={}'.format(95,99)"
   ]
  },
  {
   "cell_type": "code",
   "execution_count": null,
   "id": "3d5d04a2-5849-47e9-8486-a718269fdeb8",
   "metadata": {},
   "outputs": [],
   "source": []
  }
 ],
 "metadata": {
  "kernelspec": {
   "display_name": "Python 3 (ipykernel)",
   "language": "python",
   "name": "python3"
  },
  "language_info": {
   "codemirror_mode": {
    "name": "ipython",
    "version": 3
   },
   "file_extension": ".py",
   "mimetype": "text/x-python",
   "name": "python",
   "nbconvert_exporter": "python",
   "pygments_lexer": "ipython3",
   "version": "3.10.4"
  }
 },
 "nbformat": 4,
 "nbformat_minor": 5
}
