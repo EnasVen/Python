{
 "cells": [
  {
   "cell_type": "markdown",
   "id": "ddc5eba0",
   "metadata": {},
   "source": [
    "# 常用語料處理套件\n",
    "- NLTK: 限英文分詞、斷句 與 詞性標記  \n",
    "- SnowNLP: 支援中文分詞、斷句、文本分類、擷取關鍵字 與 情緒分析  \n",
    "- jionlp: 支援中文擷取關鍵字、文本摘要、色情內容過濾 與 簡繁體轉換  \n",
    "- jieba: 支援中文分詞、擷取關鍵字、詞性標記 與 詞頻統計  \n",
    "- Ckip: 支援中文分詞、擷取關鍵字、詞性標記 與 詞頻統計  \n",
    "- Articut: 支援中文分詞 與 詞性標記  \n",
    "- HanLP: 擷取關鍵字、詞性標記、文本推薦、自動摘要、文本分類、語意分析、Word2Vec 與 簡繁體轉換  \n",
    "- KeyMojiAPI: 情緒偵測引擎  \n",
    "- Gensim: 支援LDA模型與Word2Vec詞向量模型，同時也支援法律和健康相關corpus  \n",
    "- OpenCC: 支援簡繁體轉換  \n",
    "- ckpe: 支援中文擷取關鍵字  "
   ]
  },
  {
   "cell_type": "markdown",
   "id": "4519a62c",
   "metadata": {},
   "source": [
    "# 常用模型訓練套件\n",
    "- Word2Vec: 支援詞向量模型生成  \n",
    "- OpenAI: 支援翻譯、問答、詩詞生成 與 文字填空  \n",
    "- BERT: 支援語言理解、語音辨識、文字轉語音 與 文字填空"
   ]
  },
  {
   "cell_type": "markdown",
   "id": "d4660295",
   "metadata": {},
   "source": [
    "# 尋找文本相似與相關字"
   ]
  },
  {
   "cell_type": "code",
   "execution_count": 8,
   "id": "fa8b91dc",
   "metadata": {
    "scrolled": true
   },
   "outputs": [
    {
     "name": "stderr",
     "output_type": "stream",
     "text": [
      "[nltk_data] Downloading package gutenberg to\n",
      "[nltk_data]     C:\\Users\\Student\\AppData\\Roaming\\nltk_data...\n",
      "[nltk_data]   Package gutenberg is already up-to-date!\n",
      "[nltk_data] Downloading package genesis to\n",
      "[nltk_data]     C:\\Users\\Student\\AppData\\Roaming\\nltk_data...\n",
      "[nltk_data]   Package genesis is already up-to-date!\n",
      "[nltk_data] Downloading package inaugural to\n",
      "[nltk_data]     C:\\Users\\Student\\AppData\\Roaming\\nltk_data...\n",
      "[nltk_data]   Package inaugural is already up-to-date!\n",
      "[nltk_data] Downloading collection 'book'\n",
      "[nltk_data]    | \n",
      "[nltk_data]    | Downloading package abc to\n",
      "[nltk_data]    |     C:\\Users\\Student\\AppData\\Roaming\\nltk_data...\n",
      "[nltk_data]    |   Unzipping corpora\\abc.zip.\n",
      "[nltk_data]    | Downloading package brown to\n",
      "[nltk_data]    |     C:\\Users\\Student\\AppData\\Roaming\\nltk_data...\n",
      "[nltk_data]    |   Unzipping corpora\\brown.zip.\n",
      "[nltk_data]    | Downloading package chat80 to\n",
      "[nltk_data]    |     C:\\Users\\Student\\AppData\\Roaming\\nltk_data...\n",
      "[nltk_data]    |   Unzipping corpora\\chat80.zip.\n",
      "[nltk_data]    | Downloading package cmudict to\n",
      "[nltk_data]    |     C:\\Users\\Student\\AppData\\Roaming\\nltk_data...\n",
      "[nltk_data]    |   Unzipping corpora\\cmudict.zip.\n",
      "[nltk_data]    | Downloading package conll2000 to\n",
      "[nltk_data]    |     C:\\Users\\Student\\AppData\\Roaming\\nltk_data...\n",
      "[nltk_data]    |   Unzipping corpora\\conll2000.zip.\n",
      "[nltk_data]    | Downloading package conll2002 to\n",
      "[nltk_data]    |     C:\\Users\\Student\\AppData\\Roaming\\nltk_data...\n",
      "[nltk_data]    |   Unzipping corpora\\conll2002.zip.\n",
      "[nltk_data]    | Downloading package dependency_treebank to\n",
      "[nltk_data]    |     C:\\Users\\Student\\AppData\\Roaming\\nltk_data...\n",
      "[nltk_data]    |   Unzipping corpora\\dependency_treebank.zip.\n",
      "[nltk_data]    | Downloading package genesis to\n",
      "[nltk_data]    |     C:\\Users\\Student\\AppData\\Roaming\\nltk_data...\n",
      "[nltk_data]    |   Package genesis is already up-to-date!\n",
      "[nltk_data]    | Downloading package gutenberg to\n",
      "[nltk_data]    |     C:\\Users\\Student\\AppData\\Roaming\\nltk_data...\n",
      "[nltk_data]    |   Package gutenberg is already up-to-date!\n",
      "[nltk_data]    | Downloading package ieer to\n",
      "[nltk_data]    |     C:\\Users\\Student\\AppData\\Roaming\\nltk_data...\n",
      "[nltk_data]    |   Unzipping corpora\\ieer.zip.\n",
      "[nltk_data]    | Downloading package inaugural to\n",
      "[nltk_data]    |     C:\\Users\\Student\\AppData\\Roaming\\nltk_data...\n",
      "[nltk_data]    |   Package inaugural is already up-to-date!\n",
      "[nltk_data]    | Downloading package movie_reviews to\n",
      "[nltk_data]    |     C:\\Users\\Student\\AppData\\Roaming\\nltk_data...\n",
      "[nltk_data]    |   Unzipping corpora\\movie_reviews.zip.\n",
      "[nltk_data]    | Downloading package nps_chat to\n",
      "[nltk_data]    |     C:\\Users\\Student\\AppData\\Roaming\\nltk_data...\n",
      "[nltk_data]    |   Unzipping corpora\\nps_chat.zip.\n",
      "[nltk_data]    | Downloading package names to\n",
      "[nltk_data]    |     C:\\Users\\Student\\AppData\\Roaming\\nltk_data...\n",
      "[nltk_data]    |   Unzipping corpora\\names.zip.\n",
      "[nltk_data]    | Downloading package ppattach to\n",
      "[nltk_data]    |     C:\\Users\\Student\\AppData\\Roaming\\nltk_data...\n",
      "[nltk_data]    |   Unzipping corpora\\ppattach.zip.\n",
      "[nltk_data]    | Downloading package reuters to\n",
      "[nltk_data]    |     C:\\Users\\Student\\AppData\\Roaming\\nltk_data...\n",
      "[nltk_data]    | Downloading package senseval to\n",
      "[nltk_data]    |     C:\\Users\\Student\\AppData\\Roaming\\nltk_data...\n",
      "[nltk_data]    |   Unzipping corpora\\senseval.zip.\n",
      "[nltk_data]    | Downloading package state_union to\n",
      "[nltk_data]    |     C:\\Users\\Student\\AppData\\Roaming\\nltk_data...\n",
      "[nltk_data]    |   Unzipping corpora\\state_union.zip.\n",
      "[nltk_data]    | Downloading package stopwords to\n",
      "[nltk_data]    |     C:\\Users\\Student\\AppData\\Roaming\\nltk_data...\n",
      "[nltk_data]    |   Package stopwords is already up-to-date!\n",
      "[nltk_data]    | Downloading package swadesh to\n",
      "[nltk_data]    |     C:\\Users\\Student\\AppData\\Roaming\\nltk_data...\n",
      "[nltk_data]    |   Unzipping corpora\\swadesh.zip.\n",
      "[nltk_data]    | Downloading package timit to\n",
      "[nltk_data]    |     C:\\Users\\Student\\AppData\\Roaming\\nltk_data...\n",
      "[nltk_data]    |   Unzipping corpora\\timit.zip.\n",
      "[nltk_data]    | Downloading package treebank to\n",
      "[nltk_data]    |     C:\\Users\\Student\\AppData\\Roaming\\nltk_data...\n",
      "[nltk_data]    |   Unzipping corpora\\treebank.zip.\n",
      "[nltk_data]    | Downloading package toolbox to\n",
      "[nltk_data]    |     C:\\Users\\Student\\AppData\\Roaming\\nltk_data...\n",
      "[nltk_data]    |   Unzipping corpora\\toolbox.zip.\n",
      "[nltk_data]    | Downloading package udhr to\n",
      "[nltk_data]    |     C:\\Users\\Student\\AppData\\Roaming\\nltk_data...\n",
      "[nltk_data]    |   Unzipping corpora\\udhr.zip.\n",
      "[nltk_data]    | Downloading package udhr2 to\n",
      "[nltk_data]    |     C:\\Users\\Student\\AppData\\Roaming\\nltk_data...\n",
      "[nltk_data]    |   Unzipping corpora\\udhr2.zip.\n",
      "[nltk_data]    | Downloading package unicode_samples to\n",
      "[nltk_data]    |     C:\\Users\\Student\\AppData\\Roaming\\nltk_data...\n",
      "[nltk_data]    |   Unzipping corpora\\unicode_samples.zip.\n",
      "[nltk_data]    | Downloading package webtext to\n",
      "[nltk_data]    |     C:\\Users\\Student\\AppData\\Roaming\\nltk_data...\n",
      "[nltk_data]    |   Unzipping corpora\\webtext.zip.\n",
      "[nltk_data]    | Downloading package wordnet to\n",
      "[nltk_data]    |     C:\\Users\\Student\\AppData\\Roaming\\nltk_data...\n",
      "[nltk_data]    |   Package wordnet is already up-to-date!\n",
      "[nltk_data]    | Downloading package wordnet_ic to\n",
      "[nltk_data]    |     C:\\Users\\Student\\AppData\\Roaming\\nltk_data...\n",
      "[nltk_data]    |   Unzipping corpora\\wordnet_ic.zip.\n",
      "[nltk_data]    | Downloading package words to\n",
      "[nltk_data]    |     C:\\Users\\Student\\AppData\\Roaming\\nltk_data...\n",
      "[nltk_data]    |   Unzipping corpora\\words.zip.\n",
      "[nltk_data]    | Downloading package maxent_treebank_pos_tagger to\n",
      "[nltk_data]    |     C:\\Users\\Student\\AppData\\Roaming\\nltk_data...\n",
      "[nltk_data]    |   Unzipping taggers\\maxent_treebank_pos_tagger.zip.\n",
      "[nltk_data]    | Downloading package maxent_ne_chunker to\n",
      "[nltk_data]    |     C:\\Users\\Student\\AppData\\Roaming\\nltk_data...\n",
      "[nltk_data]    |   Unzipping chunkers\\maxent_ne_chunker.zip.\n",
      "[nltk_data]    | Downloading package universal_tagset to\n",
      "[nltk_data]    |     C:\\Users\\Student\\AppData\\Roaming\\nltk_data...\n",
      "[nltk_data]    |   Unzipping taggers\\universal_tagset.zip.\n",
      "[nltk_data]    | Downloading package punkt to\n",
      "[nltk_data]    |     C:\\Users\\Student\\AppData\\Roaming\\nltk_data...\n",
      "[nltk_data]    |   Package punkt is already up-to-date!\n",
      "[nltk_data]    | Downloading package book_grammars to\n",
      "[nltk_data]    |     C:\\Users\\Student\\AppData\\Roaming\\nltk_data...\n",
      "[nltk_data]    |   Unzipping grammars\\book_grammars.zip.\n",
      "[nltk_data]    | Downloading package city_database to\n",
      "[nltk_data]    |     C:\\Users\\Student\\AppData\\Roaming\\nltk_data...\n",
      "[nltk_data]    |   Unzipping corpora\\city_database.zip.\n",
      "[nltk_data]    | Downloading package tagsets to\n",
      "[nltk_data]    |     C:\\Users\\Student\\AppData\\Roaming\\nltk_data...\n",
      "[nltk_data]    |   Unzipping help\\tagsets.zip.\n",
      "[nltk_data]    | Downloading package panlex_swadesh to\n",
      "[nltk_data]    |     C:\\Users\\Student\\AppData\\Roaming\\nltk_data...\n",
      "[nltk_data]    | Downloading package averaged_perceptron_tagger to\n",
      "[nltk_data]    |     C:\\Users\\Student\\AppData\\Roaming\\nltk_data...\n",
      "[nltk_data]    |   Package averaged_perceptron_tagger is already up-\n",
      "[nltk_data]    |       to-date!\n",
      "[nltk_data]    | \n",
      "[nltk_data]  Done downloading collection book\n"
     ]
    },
    {
     "name": "stdout",
     "output_type": "stream",
     "text": [
      "*** Introductory Examples for the NLTK Book ***\n",
      "Loading text1, ..., text9 and sent1, ..., sent9\n",
      "Type the name of the text or sentence to view it.\n",
      "Type: 'texts()' or 'sents()' to list the materials.\n",
      "text1: Moby Dick by Herman Melville 1851\n",
      "text2: Sense and Sensibility by Jane Austen 1811\n",
      "text3: The Book of Genesis\n",
      "text4: Inaugural Address Corpus\n",
      "text5: Chat Corpus\n",
      "text6: Monty Python and the Holy Grail\n",
      "text7: Wall Street Journal\n",
      "text8: Personals Corpus\n",
      "text9: The Man Who Was Thursday by G . K . Chesterton 1908\n"
     ]
    }
   ],
   "source": [
    "import nltk\n",
    "# nltk.download('gutenberg')\n",
    "# nltk.download('genesis')\n",
    "# nltk.download('inaugural')\n",
    "nltk.download(\"book\")\n",
    "from nltk.book import *"
   ]
  },
  {
   "cell_type": "code",
   "execution_count": 9,
   "id": "a3fade2b",
   "metadata": {
    "scrolled": true
   },
   "outputs": [
    {
     "name": "stdout",
     "output_type": "stream",
     "text": [
      "Displaying 25 of 38 matches:\n",
      "ay when they were created . And Adam lived an hundred and thirty years , and be\n",
      "ughters : And all the days that Adam lived were nine hundred and thirty yea and\n",
      "nd thirty yea and he died . And Seth lived an hundred and five years , and bega\n",
      "ve years , and begat Enos : And Seth lived after he begat Enos eight hundred an\n",
      "welve years : and he died . And Enos lived ninety years , and begat Cainan : An\n",
      " years , and begat Cainan : And Enos lived after he begat Cainan eight hundred \n",
      "ive years : and he died . And Cainan lived seventy years and begat Mahalaleel :\n",
      "rs and begat Mahalaleel : And Cainan lived after he begat Mahalaleel eight hund\n",
      "years : and he died . And Mahalaleel lived sixty and five years , and begat Jar\n",
      "s , and begat Jared : And Mahalaleel lived after he begat Jared eight hundred a\n",
      "and five yea and he died . And Jared lived an hundred sixty and two years , and\n",
      "o years , and he begat Eno And Jared lived after he begat Enoch eight hundred y\n",
      " and two yea and he died . And Enoch lived sixty and five years , and begat Met\n",
      " ; for God took him . And Methuselah lived an hundred eighty and seven years , \n",
      " , and begat Lamech . And Methuselah lived after he begat Lamech seven hundred \n",
      "nd nine yea and he died . And Lamech lived an hundred eighty and two years , an\n",
      "ch the LORD hath cursed . And Lamech lived after he begat Noah five hundred nin\n",
      "naan shall be his servant . And Noah lived after the flood three hundred and fi\n",
      "xad two years after the flo And Shem lived after he begat Arphaxad five hundred\n",
      "at sons and daughters . And Arphaxad lived five and thirty years , and begat Sa\n",
      "ars , and begat Salah : And Arphaxad lived after he begat Salah four hundred an\n",
      "begat sons and daughters . And Salah lived thirty years , and begat Eber : And \n",
      "y years , and begat Eber : And Salah lived after he begat Eber four hundred and\n",
      " begat sons and daughters . And Eber lived four and thirty years , and begat Pe\n",
      "y years , and begat Peleg : And Eber lived after he begat Peleg four hundred an\n",
      "Displaying 25 of 38 matches:\n",
      "ay when they were created . And Adam lived an hundred and thirty years , and be\n",
      "ughters : And all the days that Adam lived were nine hundred and thirty yea and\n",
      "nd thirty yea and he died . And Seth lived an hundred and five years , and bega\n",
      "ve years , and begat Enos : And Seth lived after he begat Enos eight hundred an\n",
      "welve years : and he died . And Enos lived ninety years , and begat Cainan : An\n",
      " years , and begat Cainan : And Enos lived after he begat Cainan eight hundred \n",
      "ive years : and he died . And Cainan lived seventy years and begat Mahalaleel :\n",
      "rs and begat Mahalaleel : And Cainan lived after he begat Mahalaleel eight hund\n",
      "years : and he died . And Mahalaleel lived sixty and five years , and begat Jar\n",
      "s , and begat Jared : And Mahalaleel lived after he begat Jared eight hundred a\n",
      "and five yea and he died . And Jared lived an hundred sixty and two years , and\n",
      "o years , and he begat Eno And Jared lived after he begat Enoch eight hundred y\n",
      " and two yea and he died . And Enoch lived sixty and five years , and begat Met\n",
      " ; for God took him . And Methuselah lived an hundred eighty and seven years , \n",
      " , and begat Lamech . And Methuselah lived after he begat Lamech seven hundred \n",
      "nd nine yea and he died . And Lamech lived an hundred eighty and two years , an\n",
      "ch the LORD hath cursed . And Lamech lived after he begat Noah five hundred nin\n",
      "naan shall be his servant . And Noah lived after the flood three hundred and fi\n",
      "xad two years after the flo And Shem lived after he begat Arphaxad five hundred\n",
      "at sons and daughters . And Arphaxad lived five and thirty years , and begat Sa\n",
      "ars , and begat Salah : And Arphaxad lived after he begat Salah four hundred an\n",
      "begat sons and daughters . And Salah lived thirty years , and begat Eber : And \n",
      "y years , and begat Eber : And Salah lived after he begat Eber four hundred and\n",
      " begat sons and daughters . And Eber lived four and thirty years , and begat Pe\n",
      "y years , and begat Peleg : And Eber lived after he begat Peleg four hundred an\n"
     ]
    }
   ],
   "source": [
    "# 尋找 包含 lived 的語句 (大小寫一視同仁)\n",
    "text3.concordance(\"lived\")\n",
    "text3.concordance(\"LIVEd\")"
   ]
  },
  {
   "cell_type": "code",
   "execution_count": 10,
   "id": "e287ec2d",
   "metadata": {},
   "outputs": [
    {
     "name": "stdout",
     "output_type": "stream",
     "text": [
      "true contemptible christian abundant few part mean careful puzzled\n",
      "mystifying passing curious loving wise doleful gamesome singular\n",
      "delightfully perilous fearless\n"
     ]
    }
   ],
   "source": [
    "# 尋找相似詞\n",
    "text1.similar('monstrous')"
   ]
  },
  {
   "cell_type": "code",
   "execution_count": 13,
   "id": "1c1ebff5",
   "metadata": {},
   "outputs": [
    {
     "name": "stdout",
     "output_type": "stream",
     "text": [
      "most_and\n"
     ]
    }
   ],
   "source": [
    "# 尋找這兩個詞前後最常出現的單字\n",
    "text1.common_contexts(['monstrous','abundant'])"
   ]
  },
  {
   "cell_type": "code",
   "execution_count": 14,
   "id": "98936ec6",
   "metadata": {},
   "outputs": [
    {
     "data": {
      "text/plain": [
       "['!',\n",
       " '\"',\n",
       " '\";',\n",
       " '\"?',\n",
       " '$',\n",
       " \"'\",\n",
       " '(',\n",
       " ')',\n",
       " '),',\n",
       " ',',\n",
       " ',\"',\n",
       " '-',\n",
       " '--',\n",
       " '.',\n",
       " '.\"',\n",
       " '.)',\n",
       " '...',\n",
       " '....',\n",
       " '.]',\n",
       " '.¡¨',\n",
       " '/',\n",
       " '000',\n",
       " '1',\n",
       " '100',\n",
       " '108',\n",
       " '11',\n",
       " '120',\n",
       " '125',\n",
       " '13',\n",
       " '14th',\n",
       " '15th',\n",
       " '16',\n",
       " '1774',\n",
       " '1776',\n",
       " '1778',\n",
       " '1780',\n",
       " '1787',\n",
       " '1789',\n",
       " '1790',\n",
       " '1800',\n",
       " '1801',\n",
       " '1812',\n",
       " '1815',\n",
       " '1816',\n",
       " '1817',\n",
       " '1818',\n",
       " '1826',\n",
       " '1850',\n",
       " '1861',\n",
       " '1863',\n",
       " '1868',\n",
       " '1873',\n",
       " '1880',\n",
       " '1886',\n",
       " '1890',\n",
       " '1893',\n",
       " '1896',\n",
       " '1897',\n",
       " '1898',\n",
       " '1899',\n",
       " '18th',\n",
       " '1907',\n",
       " '1917',\n",
       " '1933',\n",
       " '1941',\n",
       " '1945',\n",
       " '1963',\n",
       " '1972',\n",
       " '1980',\n",
       " '1984',\n",
       " '19th',\n",
       " '2',\n",
       " '20',\n",
       " '200',\n",
       " '200th',\n",
       " '2017',\n",
       " '20th',\n",
       " '21st',\n",
       " '225',\n",
       " '25',\n",
       " '3',\n",
       " '30',\n",
       " '30th',\n",
       " '3d',\n",
       " '4',\n",
       " '40',\n",
       " '400',\n",
       " '41',\n",
       " '48',\n",
       " '4th',\n",
       " '5',\n",
       " '50',\n",
       " '50th',\n",
       " '6',\n",
       " '60',\n",
       " '67',\n",
       " '6th',\n",
       " '7',\n",
       " '8',\n",
       " '9',\n",
       " ':',\n",
       " ';',\n",
       " '?',\n",
       " '?\"',\n",
       " 'A',\n",
       " 'AIDS',\n",
       " 'ALL',\n",
       " 'AMENDMENT',\n",
       " 'AS',\n",
       " 'Abandonment',\n",
       " 'Abhorring',\n",
       " 'About',\n",
       " 'Above',\n",
       " 'Abraham',\n",
       " 'Abroad',\n",
       " 'Accept',\n",
       " 'Across',\n",
       " 'Act',\n",
       " 'Acting',\n",
       " 'Action',\n",
       " 'Actual',\n",
       " 'Adams',\n",
       " 'Additional',\n",
       " 'Address',\n",
       " 'Administered',\n",
       " 'Administration',\n",
       " 'Administrations',\n",
       " 'Advance',\n",
       " 'Advancing',\n",
       " 'Afghanistan',\n",
       " 'Africa',\n",
       " 'African',\n",
       " 'After',\n",
       " 'Again',\n",
       " 'Age',\n",
       " 'Agriculture',\n",
       " 'Alamo',\n",
       " 'All',\n",
       " 'Alleghanies',\n",
       " 'Almighty',\n",
       " 'Almost',\n",
       " 'Along',\n",
       " 'Already',\n",
       " 'Although',\n",
       " 'Always',\n",
       " 'Amelia',\n",
       " 'Amen',\n",
       " 'America',\n",
       " 'American',\n",
       " 'Americanism',\n",
       " 'Americans',\n",
       " 'Americansâ',\n",
       " 'Americanâ',\n",
       " 'Americas',\n",
       " 'Americaâ',\n",
       " 'Amid',\n",
       " 'Amidst',\n",
       " 'Among',\n",
       " 'Amongst',\n",
       " 'An',\n",
       " 'And',\n",
       " 'Andes',\n",
       " 'Annihilate',\n",
       " 'Another',\n",
       " 'Anthem',\n",
       " 'Anthony',\n",
       " 'Anxiety',\n",
       " 'Anxious',\n",
       " 'Any',\n",
       " 'Anyone',\n",
       " 'Apollo',\n",
       " 'Appalachia',\n",
       " 'Appreciating',\n",
       " 'Apprehension',\n",
       " 'April',\n",
       " 'Arbitration',\n",
       " 'Archibald',\n",
       " 'Are',\n",
       " 'Argonne',\n",
       " 'Arlington',\n",
       " 'Armies',\n",
       " 'Army',\n",
       " 'Articles',\n",
       " 'As',\n",
       " 'Asia',\n",
       " 'Asiatic',\n",
       " 'Assessing',\n",
       " 'Assistance',\n",
       " 'Association',\n",
       " 'Assuring',\n",
       " 'At',\n",
       " 'Athens',\n",
       " 'Atlantic',\n",
       " 'Attention',\n",
       " 'Augustine',\n",
       " 'Author',\n",
       " 'BUSINESS',\n",
       " 'BY',\n",
       " 'Bad',\n",
       " 'Baker',\n",
       " 'Baltimore',\n",
       " 'Barbary',\n",
       " 'Batavian',\n",
       " 'Beach',\n",
       " 'Because',\n",
       " 'Before',\n",
       " 'Being',\n",
       " 'Belief',\n",
       " 'Believing',\n",
       " 'Bell',\n",
       " 'Belleau',\n",
       " 'Beneath',\n",
       " 'Beneficent',\n",
       " 'Bernardin',\n",
       " 'Besides',\n",
       " 'Between',\n",
       " 'Beyond',\n",
       " 'Bible',\n",
       " 'Bicentennial',\n",
       " 'Biden',\n",
       " 'Bill',\n",
       " 'Black',\n",
       " 'Blessed',\n",
       " 'Board',\n",
       " 'Bolivar',\n",
       " 'Boston',\n",
       " 'Both',\n",
       " 'Britain',\n",
       " 'Britannic',\n",
       " 'British',\n",
       " 'Brown',\n",
       " 'Brutus',\n",
       " 'Budapest',\n",
       " 'Bureau',\n",
       " 'Burger',\n",
       " 'Burma',\n",
       " 'Bush',\n",
       " 'Business',\n",
       " 'But',\n",
       " 'Buy',\n",
       " 'By',\n",
       " 'CONCLUSION',\n",
       " 'CONGRESS',\n",
       " 'COOPERATION',\n",
       " 'CRIMINAL',\n",
       " 'Cabinet',\n",
       " 'Caesar',\n",
       " 'California',\n",
       " 'Called',\n",
       " 'Calmness',\n",
       " 'Calvin',\n",
       " 'Camillus',\n",
       " 'Can',\n",
       " 'Canal',\n",
       " 'Cantons',\n",
       " 'Cape',\n",
       " 'Capital',\n",
       " 'Capitol',\n",
       " 'Cardinal',\n",
       " 'Care',\n",
       " 'Carolina',\n",
       " 'Carter',\n",
       " 'Cemetery',\n",
       " 'Central',\n",
       " 'Century',\n",
       " 'Certain',\n",
       " 'Chairman',\n",
       " 'Chamber',\n",
       " 'Change',\n",
       " 'Charta',\n",
       " 'Charter',\n",
       " 'Cheney',\n",
       " 'Chief',\n",
       " 'China',\n",
       " 'Chop',\n",
       " 'Chosen',\n",
       " 'Chosin',\n",
       " 'Christian',\n",
       " 'Christianity',\n",
       " 'Christians',\n",
       " 'Christmas',\n",
       " 'Christs',\n",
       " 'Church',\n",
       " 'Churchill',\n",
       " 'Cincinnati',\n",
       " 'Citizens',\n",
       " 'Civil',\n",
       " 'Civility',\n",
       " 'Claiming',\n",
       " 'Clay',\n",
       " 'Clearly',\n",
       " 'Clergy',\n",
       " 'Clinton',\n",
       " 'Closely',\n",
       " 'Coast',\n",
       " 'Code',\n",
       " 'Cold',\n",
       " 'Coleman',\n",
       " 'Colonel',\n",
       " 'Columbia',\n",
       " 'Comfort',\n",
       " 'Commander',\n",
       " 'Commendable',\n",
       " 'Commerce',\n",
       " 'Commission',\n",
       " 'Commissioners',\n",
       " 'Common',\n",
       " 'Commons',\n",
       " 'Commonwealth',\n",
       " 'Communications',\n",
       " 'Communism',\n",
       " 'Communist',\n",
       " 'Communists',\n",
       " 'Compact',\n",
       " 'Compared',\n",
       " 'Conceived',\n",
       " 'Conceiving',\n",
       " 'Concord',\n",
       " 'Conditions',\n",
       " 'Confederacy',\n",
       " 'Confederation',\n",
       " 'Confidence',\n",
       " 'Confident',\n",
       " 'Confidently',\n",
       " 'Confusion',\n",
       " 'Congress',\n",
       " 'Congressional',\n",
       " 'Congressman',\n",
       " 'Connected',\n",
       " 'Conscious',\n",
       " 'Considering',\n",
       " 'Constantly',\n",
       " 'Constitution',\n",
       " 'Constitutional',\n",
       " 'Contemplating',\n",
       " 'Content',\n",
       " 'Continue',\n",
       " 'Convention',\n",
       " 'Convinced',\n",
       " 'Cook',\n",
       " 'Coolidge',\n",
       " 'Corporations',\n",
       " 'Cortes',\n",
       " 'Country',\n",
       " 'Countrymen',\n",
       " 'Courage',\n",
       " 'Court',\n",
       " 'Covenant',\n",
       " 'Creator',\n",
       " 'Crime',\n",
       " 'Croix',\n",
       " 'Cromwell',\n",
       " 'Cuba',\n",
       " 'Cuban',\n",
       " 'Cubans',\n",
       " 'Cures',\n",
       " 'Curtii',\n",
       " 'DC',\n",
       " 'Dakota',\n",
       " 'Dakotas',\n",
       " 'Dangers',\n",
       " 'Dark',\n",
       " 'David',\n",
       " 'Day',\n",
       " 'December',\n",
       " 'Decii',\n",
       " 'Declaration',\n",
       " 'Deeply',\n",
       " 'Delano',\n",
       " 'Democracy',\n",
       " 'Democratic',\n",
       " 'Democrats',\n",
       " 'Department',\n",
       " 'Departments',\n",
       " 'Depression',\n",
       " 'Descending',\n",
       " 'Destructive',\n",
       " 'Detroit',\n",
       " 'Did',\n",
       " 'Difficult',\n",
       " 'Dingley',\n",
       " 'Directly',\n",
       " 'Dirksen',\n",
       " 'Disagreement',\n",
       " 'Discord',\n",
       " 'Discouraging',\n",
       " 'Disease',\n",
       " 'Distinct',\n",
       " 'District',\n",
       " 'Distrust',\n",
       " 'Divided',\n",
       " 'Divine',\n",
       " 'Division',\n",
       " 'Do',\n",
       " 'Does',\n",
       " 'Doing',\n",
       " 'Dole',\n",
       " 'Domestic',\n",
       " 'Domingo',\n",
       " 'Don',\n",
       " 'Dr',\n",
       " 'Dream',\n",
       " 'Due',\n",
       " 'Dulled',\n",
       " 'During',\n",
       " 'EDUCATION',\n",
       " 'EIGHTEENTH',\n",
       " 'ELECTION',\n",
       " 'ENFORCEMENT',\n",
       " 'Each',\n",
       " 'Earth',\n",
       " 'East',\n",
       " 'Economic',\n",
       " 'Economy',\n",
       " 'Egypt',\n",
       " 'Eight',\n",
       " 'Eisenhower',\n",
       " 'Elected',\n",
       " 'Emancipation',\n",
       " 'Emerson',\n",
       " 'Emperor',\n",
       " 'Employed',\n",
       " 'Encountering',\n",
       " 'Encouraging',\n",
       " 'Ending',\n",
       " 'Endowed',\n",
       " 'Engineers',\n",
       " 'England',\n",
       " 'English',\n",
       " 'Enough',\n",
       " 'Entering',\n",
       " 'Enterprises',\n",
       " 'Envy',\n",
       " 'Equal',\n",
       " 'Equality',\n",
       " 'Equally',\n",
       " 'Especially',\n",
       " 'Establishment',\n",
       " 'Europe',\n",
       " 'European',\n",
       " 'Eve',\n",
       " 'Even',\n",
       " 'Events',\n",
       " 'Eventually',\n",
       " 'Ever',\n",
       " 'Every',\n",
       " 'Everyone',\n",
       " 'Everywhere',\n",
       " 'Executive',\n",
       " 'Existing',\n",
       " 'Expenditure',\n",
       " 'Experience',\n",
       " 'Experiencing',\n",
       " 'FAILURE',\n",
       " 'FROM',\n",
       " 'Faced',\n",
       " 'Falls',\n",
       " 'Far',\n",
       " 'Farewell',\n",
       " 'Father',\n",
       " 'Fathers',\n",
       " 'February',\n",
       " 'Federal',\n",
       " 'Federalists',\n",
       " 'Fellow',\n",
       " 'Few',\n",
       " 'Fifty',\n",
       " 'Finally',\n",
       " 'First',\n",
       " 'Florida',\n",
       " 'Floridas',\n",
       " 'Folks',\n",
       " 'Following',\n",
       " 'Fondly',\n",
       " 'For',\n",
       " 'Force',\n",
       " 'Forces',\n",
       " 'Foreign',\n",
       " 'Forge',\n",
       " 'Fort',\n",
       " 'Fortunate',\n",
       " 'Fortunately',\n",
       " 'Forty',\n",
       " 'Founders',\n",
       " 'Founding',\n",
       " 'Fountain',\n",
       " 'Four',\n",
       " 'Fourth',\n",
       " 'France',\n",
       " 'Franklin',\n",
       " 'Freed',\n",
       " 'Freedom',\n",
       " 'French',\n",
       " 'Friends',\n",
       " 'From',\n",
       " 'Front',\n",
       " 'Fruitful',\n",
       " 'Fully',\n",
       " 'G',\n",
       " 'GOVERNMENT',\n",
       " 'Gatun',\n",
       " 'Gaul',\n",
       " 'General',\n",
       " 'Genius',\n",
       " 'George',\n",
       " 'Germany',\n",
       " 'Gettysburg',\n",
       " 'Ghent',\n",
       " 'Gillis',\n",
       " 'Give',\n",
       " 'Giver',\n",
       " 'God',\n",
       " 'Godsend',\n",
       " 'Goethals',\n",
       " 'Golden',\n",
       " 'Good',\n",
       " 'Gore',\n",
       " 'Government',\n",
       " 'Governments',\n",
       " 'Grant',\n",
       " 'Grave',\n",
       " 'Great',\n",
       " 'Greater',\n",
       " 'Greatness',\n",
       " 'Greece',\n",
       " 'Gross',\n",
       " 'Growing',\n",
       " 'Guadalcanal',\n",
       " 'Guarantees',\n",
       " 'Guided',\n",
       " 'Gulf',\n",
       " 'HEALTH',\n",
       " 'Had',\n",
       " 'Hague',\n",
       " 'Half',\n",
       " 'Hall',\n",
       " 'Hand',\n",
       " 'Happily',\n",
       " 'Happiness',\n",
       " 'Happy',\n",
       " 'Hard',\n",
       " 'Harris',\n",
       " 'Has',\n",
       " 'Hatfield',\n",
       " 'Have',\n",
       " 'Having',\n",
       " 'He',\n",
       " 'Heads',\n",
       " 'Hear',\n",
       " 'Heaven',\n",
       " 'Heavenly',\n",
       " 'Help',\n",
       " 'Helvetic',\n",
       " 'Hemisphere',\n",
       " 'Hence',\n",
       " 'Here',\n",
       " 'Herein',\n",
       " 'High',\n",
       " 'Higher',\n",
       " 'Hill',\n",
       " 'Him',\n",
       " 'Hindus',\n",
       " 'His',\n",
       " 'History',\n",
       " 'Hitherto',\n",
       " 'Holy',\n",
       " 'Homes',\n",
       " 'Homestead',\n",
       " 'Honesty',\n",
       " 'Honorable',\n",
       " 'Honored',\n",
       " 'Honoring',\n",
       " 'Hope',\n",
       " 'Horn',\n",
       " 'House',\n",
       " 'Houses',\n",
       " 'How',\n",
       " 'However',\n",
       " 'Human',\n",
       " 'Humanity',\n",
       " 'Humphrey',\n",
       " 'Hundreds',\n",
       " 'I',\n",
       " 'II',\n",
       " 'INVESTIGATION',\n",
       " 'Idle',\n",
       " 'If',\n",
       " 'Ill',\n",
       " 'Illiteracy',\n",
       " 'Immunity',\n",
       " 'In',\n",
       " 'Inaugural',\n",
       " 'Inauguration',\n",
       " 'Inconsiderable',\n",
       " 'Indeed',\n",
       " 'Independence',\n",
       " 'Independently',\n",
       " 'Indian',\n",
       " 'Indians',\n",
       " 'Indies',\n",
       " 'Indo',\n",
       " 'Indulging',\n",
       " 'Industrial',\n",
       " 'Industry',\n",
       " 'Infinite',\n",
       " 'Information',\n",
       " 'Instead',\n",
       " 'Instinctively',\n",
       " 'Intelligence',\n",
       " 'Intentions',\n",
       " 'Internal',\n",
       " 'International',\n",
       " 'Internet',\n",
       " 'Interstate',\n",
       " 'Intrusted',\n",
       " 'Invasions',\n",
       " 'Investment',\n",
       " 'Invisible',\n",
       " 'Iowa',\n",
       " 'Iraq',\n",
       " 'Irritated',\n",
       " 'Is',\n",
       " 'Isaiah',\n",
       " 'Islamic',\n",
       " 'Island',\n",
       " 'Islands',\n",
       " 'Isles',\n",
       " 'Israel',\n",
       " 'Isthmus',\n",
       " 'It',\n",
       " 'Italy',\n",
       " 'Its',\n",
       " 'Iwo',\n",
       " 'JUSTICE',\n",
       " 'Janeiro',\n",
       " 'January',\n",
       " 'Jealous',\n",
       " 'Jefferson',\n",
       " 'Jericho',\n",
       " 'Jews',\n",
       " 'Jima',\n",
       " 'John',\n",
       " 'Johnson',\n",
       " 'Joseph',\n",
       " 'Julia',\n",
       " 'July',\n",
       " 'Just',\n",
       " 'Justice',\n",
       " 'K',\n",
       " 'Kamala',\n",
       " 'Kansas',\n",
       " 'Khe',\n",
       " 'Kindly',\n",
       " 'King',\n",
       " 'Knowing',\n",
       " 'Koran',\n",
       " 'Korea',\n",
       " 'Labor',\n",
       " 'Laboring',\n",
       " 'Lady',\n",
       " 'Lakes',\n",
       " 'Latent',\n",
       " 'Laws',\n",
       " 'Leader',\n",
       " 'League',\n",
       " 'Legislation',\n",
       " 'Legislature',\n",
       " 'Legitimate',\n",
       " 'Less',\n",
       " 'Let',\n",
       " 'Liberty',\n",
       " 'Like',\n",
       " 'Likewise',\n",
       " 'Limited',\n",
       " 'Lincoln',\n",
       " 'Lives',\n",
       " 'Loans',\n",
       " 'Local',\n",
       " 'Long',\n",
       " 'Look',\n",
       " 'Looking',\n",
       " 'Lord',\n",
       " 'Louisiana',\n",
       " 'Love',\n",
       " 'Loyalty',\n",
       " 'Luther',\n",
       " 'Lynchings',\n",
       " 'MANDATES',\n",
       " 'MY',\n",
       " 'MacLeish',\n",
       " 'Madison',\n",
       " 'Magistrate',\n",
       " 'Magna',\n",
       " 'Magnifying',\n",
       " 'Majesty',\n",
       " 'Majority',\n",
       " 'Make',\n",
       " 'Maker',\n",
       " 'Malaya',\n",
       " 'Mall',\n",
       " 'Manifestly',\n",
       " 'Mankind',\n",
       " 'Many',\n",
       " 'March',\n",
       " 'Mars',\n",
       " 'Martin',\n",
       " 'Massachusetts',\n",
       " 'Masses',\n",
       " 'Mathias',\n",
       " 'May',\n",
       " 'Mayflower',\n",
       " 'McConnell',\n",
       " 'Meantime',\n",
       " 'Measures',\n",
       " 'Medicaid',\n",
       " 'Medicare',\n",
       " 'Mediterranean',\n",
       " 'Melancholy',\n",
       " 'Members',\n",
       " 'Memorial',\n",
       " 'Men',\n",
       " 'Mental',\n",
       " 'Mexico',\n",
       " 'Micah',\n",
       " 'Michael',\n",
       " 'Michelle',\n",
       " 'Middle',\n",
       " 'Mill',\n",
       " 'Millions',\n",
       " 'Mind',\n",
       " 'Mindful',\n",
       " 'Minorities',\n",
       " 'Mischievous',\n",
       " 'Misled',\n",
       " 'Miss',\n",
       " 'Mississippi',\n",
       " 'Missouri',\n",
       " 'Mitchell',\n",
       " 'Modern',\n",
       " 'Moment',\n",
       " 'Mondale',\n",
       " 'Monday',\n",
       " 'Monroe',\n",
       " 'Montana',\n",
       " 'Monticello',\n",
       " 'Moomaw',\n",
       " 'Moon',\n",
       " 'Moral',\n",
       " 'More',\n",
       " 'Moreover',\n",
       " 'Mormon',\n",
       " 'Moscow',\n",
       " 'Most',\n",
       " 'Mothers',\n",
       " 'Mount',\n",
       " 'Mountains',\n",
       " 'Mr',\n",
       " 'Mrs',\n",
       " 'Much',\n",
       " 'Muslim',\n",
       " 'Muslims',\n",
       " 'Must',\n",
       " 'My',\n",
       " 'NATIONAL',\n",
       " 'Nation',\n",
       " 'National',\n",
       " 'Nations',\n",
       " 'Nationâ',\n",
       " 'Nature',\n",
       " 'Naval',\n",
       " 'Navy',\n",
       " 'Nearly',\n",
       " 'Nebraska',\n",
       " 'Negligence',\n",
       " 'Negro',\n",
       " 'Negroes',\n",
       " 'Neill',\n",
       " 'Neither',\n",
       " 'Never',\n",
       " 'New',\n",
       " 'Newtown',\n",
       " 'Next',\n",
       " 'Nixon',\n",
       " 'No',\n",
       " 'None',\n",
       " 'Nor',\n",
       " 'Normandy',\n",
       " 'North',\n",
       " 'Northerners',\n",
       " 'Not',\n",
       " 'Nothing',\n",
       " 'Notwithstanding',\n",
       " 'November',\n",
       " 'Now',\n",
       " 'Nowhere',\n",
       " 'O',\n",
       " 'OF',\n",
       " 'OTHER',\n",
       " 'OUR',\n",
       " 'Obama',\n",
       " 'Occasionally',\n",
       " 'Ocean',\n",
       " 'Oceans',\n",
       " 'Octavius',\n",
       " 'October',\n",
       " 'Of',\n",
       " 'Off',\n",
       " 'Offices',\n",
       " 'Ohio',\n",
       " 'Old',\n",
       " 'Omaha',\n",
       " 'Omnipotence',\n",
       " 'On',\n",
       " 'Once',\n",
       " 'One',\n",
       " 'Only',\n",
       " 'Opportunism',\n",
       " 'Opportunity',\n",
       " 'Or',\n",
       " 'Order',\n",
       " 'Oregon',\n",
       " 'Orient',\n",
       " 'Orleans',\n",
       " 'Other',\n",
       " 'Others',\n",
       " 'Our',\n",
       " 'Ours',\n",
       " 'Out',\n",
       " 'Over',\n",
       " 'Overlooking',\n",
       " 'Overwhelmingly',\n",
       " 'PARTY',\n",
       " 'PEACE',\n",
       " 'PROGRESS',\n",
       " 'PUBLIC',\n",
       " 'Pacific',\n",
       " 'Page',\n",
       " 'Panama',\n",
       " 'Parchment',\n",
       " 'Parent',\n",
       " 'Parents',\n",
       " 'Paris',\n",
       " 'Parliament',\n",
       " 'Partial',\n",
       " 'Party',\n",
       " 'Passing',\n",
       " 'Passion',\n",
       " 'Patriotism',\n",
       " 'Patron',\n",
       " 'Peabody',\n",
       " 'Peace',\n",
       " 'Peking',\n",
       " 'Pelosi',\n",
       " 'Pence',\n",
       " 'Penetrating',\n",
       " 'Pennsylvania',\n",
       " 'People',\n",
       " 'Peoples',\n",
       " 'Perceiving',\n",
       " 'Perfection',\n",
       " 'Perhaps',\n",
       " 'Permanent',\n",
       " 'Perpetual',\n",
       " 'Perpetuity',\n",
       " 'Persian',\n",
       " 'Persistent',\n",
       " 'Personally',\n",
       " 'Petitions',\n",
       " 'Philadelphia',\n",
       " 'Philippine',\n",
       " 'Philippines',\n",
       " 'Physically',\n",
       " 'Plainly',\n",
       " 'Pledge',\n",
       " 'Plenty',\n",
       " 'Political',\n",
       " 'Politicians',\n",
       " 'Politics',\n",
       " 'Pool',\n",
       " 'Pork',\n",
       " 'Porto',\n",
       " 'Ports',\n",
       " 'Position',\n",
       " 'Possessing',\n",
       " 'Posterity',\n",
       " 'Potomac',\n",
       " 'Power',\n",
       " 'Powerful',\n",
       " 'Powers',\n",
       " 'Practices',\n",
       " 'Preeminently',\n",
       " 'Prejudice',\n",
       " 'Present',\n",
       " 'Presidency',\n",
       " 'President',\n",
       " 'Presidential',\n",
       " 'Presidents',\n",
       " 'Previous',\n",
       " 'Price',\n",
       " 'Prices',\n",
       " 'Primarily',\n",
       " 'Problems',\n",
       " 'Proceeding',\n",
       " 'Proclamation',\n",
       " 'Product',\n",
       " 'Profound',\n",
       " 'Progress',\n",
       " 'Proofs',\n",
       " 'Prophets',\n",
       " 'Prosperity',\n",
       " 'Protection',\n",
       " 'Protector',\n",
       " 'Providence',\n",
       " 'Province',\n",
       " 'Public',\n",
       " 'Purposes',\n",
       " 'Putting',\n",
       " 'Quayle',\n",
       " 'RELATION',\n",
       " 'RESPONSIBILITIES',\n",
       " 'Race',\n",
       " 'Rainbow',\n",
       " 'Raised',\n",
       " 'Rather',\n",
       " 'Reagan',\n",
       " 'Realizing',\n",
       " 'Reasoned',\n",
       " 'Recall',\n",
       " 'Recent',\n",
       " 'Recognition',\n",
       " 'Recognizing',\n",
       " 'Reconstruction',\n",
       " 'Red',\n",
       " 'Reflecting',\n",
       " 'Reform',\n",
       " 'Reforms',\n",
       " 'Relief',\n",
       " 'Relying',\n",
       " 'Removing',\n",
       " 'Renewed',\n",
       " 'Repeated',\n",
       " 'Representative',\n",
       " 'Representatives',\n",
       " 'Republic',\n",
       " 'Republican',\n",
       " 'Republicans',\n",
       " 'Republics',\n",
       " 'Reservoir',\n",
       " 'Resolved',\n",
       " 'Respecting',\n",
       " 'Resting',\n",
       " 'Restoration',\n",
       " 'Retrospect',\n",
       " 'Returning',\n",
       " 'Reverend',\n",
       " 'Revolution',\n",
       " 'Revolutionary',\n",
       " 'Rico',\n",
       " 'Rights',\n",
       " 'Rigid',\n",
       " 'Rio',\n",
       " 'River',\n",
       " 'Roberts',\n",
       " 'Rocky',\n",
       " 'Roman',\n",
       " 'Rome',\n",
       " 'Roosevelt',\n",
       " 'Root',\n",
       " 'Rule',\n",
       " 'Ruler',\n",
       " 'Russia',\n",
       " 'SESSION',\n",
       " 'SPECIAL',\n",
       " 'SYSTEM',\n",
       " 'Sabine',\n",
       " 'Sacredly',\n",
       " 'Sahn',\n",
       " 'Saint',\n",
       " 'Salerno',\n",
       " 'Sanitary',\n",
       " 'Santo',\n",
       " 'Savior',\n",
       " 'Scandinavia',\n",
       " 'Schumer',\n",
       " 'Science',\n",
       " 'Scientists',\n",
       " 'Scipios',\n",
       " 'Scripture',\n",
       " 'Scythia',\n",
       " 'Second',\n",
       " 'Secretary',\n",
       " 'Sectionalism',\n",
       " 'Security',\n",
       " 'Seeking',\n",
       " 'Self',\n",
       " 'Selma',\n",
       " 'Senate',\n",
       " 'Senator',\n",
       " 'Senators',\n",
       " 'Seneca',\n",
       " ...]"
      ]
     },
     "execution_count": 14,
     "metadata": {},
     "output_type": "execute_result"
    }
   ],
   "source": [
    "# 尋找有多少不同單字\n",
    "set(text4)\n",
    "sorted(set(text4))"
   ]
  },
  {
   "cell_type": "code",
   "execution_count": 15,
   "id": "37668452",
   "metadata": {},
   "outputs": [
    {
     "data": {
      "text/plain": [
       "0.06556530042314962"
      ]
     },
     "execution_count": 15,
     "metadata": {},
     "output_type": "execute_result"
    }
   ],
   "source": [
    "# 定義詞語重複程度 (i.e.文章多元性)\n",
    "def lexical_diversity(text):\n",
    "    return len(set(text)) / len(text)\n",
    "lexical_diversity(text4)"
   ]
  },
  {
   "cell_type": "code",
   "execution_count": 16,
   "id": "27122410",
   "metadata": {},
   "outputs": [
    {
     "data": {
      "image/png": "[encoded data removed]",
      "text/plain": [
       "<Figure size 432x288 with 1 Axes>"
      ]
     },
     "metadata": {
      "needs_background": "light"
     },
     "output_type": "display_data"
    },
    {
     "data": {
      "image/png": "[encoded data removed]",
      "text/plain": [
       "<Figure size 432x288 with 1 Axes>"
      ]
     },
     "metadata": {
      "needs_background": "light"
     },
     "output_type": "display_data"
    },
    {
     "data": {
      "text/plain": [
       "<AxesSubplot:xlabel='Samples', ylabel='Counts'>"
      ]
     },
     "execution_count": 16,
     "metadata": {},
     "output_type": "execute_result"
    }
   ],
   "source": [
    "# 繪製特定詞語分布圖\n",
    "import matplotlib.pyplot as plt\n",
    "text4.dispersion_plot(['citizens','democracy','freedom','duties','America','liberty','constitution'])\n",
    "# 統計詞頻 top15\n",
    "fdist_1 = FreqDist(text1)\n",
    "fdist_1.most_common(15)\n",
    "fdist_1.plot(15)"
   ]
  },
  {
   "cell_type": "code",
   "execution_count": null,
   "id": "25957d23",
   "metadata": {},
   "outputs": [],
   "source": []
  },
  {
   "cell_type": "markdown",
   "id": "4e7741e7",
   "metadata": {},
   "source": [
    "# 語言偵測\n",
    "chardet套件可以偵測文字語言"
   ]
  },
  {
   "cell_type": "code",
   "execution_count": 1,
   "id": "a38315be",
   "metadata": {},
   "outputs": [
    {
     "name": "stdout",
     "output_type": "stream",
     "text": [
      "b'\\xe5\\x93\\x88'\n"
     ]
    }
   ],
   "source": [
    "# Chardet 套件 : 偵測文本編碼\n",
    "import nltk\n",
    "\n",
    "text = '哈'.encode('utf8')\n",
    "print(text)"
   ]
  },
  {
   "cell_type": "code",
   "execution_count": 2,
   "id": "0cce8af9",
   "metadata": {},
   "outputs": [
    {
     "name": "stdout",
     "output_type": "stream",
     "text": [
      "{'encoding': 'UTF-8-SIG', 'confidence': 1.0, 'language': ''}\n"
     ]
    }
   ],
   "source": [
    "import chardet\n",
    "\n",
    "# 轉成binary二進位 rb = read binary的意思\n",
    "with open('./dict.txt' , 'rb') as f:\n",
    "    text = f.read()\n",
    "    en = chardet.detect(text)\n",
    "    print(chardet.detect(text))"
   ]
  },
  {
   "cell_type": "code",
   "execution_count": 3,
   "id": "3e2cadc0",
   "metadata": {},
   "outputs": [],
   "source": [
    "# 以utf-8形式寫出\n",
    "with open('./dict_utf8.txt' , 'w') as f:\n",
    "    text_utf8 = text.decode(en['encoding'] , errors='ignore')\n",
    "    f.write(text_utf8)"
   ]
  },
  {
   "cell_type": "markdown",
   "id": "d76981ea",
   "metadata": {},
   "source": [
    "# 中文繁簡轉換\n",
    "OpenCC可以將繁簡體文字做轉換，也支援粵語。  \n",
    "SnowNLP也可以做!"
   ]
  },
  {
   "cell_type": "code",
   "execution_count": 4,
   "id": "887859b2",
   "metadata": {},
   "outputs": [
    {
     "name": "stdout",
     "output_type": "stream",
     "text": [
      "开放中文转换\n"
     ]
    }
   ],
   "source": [
    "from opencc import OpenCC\n",
    "\n",
    "# s2t 表示 simple chinese => trad chinese\n",
    "# 當然也可以繁轉簡 或者轉香港版中文 t2hk\n",
    "# 相關指令查詢 : https://github.com/yichen0831/opencc-python\n",
    "cc = OpenCC('t2s')\n",
    "to_convert = '開放中文轉換'\n",
    "converted = cc.convert(to_convert)\n",
    "print(converted)"
   ]
  },
  {
   "cell_type": "code",
   "execution_count": 11,
   "id": "493b09a1",
   "metadata": {},
   "outputs": [
    {
     "name": "stdout",
     "output_type": "stream",
     "text": [
      "十个香港人十个都唔知道嘅个广东话历史常识\n"
     ]
    }
   ],
   "source": [
    "cc = OpenCC('hk2s')\n",
    "to_convert = '十個香港人十個都唔知道嘅個廣東話歷史常識'\n",
    "converted = cc.convert(to_convert)\n",
    "print(converted)"
   ]
  },
  {
   "cell_type": "code",
   "execution_count": 95,
   "id": "1154c2eb",
   "metadata": {},
   "outputs": [
    {
     "name": "stdout",
     "output_type": "stream",
     "text": [
      "这个太贵了不要买\n"
     ]
    }
   ],
   "source": [
    "from snownlp import SnowNLP\n",
    "text = \"這個太貴了不要買\"\n",
    "text_ = SnowNLP(text)\n",
    "print(text_.han)"
   ]
  },
  {
   "cell_type": "markdown",
   "id": "b2be0019",
   "metadata": {},
   "source": [
    "# 大小寫轉換"
   ]
  },
  {
   "cell_type": "code",
   "execution_count": 5,
   "id": "accaf106",
   "metadata": {},
   "outputs": [
    {
     "name": "stdout",
     "output_type": "stream",
     "text": [
      "In computer science, artificial intelligence (AI), sometimes called machine intelligence, is intelligence demonstrated by machines, in contrast to the natural intelligence displayed by humans\n",
      "===================\n",
      "after lowercase\n",
      "IN COMPUTER SCIENCE, ARTIFICIAL INTELLIGENCE (AI), SOMETIMES CALLED MACHINE INTELLIGENCE, IS INTELLIGENCE DEMONSTRATED BY MACHINES, IN CONTRAST TO THE NATURAL INTELLIGENCE DISPLAYED BY HUMANS\n"
     ]
    }
   ],
   "source": [
    "# 大小寫轉換\n",
    "text = 'In computer science, artificial intelligence (AI), sometimes called machine intelligence, is intelligence demonstrated by machines, in contrast to the natural intelligence displayed by humans'\n",
    "print(text)\n",
    "print('===================')\n",
    "print('after lowercase')\n",
    "#print(text.lower())\n",
    "print(text.upper())"
   ]
  },
  {
   "cell_type": "code",
   "execution_count": 6,
   "id": "cc164597",
   "metadata": {},
   "outputs": [
    {
     "name": "stdout",
     "output_type": "stream",
     "text": [
      "True\n",
      "True\n",
      "False\n"
     ]
    }
   ],
   "source": [
    "# 判斷是否全為大小寫  is.xxx\n",
    "print('AABBC'.isupper())\n",
    "print('aabbc'.islower())\n",
    "print('AaBbC'.isupper())"
   ]
  },
  {
   "cell_type": "markdown",
   "id": "de703a6f",
   "metadata": {},
   "source": [
    "# 去除Stopwords(中文)"
   ]
  },
  {
   "cell_type": "code",
   "execution_count": 15,
   "id": "bc5c9ceb",
   "metadata": {},
   "outputs": [
    {
     "name": "stdout",
     "output_type": "stream",
     "text": [
      "['!', '\"', '#', '$', '%', '&', \"'\", '(', ')', '*']\n"
     ]
    }
   ],
   "source": [
    "# 中文處理\n",
    "stopwords = []\n",
    "\n",
    "# 匯入繁中版的stopwords.txt\n",
    "with open(r'./StopWords.zh-tw.txt' , encoding='utf8') as f:\n",
    "    for line in f.readlines():\n",
    "        line = line.replace('\\n' , '')\n",
    "        stopwords.append(line)\n",
    "print(stopwords[:10])"
   ]
  },
  {
   "cell_type": "code",
   "execution_count": 16,
   "id": "38b6177b",
   "metadata": {},
   "outputs": [
    {
     "name": "stderr",
     "output_type": "stream",
     "text": [
      "Building prefix dict from the default dictionary ...\n",
      "Loading model from cache C:\\Users\\Student\\AppData\\Local\\Temp\\jieba.cache\n",
      "Loading model cost 0.462 seconds.\n",
      "Prefix dict has been built successfully.\n"
     ]
    },
    {
     "name": "stdout",
     "output_type": "stream",
     "text": [
      "['前鋒', '格林', '（', 'JaMychal', ' ', 'Green', '）', '在', '選秀夜', '當天', '遭金塊', '交易', '至', '雷霆', '，', '7', '月', '20', '日則', '傳出', '他', '和', '雷霆', '完成', '買斷', '，', '並且將', '加盟', '勇士', '，', '為衛冕', '軍補', '充禁區', '戰力', '。']\n"
     ]
    }
   ],
   "source": [
    "# 將句子切分字詞\n",
    "import jieba\n",
    "text = '前鋒格林（JaMychal Green）在選秀夜當天遭金塊交易至雷霆，7月20日則傳出他和雷霆完成買斷，並且將加盟勇士，為衛冕軍補充禁區戰力。'\n",
    "segment_list = jieba.lcut(text, cut_all=False)\n",
    "print(segment_list)"
   ]
  },
  {
   "cell_type": "code",
   "execution_count": 17,
   "id": "eb8b155e",
   "metadata": {},
   "outputs": [
    {
     "name": "stdout",
     "output_type": "stream",
     "text": [
      "['前鋒', '格林', 'JaMychal', 'Green', '選秀夜', '當天', '遭金塊', '交易', '雷霆', '7', '月', '20', '日則', '傳出', '雷霆', '完成', '買斷', '並且將', '加盟', '勇士', '為衛冕', '軍補', '充禁區', '戰力']\n"
     ]
    }
   ],
   "source": [
    "# 使用filter函數移除stopwords\n",
    "remainderWords = list(filter(lambda a: a not in stopwords, segment_list))\n",
    "print(remainderWords)"
   ]
  },
  {
   "cell_type": "code",
   "execution_count": 20,
   "id": "0dd2c19e",
   "metadata": {},
   "outputs": [],
   "source": [
    "# 注意filter返回物件是一個iterator\n",
    "tmp = filter(lambda a: a not in stopwords, segment_list)"
   ]
  },
  {
   "cell_type": "code",
   "execution_count": 29,
   "id": "4a4426ce",
   "metadata": {},
   "outputs": [
    {
     "data": {
      "text/plain": [
       "False"
      ]
     },
     "execution_count": 29,
     "metadata": {},
     "output_type": "execute_result"
    }
   ],
   "source": [
    "import types\n",
    "isinstance(tmp, types.GeneratorType)"
   ]
  },
  {
   "cell_type": "code",
   "execution_count": 30,
   "id": "ed712560",
   "metadata": {},
   "outputs": [
    {
     "name": "stderr",
     "output_type": "stream",
     "text": [
      "C:\\Users\\Student\\AppData\\Local\\Temp\\ipykernel_10904\\2403595620.py:2: DeprecationWarning: Using or importing the ABCs from 'collections' instead of from 'collections.abc' is deprecated since Python 3.3, and in 3.10 it will stop working\n",
      "  isinstance(tmp, collections.Iterable)\n"
     ]
    },
    {
     "data": {
      "text/plain": [
       "True"
      ]
     },
     "execution_count": 30,
     "metadata": {},
     "output_type": "execute_result"
    }
   ],
   "source": [
    "import collections\n",
    "isinstance(tmp, collections.Iterable)"
   ]
  },
  {
   "cell_type": "code",
   "execution_count": 28,
   "id": "234427eb",
   "metadata": {},
   "outputs": [
    {
     "data": {
      "text/plain": [
       "'選秀夜'"
      ]
     },
     "execution_count": 28,
     "metadata": {},
     "output_type": "execute_result"
    }
   ],
   "source": [
    "# 既然是iterator，就可以call __next__方法\n",
    "next(tmp)"
   ]
  },
  {
   "cell_type": "code",
   "execution_count": 31,
   "id": "861b033f",
   "metadata": {
    "scrolled": true
   },
   "outputs": [
    {
     "data": {
      "text/plain": [
       "['__class__',\n",
       " '__delattr__',\n",
       " '__dir__',\n",
       " '__eq__',\n",
       " '__format__',\n",
       " '__ge__',\n",
       " '__getattribute__',\n",
       " '__gt__',\n",
       " '__hash__',\n",
       " '__init__',\n",
       " '__init_subclass__',\n",
       " '__iter__',\n",
       " '__le__',\n",
       " '__lt__',\n",
       " '__ne__',\n",
       " '__new__',\n",
       " '__next__',\n",
       " '__reduce__',\n",
       " '__reduce_ex__',\n",
       " '__repr__',\n",
       " '__setattr__',\n",
       " '__sizeof__',\n",
       " '__str__',\n",
       " '__subclasshook__']"
      ]
     },
     "execution_count": 31,
     "metadata": {},
     "output_type": "execute_result"
    }
   ],
   "source": [
    "# 查看一個物件有什麼方法\n",
    "[method_name for method_name in dir(tmp)\n",
    "                  if callable(getattr(tmp, method_name))]"
   ]
  },
  {
   "cell_type": "markdown",
   "id": "c5d57813",
   "metadata": {},
   "source": [
    "# 去除Stopwords(英文)"
   ]
  },
  {
   "cell_type": "code",
   "execution_count": 32,
   "id": "f5378edd",
   "metadata": {},
   "outputs": [
    {
     "name": "stdout",
     "output_type": "stream",
     "text": [
      "['i', 'me', 'my', 'myself', 'we', 'our', 'ours', 'ourselves', 'you', \"you're\", \"you've\", \"you'll\", \"you'd\", 'your', 'yours', 'yourself', 'yourselves', 'he', 'him', 'his', 'himself', 'she', \"she's\", 'her', 'hers', 'herself', 'it', \"it's\", 'its', 'itself', 'they', 'them', 'their', 'theirs', 'themselves', 'what', 'which', 'who', 'whom', 'this', 'that', \"that'll\", 'these', 'those', 'am', 'is', 'are', 'was', 'were', 'be', 'been', 'being', 'have', 'has', 'had', 'having', 'do', 'does', 'did', 'doing', 'a', 'an', 'the', 'and', 'but', 'if', 'or', 'because', 'as', 'until', 'while', 'of', 'at', 'by', 'for', 'with', 'about', 'against', 'between', 'into', 'through', 'during', 'before', 'after', 'above', 'below', 'to', 'from', 'up', 'down', 'in', 'out', 'on', 'off', 'over', 'under', 'again', 'further', 'then', 'once', 'here', 'there', 'when', 'where', 'why', 'how', 'all', 'any', 'both', 'each', 'few', 'more', 'most', 'other', 'some', 'such', 'no', 'nor', 'not', 'only', 'own', 'same', 'so', 'than', 'too', 'very', 's', 't', 'can', 'will', 'just', 'don', \"don't\", 'should', \"should've\", 'now', 'd', 'll', 'm', 'o', 're', 've', 'y', 'ain', 'aren', \"aren't\", 'couldn', \"couldn't\", 'didn', \"didn't\", 'doesn', \"doesn't\", 'hadn', \"hadn't\", 'hasn', \"hasn't\", 'haven', \"haven't\", 'isn', \"isn't\", 'ma', 'mightn', \"mightn't\", 'mustn', \"mustn't\", 'needn', \"needn't\", 'shan', \"shan't\", 'shouldn', \"shouldn't\", 'wasn', \"wasn't\", 'weren', \"weren't\", 'won', \"won't\", 'wouldn', \"wouldn't\"]\n"
     ]
    },
    {
     "name": "stderr",
     "output_type": "stream",
     "text": [
      "[nltk_data] Downloading package stopwords to\n",
      "[nltk_data]     C:\\Users\\Student\\AppData\\Roaming\\nltk_data...\n",
      "[nltk_data]   Package stopwords is already up-to-date!\n"
     ]
    }
   ],
   "source": [
    "from nltk.corpus import stopwords\n",
    "nltk.download('stopwords')\n",
    "# nltk supports 22 languages for removing the stop words\n",
    "print(stopwords.words(\"english\"))"
   ]
  },
  {
   "cell_type": "code",
   "execution_count": 40,
   "id": "b4be1ca8",
   "metadata": {},
   "outputs": [
    {
     "name": "stdout",
     "output_type": "stream",
     "text": [
      "['Backgammon', 'one', 'oldest', 'known', 'board', 'games', '.']\n"
     ]
    }
   ],
   "source": [
    "sentence = \"Backgammon is one of the oldest known board games.\"\n",
    "stopwords_en = set(stopwords.words(\"english\")) # 注意set可以把重複的元素過濾掉!\n",
    "\n",
    "# 將句子tokenize後去除stopwords\n",
    "words = nltk.word_tokenize(sentence)\n",
    "without_stop_words = list(filter(lambda a: a not in stopwords_en, words))\n",
    "print(without_stop_words)"
   ]
  },
  {
   "cell_type": "code",
   "execution_count": 37,
   "id": "1b9b0ec2",
   "metadata": {},
   "outputs": [
    {
     "data": {
      "text/plain": [
       "['Backgammon', 'is', 'one', 'of', 'the', 'oldest', 'known', 'board', 'games']"
      ]
     },
     "execution_count": 37,
     "metadata": {},
     "output_type": "execute_result"
    }
   ],
   "source": [
    "# 使用 NLTK 套件移除標點符號\n",
    "from nltk.tokenize import RegexpTokenizer\n",
    "\n",
    "tokenizer = RegexpTokenizer(r'\\w+')\n",
    "without_Punc_words = tokenizer.tokenize(sentence)\n",
    "without_Punc_words"
   ]
  },
  {
   "cell_type": "code",
   "execution_count": 39,
   "id": "90b5951c",
   "metadata": {},
   "outputs": [
    {
     "data": {
      "text/plain": [
       "['Backgammon', 'one', 'oldest', 'known', 'board', 'games']"
      ]
     },
     "execution_count": 39,
     "metadata": {},
     "output_type": "execute_result"
    }
   ],
   "source": [
    "# 移除標點符號後再過濾 Stopwords，一樣使用filter函數\n",
    "list(filter(lambda a: a not in stopwords_en, without_Punc_words))"
   ]
  },
  {
   "cell_type": "markdown",
   "id": "edcc53b4",
   "metadata": {},
   "source": [
    "# 關鍵字擷取(Keyword Extraction)"
   ]
  },
  {
   "cell_type": "code",
   "execution_count": 1,
   "id": "79ab3381",
   "metadata": {},
   "outputs": [
    {
     "ename": "ModuleNotFoundError",
     "evalue": "No module named 'gensim.summarization'",
     "output_type": "error",
     "traceback": [
      "\u001b[1;31m---------------------------------------------------------------------------\u001b[0m",
      "\u001b[1;31mModuleNotFoundError\u001b[0m                       Traceback (most recent call last)",
      "Input \u001b[1;32mIn [1]\u001b[0m, in \u001b[0;36m<cell line: 1>\u001b[1;34m()\u001b[0m\n\u001b[1;32m----> 1\u001b[0m \u001b[38;5;28;01mfrom\u001b[39;00m \u001b[38;5;21;01mgensim\u001b[39;00m\u001b[38;5;21;01m.\u001b[39;00m\u001b[38;5;21;01msummarization\u001b[39;00m \u001b[38;5;28;01mimport\u001b[39;00m keywords\n\u001b[0;32m      2\u001b[0m text \u001b[38;5;241m=\u001b[39m \u001b[38;5;124m\"\"\"\u001b[39m\u001b[38;5;124mspaCy is an open-source software library for advanced natural language processing, \u001b[39m\n\u001b[0;32m      3\u001b[0m \u001b[38;5;124mwritten in the programming languages Python and Cython. The library is published under the MIT license \u001b[39m\n\u001b[0;32m      4\u001b[0m \u001b[38;5;124mand its main developers are Matthew Honnibal and Ines Montani, the founders of the software company Explosion.\u001b[39m\u001b[38;5;124m\"\"\"\u001b[39m\n\u001b[0;32m      5\u001b[0m \u001b[38;5;28mprint\u001b[39m(keywords(text))\n",
      "\u001b[1;31mModuleNotFoundError\u001b[0m: No module named 'gensim.summarization'"
     ]
    }
   ],
   "source": [
    "from gensim.summarization import keywords\n",
    "text = \"\"\"spaCy is an open-source software library for advanced natural language processing, \n",
    "written in the programming languages Python and Cython. The library is published under the MIT license \n",
    "and its main developers are Matthew Honnibal and Ines Montani, the founders of the software company Explosion.\"\"\"\n",
    "print(keywords(text))"
   ]
  },
  {
   "cell_type": "markdown",
   "id": "92abb221",
   "metadata": {},
   "source": [
    "# TF-IDF\n",
    "tf-idf(word x for certain doc) = freq(word x in doc) * log( total documents / # of docs having word x)"
   ]
  },
  {
   "cell_type": "code",
   "execution_count": 18,
   "id": "80cba9de",
   "metadata": {},
   "outputs": [],
   "source": [
    "from sklearn.feature_extraction.text import TfidfVectorizer\n",
    "corpus = [\n",
    "    'This is the first document.',\n",
    "    'This is the second second document.',\n",
    "    'And the third one.',\n",
    "    'Is this the first document?',\n",
    "]"
   ]
  },
  {
   "cell_type": "code",
   "execution_count": 19,
   "id": "7b502694",
   "metadata": {},
   "outputs": [
    {
     "name": "stdout",
     "output_type": "stream",
     "text": [
      "['and' 'document' 'first' 'is' 'one' 'second' 'the' 'third' 'this']\n"
     ]
    }
   ],
   "source": [
    "# ngram  為設定是否以單一文字分析 也可雙單字綁一起\n",
    "# min_df 表示次數低於指定值就忽略不計\n",
    "model = TfidfVectorizer(analyzer='word', ngram_range=(1, 1), min_df=0)\n",
    "tfidf = model.fit_transform(corpus)\n",
    "\n",
    "word = model.get_feature_names_out()\n",
    "print(word)"
   ]
  },
  {
   "cell_type": "code",
   "execution_count": 20,
   "id": "639fe553",
   "metadata": {},
   "outputs": [
    {
     "name": "stdout",
     "output_type": "stream",
     "text": [
      "[[0.         0.43877674 0.54197657 0.43877674 0.         0.\n",
      "  0.35872874 0.         0.43877674]\n",
      " [0.         0.27230147 0.         0.27230147 0.         0.85322574\n",
      "  0.22262429 0.         0.27230147]\n",
      " [0.55280532 0.         0.         0.         0.55280532 0.\n",
      "  0.28847675 0.55280532 0.        ]\n",
      " [0.         0.43877674 0.54197657 0.43877674 0.         0.\n",
      "  0.35872874 0.         0.43877674]]\n"
     ]
    }
   ],
   "source": [
    "tfidf_weight = tfidf.toarray()\n",
    "print(tfidf_weight)"
   ]
  },
  {
   "cell_type": "code",
   "execution_count": 21,
   "id": "9d2b74f5",
   "metadata": {},
   "outputs": [
    {
     "name": "stdout",
     "output_type": "stream",
     "text": [
      "-------output 0-th document tf-idf weight------\n",
      "and 0.0\n",
      "document 0.4387767428592343\n",
      "first 0.5419765697264572\n",
      "is 0.4387767428592343\n",
      "one 0.0\n",
      "second 0.0\n",
      "the 0.35872873824808993\n",
      "third 0.0\n",
      "this 0.4387767428592343\n",
      "-------output 1-th document tf-idf weight------\n",
      "and 0.0\n",
      "document 0.2723014675233404\n",
      "first 0.0\n",
      "is 0.2723014675233404\n",
      "one 0.0\n",
      "second 0.8532257361452786\n",
      "the 0.22262429232510395\n",
      "third 0.0\n",
      "this 0.2723014675233404\n",
      "-------output 2-th document tf-idf weight------\n",
      "and 0.5528053199908667\n",
      "document 0.0\n",
      "first 0.0\n",
      "is 0.0\n",
      "one 0.5528053199908667\n",
      "second 0.0\n",
      "the 0.2884767487500274\n",
      "third 0.5528053199908667\n",
      "this 0.0\n",
      "-------output 3-th document tf-idf weight------\n",
      "and 0.0\n",
      "document 0.4387767428592343\n",
      "first 0.5419765697264572\n",
      "is 0.4387767428592343\n",
      "one 0.0\n",
      "second 0.0\n",
      "the 0.35872873824808993\n",
      "third 0.0\n",
      "this 0.4387767428592343\n"
     ]
    }
   ],
   "source": [
    "# 針對每一個文本 show 出每一個單字的tfidf\n",
    "for i in range(len(tfidf_weight)):\n",
    "    print(\"-------output {}-th document tf-idf weight------\".format(i))\n",
    "    for j in range(len(word)):\n",
    "        print(word[j],tfidf_weight[i][j])"
   ]
  },
  {
   "cell_type": "markdown",
   "id": "eb1044a6",
   "metadata": {},
   "source": [
    "# Word Count\n",
    "使用 CountVectorizer"
   ]
  },
  {
   "cell_type": "code",
   "execution_count": 3,
   "id": "0d219187",
   "metadata": {},
   "outputs": [
    {
     "data": {
      "text/html": [
       "<style>#sk-container-id-1 {color: black;background-color: white;}#sk-container-id-1 pre{padding: 0;}#sk-container-id-1 div.sk-toggleable {background-color: white;}#sk-container-id-1 label.sk-toggleable__label {cursor: pointer;display: block;width: 100%;margin-bottom: 0;padding: 0.3em;box-sizing: border-box;text-align: center;}#sk-container-id-1 label.sk-toggleable__label-arrow:before {content: \"▸\";float: left;margin-right: 0.25em;color: #696969;}#sk-container-id-1 label.sk-toggleable__label-arrow:hover:before {color: black;}#sk-container-id-1 div.sk-estimator:hover label.sk-toggleable__label-arrow:before {color: black;}#sk-container-id-1 div.sk-toggleable__content {max-height: 0;max-width: 0;overflow: hidden;text-align: left;background-color: #f0f8ff;}#sk-container-id-1 div.sk-toggleable__content pre {margin: 0.2em;color: black;border-radius: 0.25em;background-color: #f0f8ff;}#sk-container-id-1 input.sk-toggleable__control:checked~div.sk-toggleable__content {max-height: 200px;max-width: 100%;overflow: auto;}#sk-container-id-1 input.sk-toggleable__control:checked~label.sk-toggleable__label-arrow:before {content: \"▾\";}#sk-container-id-1 div.sk-estimator input.sk-toggleable__control:checked~label.sk-toggleable__label {background-color: #d4ebff;}#sk-container-id-1 div.sk-label input.sk-toggleable__control:checked~label.sk-toggleable__label {background-color: #d4ebff;}#sk-container-id-1 input.sk-hidden--visually {border: 0;clip: rect(1px 1px 1px 1px);clip: rect(1px, 1px, 1px, 1px);height: 1px;margin: -1px;overflow: hidden;padding: 0;position: absolute;width: 1px;}#sk-container-id-1 div.sk-estimator {font-family: monospace;background-color: #f0f8ff;border: 1px dotted black;border-radius: 0.25em;box-sizing: border-box;margin-bottom: 0.5em;}#sk-container-id-1 div.sk-estimator:hover {background-color: #d4ebff;}#sk-container-id-1 div.sk-parallel-item::after {content: \"\";width: 100%;border-bottom: 1px solid gray;flex-grow: 1;}#sk-container-id-1 div.sk-label:hover label.sk-toggleable__label {background-color: #d4ebff;}#sk-container-id-1 div.sk-serial::before {content: \"\";position: absolute;border-left: 1px solid gray;box-sizing: border-box;top: 0;bottom: 0;left: 50%;z-index: 0;}#sk-container-id-1 div.sk-serial {display: flex;flex-direction: column;align-items: center;background-color: white;padding-right: 0.2em;padding-left: 0.2em;position: relative;}#sk-container-id-1 div.sk-item {position: relative;z-index: 1;}#sk-container-id-1 div.sk-parallel {display: flex;align-items: stretch;justify-content: center;background-color: white;position: relative;}#sk-container-id-1 div.sk-item::before, #sk-container-id-1 div.sk-parallel-item::before {content: \"\";position: absolute;border-left: 1px solid gray;box-sizing: border-box;top: 0;bottom: 0;left: 50%;z-index: -1;}#sk-container-id-1 div.sk-parallel-item {display: flex;flex-direction: column;z-index: 1;position: relative;background-color: white;}#sk-container-id-1 div.sk-parallel-item:first-child::after {align-self: flex-end;width: 50%;}#sk-container-id-1 div.sk-parallel-item:last-child::after {align-self: flex-start;width: 50%;}#sk-container-id-1 div.sk-parallel-item:only-child::after {width: 0;}#sk-container-id-1 div.sk-dashed-wrapped {border: 1px dashed gray;margin: 0 0.4em 0.5em 0.4em;box-sizing: border-box;padding-bottom: 0.4em;background-color: white;}#sk-container-id-1 div.sk-label label {font-family: monospace;font-weight: bold;display: inline-block;line-height: 1.2em;}#sk-container-id-1 div.sk-label-container {text-align: center;}#sk-container-id-1 div.sk-container {/* jupyter's `normalize.less` sets `[hidden] { display: none; }` but bootstrap.min.css set `[hidden] { display: none !important; }` so we also need the `!important` here to be able to override the default hidden behavior on the sphinx rendered scikit-learn.org. See: https://github.com/scikit-learn/scikit-learn/issues/21755 */display: inline-block !important;position: relative;}#sk-container-id-1 div.sk-text-repr-fallback {display: none;}</style><div id=\"sk-container-id-1\" class=\"sk-top-container\"><div class=\"sk-text-repr-fallback\"><pre>CountVectorizer()</pre><b>In a Jupyter environment, please rerun this cell to show the HTML representation or trust the notebook. <br />On GitHub, the HTML representation is unable to render, please try loading this page with nbviewer.org.</b></div><div class=\"sk-container\" hidden><div class=\"sk-item\"><div class=\"sk-estimator sk-toggleable\"><input class=\"sk-toggleable__control sk-hidden--visually\" id=\"sk-estimator-id-1\" type=\"checkbox\" checked><label for=\"sk-estimator-id-1\" class=\"sk-toggleable__label sk-toggleable__label-arrow\">CountVectorizer</label><div class=\"sk-toggleable__content\"><pre>CountVectorizer()</pre></div></div></div></div></div>"
      ],
      "text/plain": [
       "CountVectorizer()"
      ]
     },
     "execution_count": 3,
     "metadata": {},
     "output_type": "execute_result"
    }
   ],
   "source": [
    "from sklearn.feature_extraction.text import CountVectorizer\n",
    "\n",
    "bards_words =[\"The fool doth think he is wise,\",\n",
    "              \"but the wise man knows himself to be a fool\"]\n",
    "\n",
    "\n",
    "vect = CountVectorizer()\n",
    "# vect = CountVectorizer(stop_words=\"english\")\n",
    "vect.fit(bards_words)"
   ]
  },
  {
   "cell_type": "code",
   "execution_count": 4,
   "id": "2e2de3af",
   "metadata": {},
   "outputs": [
    {
     "name": "stdout",
     "output_type": "stream",
     "text": [
      "Vocabulary size: 13\n"
     ]
    }
   ],
   "source": [
    "print(\"Vocabulary size: {}\".format(len(vect.vocabulary_)))"
   ]
  },
  {
   "cell_type": "code",
   "execution_count": 5,
   "id": "c3f43ad3",
   "metadata": {
    "scrolled": true
   },
   "outputs": [
    {
     "name": "stdout",
     "output_type": "stream",
     "text": [
      "Vocabulary content:\n",
      " {'the': 9, 'fool': 3, 'doth': 2, 'think': 10, 'he': 4, 'is': 6, 'wise': 12, 'but': 1, 'man': 8, 'knows': 7, 'himself': 5, 'to': 11, 'be': 0}\n"
     ]
    }
   ],
   "source": [
    "print(\"Vocabulary content:\\n {}\".format(vect.vocabulary_))"
   ]
  },
  {
   "cell_type": "code",
   "execution_count": 6,
   "id": "14cb1618",
   "metadata": {},
   "outputs": [
    {
     "name": "stdout",
     "output_type": "stream",
     "text": [
      "Features name:\n",
      "['be' 'but' 'doth' 'fool' 'he' 'himself' 'is' 'knows' 'man' 'the' 'think'\n",
      " 'to' 'wise']\n",
      "Dense representation of bag_of_words:\n",
      "[[0 0 1 1 1 0 1 0 0 1 1 0 1]\n",
      " [1 1 0 1 0 1 0 1 1 1 0 1 1]]\n"
     ]
    }
   ],
   "source": [
    "# 把文本轉換成向量的方法 : transform\n",
    "bag_of_words = vect.transform(bards_words)\n",
    "print(\"Features name:\\n{}\".format(vect.get_feature_names_out())) # 把重要詞彙依字母順序顯示\n",
    "print(\"Dense representation of bag_of_words:\\n{}\".format(bag_of_words.toarray())) # 將文本轉成向量"
   ]
  },
  {
   "cell_type": "code",
   "execution_count": 6,
   "id": "7013c0e6",
   "metadata": {},
   "outputs": [],
   "source": [
    "from sklearn.feature_extraction.text import CountVectorizer\n",
    "bards_words =[\"The fool doth think he is wise\",\n",
    "              \"but the wise man knows himself to be a fool\"]"
   ]
  },
  {
   "cell_type": "code",
   "execution_count": 7,
   "id": "e1420617",
   "metadata": {},
   "outputs": [
    {
     "name": "stdout",
     "output_type": "stream",
     "text": [
      "Vocabulary size: 13\n",
      "Vocabulary:\n",
      "['be', 'but', 'doth', 'fool', 'he', 'himself', 'is', 'knows', 'man', 'the', 'think', 'to', 'wise']\n"
     ]
    }
   ],
   "source": [
    "vect1 = CountVectorizer(ngram_range=(1, 1)).fit(bards_words) # 1,1 代表N-gram為1 ; 1,2 則表示 1-gram和2-gram都要\n",
    "print(\"Vocabulary size: {}\".format(len(vect1.vocabulary_)))\n",
    "print(\"Vocabulary:\\n{}\".format(vect1.get_feature_names()))"
   ]
  },
  {
   "cell_type": "code",
   "execution_count": 10,
   "id": "13262bdf",
   "metadata": {},
   "outputs": [
    {
     "name": "stdout",
     "output_type": "stream",
     "text": [
      "Vocabulary size: 14\n",
      "Vocabulary:\n",
      "['be fool' 'but the' 'doth think' 'fool doth' 'he is' 'himself to'\n",
      " 'is wise' 'knows himself' 'man knows' 'the fool' 'the wise' 'think he'\n",
      " 'to be' 'wise man']\n",
      "Transformed data (dense):\n",
      "[[0 0 1 1 1 0 1 0 0 1 0 1 0 0]\n",
      " [1 1 0 0 0 1 0 1 1 0 1 0 1 1]]\n"
     ]
    }
   ],
   "source": [
    "vect2 = CountVectorizer(ngram_range=(2, 2)).fit(bards_words)\n",
    "print(\"Vocabulary size: {}\".format(len(vect2.vocabulary_)))\n",
    "print(\"Vocabulary:\\n{}\".format(vect2.get_feature_names_out()))\n",
    "print(\"Transformed data (dense):\\n{}\".format(vect2.transform(bards_words).toarray()))\n"
   ]
  },
  {
   "cell_type": "code",
   "execution_count": 14,
   "id": "57dc7e2b",
   "metadata": {},
   "outputs": [
    {
     "data": {
      "text/html": [
       "<div>\n",
       "<style scoped>\n",
       "    .dataframe tbody tr th:only-of-type {\n",
       "        vertical-align: middle;\n",
       "    }\n",
       "\n",
       "    .dataframe tbody tr th {\n",
       "        vertical-align: top;\n",
       "    }\n",
       "\n",
       "    .dataframe thead th {\n",
       "        text-align: right;\n",
       "    }\n",
       "</style>\n",
       "<table border=\"1\" class=\"dataframe\">\n",
       "  <thead>\n",
       "    <tr style=\"text-align: right;\">\n",
       "      <th></th>\n",
       "      <th>be fool</th>\n",
       "      <th>but the</th>\n",
       "      <th>doth think</th>\n",
       "      <th>fool doth</th>\n",
       "      <th>he is</th>\n",
       "      <th>himself to</th>\n",
       "      <th>is wise</th>\n",
       "      <th>knows himself</th>\n",
       "      <th>man knows</th>\n",
       "      <th>the fool</th>\n",
       "      <th>the wise</th>\n",
       "      <th>think he</th>\n",
       "      <th>to be</th>\n",
       "      <th>wise man</th>\n",
       "    </tr>\n",
       "  </thead>\n",
       "  <tbody>\n",
       "    <tr>\n",
       "      <th>0</th>\n",
       "      <td>0</td>\n",
       "      <td>0</td>\n",
       "      <td>1</td>\n",
       "      <td>1</td>\n",
       "      <td>1</td>\n",
       "      <td>0</td>\n",
       "      <td>1</td>\n",
       "      <td>0</td>\n",
       "      <td>0</td>\n",
       "      <td>1</td>\n",
       "      <td>0</td>\n",
       "      <td>1</td>\n",
       "      <td>0</td>\n",
       "      <td>0</td>\n",
       "    </tr>\n",
       "    <tr>\n",
       "      <th>1</th>\n",
       "      <td>1</td>\n",
       "      <td>1</td>\n",
       "      <td>0</td>\n",
       "      <td>0</td>\n",
       "      <td>0</td>\n",
       "      <td>1</td>\n",
       "      <td>0</td>\n",
       "      <td>1</td>\n",
       "      <td>1</td>\n",
       "      <td>0</td>\n",
       "      <td>1</td>\n",
       "      <td>0</td>\n",
       "      <td>1</td>\n",
       "      <td>1</td>\n",
       "    </tr>\n",
       "  </tbody>\n",
       "</table>\n",
       "</div>"
      ],
      "text/plain": [
       "   be fool  but the  doth think  fool doth  he is  himself to  is wise  \\\n",
       "0        0        0           1          1      1           0        1   \n",
       "1        1        1           0          0      0           1        0   \n",
       "\n",
       "   knows himself  man knows  the fool  the wise  think he  to be  wise man  \n",
       "0              0          0         1         0         1      0         0  \n",
       "1              1          1         0         1         0      1         1  "
      ]
     },
     "execution_count": 14,
     "metadata": {},
     "output_type": "execute_result"
    }
   ],
   "source": [
    "# 這邊都是2-gram，因為上面ngram設定(2,2)\n",
    "import pandas as pd\n",
    "pd.DataFrame(vect2.transform(bards_words).toarray(),\n",
    "                      columns=vect2.get_feature_names_out())"
   ]
  },
  {
   "cell_type": "markdown",
   "id": "b07e845d",
   "metadata": {},
   "source": [
    "# 呼叫Azure API作自動翻譯"
   ]
  },
  {
   "cell_type": "code",
   "execution_count": 18,
   "id": "4140884b",
   "metadata": {},
   "outputs": [],
   "source": [
    "import requests , json , uuid"
   ]
  },
  {
   "cell_type": "code",
   "execution_count": 19,
   "id": "278c4933",
   "metadata": {},
   "outputs": [],
   "source": [
    "key = \"614c0d47fd0a446985c906d170ff1625\"\n",
    "endpoint = \"https://api.cognitive.microsofttranslator.com/translate?api-version=3.0\"\n",
    "params = \"&to=zh-Hans&to=ja&to=ko\"\n",
    "apiurl = f\"{endpoint}{params}\""
   ]
  },
  {
   "cell_type": "code",
   "execution_count": 20,
   "id": "8d404983",
   "metadata": {},
   "outputs": [
    {
     "data": {
      "text/plain": [
       "'https://api.cognitive.microsofttranslator.com/translate?api-version=3.0&to=zh-Hans&to=ja&to=ko'"
      ]
     },
     "execution_count": 20,
     "metadata": {},
     "output_type": "execute_result"
    }
   ],
   "source": [
    "apiurl"
   ]
  },
  {
   "cell_type": "code",
   "execution_count": 28,
   "id": "542ffa22",
   "metadata": {},
   "outputs": [
    {
     "name": "stdout",
     "output_type": "stream",
     "text": [
      "[{'detectedLanguage': {'language': 'en', 'score': 1.0}, 'translations': [{'text': '所有人都向我致敬。', 'to': 'zh-Hans'}, {'text': 'すべてが私に雹を呼びます。', 'to': 'ja'}, {'text': '모든 우박이 나에게 우박이다.', 'to': 'ko'}]}]\n"
     ]
    }
   ],
   "source": [
    "headers = {\n",
    "    'Ocp-Apim-Subscription-Key': key,\n",
    "    'Ocp-Apim-Subscription-Region': 'eastus2',\n",
    "    'Content-type': 'application/json',\n",
    "    'charset': 'UTF-8',\n",
    "    'X-ClientTraceId': str(uuid.uuid4())\n",
    "}\n",
    "\n",
    "body = [{\n",
    "    'text':'All hail to me.'\n",
    "}]\n",
    "\n",
    "response = requests.post(apiurl , headers=headers , json = body).json()\n",
    "print(response)"
   ]
  },
  {
   "cell_type": "code",
   "execution_count": 30,
   "id": "44e58eb4",
   "metadata": {},
   "outputs": [],
   "source": [
    "from munch import munchify"
   ]
  },
  {
   "cell_type": "code",
   "execution_count": 32,
   "id": "87acf27c",
   "metadata": {},
   "outputs": [],
   "source": [
    "response_ = munchify(response[0])"
   ]
  },
  {
   "cell_type": "code",
   "execution_count": 34,
   "id": "b92ba764",
   "metadata": {
    "scrolled": true
   },
   "outputs": [
    {
     "data": {
      "text/plain": [
       "['所有人都向我致敬。', 'すべてが私に雹を呼びます。', '모든 우박이 나에게 우박이다.']"
      ]
     },
     "execution_count": 34,
     "metadata": {},
     "output_type": "execute_result"
    }
   ],
   "source": [
    "[x.text for x in response_.translations]"
   ]
  },
  {
   "cell_type": "markdown",
   "id": "eab45d94",
   "metadata": {},
   "source": [
    "# 呼叫Azure API作拼字檢查"
   ]
  },
  {
   "cell_type": "code",
   "execution_count": 1,
   "id": "bcba95ef-5b90-4f6e-96fd-ed53a0295950",
   "metadata": {},
   "outputs": [],
   "source": [
    "import requests\n",
    "from munch import munchify"
   ]
  },
  {
   "cell_type": "code",
   "execution_count": 2,
   "id": "a2710f8e",
   "metadata": {},
   "outputs": [],
   "source": [
    "key = \"ad2ac10fc3264267a5dd1bb83cd79542\"\n",
    "endpoint = \"https://api.bing.microsoft.com/v7.0/SpellCheck\""
   ]
  },
  {
   "cell_type": "code",
   "execution_count": 3,
   "id": "7ff854cb",
   "metadata": {},
   "outputs": [],
   "source": [
    "headers = {\n",
    "    'Ocp-Apim-Subscription-Key': key,\n",
    "    'Content-type': 'application/x-www-form-urlencoded'\n",
    "}\n",
    "\n",
    "params = {\n",
    "    'mkt':'en-us',\n",
    "    'mode':'proof'\n",
    "}\n",
    "# data = {'text':\"This is a bok. ijust finish it.\"}\n",
    "# data = {'text':\"i am a student and i sturdying english now , i love icecream.\"}\n",
    "data = {'text':\"i am an stutent and i am studing programming language now, icecream is my favorite dessert. ijust finish it!\"}"
   ]
  },
  {
   "cell_type": "code",
   "execution_count": 4,
   "id": "70f237e8",
   "metadata": {},
   "outputs": [],
   "source": [
    "response = requests.post(url=endpoint , headers=headers , params = params , data=data).json()\n",
    "wrong = response[\"flaggedTokens\"][0][\"token\"]\n",
    "correct = response[\"flaggedTokens\"][0][\"suggestions\"][0][\"suggestion\"]"
   ]
  },
  {
   "cell_type": "code",
   "execution_count": 5,
   "id": "9b3f757a",
   "metadata": {},
   "outputs": [
    {
     "data": {
      "text/plain": [
       "{'_type': 'SpellCheck',\n",
       " 'flaggedTokens': [{'offset': 0,\n",
       "   'token': 'i',\n",
       "   'type': 'UnknownToken',\n",
       "   'suggestions': [{'suggestion': 'I', 'score': 0.875}]},\n",
       "  {'offset': 8,\n",
       "   'token': 'stutent',\n",
       "   'type': 'UnknownToken',\n",
       "   'suggestions': [{'suggestion': 'student', 'score': 0.9276151162326921}]},\n",
       "  {'offset': 20,\n",
       "   'token': 'i',\n",
       "   'type': 'UnknownToken',\n",
       "   'suggestions': [{'suggestion': 'I', 'score': 0.875}]},\n",
       "  {'offset': 25,\n",
       "   'token': 'studing',\n",
       "   'type': 'UnknownToken',\n",
       "   'suggestions': [{'suggestion': 'studying', 'score': 0.8281008871198255}]},\n",
       "  {'offset': 59,\n",
       "   'token': 'icecream',\n",
       "   'type': 'UnknownToken',\n",
       "   'suggestions': [{'suggestion': 'ice cream', 'score': 0.9113478823433341}]},\n",
       "  {'offset': 92,\n",
       "   'token': 'ijust',\n",
       "   'type': 'UnknownToken',\n",
       "   'suggestions': [{'suggestion': 'I just', 'score': 0.832860620902278},\n",
       "    {'suggestion': 'just', 'score': 0.6379078691647795}]}]}"
      ]
     },
     "execution_count": 5,
     "metadata": {},
     "output_type": "execute_result"
    }
   ],
   "source": [
    "response"
   ]
  },
  {
   "cell_type": "code",
   "execution_count": 6,
   "id": "84482b3e",
   "metadata": {
    "scrolled": true
   },
   "outputs": [],
   "source": [
    "response_ = munchify(response)"
   ]
  },
  {
   "cell_type": "code",
   "execution_count": 7,
   "id": "f4dd9aae",
   "metadata": {},
   "outputs": [
    {
     "data": {
      "text/plain": [
       "Munch({'_type': 'SpellCheck', 'flaggedTokens': [Munch({'offset': 0, 'token': 'i', 'type': 'UnknownToken', 'suggestions': [Munch({'suggestion': 'I', 'score': 0.875})]}), Munch({'offset': 8, 'token': 'stutent', 'type': 'UnknownToken', 'suggestions': [Munch({'suggestion': 'student', 'score': 0.9276151162326921})]}), Munch({'offset': 20, 'token': 'i', 'type': 'UnknownToken', 'suggestions': [Munch({'suggestion': 'I', 'score': 0.875})]}), Munch({'offset': 25, 'token': 'studing', 'type': 'UnknownToken', 'suggestions': [Munch({'suggestion': 'studying', 'score': 0.8281008871198255})]}), Munch({'offset': 59, 'token': 'icecream', 'type': 'UnknownToken', 'suggestions': [Munch({'suggestion': 'ice cream', 'score': 0.9113478823433341})]}), Munch({'offset': 92, 'token': 'ijust', 'type': 'UnknownToken', 'suggestions': [Munch({'suggestion': 'I just', 'score': 0.832860620902278}), Munch({'suggestion': 'just', 'score': 0.6379078691647795})]})]})"
      ]
     },
     "execution_count": 7,
     "metadata": {},
     "output_type": "execute_result"
    }
   ],
   "source": [
    "response_"
   ]
  },
  {
   "cell_type": "code",
   "execution_count": 8,
   "id": "445edac8",
   "metadata": {},
   "outputs": [
    {
     "data": {
      "text/plain": [
       "'i am an stutent and i am studing programming language now, icecream is my favorite dessert. ijust finish it!'"
      ]
     },
     "execution_count": 8,
     "metadata": {},
     "output_type": "execute_result"
    }
   ],
   "source": [
    "data['text']"
   ]
  },
  {
   "cell_type": "code",
   "execution_count": 9,
   "id": "83d385bb",
   "metadata": {},
   "outputs": [
    {
     "data": {
      "text/plain": [
       "[{'offset': 0,\n",
       "  'token': 'i',\n",
       "  'type': 'UnknownToken',\n",
       "  'suggestions': [{'suggestion': 'I', 'score': 0.875}]},\n",
       " {'offset': 8,\n",
       "  'token': 'stutent',\n",
       "  'type': 'UnknownToken',\n",
       "  'suggestions': [{'suggestion': 'student', 'score': 0.9276151162326921}]},\n",
       " {'offset': 20,\n",
       "  'token': 'i',\n",
       "  'type': 'UnknownToken',\n",
       "  'suggestions': [{'suggestion': 'I', 'score': 0.875}]},\n",
       " {'offset': 25,\n",
       "  'token': 'studing',\n",
       "  'type': 'UnknownToken',\n",
       "  'suggestions': [{'suggestion': 'studying', 'score': 0.8281008871198255}]},\n",
       " {'offset': 59,\n",
       "  'token': 'icecream',\n",
       "  'type': 'UnknownToken',\n",
       "  'suggestions': [{'suggestion': 'ice cream', 'score': 0.9113478823433341}]},\n",
       " {'offset': 92,\n",
       "  'token': 'ijust',\n",
       "  'type': 'UnknownToken',\n",
       "  'suggestions': [{'suggestion': 'I just', 'score': 0.832860620902278},\n",
       "   {'suggestion': 'just', 'score': 0.6379078691647795}]}]"
      ]
     },
     "execution_count": 9,
     "metadata": {},
     "output_type": "execute_result"
    }
   ],
   "source": [
    "response['flaggedTokens']"
   ]
  },
  {
   "cell_type": "code",
   "execution_count": 10,
   "id": "9dc2412d",
   "metadata": {},
   "outputs": [
    {
     "data": {
      "text/plain": [
       "[([Munch({'suggestion': 'I', 'score': 0.875})], 0),\n",
       " ([Munch({'suggestion': 'student', 'score': 0.9276151162326921})], 8),\n",
       " ([Munch({'suggestion': 'I', 'score': 0.875})], 20),\n",
       " ([Munch({'suggestion': 'studying', 'score': 0.8281008871198255})], 25),\n",
       " ([Munch({'suggestion': 'ice cream', 'score': 0.9113478823433341})], 59),\n",
       " ([Munch({'suggestion': 'I just', 'score': 0.832860620902278}),\n",
       "   Munch({'suggestion': 'just', 'score': 0.6379078691647795})],\n",
       "  92)]"
      ]
     },
     "execution_count": 10,
     "metadata": {},
     "output_type": "execute_result"
    }
   ],
   "source": [
    "[ (x.suggestions,x.offset) for x in response_.flaggedTokens]"
   ]
  },
  {
   "cell_type": "code",
   "execution_count": 11,
   "id": "1d5f2f44",
   "metadata": {},
   "outputs": [
    {
     "data": {
      "text/plain": [
       "[Munch({'offset': 0, 'token': 'i', 'type': 'UnknownToken', 'suggestions': [Munch({'suggestion': 'I', 'score': 0.875})]}),\n",
       " Munch({'offset': 8, 'token': 'stutent', 'type': 'UnknownToken', 'suggestions': [Munch({'suggestion': 'student', 'score': 0.9276151162326921})]}),\n",
       " Munch({'offset': 20, 'token': 'i', 'type': 'UnknownToken', 'suggestions': [Munch({'suggestion': 'I', 'score': 0.875})]}),\n",
       " Munch({'offset': 25, 'token': 'studing', 'type': 'UnknownToken', 'suggestions': [Munch({'suggestion': 'studying', 'score': 0.8281008871198255})]}),\n",
       " Munch({'offset': 59, 'token': 'icecream', 'type': 'UnknownToken', 'suggestions': [Munch({'suggestion': 'ice cream', 'score': 0.9113478823433341})]}),\n",
       " Munch({'offset': 92, 'token': 'ijust', 'type': 'UnknownToken', 'suggestions': [Munch({'suggestion': 'I just', 'score': 0.832860620902278}), Munch({'suggestion': 'just', 'score': 0.6379078691647795})]})]"
      ]
     },
     "execution_count": 11,
     "metadata": {},
     "output_type": "execute_result"
    }
   ],
   "source": [
    "response_.flaggedTokens"
   ]
  },
  {
   "cell_type": "code",
   "execution_count": 12,
   "id": "7649741d",
   "metadata": {},
   "outputs": [
    {
     "data": {
      "text/plain": [
       "'i am an stutent and i am studing programming language now, icecream is my favorite dessert. ijust finish it!'"
      ]
     },
     "execution_count": 12,
     "metadata": {},
     "output_type": "execute_result"
    }
   ],
   "source": [
    "data['text']"
   ]
  },
  {
   "cell_type": "code",
   "execution_count": 13,
   "id": "546da424",
   "metadata": {},
   "outputs": [
    {
     "data": {
      "text/plain": [
       "'I am an student and I am studying programming language now, ice cream is my favorite dessert. I just finish it!'"
      ]
     },
     "execution_count": 13,
     "metadata": {},
     "output_type": "execute_result"
    }
   ],
   "source": [
    "shift = 0\n",
    "correct = data['text']\n",
    "for x in response_.flaggedTokens:\n",
    "    offset = x.offset\n",
    "    suggestions = x.suggestions\n",
    "    token = x.token\n",
    "\n",
    "    substitute = suggestions[0].suggestion\n",
    "\n",
    "    text_front = correct[:(offset + shift)]\n",
    "    # print(f\"this is front {text_front}\")\n",
    "    text_back = correct[(offset + shift + len(token)):]\n",
    "    # print(f\"this is back {text_back}\")\n",
    "    correct = text_front + substitute + text_back\n",
    "    \n",
    "    shift += len(substitute) - len(token)\n",
    "    # print(shift)\n",
    "    # print(correct)\n",
    "\n",
    "correct"
   ]
  },
  {
   "cell_type": "markdown",
   "id": "94d74925",
   "metadata": {},
   "source": [
    "# 利用爬蟲技術，抓取Google翻譯"
   ]
  },
  {
   "cell_type": "code",
   "execution_count": 60,
   "id": "3bb9e2ef",
   "metadata": {},
   "outputs": [
    {
     "data": {
      "text/plain": [
       "'Important text'"
      ]
     },
     "execution_count": 60,
     "metadata": {},
     "output_type": "execute_result"
    }
   ],
   "source": [
    "import numpy as np\n",
    "import re\n",
    "string = \"Important text,      !Comment that could be removed\"\n",
    "re.sub(\"(,[ ]*!.*)$\", \"\", string)"
   ]
  },
  {
   "cell_type": "code",
   "execution_count": 76,
   "id": "b1c54f33",
   "metadata": {},
   "outputs": [
    {
     "name": "stdout",
     "output_type": "stream",
     "text": [
      "https://translate.google.pl/m?hl=zh-TW&sl=zh-TW&tl=ja&ie=UTF-8&prev=_m&q=傑哥不要\n"
     ]
    }
   ],
   "source": [
    "# 測試文字\n",
    "# getParam = \"What the fuck was that?\"\n",
    "getParam = \"傑哥不要\"\n",
    "\n",
    "# 指定轉換語言\n",
    "# translateFrom = \"en\"\n",
    "# translateTo = \"zh-TW\"\n",
    "\n",
    "translateFrom = \"zh-TW\"\n",
    "translateTo = \"ja\"\n",
    "\n",
    "search = re.sub(\" \", \"%20\", getParam)\n",
    "URL = \"https://translate.google.pl/m?hl=\"+translateFrom+\"&sl=\"+translateFrom+\"&tl=\"+translateTo+\"&ie=UTF-8&prev=_m&q=\"+search\n",
    "print(URL)"
   ]
  },
  {
   "cell_type": "code",
   "execution_count": 77,
   "id": "c032ec79",
   "metadata": {},
   "outputs": [],
   "source": [
    "# 設定header\n",
    "headers = {'user-agent':'Mozilla/5.0 (Windows NT 10.0; Win64; x64) '\n",
    "                        'AppleWebKit/537.36 (KHTML, like Gecko) Chrome/'\n",
    "                        '64.0.3282.186 Safari/537.36'}\n",
    "r = requests.get(URL,headers=headers)"
   ]
  },
  {
   "cell_type": "code",
   "execution_count": 78,
   "id": "1cda85bf",
   "metadata": {},
   "outputs": [
    {
     "name": "stdout",
     "output_type": "stream",
     "text": [
      "連接ok!\n"
     ]
    }
   ],
   "source": [
    "# 測試連接是否成功\n",
    "if r.status_code == 200:\n",
    "    print(\"連接ok!\")"
   ]
  },
  {
   "cell_type": "code",
   "execution_count": 82,
   "id": "25df6b39",
   "metadata": {},
   "outputs": [
    {
     "name": "stdout",
     "output_type": "stream",
     "text": [
      "ジャッキーはしない\n"
     ]
    }
   ],
   "source": [
    "# 擷取網頁內容\n",
    "from bs4 import BeautifulSoup\n",
    "soup = BeautifulSoup(r.text , 'html.parser')\n",
    "items = soup.select('.result-container')\n",
    "print(items[0].text)"
   ]
  }
 ],
 "metadata": {
  "kernelspec": {
   "display_name": "Python 3 (ipykernel)",
   "language": "python",
   "name": "python3"
  },
  "language_info": {
   "codemirror_mode": {
    "name": "ipython",
    "version": 3
   },
   "file_extension": ".py",
   "mimetype": "text/x-python",
   "name": "python",
   "nbconvert_exporter": "python",
   "pygments_lexer": "ipython3",
   "version": "3.9.12"
  }
 },
 "nbformat": 4,
 "nbformat_minor": 5
}
