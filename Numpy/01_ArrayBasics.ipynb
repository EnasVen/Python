{
 "cells": [
  {
   "cell_type": "markdown",
   "id": "c2db733c-1c3d-4f08-a702-6eb5ab37422e",
   "metadata": {},
   "source": [
    "# Array Basics\n",
    "\n",
    "### Numpy ndarray 和 list的差異:\n",
    "1. 記憶體位置連續，運算速度較CPython的list大幅提升\n",
    "2. np array以相對位置做元素運算，而list多為inplace運算\n",
    "3. list可包含不同資料型別的元素，但np array元素型別必須一致(類似R的向量c(...) )\n",
    "4. np array可直接指定維度，list則無法"
   ]
  },
  {
   "cell_type": "code",
   "execution_count": 3,
   "id": "1f49b3a7-7a79-4d3e-acdc-127ed3192245",
   "metadata": {},
   "outputs": [
    {
     "data": {
      "text/plain": [
       "array([1, 4, 2, 3, 5])"
      ]
     },
     "execution_count": 3,
     "metadata": {},
     "output_type": "execute_result"
    }
   ],
   "source": [
    "import numpy as np\n",
    "# 建立陣列\n",
    "np.array([1,4,2,3,5])"
   ]
  },
  {
   "cell_type": "code",
   "execution_count": 20,
   "id": "1da074b8-430c-4ec0-abbe-3b0961840e82",
   "metadata": {},
   "outputs": [
    {
     "name": "stdout",
     "output_type": "stream",
     "text": [
      "CPU times: total: 0 ns\n",
      "Wall time: 12 ms\n",
      "CPU times: total: 469 ms\n",
      "Wall time: 465 ms\n"
     ]
    }
   ],
   "source": [
    "# 原生list和ndarray運算速度比較\n",
    "my_arr = np.arange(1000000)\n",
    "my_list = list(range(1000000))\n",
    "\n",
    "#使用 %magic符號計算運行時間\n",
    "%time for _ in range(10): my_arr2 = my_arr * 2\n",
    "%time for _ in range(10): my_list2 = [x * 2 for x in my_list]"
   ]
  },
  {
   "cell_type": "code",
   "execution_count": 21,
   "id": "35f2934e-379a-4105-b874-76f23e462ef7",
   "metadata": {},
   "outputs": [
    {
     "data": {
      "text/plain": [
       "array([1.   , 4.558, 2.   , 3.   , 5.   ])"
      ]
     },
     "execution_count": 21,
     "metadata": {},
     "output_type": "execute_result"
    }
   ],
   "source": [
    "# 元素一致性\n",
    "np.array([1,4.558,2,3,5])"
   ]
  },
  {
   "cell_type": "code",
   "execution_count": 22,
   "id": "0a7744a4-c35a-4146-a6f3-7bfd7bc4a8ea",
   "metadata": {},
   "outputs": [
    {
     "data": {
      "text/plain": [
       "array([1, 4, 2, 3, 5])"
      ]
     },
     "execution_count": 22,
     "metadata": {},
     "output_type": "execute_result"
    }
   ],
   "source": [
    "# 指定元素資料型態，內建default為int32/float64\n",
    "np.array([1,4.558,2,3,5] , dtype = 'int32')"
   ]
  },
  {
   "cell_type": "code",
   "execution_count": 23,
   "id": "2e475031-14de-480b-83c7-7afabc3301a6",
   "metadata": {},
   "outputs": [
    {
     "data": {
      "text/plain": [
       "(array([[ 2,  3,  4],\n",
       "        [ 4,  5,  6],\n",
       "        [ 6,  7,  8],\n",
       "        [ 8,  9, 10],\n",
       "        [10, 11, 12]]),\n",
       " (5, 3))"
      ]
     },
     "execution_count": 23,
     "metadata": {},
     "output_type": "execute_result"
    }
   ],
   "source": [
    "# 多維陣列，此處即為5x3陣列\n",
    "a = np.array([range(i,i+3) for i in [2,4,6,8,10]]) \n",
    "a , a.shape"
   ]
  },
  {
   "cell_type": "markdown",
   "id": "a1ca0976-8b66-4552-a7d7-094bc0736ec4",
   "metadata": {},
   "source": [
    "### Numpy 標準資料型態(僅列出常用，像complex就不列了)\n",
    "> `bool_` : True or False  \n",
    "> `int_` : 內建整數型態(int64 or int32)  \n",
    "> `int8` : -128~127  \n",
    "> `int16` : -32768 to 32767  \n",
    "> `int32` : -2147483648 to 2147483647  \n",
    "> `int64` : -9223372036854775808 to 9223372036854775807  \n",
    "> `uint8/uint16/uint32/uint64` : unsigned，值域x2  \n",
    "> `float_` : float64簡寫  \n",
    "> `float16` : 半精度浮點數，2byte，exp位5個bit，fraction位10個bit  \n",
    "> `float32` : 半精度浮點數，4byte，exp位8個bit，fraction位23個bit  \n",
    "> `float64` : 半精度浮點數，8byte，exp位11個bit，fraction位52個bit   \n"
   ]
  },
  {
   "cell_type": "markdown",
   "id": "dfb8ca32",
   "metadata": {},
   "source": [
    "### Python結構化陣列\n",
    "當物件內存在不同資料型態時，Python會使用結構化陣列來表示物件內各元素的資料型別。  "
   ]
  },
  {
   "cell_type": "code",
   "execution_count": 6,
   "id": "d1699460",
   "metadata": {},
   "outputs": [
    {
     "data": {
      "text/plain": [
       "array([('', 0, 0.), ('', 0, 0.), ('', 0, 0.), ('', 0, 0.)],\n",
       "      dtype=[('name', '<U10'), ('age', '<i4'), ('weight', '<f8')])"
      ]
     },
     "execution_count": 6,
     "metadata": {},
     "output_type": "execute_result"
    }
   ],
   "source": [
    "name = ['Alice' , 'Bob' , 'Cathy' , 'Doug']\n",
    "age = [25,45,37,19]\n",
    "weight = [55.0,85.5,68.1,61.7]\n",
    "data = np.zeros(4 , dtype={'names':('name','age','weight') , 'formats':('U10','i4','f8') })\n",
    "data"
   ]
  },
  {
   "cell_type": "code",
   "execution_count": 8,
   "id": "bac870d8",
   "metadata": {},
   "outputs": [
    {
     "data": {
      "text/plain": [
       "dtype([('name', '<U10'), ('age', '<i4'), ('weight', '<f8')])"
      ]
     },
     "execution_count": 8,
     "metadata": {},
     "output_type": "execute_result"
    }
   ],
   "source": [
    "# U10 代表長度10的Unicode ; i4代表 4-byte INT ; F8代表 8-byte FLOAT\n",
    "data.dtype"
   ]
  },
  {
   "cell_type": "markdown",
   "id": "85f41e63-2522-4137-b974-b466a561e5da",
   "metadata": {},
   "source": [
    "### 基礎內建方法(basic methods)\n",
    "> `.zeros ( length|dimension [,dtype])` : 建立指定長度(1維)或者自訂維度(dim)的0陣列，arg不給會報錯  \n",
    "> `.ones ( length|dimension [,dtype])` : 建立內容全為1的陣列，指定長度(1維)或者自訂維度(dim)，arg不給會報錯  \n",
    "> `.full ( (length|dimension) , targetValue [,dtype])` : 建立指定內容(targetValue)的陣列，指定長度(1維)或者自訂維度(dim)，arg不給會報錯  \n",
    "> `.arange(start [, end , step] [,dtype])` : 建立1維陣列，指定起始與間隔寬，元素內容不包含end，給單一值預設 [0,value) with step=1 and int32  \n",
    "> `.linspace (start, stop, num, endpoint)` : 建立等差陣列，endpoint可設定是否要包含end，預設false，資料型態float64  \n",
    "> `.random.funcs (length|dimension [,dtype])` : .random方法內包含多種function，可創造多種dist.的亂數，給維度+分布參數即可獲取亂數陣列!  \n",
    "> `.eye([,dtype])` : 建立單位矩陣  \n",
    "> `.empty((length|dimension))` : 建立隨機數值的指定維度陣列  \n",
    "> `.diag(list)` : 建立對角方陣，input list即為對角線上的值  \n"
   ]
  },
  {
   "cell_type": "code",
   "execution_count": 14,
   "id": "a85cc44a-7ce6-403a-8673-c16089a33f52",
   "metadata": {},
   "outputs": [
    {
     "data": {
      "text/plain": [
       "array([[0., 0., 0., 0., 0.],\n",
       "       [0., 0., 0., 0., 0.],\n",
       "       [0., 0., 0., 0., 0.]])"
      ]
     },
     "execution_count": 14,
     "metadata": {},
     "output_type": "execute_result"
    }
   ],
   "source": [
    "np.zeros([3,5])"
   ]
  },
  {
   "cell_type": "code",
   "execution_count": 18,
   "id": "74d9f283-3808-49a7-8196-9243bb9a3518",
   "metadata": {},
   "outputs": [
    {
     "data": {
      "text/plain": [
       "(array([1., 1., 1., 1., 1., 1., 1., 1.]),\n",
       " array([[1., 1.],\n",
       "        [1., 1.]]))"
      ]
     },
     "execution_count": 18,
     "metadata": {},
     "output_type": "execute_result"
    }
   ],
   "source": [
    "# np.ones() #不給會報錯\n",
    "np.ones([8]) , np.ones([2,2])"
   ]
  },
  {
   "cell_type": "code",
   "execution_count": 26,
   "id": "a5b8caac-5d59-4a94-a5eb-76f3bce14711",
   "metadata": {},
   "outputs": [
    {
     "data": {
      "text/plain": [
       "array([['BNT', 'BNT'],\n",
       "       ['BNT', 'BNT']], dtype='<U3')"
      ]
     },
     "execution_count": 26,
     "metadata": {},
     "output_type": "execute_result"
    }
   ],
   "source": [
    "# 陣列可以給文字元素\n",
    "np.full([2,2] , \"BNT\")"
   ]
  },
  {
   "cell_type": "code",
   "execution_count": 28,
   "id": "9b266839-f6cf-4f32-9188-57251ac11931",
   "metadata": {},
   "outputs": [
    {
     "data": {
      "text/plain": [
       "array([ 2.,  5.,  8., 11., 14., 17.], dtype=float16)"
      ]
     },
     "execution_count": 28,
     "metadata": {},
     "output_type": "execute_result"
    }
   ],
   "source": [
    "# 2開始到20，間隔3，數值型態維float16\n",
    "np.arange(2,20,3 , dtype = 'float16')"
   ]
  },
  {
   "cell_type": "code",
   "execution_count": 35,
   "id": "8171b865-5aca-47f3-9d2a-16bee877d323",
   "metadata": {},
   "outputs": [
    {
     "data": {
      "text/plain": [
       "(array([ 0,  1,  2,  3,  4,  5,  6,  7,  8,  9, 10, 11, 12, 13, 14, 15, 16,\n",
       "        17, 18, 19]),\n",
       " dtype('int32'))"
      ]
     },
     "execution_count": 35,
     "metadata": {},
     "output_type": "execute_result"
    }
   ],
   "source": [
    "# 只給單一引數則顯示0~19，間隔1，deafult資料型態為int32\n",
    "np.arange(20) , np.arange(20).dtype"
   ]
  },
  {
   "cell_type": "code",
   "execution_count": 38,
   "id": "e1262457-7dec-4156-a39e-082f60209bd5",
   "metadata": {},
   "outputs": [
    {
     "data": {
      "text/plain": [
       "(array([ 0.        ,  1.11111111,  2.22222222,  3.33333333,  4.44444444,\n",
       "         5.55555556,  6.66666667,  7.77777778,  8.88888889, 10.        ]),\n",
       " dtype('float64'))"
      ]
     },
     "execution_count": 38,
     "metadata": {},
     "output_type": "execute_result"
    }
   ],
   "source": [
    "np.linspace(0,10,10) , np.linspace(0,10,10).dtype"
   ]
  },
  {
   "cell_type": "code",
   "execution_count": 46,
   "id": "d03b0e3d-14aa-44fe-b272-2cf8f81b6b17",
   "metadata": {},
   "outputs": [
    {
     "data": {
      "text/plain": [
       "array([[0.57838288, 0.35785682, 0.23328031],\n",
       "       [0.86100145, 0.3170668 , 0.6625142 ],\n",
       "       [0.2875257 , 0.84683622, 0.36640016]])"
      ]
     },
     "execution_count": 46,
     "metadata": {},
     "output_type": "execute_result"
    }
   ],
   "source": [
    "# 建立3x3亂數陣列，預取U(0,1)\n",
    "np.random.random((3,3))"
   ]
  },
  {
   "cell_type": "code",
   "execution_count": 45,
   "id": "443f8a54-809d-4e3d-bbb7-7fffeb88ba93",
   "metadata": {},
   "outputs": [
    {
     "data": {
      "text/plain": [
       "array([[ 0.37817475, -0.31499101,  0.08427138],\n",
       "       [-0.51082298,  0.33406742, -0.36796643],\n",
       "       [-0.02884873,  1.52417626,  0.8986553 ]])"
      ]
     },
     "execution_count": 45,
     "metadata": {},
     "output_type": "execute_result"
    }
   ],
   "source": [
    "# 建立3x3 N(0,1)亂數陣列，這裡的0,1即為dist.的參數(mean,var)\n",
    "np.random.normal(0,1,[3,3])"
   ]
  },
  {
   "cell_type": "code",
   "execution_count": 51,
   "id": "312c6691-3a45-4f68-93d7-773a58024c53",
   "metadata": {},
   "outputs": [
    {
     "data": {
      "text/plain": [
       "array([[ 4.44953998,  7.70124366,  4.82330909,  4.37963238],\n",
       "       [ 4.99099138,  1.61624834,  2.34935716,  0.80974235],\n",
       "       [ 3.51689684,  3.15427159,  9.52738147,  5.77825676],\n",
       "       [ 5.1217369 , 12.17953785,  3.40664214,  2.66178088]])"
      ]
     },
     "execution_count": 51,
     "metadata": {},
     "output_type": "execute_result"
    }
   ],
   "source": [
    "# 建立4x4 Chi-Square亂數陣列，這裡的5即為dist.的參數(自由度)\n",
    "np.random.chisquare(5,[4,4])"
   ]
  },
  {
   "cell_type": "code",
   "execution_count": 52,
   "id": "ad85d127-c2ac-4763-a25a-bff1f58886c0",
   "metadata": {},
   "outputs": [
    {
     "data": {
      "text/plain": [
       "array([[5, 9, 6],\n",
       "       [7, 2, 8],\n",
       "       [2, 5, 9]])"
      ]
     },
     "execution_count": 52,
     "metadata": {},
     "output_type": "execute_result"
    }
   ],
   "source": [
    "# 建立3x3 亂數整數陣列，範圍0~10\n",
    "np.random.randint(0,10,[3,3])"
   ]
  },
  {
   "cell_type": "code",
   "execution_count": 58,
   "id": "8de9b302-1a69-4227-ba6f-5e9acd6d7664",
   "metadata": {},
   "outputs": [
    {
     "data": {
      "text/plain": [
       "array([[[1400317192,        475,         64,          0],\n",
       "        [         0,          0,          0,          0],\n",
       "        [         0,         57,  812016692,  808989239]],\n",
       "\n",
       "       [[ 892953145,  929116774,  909717859,  859202609],\n",
       "        [1714435889, 1664444001,  942814051, 1630943077],\n",
       "        [1664497969, 1647784755,  808662072, 1700868709]]])"
      ]
     },
     "execution_count": 58,
     "metadata": {},
     "output_type": "execute_result"
    }
   ],
   "source": [
    "# 建立指定數值的隨機數值陣列\n",
    "np.empty((2,3,4) , dtype='int32')"
   ]
  },
  {
   "cell_type": "code",
   "execution_count": 60,
   "id": "1e62b6fe-c740-40ac-98b0-cebed24194a9",
   "metadata": {},
   "outputs": [
    {
     "data": {
      "text/plain": [
       "array([[1, 0, 0, 0, 0],\n",
       "       [0, 2, 0, 0, 0],\n",
       "       [0, 0, 3, 0, 0],\n",
       "       [0, 0, 0, 7, 0],\n",
       "       [0, 0, 0, 0, 8]])"
      ]
     },
     "execution_count": 60,
     "metadata": {},
     "output_type": "execute_result"
    }
   ],
   "source": [
    "# 建立對角矩陣(diag-only)，必為方陣\n",
    "np.diag([1,2,3,7,8])"
   ]
  },
  {
   "cell_type": "markdown",
   "id": "ea8ee6e0-a81c-40fd-b00a-6637e0a347f8",
   "metadata": {},
   "source": [
    "### .random相關的方法\n",
    "> `.seed(value)` : 指定亂數定序，value要給值才會記憶住  \n",
    "> `.shuffle()` : 打亂陣列內元素的排序  "
   ]
  },
  {
   "cell_type": "code",
   "execution_count": 62,
   "id": "e5155a40-d134-4b89-9706-6f11043c7816",
   "metadata": {},
   "outputs": [
    {
     "data": {
      "text/plain": [
       "array([[0.5488135 , 0.71518937],\n",
       "       [0.60276338, 0.54488318]])"
      ]
     },
     "execution_count": 62,
     "metadata": {},
     "output_type": "execute_result"
    }
   ],
   "source": [
    "# 指定亂數定序，確保每次執行都是同一組亂數\n",
    "np.random.seed(0)\n",
    "np.random.random((2,2))"
   ]
  },
  {
   "cell_type": "code",
   "execution_count": 65,
   "id": "fb2fe951-1780-4fc7-b8e1-8d7fa0f8dce0",
   "metadata": {},
   "outputs": [
    {
     "data": {
      "text/plain": [
       "['a', 'b', 'c', 'd', 'e']"
      ]
     },
     "execution_count": 65,
     "metadata": {},
     "output_type": "execute_result"
    }
   ],
   "source": [
    "list('abcde')"
   ]
  },
  {
   "cell_type": "code",
   "execution_count": 66,
   "id": "4736933c-8f14-4c85-81cb-f77efd0b5568",
   "metadata": {},
   "outputs": [
    {
     "name": "stdout",
     "output_type": "stream",
     "text": [
      "b\n"
     ]
    }
   ],
   "source": [
    "# 讀出 abcdefg 其中的一個字元\n",
    "print(np.random.choice(list('abcdefg'))) "
   ]
  },
  {
   "cell_type": "code",
   "execution_count": 67,
   "id": "67378824-bd5e-4b7d-95fd-3d7cbf16a190",
   "metadata": {},
   "outputs": [
    {
     "name": "stdout",
     "output_type": "stream",
     "text": [
      "4\n"
     ]
    }
   ],
   "source": [
    "# 讀出 range 產生數字中的一個數字\n",
    "print(np.random.choice(range(1, 11)))    "
   ]
  },
  {
   "cell_type": "code",
   "execution_count": 71,
   "id": "55f10d7b-09be-44c8-b6fe-eb851f500e21",
   "metadata": {},
   "outputs": [
    {
     "data": {
      "text/plain": [
       "[3, 3, 3, 3, 9, 9]"
      ]
     },
     "execution_count": 71,
     "metadata": {},
     "output_type": "execute_result"
    }
   ],
   "source": [
    "# 從指定array內挑選隨機元素，可賦予個別元素權重、抽出元素數，但注意這個方法不是Numpy內的random!\n",
    "import random\n",
    "random.choices([3, 5, 7, 9], weights = (10, 1, 1, 4), k=6) "
   ]
  },
  {
   "cell_type": "code",
   "execution_count": 72,
   "id": "bc304fc5-f175-46e4-9272-d8d1e31a5b0a",
   "metadata": {},
   "outputs": [
    {
     "name": "stdout",
     "output_type": "stream",
     "text": [
      "[0 1 2 3 4 5 6 7 8 9]\n"
     ]
    },
    {
     "data": {
      "text/plain": [
       "array([3, 1, 8, 7, 9, 0, 6, 4, 2, 5])"
      ]
     },
     "execution_count": 72,
     "metadata": {},
     "output_type": "execute_result"
    }
   ],
   "source": [
    "# 打亂排序\n",
    "arr = np.arange(10) ;  print(arr)\n",
    "np.random.shuffle(arr)\n",
    "arr"
   ]
  },
  {
   "cell_type": "code",
   "execution_count": null,
   "id": "7d54f236-8cb9-4fa1-bdac-41c68ba06c02",
   "metadata": {},
   "outputs": [],
   "source": []
  },
  {
   "cell_type": "code",
   "execution_count": null,
   "id": "83deefc6-ac52-4629-9cd4-be61119af9fc",
   "metadata": {},
   "outputs": [],
   "source": []
  }
 ],
 "metadata": {
  "kernelspec": {
   "display_name": "Python 3 (ipykernel)",
   "language": "python",
   "name": "python3"
  },
  "language_info": {
   "codemirror_mode": {
    "name": "ipython",
    "version": 3
   },
   "file_extension": ".py",
   "mimetype": "text/x-python",
   "name": "python",
   "nbconvert_exporter": "python",
   "pygments_lexer": "ipython3",
   "version": "3.10.2"
  }
 },
 "nbformat": 4,
 "nbformat_minor": 5
}
