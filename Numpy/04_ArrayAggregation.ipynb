{
 "cells": [
  {
   "cell_type": "markdown",
   "id": "40855465-45ea-4eda-a2ac-dbcc30b834ca",
   "metadata": {},
   "source": [
    "# Array Aggregation"
   ]
  },
  {
   "cell_type": "markdown",
   "id": "1871dfb8-0383-4db0-a0e0-708a4fb9891c",
   "metadata": {},
   "source": [
    "### Arithmatic Funcs.\n",
    "Numpy內提供多樣聚合運算，多為數學指標的計算:  \n",
    "> .mean() : 根據指定維度計算元素數值平均  \n",
    "> .std() : 根據指定維度計算元素樣本標準差  \n",
    "> .var() : 根據指定維度計算元素變異數  \n",
    "> .sum() : 根據指定維度計算元素總和  \n",
    "> .prod() : 根據指定維度計算元素連乘積  \n",
    "> .cumsum()\t: 根據指定維度計算元素累積總和  \n",
    "> .cumprod() : 根據指定維度計算元素連乘積累積總和  \n",
    "> .min(), .max() : 根據指定維度計算元素最小/最大值  \n",
    "> .argmin(), argmax() : 回傳最小/最大值的索引位置  \n",
    "> .all(condition) : 判斷是否全部元素都達成特定條件，回傳布林值  \n",
    "> .any(condition) : 判斷是否至少有一元素都達成特定條件，回傳布林值  \n",
    "> .percentile() : 計算元素的排名統計"
   ]
  },
  {
   "cell_type": "code",
   "execution_count": 2,
   "id": "a6a221f8-be87-48ac-b204-58a0bc16e65c",
   "metadata": {},
   "outputs": [],
   "source": [
    "import numpy as np"
   ]
  },
  {
   "cell_type": "code",
   "execution_count": 2,
   "id": "d59bb393-8997-4eda-9521-2f58520e70b5",
   "metadata": {},
   "outputs": [
    {
     "name": "stdout",
     "output_type": "stream",
     "text": [
      "arr\t=\n",
      "[[  1   2   3]\n",
      " [  4   5   6]\n",
      " [  7   8   9]\n",
      " [ 10 101 102]]\n",
      "\n",
      "arr.sum()\t= 258\n",
      "np.sum(arr)\t= 258\n",
      "arr.max()\t= 102\n",
      "arr.min()\t= 1\n",
      "arr.mean()\t= 21.5\n",
      "arr.std()\t= 35.87362076326652\n",
      "np.median(arr)\t= 6.5\n",
      "\n"
     ]
    }
   ],
   "source": [
    "arr = np.array([1, 2, 3, 4, 5, 6, 7, 8, 9, 10, 101, 102]).reshape(4,3)\n",
    "\n",
    "print(f'arr\\t=\\n{arr}\\n\\n'\n",
    "      f'arr.sum()\\t= {arr.sum()}\\n'\n",
    "      f'np.sum(arr)\\t= {np.sum(arr)}\\n'\n",
    "      f'arr.max()\\t= {arr.max()}\\n'\n",
    "      f'arr.min()\\t= {arr.min()}\\n'\n",
    "      f'arr.mean()\\t= {arr.mean()}\\n'\n",
    "      f'arr.std()\\t= {arr.std()}\\n'\n",
    "      f'np.median(arr)\\t= {np.median(arr)}\\n')"
   ]
  },
  {
   "cell_type": "code",
   "execution_count": 4,
   "id": "897f2327-cded-4f9e-bb34-8a07e42a4431",
   "metadata": {},
   "outputs": [
    {
     "data": {
      "text/plain": [
       "(-1270808064,\n",
       " array([          1,           2,           6,          24,         120,\n",
       "                720,        5040,       40320,      362880,     3628800,\n",
       "          366508800, -1270808064]))"
      ]
     },
     "execution_count": 4,
     "metadata": {},
     "output_type": "execute_result"
    }
   ],
   "source": [
    "arr.prod() , arr.cumprod()"
   ]
  },
  {
   "cell_type": "code",
   "execution_count": 6,
   "id": "0440bc47-a6cc-43f8-b984-b6fa49cb059b",
   "metadata": {},
   "outputs": [
    {
     "data": {
      "text/plain": [
       "array([  6,  15,  24, 213])"
      ]
     },
     "execution_count": 6,
     "metadata": {},
     "output_type": "execute_result"
    }
   ],
   "source": [
    "# axis=1代表第2維度，也就是[...]內部，所以這個運算等價於計算[...]內元素和!\n",
    "arr.sum(axis = 1)"
   ]
  },
  {
   "cell_type": "code",
   "execution_count": 8,
   "id": "1d481fd7-3a2c-472f-bf94-fc1bd6ff4508",
   "metadata": {},
   "outputs": [
    {
     "data": {
      "text/plain": [
       "(11, 0)"
      ]
     },
     "execution_count": 8,
     "metadata": {},
     "output_type": "execute_result"
    }
   ],
   "source": [
    "arr.argmax() , arr.argmin()"
   ]
  },
  {
   "cell_type": "code",
   "execution_count": 30,
   "id": "c7a6c59d-0168-4b9f-b2aa-9fb5ac8b3235",
   "metadata": {},
   "outputs": [
    {
     "data": {
      "text/plain": [
       "(3.75, 3.75)"
      ]
     },
     "execution_count": 30,
     "metadata": {},
     "output_type": "execute_result"
    }
   ],
   "source": [
    "np.percentile(arr , 25) , np.quantile(arr,0.25)"
   ]
  },
  {
   "cell_type": "code",
   "execution_count": 17,
   "id": "5850fa7e-d406-499b-84d6-9c06df71efa6",
   "metadata": {},
   "outputs": [
    {
     "data": {
      "text/plain": [
       "(True, False)"
      ]
     },
     "execution_count": 17,
     "metadata": {},
     "output_type": "execute_result"
    }
   ],
   "source": [
    "x = np.array([False, False, True, False])\n",
    "x.any(), x.all()"
   ]
  },
  {
   "cell_type": "code",
   "execution_count": 11,
   "id": "620b57bc-8168-44fb-8dbe-00c28919db54",
   "metadata": {},
   "outputs": [
    {
     "data": {
      "text/plain": [
       "(array(True), array(True))"
      ]
     },
     "execution_count": 11,
     "metadata": {},
     "output_type": "execute_result"
    }
   ],
   "source": [
    "o=np.array(False)\n",
    "z=np.any([-1, 4, 5], out=o)\n",
    "z, o"
   ]
  },
  {
   "cell_type": "code",
   "execution_count": 13,
   "id": "120f2e19-6452-47ff-b623-6c74af52bf92",
   "metadata": {},
   "outputs": [
    {
     "data": {
      "text/plain": [
       "True"
      ]
     },
     "execution_count": 13,
     "metadata": {},
     "output_type": "execute_result"
    }
   ],
   "source": [
    "# Check now that z is a reference to o\n",
    "z is o"
   ]
  },
  {
   "cell_type": "code",
   "execution_count": 15,
   "id": "90ed6f51-9401-4b12-a01c-98893f1c3669",
   "metadata": {},
   "outputs": [
    {
     "data": {
      "text/plain": [
       "(2819467649328, 2819467649328)"
      ]
     },
     "execution_count": 15,
     "metadata": {},
     "output_type": "execute_result"
    }
   ],
   "source": [
    "# 兩者記憶體存放位址相同\n",
    "id(z), id(o)             "
   ]
  },
  {
   "cell_type": "markdown",
   "id": "5edc1797-0eda-4ae4-b55f-f45857c7ca9f",
   "metadata": {},
   "source": [
    "### Logical Funcs.\n",
    "判斷多個陣列對應T/F值可以使用logical_函數:\n",
    "> logical_and(arr1 , arr2)   \n",
    "> logical_or(arr1 , arr2)   \n",
    "> logical_xor(arr1 , arr2)  \n",
    "> logical_not(arr1 , arr2)   "
   ]
  },
  {
   "cell_type": "code",
   "execution_count": 19,
   "id": "7679b7ad-4e31-48d7-b437-ecd6f16286fe",
   "metadata": {},
   "outputs": [],
   "source": [
    "l1 = np.array([True, False, True, False])\n",
    "l2 = np.array([False, False, True, False])"
   ]
  },
  {
   "cell_type": "code",
   "execution_count": 20,
   "id": "5591d694-b09c-4395-bb72-b8f05c28b169",
   "metadata": {},
   "outputs": [
    {
     "data": {
      "text/plain": [
       "(array([False, False,  True, False]), array([False, False,  True, False]))"
      ]
     },
     "execution_count": 20,
     "metadata": {},
     "output_type": "execute_result"
    }
   ],
   "source": [
    "np.logical_and(l1, l2), l1*l2 "
   ]
  },
  {
   "cell_type": "code",
   "execution_count": 21,
   "id": "5ca29018-6e03-4ada-bba5-e7a85d7c1d70",
   "metadata": {},
   "outputs": [
    {
     "data": {
      "text/plain": [
       "(array([ True, False,  True, False]), array([ True, False,  True, False]))"
      ]
     },
     "execution_count": 21,
     "metadata": {},
     "output_type": "execute_result"
    }
   ],
   "source": [
    "np.logical_or(l1, l2), l1+l2"
   ]
  },
  {
   "cell_type": "code",
   "execution_count": 22,
   "id": "a1b6e79f-fbcd-4114-aa8c-694d0acca363",
   "metadata": {},
   "outputs": [
    {
     "data": {
      "text/plain": [
       "array([ True, False, False, False])"
      ]
     },
     "execution_count": 22,
     "metadata": {},
     "output_type": "execute_result"
    }
   ],
   "source": [
    "np.logical_xor(l1, l2)"
   ]
  },
  {
   "cell_type": "code",
   "execution_count": 23,
   "id": "73c96a6b-0547-45a0-910f-fe2a6389297b",
   "metadata": {},
   "outputs": [
    {
     "data": {
      "text/plain": [
       "array([ True,  True, False,  True])"
      ]
     },
     "execution_count": 23,
     "metadata": {},
     "output_type": "execute_result"
    }
   ],
   "source": [
    "np.logical_not(l2)"
   ]
  },
  {
   "cell_type": "markdown",
   "id": "3ed53fc7-62c5-4847-ac40-9a0abbcd3b9c",
   "metadata": {
    "tags": []
   },
   "source": [
    "### Broadcasting 機制\n",
    "Numpy在運算不同維度的陣列時，會啟動broadcasting機制，其規則如下: \n",
    "1. 較低維度的陣列，會在左側墊新維度，維度值(元素個數)為1  \n",
    "2. 如果兩陣列不能於任一維度中符合，具維度1的陣列，該維度會被提升至符合另一陣列的維度，同時複製元素  \n",
    "3. 如果提升後兩陣列的shape還是無法完全符合，則報錯  "
   ]
  },
  {
   "cell_type": "code",
   "execution_count": 33,
   "id": "672ae265-facd-484f-b04f-b9925342c9fd",
   "metadata": {},
   "outputs": [
    {
     "data": {
      "text/plain": [
       "array([[1., 2., 3.],\n",
       "       [1., 2., 3.]])"
      ]
     },
     "execution_count": 33,
     "metadata": {},
     "output_type": "execute_result"
    }
   ],
   "source": [
    "# Ex1 - 單一 broadcasting\n",
    "M = np.ones((2,3))\n",
    "a = np.arange(3)\n",
    "M+a\n",
    "\n",
    "# shape of a : (3,) => (1,3) => (2,3)\n",
    "# 所以最後加法會是\n",
    "# [[0,1,2],  加   [[1,1,1],\n",
    "# [0,1,2]]   上   [1,1,1]] "
   ]
  },
  {
   "cell_type": "code",
   "execution_count": 35,
   "id": "ec2a4f75-bc41-4a51-bcd9-5e059aadb7e2",
   "metadata": {},
   "outputs": [
    {
     "data": {
      "text/plain": [
       "array([[0, 1, 2],\n",
       "       [1, 2, 3],\n",
       "       [2, 3, 4]])"
      ]
     },
     "execution_count": 35,
     "metadata": {},
     "output_type": "execute_result"
    }
   ],
   "source": [
    "# Ex2 - 雙重broadcasting\n",
    "M = np.arange(3).reshape(3,1)\n",
    "a = np.arange(3)\n",
    "M+a\n",
    "\n",
    "# shape of a : (3,)  => (1,3) => (3,3)\n",
    "# shape of M : (3,1) => -    => (3,3)"
   ]
  },
  {
   "cell_type": "code",
   "execution_count": 36,
   "id": "3abdcfdd-3ad3-46fa-98d5-5bf42a3bb852",
   "metadata": {},
   "outputs": [
    {
     "ename": "ValueError",
     "evalue": "operands could not be broadcast together with shapes (3,2) (3,) ",
     "output_type": "error",
     "traceback": [
      "\u001b[1;31m---------------------------------------------------------------------------\u001b[0m",
      "\u001b[1;31mValueError\u001b[0m                                Traceback (most recent call last)",
      "Input \u001b[1;32mIn [36]\u001b[0m, in \u001b[0;36m<cell line: 4>\u001b[1;34m()\u001b[0m\n\u001b[0;32m      2\u001b[0m M \u001b[38;5;241m=\u001b[39m np\u001b[38;5;241m.\u001b[39mones((\u001b[38;5;241m3\u001b[39m,\u001b[38;5;241m2\u001b[39m))\n\u001b[0;32m      3\u001b[0m a \u001b[38;5;241m=\u001b[39m np\u001b[38;5;241m.\u001b[39marange(\u001b[38;5;241m3\u001b[39m)\n\u001b[1;32m----> 4\u001b[0m \u001b[43mM\u001b[49m\u001b[38;5;241;43m+\u001b[39;49m\u001b[43ma\u001b[49m\n",
      "\u001b[1;31mValueError\u001b[0m: operands could not be broadcast together with shapes (3,2) (3,) "
     ]
    }
   ],
   "source": [
    "# Ex3 - 無法運算\n",
    "M = np.ones((3,2))\n",
    "a = np.arange(3)\n",
    "M+a\n"
   ]
  },
  {
   "cell_type": "code",
   "execution_count": 8,
   "id": "209fb60d-39d0-41da-8288-313d2b16256e",
   "metadata": {},
   "outputs": [
    {
     "data": {
      "text/plain": [
       "array([[ 0.        ,  9.96775381,  1.55930007,  2.86005518,  7.18412371,\n",
       "         1.17028387,  0.13250094,  9.85380194,  4.64774115,  3.47061987],\n",
       "       [ 9.96775381,  0.        ,  4.38746059,  2.45341074,  2.6677942 ,\n",
       "         8.91448262, 10.18061969,  7.37444553,  2.62080291,  4.70270749],\n",
       "       [ 1.55930007,  4.38746059,  0.        ,  0.2791195 ,  2.08663767,\n",
       "         0.84913154,  1.3350174 ,  4.36614484,  2.99182129,  0.57901696],\n",
       "       [ 2.86005518,  2.45341074,  0.2791195 ,  0.        ,  1.39523333,\n",
       "         2.05324998,  2.74276254,  4.278097  ,  2.0829946 ,  0.78450865],\n",
       "       [ 7.18412371,  2.6677942 ,  2.08663767,  1.39523333,  0.        ,\n",
       "         3.90240743,  6.36622476,  1.22011102,  5.94414964,  0.84806277],\n",
       "       [ 1.17028387,  8.91448262,  0.84913154,  2.05324998,  3.90240743,\n",
       "         0.        ,  0.56753488,  4.63808709,  6.56572472,  1.11414585],\n",
       "       [ 0.13250094, 10.18061969,  1.3350174 ,  2.74276254,  6.36622476,\n",
       "         0.56753488,  0.        ,  8.25906647,  5.57031922,  2.73057957],\n",
       "       [ 9.85380194,  7.37444553,  4.36614484,  4.278097  ,  1.22011102,\n",
       "         4.63808709,  8.25906647,  0.        , 11.99338939,  1.77420808],\n",
       "       [ 4.64774115,  2.62080291,  2.99182129,  2.0829946 ,  5.94414964,\n",
       "         6.56572472,  5.57031922, 11.99338939,  0.        ,  5.40619522],\n",
       "       [ 3.47061987,  4.70270749,  0.57901696,  0.78450865,  0.84806277,\n",
       "         1.11414585,  2.73057957,  1.77420808,  5.40619522,  0.        ]])"
      ]
     },
     "execution_count": 8,
     "metadata": {},
     "output_type": "execute_result"
    }
   ],
   "source": [
    "# 經典應用1 - (見02_ArrayManipulation Sorting陣列排序)\n",
    "X=np.random.randn(10,2)\n",
    "X\n",
    "dist_q = np.sum( (X[:,np.newaxis,:]-X[np.newaxis,:,:])**2 , axis=-1)\n",
    "dist_q"
   ]
  },
  {
   "cell_type": "code",
   "execution_count": 5,
   "id": "41ec6905-d377-4649-af48-a5cb19875c9b",
   "metadata": {},
   "outputs": [
    {
     "data": {
      "text/plain": [
       "array([[ 2,  1,  3],\n",
       "       [ 6,  5,  7],\n",
       "       [10,  9, 11]])"
      ]
     },
     "execution_count": 5,
     "metadata": {},
     "output_type": "execute_result"
    }
   ],
   "source": [
    "# 經典應用2 - (見02_ArrayManipulation Fancy索引)\n",
    "X=np.arange(12).reshape(3,4)\n",
    "row = np.array([0,1,2]) \n",
    "col = np.array([2,1,3])\n",
    "X[row[:,np.newaxis] , col]\n",
    "\n",
    "# row的shape從(3,)變成(3,1) \n",
    "# 根據廣播原則，加入新維度到左邊，此時col的shape(3,)會變成(1,3)\n",
    "# (3,1)和(1,3)套用2次廣播 => (3,3) 與 (3,3)"
   ]
  }
 ],
 "metadata": {
  "kernelspec": {
   "display_name": "Python 3 (ipykernel)",
   "language": "python",
   "name": "python3"
  },
  "language_info": {
   "codemirror_mode": {
    "name": "ipython",
    "version": 3
   },
   "file_extension": ".py",
   "mimetype": "text/x-python",
   "name": "python",
   "nbconvert_exporter": "python",
   "pygments_lexer": "ipython3",
   "version": "3.10.2"
  }
 },
 "nbformat": 4,
 "nbformat_minor": 5
}
