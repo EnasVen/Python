{
 "cells": [
  {
   "cell_type": "markdown",
   "id": "48356fe4-053a-4ac4-b998-e1d92a1078f7",
   "metadata": {
    "tags": []
   },
   "source": [
    "# Array Manipulation"
   ]
  },
  {
   "cell_type": "markdown",
   "id": "c07be896-fd79-480a-a0fb-bf88f11ff4a1",
   "metadata": {
    "jp-MarkdownHeadingCollapsed": true,
    "tags": []
   },
   "source": [
    "### 查看陣列基本屬性\n",
    "> `ndim` : 維度數量(show有幾維)  \n",
    "> `shape` : 維度大小(show每一個維度的長度)  \n",
    "> `size` : 陣列總大小  \n",
    "> `dtype` : 陣列資料型態  \n",
    "> `itemsize` : 陣列內每個元素大小(bytes為單位)  \n",
    "> `nbytes` : 陣列使用多少記憶體(bytes為單位)  \n",
    "> `astype` : 轉換元素資料型態  "
   ]
  },
  {
   "cell_type": "code",
   "execution_count": 2,
   "id": "e9e25fb0-83e4-4de4-9248-082f226cd5c1",
   "metadata": {},
   "outputs": [],
   "source": [
    "import numpy as np"
   ]
  },
  {
   "cell_type": "code",
   "execution_count": 3,
   "id": "14b4e0ce-993d-472e-9f82-1378abefb1e2",
   "metadata": {},
   "outputs": [
    {
     "data": {
      "text/plain": [
       "array([[0.87829934, 0.95148559, 0.9710468 ],\n",
       "       [0.9784813 , 0.3614916 , 0.14524829],\n",
       "       [0.88601571, 0.19169026, 0.80424848]])"
      ]
     },
     "execution_count": 3,
     "metadata": {},
     "output_type": "execute_result"
    }
   ],
   "source": [
    "a = np.random.random([3,3])\n",
    "a"
   ]
  },
  {
   "cell_type": "code",
   "execution_count": 4,
   "id": "65146677-cb54-41d7-b559-61c43f8db454",
   "metadata": {},
   "outputs": [
    {
     "data": {
      "text/plain": [
       "9"
      ]
     },
     "execution_count": 4,
     "metadata": {},
     "output_type": "execute_result"
    }
   ],
   "source": [
    "a.size"
   ]
  },
  {
   "cell_type": "code",
   "execution_count": 5,
   "id": "c146684d-c034-44fb-a147-a608843baf5d",
   "metadata": {},
   "outputs": [
    {
     "data": {
      "text/plain": [
       "(3, 3)"
      ]
     },
     "execution_count": 5,
     "metadata": {},
     "output_type": "execute_result"
    }
   ],
   "source": [
    "a.shape"
   ]
  },
  {
   "cell_type": "code",
   "execution_count": 6,
   "id": "8e707db5-a8b1-466a-8cda-a35b9ccd46a9",
   "metadata": {},
   "outputs": [
    {
     "data": {
      "text/plain": [
       "2"
      ]
     },
     "execution_count": 6,
     "metadata": {},
     "output_type": "execute_result"
    }
   ],
   "source": [
    "a.ndim"
   ]
  },
  {
   "cell_type": "code",
   "execution_count": 7,
   "id": "379cf9c2-1e28-40a0-a618-d4cb5c63bd1d",
   "metadata": {},
   "outputs": [
    {
     "data": {
      "text/plain": [
       "dtype('float64')"
      ]
     },
     "execution_count": 7,
     "metadata": {},
     "output_type": "execute_result"
    }
   ],
   "source": [
    "a.dtype"
   ]
  },
  {
   "cell_type": "code",
   "execution_count": 9,
   "id": "2b462283-c2a4-47db-9d91-e4b956d3e391",
   "metadata": {},
   "outputs": [
    {
     "data": {
      "text/plain": [
       "8"
      ]
     },
     "execution_count": 9,
     "metadata": {},
     "output_type": "execute_result"
    }
   ],
   "source": [
    "# float64代表64bit => 64/8 = 8bytes，也就是說每一個元素是8bytes\n",
    "a.itemsize"
   ]
  },
  {
   "cell_type": "code",
   "execution_count": 12,
   "id": "09a1953f-af81-4062-b363-77e89c101e69",
   "metadata": {},
   "outputs": [
    {
     "data": {
      "text/plain": [
       "72"
      ]
     },
     "execution_count": 12,
     "metadata": {},
     "output_type": "execute_result"
    }
   ],
   "source": [
    "# nbytes = itemsize * size，9個元素，每一個8byte，總和就是72!\n",
    "a.nbytes"
   ]
  },
  {
   "cell_type": "code",
   "execution_count": 181,
   "id": "e5423858-9400-4dfd-a0ab-8473a89db3d3",
   "metadata": {},
   "outputs": [
    {
     "data": {
      "text/plain": [
       "(array([ 1.25, -9.6 , 42.  ]), dtype('float64'))"
      ]
     },
     "execution_count": 181,
     "metadata": {},
     "output_type": "execute_result"
    }
   ],
   "source": [
    "# 轉換資料型態 string => float (無指定就是default 64)\n",
    "a = np.array(['1.25', '-9.6', '42']) \n",
    "a.astype(float), a.astype(float).dtype"
   ]
  },
  {
   "cell_type": "code",
   "execution_count": 180,
   "id": "db3cc41c-67a8-49d2-a54a-94f48eb737e4",
   "metadata": {},
   "outputs": [
    {
     "data": {
      "text/plain": [
       "(dtype('float64'),\n",
       " dtype('int32'),\n",
       " array([ 3, -1, -2,  0, 12, 10], dtype=int8),\n",
       " array([  3, 255, 254,   0,  12,  10], dtype=uint8))"
      ]
     },
     "execution_count": 180,
     "metadata": {},
     "output_type": "execute_result"
    }
   ],
   "source": [
    "# 轉換資料型態 float64 => int32 / int8 / uint8\n",
    "b = np.array([3.7, -1.2, -2.6, 0.5, 12.9, 10.1])\n",
    "b.dtype, b.astype(np.int32).dtype, b.astype(np.int8), b.astype(np.uint8)"
   ]
  },
  {
   "cell_type": "markdown",
   "id": "7dc19940-e731-4710-8511-f3e488eef952",
   "metadata": {
    "tags": []
   },
   "source": [
    "### Basic Indexing(陣列索引)\n",
    "np array索引方式和list大致相同，都是透過[value1 , value2 , ...]來做索引，這裡的value指的是各維度內元素的位置!"
   ]
  },
  {
   "cell_type": "code",
   "execution_count": 20,
   "id": "349e1b28-dce9-4841-be4d-f72af9ce78a9",
   "metadata": {},
   "outputs": [
    {
     "data": {
      "text/plain": [
       "0.3537377200330542"
      ]
     },
     "execution_count": 20,
     "metadata": {},
     "output_type": "execute_result"
    }
   ],
   "source": [
    "np.random.randn(5)[0]"
   ]
  },
  {
   "cell_type": "code",
   "execution_count": 21,
   "id": "8d96d5b9-c0c6-4377-a704-2ade73354418",
   "metadata": {},
   "outputs": [
    {
     "data": {
      "text/plain": [
       "array([-0.47222706, -1.19063134])"
      ]
     },
     "execution_count": 21,
     "metadata": {},
     "output_type": "execute_result"
    }
   ],
   "source": [
    "np.random.randn(5)[2:4]"
   ]
  },
  {
   "cell_type": "code",
   "execution_count": 24,
   "id": "bebe517e-ee3b-4edc-89e8-d576092d7844",
   "metadata": {},
   "outputs": [
    {
     "data": {
      "text/plain": [
       "(array([[0.22265384, 0.79020508, 0.14775635],\n",
       "        [0.4137186 , 0.42467868, 0.43176963],\n",
       "        [0.31225144, 0.08548396, 0.79474236]]),\n",
       " array([0.31225144, 0.08548396, 0.79474236]))"
      ]
     },
     "execution_count": 24,
     "metadata": {},
     "output_type": "execute_result"
    }
   ],
   "source": [
    "# 二維陣列-1取的就是最後一行(沒逗點，代表第一維度，所以-1就是指倒數第一個元素!!)\n",
    "a = np.random.random([3,3])\n",
    "a , a[-1]"
   ]
  },
  {
   "cell_type": "code",
   "execution_count": 27,
   "id": "5d52fe1f-a8e2-4454-b14b-a6f7e33ebeb2",
   "metadata": {},
   "outputs": [
    {
     "data": {
      "text/plain": [
       "0.4246786757456317"
      ]
     },
     "execution_count": 27,
     "metadata": {},
     "output_type": "execute_result"
    }
   ],
   "source": [
    "# 第一維度內倒數第2個元素，這個元素裡面的第2個元素(0為第一個)\n",
    "a[-2 ,1]"
   ]
  },
  {
   "cell_type": "code",
   "execution_count": 29,
   "id": "9a876b2e-fffd-4869-a3f2-e5c36ab11284",
   "metadata": {},
   "outputs": [
    {
     "data": {
      "text/plain": [
       "array([[2.22653840e-01, 7.90205080e-01, 1.47756348e-01],\n",
       "       [4.13718601e-01, 4.24678676e-01, 4.31769633e-01],\n",
       "       [3.12251444e-01, 8.54839646e-02, 5.00000000e-06]])"
      ]
     },
     "execution_count": 29,
     "metadata": {},
     "output_type": "execute_result"
    }
   ],
   "source": [
    "# 透過索引變更陣列元素值\n",
    "a[2,2] = 0.000005\n",
    "a"
   ]
  },
  {
   "cell_type": "markdown",
   "id": "ba139ac3-a107-4071-a4d2-be6273851202",
   "metadata": {
    "jp-MarkdownHeadingCollapsed": true,
    "tags": []
   },
   "source": [
    "### Fancy Index \n",
    "fancy索引的概念就是使用陣列當作索引值進行slice!"
   ]
  },
  {
   "cell_type": "code",
   "execution_count": 2,
   "id": "2021513a-6828-423a-8230-a338b1a63dc1",
   "metadata": {},
   "outputs": [
    {
     "data": {
      "text/plain": [
       "array([77,  6, 80, 10, 20, 84, 85, 72, 99, 79])"
      ]
     },
     "execution_count": 2,
     "metadata": {},
     "output_type": "execute_result"
    }
   ],
   "source": [
    "import numpy as np\n",
    "x = np.random.randint(0,100,size=10)\n",
    "x"
   ]
  },
  {
   "cell_type": "code",
   "execution_count": 8,
   "id": "05143de7-1e27-49ec-89ee-c8a400602a51",
   "metadata": {},
   "outputs": [
    {
     "data": {
      "text/plain": [
       "array([[35, 26],\n",
       "       [17,  3]])"
      ]
     },
     "execution_count": 8,
     "metadata": {},
     "output_type": "execute_result"
    }
   ],
   "source": [
    "# 注意fancy索引回傳的是broadcasting後的shape，而非原始資料shape\n",
    "ind = np.array([[3,7] , [4,5]])\n",
    "x[ind]"
   ]
  },
  {
   "cell_type": "code",
   "execution_count": 9,
   "id": "09985d04-355d-4d6f-9325-1407c9494fe8",
   "metadata": {},
   "outputs": [
    {
     "data": {
      "text/plain": [
       "array([[ 0,  1,  2,  3],\n",
       "       [ 4,  5,  6,  7],\n",
       "       [ 8,  9, 10, 11]])"
      ]
     },
     "execution_count": 9,
     "metadata": {},
     "output_type": "execute_result"
    }
   ],
   "source": [
    "# 建立初始矩陣\n",
    "X=np.arange(12).reshape(3,4)\n",
    "X"
   ]
  },
  {
   "cell_type": "code",
   "execution_count": 10,
   "id": "9f2aba52",
   "metadata": {},
   "outputs": [
    {
     "data": {
      "text/plain": [
       "array([ 2,  5, 11])"
      ]
     },
     "execution_count": 10,
     "metadata": {},
     "output_type": "execute_result"
    }
   ],
   "source": [
    "# np array 取陣列對應元素運算\n",
    "row = np.array([0,1,2]) \n",
    "col = np.array([2,1,3])\n",
    "X[row,col]"
   ]
  },
  {
   "cell_type": "code",
   "execution_count": null,
   "id": "52889f23",
   "metadata": {},
   "outputs": [],
   "source": [
    "# broadcasting應用"
   ]
  },
  {
   "cell_type": "code",
   "execution_count": 11,
   "id": "e37927c4",
   "metadata": {},
   "outputs": [
    {
     "data": {
      "text/plain": [
       "array([[ 2,  1,  3],\n",
       "       [ 6,  5,  7],\n",
       "       [10,  9, 11]])"
      ]
     },
     "execution_count": 11,
     "metadata": {},
     "output_type": "execute_result"
    }
   ],
   "source": [
    "X[row[:,np.newaxis] , col]"
   ]
  },
  {
   "cell_type": "code",
   "execution_count": 12,
   "id": "224b8f63",
   "metadata": {},
   "outputs": [
    {
     "data": {
      "text/plain": [
       "array([ 8, 11,  9])"
      ]
     },
     "execution_count": 12,
     "metadata": {},
     "output_type": "execute_result"
    }
   ],
   "source": [
    "# 使用陣列進行索引\n",
    "X[2 , [0,3,1]]"
   ]
  },
  {
   "cell_type": "code",
   "execution_count": 13,
   "id": "ae0478e1",
   "metadata": {},
   "outputs": [
    {
     "data": {
      "text/plain": [
       "array([[ 4,  7,  5],\n",
       "       [ 8, 11,  9]])"
      ]
     },
     "execution_count": 13,
     "metadata": {},
     "output_type": "execute_result"
    }
   ],
   "source": [
    "# 使用陣列進行索引\n",
    "X[1: , [0,3,1]]"
   ]
  },
  {
   "cell_type": "code",
   "execution_count": 17,
   "id": "f4e5b849",
   "metadata": {},
   "outputs": [
    {
     "data": {
      "text/plain": [
       "(array([ True, False,  True, False]),\n",
       " array([[[ 0,  1,  2,  3]],\n",
       " \n",
       "        [[ 4,  5,  6,  7]],\n",
       " \n",
       "        [[ 8,  9, 10, 11]]]),\n",
       " array([[ 0,  2],\n",
       "        [ 4,  6],\n",
       "        [ 8, 10]]))"
      ]
     },
     "execution_count": 17,
     "metadata": {},
     "output_type": "execute_result"
    }
   ],
   "source": [
    "# 與布林陣列組合使用\n",
    "mask = np.array([1,0,1,0] , dtype='bool')\n",
    "mask , X[row[:,np.newaxis] , :] , X[row[:,np.newaxis] , mask]"
   ]
  },
  {
   "cell_type": "markdown",
   "id": "4b7cbf2d-c47b-4f4e-99d9-030d988276c4",
   "metadata": {
    "tags": []
   },
   "source": [
    "### Basic Slicing(陣列切片)\n",
    "和list相同，使用:做陣列切割"
   ]
  },
  {
   "cell_type": "markdown",
   "id": "09b4f412-a889-4915-a3c9-43a496981909",
   "metadata": {
    "jp-MarkdownHeadingCollapsed": true,
    "tags": []
   },
   "source": [
    "##### 一維陣列切割"
   ]
  },
  {
   "cell_type": "code",
   "execution_count": 55,
   "id": "b11ff81a-ab0f-4d8b-b519-cc59150c10ae",
   "metadata": {},
   "outputs": [
    {
     "data": {
      "text/plain": [
       "array([ 0,  1,  2,  3,  4,  5,  6,  7,  8,  9, 10])"
      ]
     },
     "execution_count": 55,
     "metadata": {},
     "output_type": "execute_result"
    }
   ],
   "source": [
    "x = np.arange(11)\n",
    "x"
   ]
  },
  {
   "cell_type": "code",
   "execution_count": 32,
   "id": "d881eeb1-f33f-4a49-badb-dc39cdda20d9",
   "metadata": {},
   "outputs": [
    {
     "data": {
      "text/plain": [
       "array([ 5,  6,  7,  8,  9, 10])"
      ]
     },
     "execution_count": 32,
     "metadata": {},
     "output_type": "execute_result"
    }
   ],
   "source": [
    "# 切出5~最後\n",
    "x[5:]"
   ]
  },
  {
   "cell_type": "code",
   "execution_count": 60,
   "id": "905cc581-edca-440d-8247-e7b53e77deb9",
   "metadata": {},
   "outputs": [
    {
     "data": {
      "text/plain": [
       "array([ 0,  2,  4,  6,  8, 10])"
      ]
     },
     "execution_count": 60,
     "metadata": {},
     "output_type": "execute_result"
    }
   ],
   "source": [
    "# 間隔2，從頭開始\n",
    "x[::2]"
   ]
  },
  {
   "cell_type": "code",
   "execution_count": 40,
   "id": "0170f0f2-99ca-427d-b109-bad26b8efbff",
   "metadata": {},
   "outputs": [
    {
     "data": {
      "text/plain": [
       "array([3, 5, 7, 9])"
      ]
     },
     "execution_count": 40,
     "metadata": {},
     "output_type": "execute_result"
    }
   ],
   "source": [
    "# 間隔2，從索引值為3的元素開始\n",
    "x[3::2]"
   ]
  },
  {
   "cell_type": "code",
   "execution_count": 41,
   "id": "b0c55c5a-e5ad-4e97-b006-7902b0178224",
   "metadata": {},
   "outputs": [
    {
     "data": {
      "text/plain": [
       "array([10,  9,  8,  7,  6,  5,  4,  3,  2,  1,  0])"
      ]
     },
     "execution_count": 41,
     "metadata": {},
     "output_type": "execute_result"
    }
   ],
   "source": [
    "# 反轉所有元素\n",
    "x[::-1]"
   ]
  },
  {
   "cell_type": "code",
   "execution_count": 52,
   "id": "00068e9b-7269-48cc-8e48-b0843258e384",
   "metadata": {},
   "outputs": [
    {
     "data": {
      "text/plain": [
       "array([5, 3, 1])"
      ]
     },
     "execution_count": 52,
     "metadata": {},
     "output_type": "execute_result"
    }
   ],
   "source": [
    "# 從索引值為5的地方反向切割\n",
    "x[5::-2]"
   ]
  },
  {
   "cell_type": "code",
   "execution_count": 58,
   "id": "c95375d5-61c1-4b10-bc48-927f2edbe55d",
   "metadata": {},
   "outputs": [
    {
     "data": {
      "text/plain": [
       "array([1, 4])"
      ]
     },
     "execution_count": 58,
     "metadata": {},
     "output_type": "execute_result"
    }
   ],
   "source": [
    "# 從索引1開始切到索引7(不包含7)，間隔3\n",
    "x[1:7:3]"
   ]
  },
  {
   "cell_type": "markdown",
   "id": "790d009f-0ce0-45f6-8ac5-547cfec3794c",
   "metadata": {
    "tags": []
   },
   "source": [
    "##### 多維陣列切割"
   ]
  },
  {
   "cell_type": "code",
   "execution_count": 44,
   "id": "c811ee90-eb7b-48bf-9b80-c6e16b1208a8",
   "metadata": {},
   "outputs": [
    {
     "data": {
      "text/plain": [
       "array([[0.30303162, 0.42000227, 0.65677541, 0.7295459 , 0.1051267 ],\n",
       "       [0.06976164, 0.82281273, 0.2795462 , 0.35855545, 0.80955563],\n",
       "       [0.22818419, 0.41936896, 0.46837036, 0.21796807, 0.9881694 ],\n",
       "       [0.51362509, 0.36489119, 0.35867755, 0.82294705, 0.31380788],\n",
       "       [0.06010595, 0.77760771, 0.50714877, 0.39374454, 0.47919945]])"
      ]
     },
     "execution_count": 44,
     "metadata": {},
     "output_type": "execute_result"
    }
   ],
   "source": [
    "y = np.random.random([5,5])\n",
    "y"
   ]
  },
  {
   "cell_type": "code",
   "execution_count": 59,
   "id": "0a79660e-7470-420a-902d-7bf238b6fd14",
   "metadata": {},
   "outputs": [
    {
     "data": {
      "text/plain": [
       "array([0.22818419, 0.41936896, 0.46837036, 0.21796807, 0.9881694 ])"
      ]
     },
     "execution_count": 59,
     "metadata": {},
     "output_type": "execute_result"
    }
   ],
   "source": [
    "# 只取第3列\n",
    "y[2,:]"
   ]
  },
  {
   "cell_type": "code",
   "execution_count": 46,
   "id": "74518c5f-6a38-4178-a99a-3a57c64bcde4",
   "metadata": {},
   "outputs": [
    {
     "data": {
      "text/plain": [
       "array([[0.30303162, 0.42000227, 0.65677541],\n",
       "       [0.06976164, 0.82281273, 0.2795462 ]])"
      ]
     },
     "execution_count": 46,
     "metadata": {},
     "output_type": "execute_result"
    }
   ],
   "source": [
    "# 第一維度從0切到2(不包含2) ; 第二維度從0切到3(不包含3)\n",
    "y[:2,:3]"
   ]
  },
  {
   "cell_type": "code",
   "execution_count": 48,
   "id": "d0664acc-b27e-461d-a081-e2151848a7e2",
   "metadata": {},
   "outputs": [
    {
     "data": {
      "text/plain": [
       "array([[0.30303162, 0.65677541, 0.1051267 ],\n",
       "       [0.06976164, 0.2795462 , 0.80955563],\n",
       "       [0.22818419, 0.46837036, 0.9881694 ],\n",
       "       [0.51362509, 0.35867755, 0.31380788],\n",
       "       [0.06010595, 0.50714877, 0.47919945]])"
      ]
     },
     "execution_count": 48,
     "metadata": {},
     "output_type": "execute_result"
    }
   ],
   "source": [
    "# 第一維度不動 ; 第二維度從0開始間隔2\n",
    "y[:,::2]"
   ]
  },
  {
   "cell_type": "code",
   "execution_count": 51,
   "id": "806917b2-22db-47bd-8820-53fd058ad113",
   "metadata": {
    "scrolled": true
   },
   "outputs": [
    {
     "data": {
      "text/plain": [
       "array([[0.47919945, 0.39374454, 0.50714877, 0.77760771, 0.06010595],\n",
       "       [0.31380788, 0.82294705, 0.35867755, 0.36489119, 0.51362509],\n",
       "       [0.9881694 , 0.21796807, 0.46837036, 0.41936896, 0.22818419],\n",
       "       [0.80955563, 0.35855545, 0.2795462 , 0.82281273, 0.06976164],\n",
       "       [0.1051267 , 0.7295459 , 0.65677541, 0.42000227, 0.30303162]])"
      ]
     },
     "execution_count": 51,
     "metadata": {},
     "output_type": "execute_result"
    }
   ],
   "source": [
    "# 兩個維度的順序都反轉\n",
    "y[::-1,::-1]"
   ]
  },
  {
   "cell_type": "code",
   "execution_count": 19,
   "id": "67b7c50c",
   "metadata": {},
   "outputs": [
    {
     "data": {
      "text/plain": [
       "array([0., 0., 1., 1., 1., 0., 0., 0., 0., 0.])"
      ]
     },
     "execution_count": 19,
     "metadata": {},
     "output_type": "execute_result"
    }
   ],
   "source": [
    "# 重複運算可能造成的謬誤\n",
    "x=np.zeros(10)\n",
    "i=[2,3,3,4,4,4]\n",
    "x[i] += 1 \n",
    "x"
   ]
  },
  {
   "cell_type": "code",
   "execution_count": 23,
   "id": "06ec60a9",
   "metadata": {},
   "outputs": [
    {
     "data": {
      "text/plain": [
       "array([0., 0., 1., 2., 3., 0., 0., 0., 0., 0.])"
      ]
     },
     "execution_count": 23,
     "metadata": {},
     "output_type": "execute_result"
    }
   ],
   "source": [
    "# 要正確的在每一次索引都正確動作，需要使用 .at()方法\n",
    "x=np.zeros(10)\n",
    "i=[2,3,3,4,4,4]\n",
    "np.add.at(x,i,1)\n",
    "x"
   ]
  },
  {
   "cell_type": "markdown",
   "id": "53361383-0a98-4d61-be43-18cad648f058",
   "metadata": {
    "tags": []
   },
   "source": [
    "### Masking Slicing\n",
    "使用陣列或是邏輯值進行陣列篩選"
   ]
  },
  {
   "cell_type": "code",
   "execution_count": 6,
   "id": "04ccc897-58f4-411b-96d4-392b80fb1a10",
   "metadata": {},
   "outputs": [
    {
     "data": {
      "text/plain": [
       "(array(['Bob', 'Joe', 'Will', 'Bob', 'Will', 'Joe', 'Joe'], dtype='<U4'),\n",
       " array([[-0.15856481,  0.70669498],\n",
       "        [-0.07738265,  0.77413698],\n",
       "        [-0.16610137,  0.41795472],\n",
       "        [ 1.76530875,  0.86053321],\n",
       "        [ 0.09406502,  0.7015382 ],\n",
       "        [ 0.39873852, -0.34526082],\n",
       "        [-0.3964849 ,  1.3301635 ]]))"
      ]
     },
     "execution_count": 6,
     "metadata": {},
     "output_type": "execute_result"
    }
   ],
   "source": [
    "names = np.array(['Bob', 'Joe', 'Will', 'Bob', 'Will', 'Joe', 'Joe'])\n",
    "data = np.random.randn(7, 2) \n",
    "names, data"
   ]
  },
  {
   "cell_type": "code",
   "execution_count": 12,
   "id": "1c65837a-63a4-4404-b3b0-ed20a5f5fe93",
   "metadata": {},
   "outputs": [
    {
     "data": {
      "text/plain": [
       "(array([False,  True,  True, False,  True,  True,  True]),\n",
       " array([[-0.07738265,  0.77413698],\n",
       "        [-0.16610137,  0.41795472],\n",
       "        [ 0.09406502,  0.7015382 ],\n",
       "        [ 0.39873852, -0.34526082],\n",
       "        [-0.3964849 ,  1.3301635 ]]))"
      ]
     },
     "execution_count": 12,
     "metadata": {},
     "output_type": "execute_result"
    }
   ],
   "source": [
    "# 注意當索引只輸入單一陣列(無:號)時，以row方向篩選哪幾列要呈現\n",
    "names != 'Bob', data[(names != 'Bob')]"
   ]
  },
  {
   "cell_type": "code",
   "execution_count": 10,
   "id": "898f6cc3-4ceb-47e3-b211-3892a47c7f3e",
   "metadata": {},
   "outputs": [
    {
     "data": {
      "text/plain": [
       "(array([], shape=(0, 7, 2), dtype=float64),\n",
       " array([[[-0.15856481,  0.70669498],\n",
       "         [-0.07738265,  0.77413698],\n",
       "         [-0.16610137,  0.41795472],\n",
       "         [ 1.76530875,  0.86053321],\n",
       "         [ 0.09406502,  0.7015382 ],\n",
       "         [ 0.39873852, -0.34526082],\n",
       "         [-0.3964849 ,  1.3301635 ]]]))"
      ]
     },
     "execution_count": 10,
     "metadata": {},
     "output_type": "execute_result"
    }
   ],
   "source": [
    "# 單一邏輯值則呈現整體陣列或是無內容的空陣列\n",
    "data[False] , data[True]"
   ]
  },
  {
   "cell_type": "code",
   "execution_count": 11,
   "id": "07f952ef",
   "metadata": {},
   "outputs": [
    {
     "data": {
      "text/plain": [
       "(array([ True, False,  True,  True,  True, False, False]),\n",
       " array([[-0.15856481,  0.70669498],\n",
       "        [-0.16610137,  0.41795472],\n",
       "        [ 1.76530875,  0.86053321],\n",
       "        [ 0.09406502,  0.7015382 ]]))"
      ]
     },
     "execution_count": 11,
     "metadata": {},
     "output_type": "execute_result"
    }
   ],
   "source": [
    "mask = (names == 'Bob') | (names == 'Will')\n",
    "mask, data[mask]"
   ]
  },
  {
   "cell_type": "markdown",
   "id": "92c16740-1d99-41ea-a8d2-c8391a260ecf",
   "metadata": {},
   "source": [
    "### Sorting(陣列排序)\n",
    "根據API文件 https://numpy.org/doc/stable/reference/generated/numpy.sort.html  \n",
    "Numpy內的預設排序是quick sort演算法!  \n",
    "排序包含以下方法: \n",
    "> sort(array , axis=0) : 回傳排序後的陣列    \n",
    "> argsort(array , axis=0) : 同上，只是回傳元素索引位置  \n",
    "> partition(array , index , axis=0) : 依照特定維度排序，將該維度內最小的元素指定個數放在最左邊，其他元素亂數放置     \n",
    "> argpartition(array , index , axis=0) : 同上，只是回傳元素索引位置  "
   ]
  },
  {
   "cell_type": "code",
   "execution_count": 30,
   "id": "c2890970",
   "metadata": {},
   "outputs": [
    {
     "data": {
      "text/plain": [
       "(None, array([1, 2, 3, 4, 5]))"
      ]
     },
     "execution_count": 30,
     "metadata": {},
     "output_type": "execute_result"
    }
   ],
   "source": [
    "# 使用OOP的方法會導致原資料被變更\n",
    "x=np.array([2,1,4,3,5])\n",
    "x.sort() , x "
   ]
  },
  {
   "cell_type": "code",
   "execution_count": 29,
   "id": "a3afdf8b-8394-4d19-9a65-3e416fd510c2",
   "metadata": {},
   "outputs": [
    {
     "data": {
      "text/plain": [
       "(array([1, 2, 3, 4, 5]), array([2, 1, 4, 3, 5]))"
      ]
     },
     "execution_count": 29,
     "metadata": {},
     "output_type": "execute_result"
    }
   ],
   "source": [
    "# 原資料不更動的做法\n",
    "x=np.array([2,1,4,3,5])\n",
    "np.sort(x) , x"
   ]
  },
  {
   "cell_type": "code",
   "execution_count": 31,
   "id": "0a0d4219",
   "metadata": {},
   "outputs": [
    {
     "data": {
      "text/plain": [
       "array([1, 0, 3, 2, 4], dtype=int64)"
      ]
     },
     "execution_count": 31,
     "metadata": {},
     "output_type": "execute_result"
    }
   ],
   "source": [
    "# 回傳索引值\n",
    "x=np.array([2,1,4,3,5])\n",
    "i = np.argsort(x)\n",
    "i"
   ]
  },
  {
   "cell_type": "code",
   "execution_count": 32,
   "id": "df31de77",
   "metadata": {},
   "outputs": [
    {
     "data": {
      "text/plain": [
       "array([1, 2, 3, 4, 5])"
      ]
     },
     "execution_count": 32,
     "metadata": {},
     "output_type": "execute_result"
    }
   ],
   "source": [
    "# 使用 fancy 索引還原排序後資料\n",
    "x[i]"
   ]
  },
  {
   "cell_type": "code",
   "execution_count": 34,
   "id": "47574323",
   "metadata": {},
   "outputs": [
    {
     "data": {
      "text/plain": [
       "array([[6, 3, 7, 4, 6, 9],\n",
       "       [2, 6, 7, 4, 3, 7],\n",
       "       [7, 2, 5, 4, 1, 7],\n",
       "       [5, 1, 4, 0, 9, 5]])"
      ]
     },
     "execution_count": 34,
     "metadata": {},
     "output_type": "execute_result"
    }
   ],
   "source": [
    "# 排序也可以根據維度方向來操作\n",
    "rand=np.random.RandomState(42)\n",
    "X=rand.randint(0,10,[4,6])\n",
    "X"
   ]
  },
  {
   "cell_type": "code",
   "execution_count": 35,
   "id": "69515fc9",
   "metadata": {},
   "outputs": [
    {
     "data": {
      "text/plain": [
       "array([[3, 4, 6, 6, 7, 9],\n",
       "       [2, 3, 4, 6, 7, 7],\n",
       "       [1, 2, 4, 5, 7, 7],\n",
       "       [0, 1, 4, 5, 5, 9]])"
      ]
     },
     "execution_count": 35,
     "metadata": {},
     "output_type": "execute_result"
    }
   ],
   "source": [
    "np.sort(X,axis=1)"
   ]
  },
  {
   "cell_type": "code",
   "execution_count": 40,
   "id": "95a0ddaf",
   "metadata": {},
   "outputs": [
    {
     "data": {
      "text/plain": [
       "array([2, 1, 3, 4, 6, 5, 7])"
      ]
     },
     "execution_count": 40,
     "metadata": {},
     "output_type": "execute_result"
    }
   ],
   "source": [
    "# 可以看到最小的3個元素被放在最左邊，並且沒有經過排序!\n",
    "x=np.array([7,2,3,1,6,5,4])\n"
   ]
  },
  {
   "cell_type": "code",
   "execution_count": 41,
   "id": "56a981a3",
   "metadata": {
    "scrolled": true
   },
   "outputs": [
    {
     "data": {
      "text/plain": [
       "array([[3, 4, 6, 7, 6, 9],\n",
       "       [2, 3, 4, 7, 6, 7],\n",
       "       [1, 2, 4, 5, 7, 7],\n",
       "       [0, 1, 4, 5, 9, 5]])"
      ]
     },
     "execution_count": 41,
     "metadata": {},
     "output_type": "execute_result"
    }
   ],
   "source": [
    "# 同樣可以操作在二維陣列\n",
    "np.partition(X,2,axis=1)"
   ]
  },
  {
   "cell_type": "code",
   "execution_count": 42,
   "id": "83cd39b1",
   "metadata": {},
   "outputs": [
    {
     "data": {
      "text/plain": [
       "array([[ 2, 33],\n",
       "       [42, 29],\n",
       "       [15, 16],\n",
       "       [36, 48],\n",
       "       [ 1, 17],\n",
       "       [11, 45],\n",
       "       [46, 42],\n",
       "       [ 7, 41],\n",
       "       [39, 23],\n",
       "       [46, 40]])"
      ]
     },
     "execution_count": 42,
     "metadata": {},
     "output_type": "execute_result"
    }
   ],
   "source": [
    "# 重要應用! 計算2維平面多點的 metric matrix\n",
    "X=np.random.randint(0,50,[10,2])\n",
    "X"
   ]
  },
  {
   "cell_type": "code",
   "execution_count": 44,
   "id": "69be821e",
   "metadata": {},
   "outputs": [
    {
     "data": {
      "text/plain": [
       "array([[   0, 1616,  458, 1381,  257,  225, 2017,   89, 1469, 1985],\n",
       "       [1616,    0,  898,  397, 1825, 1217,  185, 1369,   45,  137],\n",
       "       [ 458,  898,    0, 1465,  197,  857, 1637,  689,  625, 1537],\n",
       "       [1381,  397, 1465,    0, 2186,  634,  136,  890,  634,  164],\n",
       "       [ 257, 1825,  197, 2186,    0,  884, 2650,  612, 1480, 2554],\n",
       "       [ 225, 1217,  857,  634,  884,    0, 1234,   32, 1268, 1250],\n",
       "       [2017,  185, 1637,  136, 2650, 1234,    0, 1522,  410,    4],\n",
       "       [  89, 1369,  689,  890,  612,   32, 1522,    0, 1348, 1522],\n",
       "       [1469,   45,  625,  634, 1480, 1268,  410, 1348,    0,  338],\n",
       "       [1985,  137, 1537,  164, 2554, 1250,    4, 1522,  338,    0]])"
      ]
     },
     "execution_count": 44,
     "metadata": {},
     "output_type": "execute_result"
    }
   ],
   "source": [
    "# 利用broadcasting原理，達到X,Y座標相減並且取平方和的效果!!\n",
    "dist_q = np.sum( (X[:,np.newaxis,:]-X[np.newaxis,:,:])**2 , axis=-1)\n",
    "dist_q"
   ]
  },
  {
   "cell_type": "code",
   "execution_count": 45,
   "id": "3fb5f619",
   "metadata": {},
   "outputs": [
    {
     "data": {
      "text/plain": [
       "array([0, 0, 0, 0, 0, 0, 0, 0, 0, 0])"
      ]
     },
     "execution_count": 45,
     "metadata": {},
     "output_type": "execute_result"
    }
   ],
   "source": [
    "# 確認對角線均為0\n",
    "dist_q.diagonal()"
   ]
  },
  {
   "cell_type": "code",
   "execution_count": 46,
   "id": "15aa7c8e",
   "metadata": {},
   "outputs": [
    {
     "data": {
      "text/plain": [
       "array([[0, 7, 5, 4, 2, 3, 8, 1, 9, 6],\n",
       "       [1, 8, 9, 6, 3, 2, 5, 7, 0, 4],\n",
       "       [2, 4, 0, 8, 7, 5, 1, 3, 9, 6],\n",
       "       [3, 6, 9, 1, 5, 8, 7, 0, 2, 4],\n",
       "       [4, 2, 0, 7, 5, 8, 1, 3, 9, 6],\n",
       "       [5, 7, 0, 3, 2, 4, 1, 6, 9, 8],\n",
       "       [6, 9, 3, 1, 8, 5, 7, 2, 0, 4],\n",
       "       [7, 5, 0, 4, 2, 3, 8, 1, 6, 9],\n",
       "       [8, 1, 9, 6, 2, 3, 5, 7, 0, 4],\n",
       "       [9, 6, 1, 3, 8, 5, 7, 2, 0, 4]], dtype=int64)"
      ]
     },
     "execution_count": 46,
     "metadata": {},
     "output_type": "execute_result"
    }
   ],
   "source": [
    "# 利用argsort()得到元素排序，注意每列第一個元素0~9，因為自己和自己距離最近(距離0)\n",
    "nearest = np.argsort(dist_q , axis=1)\n",
    "nearest"
   ]
  },
  {
   "cell_type": "code",
   "execution_count": 48,
   "id": "3bbec03e",
   "metadata": {},
   "outputs": [
    {
     "data": {
      "text/plain": [
       "array([[5, 0, 7, 4, 1, 3, 6, 2, 8, 9],\n",
       "       [1, 8, 9, 6, 3, 5, 2, 7, 0, 4],\n",
       "       [2, 4, 0, 8, 7, 3, 1, 5, 9, 6],\n",
       "       [3, 6, 9, 1, 8, 5, 7, 0, 2, 4],\n",
       "       [2, 4, 0, 7, 5, 3, 1, 8, 9, 6],\n",
       "       [5, 7, 0, 3, 2, 4, 6, 1, 8, 9],\n",
       "       [6, 9, 3, 1, 8, 5, 2, 7, 0, 4],\n",
       "       [5, 0, 7, 4, 1, 3, 6, 2, 8, 9],\n",
       "       [9, 1, 8, 6, 2, 3, 5, 7, 0, 4],\n",
       "       [6, 9, 1, 3, 8, 5, 2, 7, 0, 4]], dtype=int64)"
      ]
     },
     "execution_count": 48,
     "metadata": {},
     "output_type": "execute_result"
    }
   ],
   "source": [
    "# 找出距離最近的2點，也就是針對每一列排序，把最小的丟到最左邊，即為kNN的概念!\n",
    "nearest_partition = np.argpartition(dist_q , 3 , axis=1)\n",
    "nearest_partition "
   ]
  },
  {
   "cell_type": "code",
   "execution_count": 61,
   "id": "56ebacd0",
   "metadata": {
    "scrolled": true
   },
   "outputs": [
    {
     "data": {
      "text/plain": [
       "array([[5, 0],\n",
       "       [1, 8],\n",
       "       [2, 4],\n",
       "       [3, 6],\n",
       "       [2, 4],\n",
       "       [5, 7],\n",
       "       [6, 9],\n",
       "       [5, 0],\n",
       "       [9, 1],\n",
       "       [6, 9]], dtype=int64)"
      ]
     },
     "execution_count": 61,
     "metadata": {},
     "output_type": "execute_result"
    }
   ],
   "source": [
    "# 至於取出每列前兩個位置，可透過hsplit\n",
    "np.hsplit(nearest_partition , [0,2])[1]"
   ]
  },
  {
   "cell_type": "markdown",
   "id": "79af0617-17d4-4642-b04c-20d612f8dbfa",
   "metadata": {
    "jp-MarkdownHeadingCollapsed": true,
    "tags": []
   },
   "source": [
    "### Shallow Copy\n",
    "在np array的運算下，修改np array會同步修改到原始資料(inplace)，因此我們需要將原資料copy一份作修改用，保原資料完整性!"
   ]
  },
  {
   "cell_type": "code",
   "execution_count": 62,
   "id": "c23e9f05-e7ce-4ed7-87fc-f3ce2771a9ef",
   "metadata": {},
   "outputs": [
    {
     "data": {
      "text/plain": [
       "array([0, 1, 2, 3, 4, 5, 6, 7, 8, 9])"
      ]
     },
     "execution_count": 62,
     "metadata": {},
     "output_type": "execute_result"
    }
   ],
   "source": [
    "arr = np.arange(10)\n",
    "arr"
   ]
  },
  {
   "cell_type": "code",
   "execution_count": 63,
   "id": "9e850b76-a369-4453-876f-255b2b437573",
   "metadata": {},
   "outputs": [
    {
     "data": {
      "text/plain": [
       "(array([0, 1, 2, 3, 4, 5, 6, 7, 8, 9]), array([5, 6, 7]))"
      ]
     },
     "execution_count": 63,
     "metadata": {},
     "output_type": "execute_result"
    }
   ],
   "source": [
    "arr_slice = arr[5:8]\n",
    "arr, arr_slice"
   ]
  },
  {
   "cell_type": "code",
   "execution_count": 65,
   "id": "c96a11ee-aab1-49ea-9241-112fc7eab18b",
   "metadata": {},
   "outputs": [
    {
     "data": {
      "text/plain": [
       "(array([ 0,  1,  2,  3,  4, 64, 64, 64,  8,  9]), array([64, 64, 64]))"
      ]
     },
     "execution_count": 65,
     "metadata": {},
     "output_type": "execute_result"
    }
   ],
   "source": [
    "# 變更slice後的資料，原始資料也會連動\n",
    "arr_slice[:] = 64\n",
    "arr, arr_slice "
   ]
  },
  {
   "cell_type": "code",
   "execution_count": 37,
   "id": "36aae960-419e-4db8-aad0-0a1ffca216e9",
   "metadata": {},
   "outputs": [
    {
     "data": {
      "text/plain": [
       "array([0, 1, 2, 3, 4, 5, 6, 7, 8, 9])"
      ]
     },
     "execution_count": 37,
     "metadata": {},
     "output_type": "execute_result"
    }
   ],
   "source": [
    "arr2 = np.arange(10)\n",
    "arr2"
   ]
  },
  {
   "cell_type": "code",
   "execution_count": 38,
   "id": "b1a67abd-fa2d-4204-b203-23302d907db2",
   "metadata": {},
   "outputs": [
    {
     "data": {
      "text/plain": [
       "(array([0, 1, 2, 3, 4, 5, 6, 7, 8, 9]), array([64, 64, 64]))"
      ]
     },
     "execution_count": 38,
     "metadata": {},
     "output_type": "execute_result"
    }
   ],
   "source": [
    "# 使用 copy()\n",
    "arr_slice2 = arr2[5:8].copy()\n",
    "arr_slice2[:] = 64\n",
    "arr2, arr_slice2 "
   ]
  },
  {
   "cell_type": "markdown",
   "id": "ab884f0f",
   "metadata": {},
   "source": [
    "### Deep Copy\n",
    "shallow copy與deep copy最大的差異在於變更的元素是否immutable!! "
   ]
  },
  {
   "cell_type": "code",
   "execution_count": 17,
   "id": "531a48e7",
   "metadata": {},
   "outputs": [
    {
     "name": "stdout",
     "output_type": "stream",
     "text": [
      "a:             [1, [2, 3]]         id:2428796930048\n",
      "a_shallow_copy:[1, [2, 3]]         id:2428425060288\n",
      "a_deepcopy:    [1, [2, 3]]         id:2428796936448\n",
      "\n",
      "Change immutable part: a[0] = 4\n",
      "\n",
      "Change immutable part: a[1][0] = 99\n",
      "a:             [4, [99, 3]]        id:2428796930048\n",
      "a_shallow_copy:[1, [99, 3]]        id:2428425060288\n",
      "a_deepcopy:    [1, [2, 3]]         id:2428796936448\n"
     ]
    }
   ],
   "source": [
    "import copy\n",
    "a = [1, [2,3]]\n",
    "a_ref = a\n",
    "a_shallowcopy = copy.copy(a)\n",
    "a_deepcopy = copy.deepcopy(a)\n",
    "\n",
    "print(\"{:<15}{:<20}{}\".format(\"a:\", f\"{a}\", f\"id:{id(a_ref)}\"))\n",
    "print(\"{:<15}{:<20}{}\".format(\"a_shallow_copy:\", f\"{a_shallowcopy}\", f\"id:{id(a_shallowcopy)}\"))\n",
    "print(\"{:<15}{:<20}{}\".format(\"a_deepcopy:\", f\"{a_deepcopy}\", f\"id:{id(a_deepcopy)}\"))\n",
    "\n",
    "a[0] = 4\n",
    "a[1][0] = 99\n",
    "print(\"\\nChange immutable part: a[0] = 4\")\n",
    "print(\"\\nChange immutable part: a[1][0] = 99\")\n",
    "print(\"{:<15}{:<20}{}\".format(\"a:\", f\"{a}\", f\"id:{id(a_ref)}\"))\n",
    "print(\"{:<15}{:<20}{}\".format(\"a_shallow_copy:\", f\"{a_shallowcopy}\", f\"id:{id(a_shallowcopy)}\"))\n",
    "print(\"{:<15}{:<20}{}\".format(\"a_deepcopy:\", f\"{a_deepcopy}\", f\"id:{id(a_deepcopy)}\"))"
   ]
  },
  {
   "cell_type": "markdown",
   "id": "d9bf247e-cdcb-4fd9-9c7a-bd6c0e82f697",
   "metadata": {
    "jp-MarkdownHeadingCollapsed": true,
    "tags": []
   },
   "source": [
    "### Dimension Definition(陣列維度定義)\n",
    "陣列簡易理解:\n",
    "> 幾組中括號 [ ] 即為幾維陣列  \n",
    "> 維度計算由外而內 => [[[ ... ]]]  \n",
    "\n",
    "以下介紹1~3維陣列"
   ]
  },
  {
   "cell_type": "code",
   "execution_count": 2,
   "id": "a0242843-80dd-4d9a-9652-cbc9614b81a5",
   "metadata": {},
   "outputs": [
    {
     "name": "stdout",
     "output_type": "stream",
     "text": [
      "[0 1 2 3 4 5 6 7 8 9] (10,) <class 'numpy.ndarray'>\n"
     ]
    }
   ],
   "source": [
    "# 1d-array concept\n",
    "# 一維陣列即為一串數字，以[...]呈現，資料型別為ndarray\n",
    "import numpy as np\n",
    "x = np.array(range(10))\n",
    "print(x , x.shape , type(x))"
   ]
  },
  {
   "cell_type": "code",
   "execution_count": 16,
   "id": "7e84fd85-0ab6-4e3d-a2c7-4ca563599f1f",
   "metadata": {},
   "outputs": [
    {
     "name": "stdout",
     "output_type": "stream",
     "text": [
      "[[-1.16793029 -0.42805292  0.05283791]\n",
      " [-0.94743635  0.31580892 -0.01051219]] (2, 3) <class 'numpy.ndarray'>\n"
     ]
    }
   ],
   "source": [
    "# 2d-array concept\n",
    "# 將一維陣列內的元素置換成陣列，整個物件即為二維陣列，以[ [...] , [...] , ...]呈現，資料型別仍為ndarray \n",
    "y = np.random.randn(2, 3)\n",
    "print(y , y.shape , type(y))\n",
    "# 這裡的shape(2,3)意思就是這個ndarray物件內有2個元素，這2個元素都是陣列，且內容包含3個元素，而這個3也就是我們說的第二維度的元素數目!"
   ]
  },
  {
   "cell_type": "code",
   "execution_count": 11,
   "id": "23fa70b4-d1bd-4e00-bef2-642f68c221e6",
   "metadata": {},
   "outputs": [
    {
     "name": "stdout",
     "output_type": "stream",
     "text": [
      "[[[ 0  1  2  3]\n",
      "  [ 4  5  6  7]\n",
      "  [ 8  9 10 11]]\n",
      "\n",
      " [[12 13 14 15]\n",
      "  [16 17 18 19]\n",
      "  [20 21 22 23]]] (2, 3, 4) <class 'numpy.ndarray'>\n"
     ]
    }
   ],
   "source": [
    "# 3d-array concept\n",
    "# 將二維陣列內的元素置換成陣列，整個物件即為三維陣列，以[ [ [...] , [...] , ... ]  , ...]\n",
    "z = np.arange(24).reshape(2, 3, 4)\n",
    "print(z , z.shape , type(z))\n",
    "# 這裡的shape(2,3,4)意思就是ndarray物件內有2個陣列元素，其內容包含3個陣列元素，這3個陣列元素長度為4，而這個4也就是第三維度的元素數目! "
   ]
  },
  {
   "cell_type": "markdown",
   "id": "18439fa8-fc37-40df-bc5f-dad868cfc203",
   "metadata": {
    "jp-MarkdownHeadingCollapsed": true,
    "tags": []
   },
   "source": [
    "### Concatenate(陣列的串接)\n",
    "Numpy中串接array主要以concatenate,stack來完成  \n",
    "根據官方API文件，https://numpy.org/doc/stable/reference/generated/numpy.concatenate.html?highlight=concat#numpy.concatenate  \n",
    "concatenate第一個position arg需要給array-like的物件，其shape必須相同，例如: (2,3)對應(2,3)  \n",
    "而這個array-like物件可以用tuple形式；也可以用list形式! i.e. (...) or [...]  \n",
    "> `concatenate( [a1,a2,...] [, axis=0 , dtype=None])`  \n",
    "預設axis=第一維度0，而給None則表示結果以一維陣列顯示"
   ]
  },
  {
   "cell_type": "code",
   "execution_count": 82,
   "id": "1f49bc80-0f24-4ba1-a747-ee8797a3e0a4",
   "metadata": {},
   "outputs": [
    {
     "data": {
      "text/plain": [
       "(array([ 0.34870849, -0.13177096, -0.71142358, -1.97758005,  0.20605235]),\n",
       " array([0., 1., 2., 3., 4.]))"
      ]
     },
     "execution_count": 82,
     "metadata": {},
     "output_type": "execute_result"
    }
   ],
   "source": [
    "a = np.random.randn(5) ; b = np.arange(5 , dtype='float64')\n",
    "a , b"
   ]
  },
  {
   "cell_type": "code",
   "execution_count": 87,
   "id": "5f0c6d4e-42e8-4e34-8e5f-8d96fec7e784",
   "metadata": {},
   "outputs": [
    {
     "data": {
      "text/plain": [
       "array([ 0.34870849, -0.13177096, -0.71142358, -1.97758005,  0.20605235,\n",
       "        0.        ,  1.        ,  2.        ,  3.        ,  4.        ])"
      ]
     },
     "execution_count": 87,
     "metadata": {},
     "output_type": "execute_result"
    }
   ],
   "source": [
    "# 注意如果不用tuple or list input會報錯\n",
    "# np.concatenate(a,b)\n",
    "np.concatenate( [a,b])"
   ]
  },
  {
   "cell_type": "code",
   "execution_count": 88,
   "id": "8826cc38-7ded-4f8f-a41e-74872c702801",
   "metadata": {},
   "outputs": [
    {
     "data": {
      "text/plain": [
       "array([ 0.34870849, -0.13177096, -0.71142358, -1.97758005,  0.20605235,\n",
       "        0.        ,  1.        ,  2.        ,  3.        ,  4.        ])"
      ]
     },
     "execution_count": 88,
     "metadata": {},
     "output_type": "execute_result"
    }
   ],
   "source": [
    "# 使用tuple形式也可以\n",
    "np.concatenate( (a,b))"
   ]
  },
  {
   "cell_type": "code",
   "execution_count": 98,
   "id": "1dd9d1fe-c913-4dfa-9c5e-b3c2afdc89fd",
   "metadata": {},
   "outputs": [
    {
     "data": {
      "text/plain": [
       "array([ 0.34870849, -0.13177096, -0.71142358, -1.97758005,  0.20605235,\n",
       "        0.        ,  1.        ,  2.        ,  3.        ,  4.        ,\n",
       "        0.        ,  5.        , 10.        , 15.        , 20.        ])"
      ]
     },
     "execution_count": 98,
     "metadata": {},
     "output_type": "execute_result"
    }
   ],
   "source": [
    "# 串接3個陣列，default axis=0，所以結果會是一維陣列!\n",
    "c = [0,5,10,15,20]\n",
    "np.concatenate( [a,b,c])"
   ]
  },
  {
   "cell_type": "code",
   "execution_count": 91,
   "id": "b3eb5aa5-88d4-4e78-88c9-6b4b768df66d",
   "metadata": {},
   "outputs": [
    {
     "data": {
      "text/plain": [
       "array([[1, 2, 3],\n",
       "       [4, 5, 6]])"
      ]
     },
     "execution_count": 91,
     "metadata": {},
     "output_type": "execute_result"
    }
   ],
   "source": [
    "# 二維陣列串接\n",
    "grid = np.array([[1,2,3],[4,5,6]])\n",
    "grid"
   ]
  },
  {
   "cell_type": "code",
   "execution_count": null,
   "id": "639c4e11-3cba-4668-82d5-09b328e9c58a",
   "metadata": {},
   "outputs": [],
   "source": [
    "# 以第一維度串接"
   ]
  },
  {
   "cell_type": "code",
   "execution_count": 94,
   "id": "4b9c18d8-4e5b-4f18-82a9-3a22a5f71310",
   "metadata": {},
   "outputs": [
    {
     "data": {
      "text/plain": [
       "array([[1, 2, 3],\n",
       "       [4, 5, 6],\n",
       "       [1, 2, 3],\n",
       "       [4, 5, 6]])"
      ]
     },
     "execution_count": 94,
     "metadata": {},
     "output_type": "execute_result"
    }
   ],
   "source": [
    "np.concatenate( (grid,grid) , axis=0)"
   ]
  },
  {
   "cell_type": "code",
   "execution_count": null,
   "id": "e1fb38ca-c1c4-41e0-8527-75415fd05564",
   "metadata": {},
   "outputs": [],
   "source": [
    "# 以第二維度串接"
   ]
  },
  {
   "cell_type": "code",
   "execution_count": 95,
   "id": "3898cb89-4e2e-4b6e-8608-dc60e9797926",
   "metadata": {},
   "outputs": [
    {
     "data": {
      "text/plain": [
       "array([[1, 2, 3, 1, 2, 3],\n",
       "       [4, 5, 6, 4, 5, 6]])"
      ]
     },
     "execution_count": 95,
     "metadata": {},
     "output_type": "execute_result"
    }
   ],
   "source": [
    "np.concatenate( (grid,grid) , axis=1)"
   ]
  },
  {
   "cell_type": "code",
   "execution_count": 97,
   "id": "e8c7ab39-6fd9-436c-a2d4-bd4b4e4dddc0",
   "metadata": {},
   "outputs": [
    {
     "data": {
      "text/plain": [
       "array([1, 2, 3, 4, 5, 6, 1, 2, 3, 4, 5, 6])"
      ]
     },
     "execution_count": 97,
     "metadata": {},
     "output_type": "execute_result"
    }
   ],
   "source": [
    "# axis給None代表攤平成一維\n",
    "np.concatenate( (grid,grid) , axis=None)"
   ]
  },
  {
   "cell_type": "markdown",
   "id": "d32d0e44-ecae-48f5-902e-67728790a5a8",
   "metadata": {
    "jp-MarkdownHeadingCollapsed": true,
    "tags": []
   },
   "source": [
    "### Reshape(陣列的重塑)\n",
    "> .reshape()方法能讓指定的ndarray依照指定維度回傳，但如果ndarray元素數目與指定維度不相符則會報錯  \n",
    "> .newaxis 可以強制增加維度  "
   ]
  },
  {
   "cell_type": "code",
   "execution_count": 104,
   "id": "57f98232-3579-4ada-8236-69aff47e46de",
   "metadata": {},
   "outputs": [
    {
     "data": {
      "text/plain": [
       "array([[[ 0,  1,  2,  3],\n",
       "        [ 4,  5,  6,  7],\n",
       "        [ 8,  9, 10, 11]],\n",
       "\n",
       "       [[12, 13, 14, 15],\n",
       "        [16, 17, 18, 19],\n",
       "        [20, 21, 22, 23]]])"
      ]
     },
     "execution_count": 104,
     "metadata": {},
     "output_type": "execute_result"
    }
   ],
   "source": [
    "# 把24個元素的1維陣列轉乘2x3x4的3維陣列\n",
    "# 注意維度指定錯誤會報錯\n",
    "#np.arange(24).reshape(7,3,4)\n",
    "np.arange(24).reshape(2,3,4)"
   ]
  },
  {
   "cell_type": "code",
   "execution_count": 102,
   "id": "7932b0c8-cd08-48fa-b089-6ad79106b459",
   "metadata": {},
   "outputs": [
    {
     "data": {
      "text/plain": [
       "array([[[ 0,  1,  2]],\n",
       "\n",
       "       [[ 3,  4,  5]],\n",
       "\n",
       "       [[ 6,  7,  8]],\n",
       "\n",
       "       [[ 9, 10, 11]],\n",
       "\n",
       "       [[12, 13, 14]]])"
      ]
     },
     "execution_count": 102,
     "metadata": {},
     "output_type": "execute_result"
    }
   ],
   "source": [
    "# 新增第二維度於原先的2維陣列，形成3維陣列\n",
    "np.arange(15).reshape(5,3)[:,np.newaxis,:]"
   ]
  },
  {
   "cell_type": "markdown",
   "id": "ecc00ae8",
   "metadata": {},
   "source": [
    "### Transpose(陣列的轉置)\n",
    "正確來說應該用permutation，因為轉置是指數學上矩陣的兩維度交換(e.g. M')  \n",
    "置入的數字代表要將原始陣列的第幾維度換到該shape上:  \n",
    "> `.transpose(dim1 , dim2 , ...)` : arg個數必須與維度數相符，否則報錯，取值為0~最大維度數，數字不能重複  "
   ]
  },
  {
   "cell_type": "code",
   "execution_count": 12,
   "id": "1b86989f",
   "metadata": {},
   "outputs": [
    {
     "data": {
      "text/plain": [
       "array([[[ 0, 12],\n",
       "        [ 1, 13],\n",
       "        [ 2, 14],\n",
       "        [ 3, 15]],\n",
       "\n",
       "       [[ 4, 16],\n",
       "        [ 5, 17],\n",
       "        [ 6, 18],\n",
       "        [ 7, 19]],\n",
       "\n",
       "       [[ 8, 20],\n",
       "        [ 9, 21],\n",
       "        [10, 22],\n",
       "        [11, 23]]])"
      ]
     },
     "execution_count": 12,
     "metadata": {},
     "output_type": "execute_result"
    }
   ],
   "source": [
    "# 下面的例子是這樣看: 把原始陣列的axis=1維度元素數目換到axis=0上，也就是說axis=0這個維度數目會是3，後面以此類推...\n",
    "a = np.arange(24).reshape(2,3,4)\n",
    "a.transpose(1,2,0)"
   ]
  },
  {
   "cell_type": "markdown",
   "id": "036416a9",
   "metadata": {},
   "source": [
    "### Stride(陣列的排序)\n",
    "在陣列內，存在base基底，它是一個1維陣列。後續衍生的ndarray物件都是參考base產生。  \n",
    "也就是說，如果我們查詢由同樣一維陣列衍生的array的base，他們會相同!!  \n",
    "有了這個概念後，接下來就必須要知道stride。  \n",
    "stride根據Numpy API文件 https://numpy.org/doc/stable/reference/generated/numpy.ndarray.strides.html  \n",
    "這個屬性的定義為 Tuple of bytes to step in each dimension when traversing an array.  \n",
    "也就是在特定維度上移動1單位所需要的byte數。  \n",
    "我們透過以下例子詳細說明:"
   ]
  },
  {
   "cell_type": "code",
   "execution_count": 6,
   "id": "e846363f",
   "metadata": {},
   "outputs": [
    {
     "data": {
      "text/plain": [
       "(array([ 0,  1,  2,  3,  4,  5,  6,  7,  8,  9, 10, 11, 12, 13, 14, 15, 16,\n",
       "        17, 18, 19, 20, 21, 22, 23]),\n",
       " array([[[ 0,  1,  2,  3],\n",
       "         [ 4,  5,  6,  7],\n",
       "         [ 8,  9, 10, 11]],\n",
       " \n",
       "        [[12, 13, 14, 15],\n",
       "         [16, 17, 18, 19],\n",
       "         [20, 21, 22, 23]]]),\n",
       " array([[[ 0,  1,  2,  3],\n",
       "         [ 4,  5,  6,  7]],\n",
       " \n",
       "        [[ 8,  9, 10, 11],\n",
       "         [12, 13, 14, 15]],\n",
       " \n",
       "        [[16, 17, 18, 19],\n",
       "         [20, 21, 22, 23]]]))"
      ]
     },
     "execution_count": 6,
     "metadata": {},
     "output_type": "execute_result"
    }
   ],
   "source": [
    "# 建立原生與衍生物件陣列\n",
    "a = np.arange(24)\n",
    "b = np.arange(24).reshape(2,3,4)\n",
    "c = np.arange(24).reshape(3,2,4)\n",
    "a,b,c"
   ]
  },
  {
   "cell_type": "code",
   "execution_count": 7,
   "id": "30d92b58",
   "metadata": {},
   "outputs": [
    {
     "data": {
      "text/plain": [
       "(None,\n",
       " array([ 0,  1,  2,  3,  4,  5,  6,  7,  8,  9, 10, 11, 12, 13, 14, 15, 16,\n",
       "        17, 18, 19, 20, 21, 22, 23]),\n",
       " array([ 0,  1,  2,  3,  4,  5,  6,  7,  8,  9, 10, 11, 12, 13, 14, 15, 16,\n",
       "        17, 18, 19, 20, 21, 22, 23]))"
      ]
     },
     "execution_count": 7,
     "metadata": {},
     "output_type": "execute_result"
    }
   ],
   "source": [
    "# 可以看到b,c兩個衍生陣列的base均相同，而a為原生陣列，並非透過Numpy的陣列方法產生的物件，因此回傳None\n",
    "a.base , b.base , c.base"
   ]
  },
  {
   "cell_type": "code",
   "execution_count": 8,
   "id": "fc0fa855",
   "metadata": {},
   "outputs": [
    {
     "data": {
      "text/plain": [
       "((48, 16, 4), (32, 16, 4))"
      ]
     },
     "execution_count": 8,
     "metadata": {},
     "output_type": "execute_result"
    }
   ],
   "source": [
    "# 查看b,c兩陣列的strides，會發現略有不同\n",
    "b.strides , c.strides"
   ]
  },
  {
   "cell_type": "code",
   "execution_count": 10,
   "id": "e9c45536",
   "metadata": {},
   "outputs": [
    {
     "data": {
      "text/plain": [
       "array([[[ 0, 12],\n",
       "        [ 1, 13],\n",
       "        [ 2, 14],\n",
       "        [ 3, 15]],\n",
       "\n",
       "       [[ 4, 16],\n",
       "        [ 5, 17],\n",
       "        [ 6, 18],\n",
       "        [ 7, 19]],\n",
       "\n",
       "       [[ 8, 20],\n",
       "        [ 9, 21],\n",
       "        [10, 22],\n",
       "        [11, 23]]])"
      ]
     },
     "execution_count": 10,
     "metadata": {},
     "output_type": "execute_result"
    }
   ],
   "source": [
    "# transpose 會改變物件的stride，因此會對元素填入順序產生影響\n",
    "d = b.transpose(1,2,0)\n",
    "d"
   ]
  },
  {
   "cell_type": "code",
   "execution_count": 11,
   "id": "7996b67d",
   "metadata": {},
   "outputs": [
    {
     "data": {
      "text/plain": [
       "(16, 4, 48)"
      ]
     },
     "execution_count": 11,
     "metadata": {},
     "output_type": "execute_result"
    }
   ],
   "source": [
    "# stride由b的(48,16,4)變成(16,4,48)，與transpose變換方式相同\n",
    "d.strides"
   ]
  },
  {
   "cell_type": "code",
   "execution_count": null,
   "id": "e390cdf9",
   "metadata": {},
   "outputs": [],
   "source": [
    "# 回傳的tuple代表每一個維度移動1單位所需要的byte數\n",
    "# 第三維度為48，代表從 d[0,0,0] 移動到 d[0,0,1] 需要48 bytes，而 1 int = 4 byte，因此需要移動12個單位 => base從0開始移動12個單位即為12\n",
    "# 第二維度為48，代表從 d[0,0,0] 移動到 d[0,1,0] 需要4 bytes，而 1 int = 4 byte，因此需要移動1個單位 => base從0開始移動1個單位即為1\n",
    "# 第一維度為48，代表從 d[0,0,0] 移動到 d[1,0,0] 需要16 bytes，而 1 int = 4 byte，因此需要移動4個單位 => base從0開始移動4個單位即為4\n",
    "# 因此，第2維度的第0個元素即為 [0,12] ...以此類推"
   ]
  },
  {
   "cell_type": "markdown",
   "id": "91091a25-baab-49eb-ab2f-cab1c1b316cc",
   "metadata": {
    "jp-MarkdownHeadingCollapsed": true,
    "tags": []
   },
   "source": [
    "### Split(陣列的分割)\n",
    "根據Numpy API文件 https://numpy.org/doc/stable/reference/generated/numpy.split.html  \n",
    "`np.split(array , indices_or_sections , axis=0) ` \n",
    "> 第1個position arg為ndarray，即Numpy陣列  \n",
    "> 第2個position arg為指標或區間  \n",
    "        - 指標: 給整數，就代表要分成幾段，但是如果段數不能整除資料長度會報錯  \n",
    "        - 區間: 可以直接給list也可以用np.array(range())給，不能整除不會報錯，會將不足的部分以空陣列array([])回傳  \n",
    "> 第3個position arg為分割方向，0為第一維度軸；1為第二維度軸...以此類推  "
   ]
  },
  {
   "cell_type": "code",
   "execution_count": 12,
   "id": "320b27da-b39a-44dd-a497-ebf4c50fe24e",
   "metadata": {},
   "outputs": [
    {
     "data": {
      "text/plain": [
       "array([ 0,  1,  2,  3,  4,  5,  6,  7,  8,  9, 10, 11, 12, 13, 14])"
      ]
     },
     "execution_count": 12,
     "metadata": {},
     "output_type": "execute_result"
    }
   ],
   "source": [
    "# 有了多維陣列的概念，split/vsplit/hsplit/vstack/hstack/concatenate只要了解維度運算方向就能輕易解決\n",
    "# Ex1 : 一維數據切割\n",
    "a = np.arange(15)\n",
    "a"
   ]
  },
  {
   "cell_type": "code",
   "execution_count": 71,
   "id": "61394a02-8caa-46a8-8473-633232ad7eb3",
   "metadata": {},
   "outputs": [
    {
     "data": {
      "text/plain": [
       "[array([[0.22265384, 0.79020508, 0.14775635]]),\n",
       " array([[0.4137186 , 0.42467868, 0.43176963]]),\n",
       " array([[3.12251444e-01, 8.54839646e-02, 5.00000000e-06]])]"
      ]
     },
     "execution_count": 71,
     "metadata": {},
     "output_type": "execute_result"
    }
   ],
   "source": [
    "# 整數切割\n",
    "np.split(a , 3) # 分成3段\n",
    "#np.split(a , 7) # 分成7段，因為15不能被7整除，所以會報錯!"
   ]
  },
  {
   "cell_type": "code",
   "execution_count": 72,
   "id": "5eb0f924-8686-4058-b427-4caf3e13e6db",
   "metadata": {},
   "outputs": [
    {
     "data": {
      "text/plain": [
       "[array([[0.22265384, 0.79020508, 0.14775635],\n",
       "        [0.4137186 , 0.42467868, 0.43176963]]),\n",
       " array([[3.12251444e-01, 8.54839646e-02, 5.00000000e-06]]),\n",
       " array([], shape=(0, 3), dtype=float64)]"
      ]
     },
     "execution_count": 72,
     "metadata": {},
     "output_type": "execute_result"
    }
   ],
   "source": [
    "# 區間切割\n",
    "np.split(a , [2,4]) # [2,4]代表2,3，所以第2和第3元素會被切在一段，前段(0,1)與末段(4~14)剩餘元素分別整合成一個array，所以最終結果會有3個ndarray\n",
    "#np.split(a , np.array([1,6,9])) # 根據切割區間的定義，[1,6,9]代表 0 / 1~5 / 6~8 / 9~14，即為切割結果\n",
    "#np.split(a , np.array([12,20,25])) # 根據API定義，切割區間超出範圍時，不存在的區間以空回傳，所以20~24 和 25~均為空陣列"
   ]
  },
  {
   "cell_type": "code",
   "execution_count": 73,
   "id": "a0a68dcc-7931-47bf-a31f-116558ce0efe",
   "metadata": {},
   "outputs": [
    {
     "data": {
      "text/plain": [
       "array([[ 0,  1,  2,  3],\n",
       "       [ 4,  5,  6,  7],\n",
       "       [ 8,  9, 10, 11],\n",
       "       [12, 13, 14, 15],\n",
       "       [16, 17, 18, 19],\n",
       "       [20, 21, 22, 23],\n",
       "       [24, 25, 26, 27],\n",
       "       [28, 29, 30, 31]])"
      ]
     },
     "execution_count": 73,
     "metadata": {},
     "output_type": "execute_result"
    }
   ],
   "source": [
    "# Ex2 : 一維數據切割\n",
    "b = np.arange(32).reshape((8, 4))\n",
    "b"
   ]
  },
  {
   "cell_type": "code",
   "execution_count": 74,
   "id": "2b448642-eb0f-4dbe-8a47-58cdcd3e4ac8",
   "metadata": {},
   "outputs": [
    {
     "data": {
      "text/plain": [
       "[array([[0, 1, 2, 3],\n",
       "        [4, 5, 6, 7]]),\n",
       " array([[ 8,  9, 10, 11],\n",
       "        [12, 13, 14, 15]]),\n",
       " array([[16, 17, 18, 19],\n",
       "        [20, 21, 22, 23]]),\n",
       " array([[24, 25, 26, 27],\n",
       "        [28, 29, 30, 31]])]"
      ]
     },
     "execution_count": 74,
     "metadata": {},
     "output_type": "execute_result"
    }
   ],
   "source": [
    "# 整數切割\n",
    "#np.split(b , 3 ,axis=0) # 8無法被3整除，因此報錯\n",
    "np.split(b , 4) # default切割axis=0，也就是第一維度的方向，而第一維度內有8個元素，因此切割後每一組有2個元素，也就是[ [陣列1] , [陣列2] ]，一個二維陣列"
   ]
  },
  {
   "cell_type": "code",
   "execution_count": 75,
   "id": "5bae9716-943b-42e7-805a-3507dde299ff",
   "metadata": {},
   "outputs": [
    {
     "data": {
      "text/plain": [
       "[array([[ 0,  1],\n",
       "        [ 4,  5],\n",
       "        [ 8,  9],\n",
       "        [12, 13],\n",
       "        [16, 17],\n",
       "        [20, 21],\n",
       "        [24, 25],\n",
       "        [28, 29]]),\n",
       " array([[ 2],\n",
       "        [ 6],\n",
       "        [10],\n",
       "        [14],\n",
       "        [18],\n",
       "        [22],\n",
       "        [26],\n",
       "        [30]]),\n",
       " array([[ 3],\n",
       "        [ 7],\n",
       "        [11],\n",
       "        [15],\n",
       "        [19],\n",
       "        [23],\n",
       "        [27],\n",
       "        [31]])]"
      ]
     },
     "execution_count": 75,
     "metadata": {},
     "output_type": "execute_result"
    }
   ],
   "source": [
    "# 區間切割\n",
    "#np.split(b , [2,4] ,axis=0) # default在第一維度方向，因此會切出0,1 / 2,3 / 4,5,6,7這樣的組合區間，且每一個元素都是一個陣列\n",
    "np.split(b , [2,3]  ,axis=1) # 設定往第二維度方向切割，也就是4這個元素數目，舉例來說[0,1,2,3]就會被切成0,1 / 2 / 3，每一分段為二維陣列"
   ]
  },
  {
   "cell_type": "code",
   "execution_count": 76,
   "id": "e8671d3d-76ea-43e4-b60f-d89b74e09064",
   "metadata": {},
   "outputs": [
    {
     "data": {
      "text/plain": [
       "array([[[ 0,  1],\n",
       "        [ 2,  3],\n",
       "        [ 4,  5],\n",
       "        [ 6,  7]],\n",
       "\n",
       "       [[ 8,  9],\n",
       "        [10, 11],\n",
       "        [12, 13],\n",
       "        [14, 15]],\n",
       "\n",
       "       [[16, 17],\n",
       "        [18, 19],\n",
       "        [20, 21],\n",
       "        [22, 23]]])"
      ]
     },
     "execution_count": 76,
     "metadata": {},
     "output_type": "execute_result"
    }
   ],
   "source": [
    "# Ex3 : 三維數據切割\n",
    "c = np.arange(24).reshape((3,4,2))\n",
    "c\n",
    "# np.split(c , [2,3] , axis=1)\n",
    "# c.sum(axis=0)\n",
    "# c.sum(axis=1)\n",
    "# c.sum(axis=2)"
   ]
  },
  {
   "cell_type": "code",
   "execution_count": 77,
   "id": "1877a9bd-96ff-4f0d-9a7e-59aebc18425c",
   "metadata": {
    "tags": []
   },
   "outputs": [
    {
     "data": {
      "text/plain": [
       "[array([[[ 0,  1],\n",
       "         [ 2,  3]],\n",
       " \n",
       "        [[ 8,  9],\n",
       "         [10, 11]],\n",
       " \n",
       "        [[16, 17],\n",
       "         [18, 19]]]),\n",
       " array([[[ 4,  5],\n",
       "         [ 6,  7]],\n",
       " \n",
       "        [[12, 13],\n",
       "         [14, 15]],\n",
       " \n",
       "        [[20, 21],\n",
       "         [22, 23]]])]"
      ]
     },
     "execution_count": 77,
     "metadata": {},
     "output_type": "execute_result"
    }
   ],
   "source": [
    "# 整數切割\n",
    "#np.split(c , 2) # 第一維度為3，因此無法被2整除，所以報錯\n",
    "#np.split(c , 3) # 將第一維度切成3段呈現\n",
    "np.split(c , 2 , axis=1) # 以第二維度的方向來切，第二維度內元素長度為4，因此拆成2組，每一組都是3維陣列"
   ]
  },
  {
   "cell_type": "code",
   "execution_count": 78,
   "id": "d5b48e50-e8c0-48c0-9c2b-d17550adaf9c",
   "metadata": {},
   "outputs": [
    {
     "data": {
      "text/plain": [
       "[array([[[ 0,  1],\n",
       "         [ 2,  3]],\n",
       " \n",
       "        [[ 8,  9],\n",
       "         [10, 11]],\n",
       " \n",
       "        [[16, 17],\n",
       "         [18, 19]]]),\n",
       " array([[[ 4,  5]],\n",
       " \n",
       "        [[12, 13]],\n",
       " \n",
       "        [[20, 21]]]),\n",
       " array([[[ 6,  7]],\n",
       " \n",
       "        [[14, 15]],\n",
       " \n",
       "        [[22, 23]]])]"
      ]
     },
     "execution_count": 78,
     "metadata": {},
     "output_type": "execute_result"
    }
   ],
   "source": [
    "# 區間切割\n",
    "#np.split(c , [2,4]) # 以第一維度切割，因此結果為第0,1 / 2,3  / 4~，而3個元素後面沒有了，所以 4~的部分會以空array回傳\n",
    "#np.split(c , [3,5] , axis=2) # 以第三維度切割，因為第三維度內有2個元素，因此[3,5]切割代表0,1,2 / 3,4 / 5~，所以只會有0,1 後面兩段都以空array回傳\n",
    "np.split(c , [2,3] , axis=1) # 以第2維度切割，因第二維度內有4個元素，因此[2,3]切割代表 0,1 / 2 / 3,4~"
   ]
  },
  {
   "cell_type": "code",
   "execution_count": 10,
   "id": "c855f8a2-9395-47f1-8f9b-72d22993d17d",
   "metadata": {},
   "outputs": [
    {
     "name": "stdout",
     "output_type": "stream",
     "text": [
      "[[24 27]\n",
      " [30 33]\n",
      " [36 39]\n",
      " [42 45]]\n",
      "[[12 16]\n",
      " [44 48]\n",
      " [76 80]]\n",
      "[[ 1  5  9 13]\n",
      " [17 21 25 29]\n",
      " [33 37 41 45]]\n"
     ]
    }
   ],
   "source": [
    "# 應用: 根據不同維度方向計算sum\n",
    "print(c.sum(axis=0))\n",
    "print(c.sum(axis=1))\n",
    "print(c.sum(axis=2))"
   ]
  },
  {
   "cell_type": "markdown",
   "id": "85d47493-78da-46d7-8bae-8a48e99c5a3d",
   "metadata": {
    "jp-MarkdownHeadingCollapsed": true,
    "tags": []
   },
   "source": [
    "### Stack(矩陣的堆疊)\n",
    "根據Numpy API文件 https://numpy.org/doc/stable/reference/generated/numpy.stack.html  \n",
    "np.stack()第一個position arg需要給要被堆疊的array-like的物件，其shape必須相同，例如: (2,3)對應(2,3)\n",
    "而這個array-like物件可以用tuple形式；也可以用list形式! i.e. (...) or [...]  \n",
    "此外，文件內最重要的敘述在此:  \"specifies the index of the new axis\"，注意new即為「新增」維度  \n",
    "也就是說stack會增加維度再堆疊!  \n",
    "`stack( [arr1,arr2,...] [, axis=0])`"
   ]
  },
  {
   "cell_type": "code",
   "execution_count": 113,
   "id": "7e804005-4cc6-40a4-bf18-0926df296448",
   "metadata": {},
   "outputs": [
    {
     "data": {
      "text/plain": [
       "(array([[0, 1, 2, 3, 4],\n",
       "        [5, 6, 7, 8, 9]]),\n",
       " array([[10, 11, 12, 13, 14],\n",
       "        [15, 16, 17, 18, 19]]),\n",
       " array([10, 15, 20]))"
      ]
     },
     "execution_count": 113,
     "metadata": {},
     "output_type": "execute_result"
    }
   ],
   "source": [
    "# 產生2個相同shape的陣列\n",
    "a = np.arange(10).reshape(2,5)\n",
    "b = np.arange(10,20,1).reshape(2,5)\n",
    "c = np.arange(10,25,5)\n",
    "a,b,c"
   ]
  },
  {
   "cell_type": "code",
   "execution_count": 147,
   "id": "d73a50db-9eb3-409f-818f-902f309b1a94",
   "metadata": {},
   "outputs": [
    {
     "data": {
      "text/plain": [
       "(array([[[ 0,  1,  2,  3,  4],\n",
       "         [ 5,  6,  7,  8,  9]],\n",
       " \n",
       "        [[10, 11, 12, 13, 14],\n",
       "         [15, 16, 17, 18, 19]]]),\n",
       " (2, 2, 5))"
      ]
     },
     "execution_count": 147,
     "metadata": {},
     "output_type": "execute_result"
    }
   ],
   "source": [
    "# shape不matching的堆疊會報錯\n",
    "#np.stack( [a,c] )\n",
    "\n",
    "# Default沿著axis=0，也就是第一維度做堆疊\n",
    "# stack會根據指定axis增加指定維度為1，例如: 當axis=0，就新增第一維度為1再做運算\n",
    "# 以這個例子來說，原先的shape(2,5)在知道stack(,axis=0)之後，會變成(1,2,5)\n",
    "# 須注意回傳的結果，沿著第一維度堆疊後會得到2個元素(因為我們使用a和b兩個元素相堆疊)，所以第一維度的元素個數會是2\n",
    "# 第一維度內第0個元素即為a；第1個元素即為b，個別自己的原始資料型態，也就是shape(2,5)\n",
    "# 因此最後產出結果的shape會是 (2,2,5)\n",
    "np.stack( [a,b] ) , np.stack( [a,b] ).shape"
   ]
  },
  {
   "cell_type": "code",
   "execution_count": 124,
   "id": "17db5021-407b-4e7a-aee2-2410263a4f6a",
   "metadata": {},
   "outputs": [
    {
     "data": {
      "text/plain": [
       "([array([[-0.52922294,  0.80360003, -0.88547922, -0.43842715],\n",
       "         [ 0.44444861, -0.4851096 ,  1.0053239 ,  0.37453898],\n",
       "         [ 1.89880638, -0.12358573, -0.6003807 ,  1.07886559]]),\n",
       "  array([[ 1.20049688, -0.19016549, -1.4237726 ,  1.55362535],\n",
       "         [ 0.75031771, -0.89663676, -0.43437768, -1.62971788],\n",
       "         [ 0.47841448, -1.40030338, -0.45287554,  1.6375614 ]])],\n",
       " array([[[-0.52922294,  0.80360003, -0.88547922, -0.43842715],\n",
       "         [ 0.44444861, -0.4851096 ,  1.0053239 ,  0.37453898],\n",
       "         [ 1.89880638, -0.12358573, -0.6003807 ,  1.07886559]],\n",
       " \n",
       "        [[ 1.20049688, -0.19016549, -1.4237726 ,  1.55362535],\n",
       "         [ 0.75031771, -0.89663676, -0.43437768, -1.62971788],\n",
       "         [ 0.47841448, -1.40030338, -0.45287554,  1.6375614 ]]]),\n",
       " (2, 3, 4))"
      ]
     },
     "execution_count": 124,
     "metadata": {},
     "output_type": "execute_result"
    }
   ],
   "source": [
    "# 透過list comprehension產生一個2x3x4三維list\n",
    "arrays = [np.random.randn(3, 4) for _ in range(2)]\n",
    "# 注意這個物件不是numpy array，他是原生資料型態list (因為我們用[...]產生物件)\n",
    "# 這個list內有2個元素，兩個元素都是ndarray，每一個ndarray shape都是(3,4)\n",
    "# 因此，套用arrays.shape()會報錯!\n",
    "#arrays.shape\n",
    "\n",
    "# 沿著第一維度做堆疊，所以shape(,,)第一個arg的值會是2 (兩個ndarray)，後面兩個即為本身的二維陣列shape，也就是(3,4)!\n",
    "arrays , np.stack(arrays, axis=0) , np.stack(arrays, axis=0).shape"
   ]
  },
  {
   "cell_type": "markdown",
   "id": "6db69fa5-3dc7-4471-8fc1-33fc12c6f483",
   "metadata": {
    "jp-MarkdownHeadingCollapsed": true,
    "tags": []
   },
   "source": [
    "### hstack,vstack,hsplit,vsplit\n",
    "水平與垂直的陣列split操作其實和split相同，只是已經指定維度，所以不會有axis arg  \n",
    "但是stack就不同了，vstack和stack(...,axis=0)結果不同!!  \n",
    "vertical水平維度對應axis=0 ; horizontal垂直維度對應axis=1  \n",
    "以下split和stack各舉一個例子:"
   ]
  },
  {
   "cell_type": "code",
   "execution_count": 150,
   "id": "d2db82cc-32ab-4ac6-b39f-7fbc5abfd818",
   "metadata": {},
   "outputs": [
    {
     "data": {
      "text/plain": [
       "array([[ 0,  1,  2,  3],\n",
       "       [ 4,  5,  6,  7],\n",
       "       [ 8,  9, 10, 11],\n",
       "       [12, 13, 14, 15],\n",
       "       [16, 17, 18, 19],\n",
       "       [20, 21, 22, 23],\n",
       "       [24, 25, 26, 27],\n",
       "       [28, 29, 30, 31]])"
      ]
     },
     "execution_count": 150,
     "metadata": {},
     "output_type": "execute_result"
    }
   ],
   "source": [
    "# split\n",
    "b = np.arange(32).reshape((8, 4))\n",
    "b"
   ]
  },
  {
   "cell_type": "code",
   "execution_count": 154,
   "id": "81521484-4070-4a06-a6e7-15a278784950",
   "metadata": {},
   "outputs": [
    {
     "data": {
      "text/plain": [
       "[array([[ 0,  1],\n",
       "        [ 4,  5],\n",
       "        [ 8,  9],\n",
       "        [12, 13],\n",
       "        [16, 17],\n",
       "        [20, 21],\n",
       "        [24, 25],\n",
       "        [28, 29]]),\n",
       " array([[ 2],\n",
       "        [ 6],\n",
       "        [10],\n",
       "        [14],\n",
       "        [18],\n",
       "        [22],\n",
       "        [26],\n",
       "        [30]]),\n",
       " array([[ 3],\n",
       "        [ 7],\n",
       "        [11],\n",
       "        [15],\n",
       "        [19],\n",
       "        [23],\n",
       "        [27],\n",
       "        [31]])]"
      ]
     },
     "execution_count": 154,
     "metadata": {},
     "output_type": "execute_result"
    }
   ],
   "source": [
    "# 沿著第二維度(axis=1分割)\n",
    "np.split(b , [2,3]  ,axis=1)"
   ]
  },
  {
   "cell_type": "code",
   "execution_count": 153,
   "id": "cf8e170b-19fa-4b81-8e8a-a00287aa733a",
   "metadata": {},
   "outputs": [
    {
     "data": {
      "text/plain": [
       "[array([[ 0,  1],\n",
       "        [ 4,  5],\n",
       "        [ 8,  9],\n",
       "        [12, 13],\n",
       "        [16, 17],\n",
       "        [20, 21],\n",
       "        [24, 25],\n",
       "        [28, 29]]),\n",
       " array([[ 2],\n",
       "        [ 6],\n",
       "        [10],\n",
       "        [14],\n",
       "        [18],\n",
       "        [22],\n",
       "        [26],\n",
       "        [30]]),\n",
       " array([[ 3],\n",
       "        [ 7],\n",
       "        [11],\n",
       "        [15],\n",
       "        [19],\n",
       "        [23],\n",
       "        [27],\n",
       "        [31]])]"
      ]
     },
     "execution_count": 153,
     "metadata": {},
     "output_type": "execute_result"
    }
   ],
   "source": [
    "# 套用 hsplit，會發現結果完全一樣\n",
    "np.hsplit(b , [2,3])"
   ]
  },
  {
   "cell_type": "code",
   "execution_count": 156,
   "id": "6a9c0db9-15b1-4d5e-bcd0-513756134b7d",
   "metadata": {},
   "outputs": [
    {
     "data": {
      "text/plain": [
       "(array([[0, 1, 2, 3, 4],\n",
       "        [5, 6, 7, 8, 9]]),\n",
       " array([[10, 11, 12, 13, 14],\n",
       "        [15, 16, 17, 18, 19]]))"
      ]
     },
     "execution_count": 156,
     "metadata": {},
     "output_type": "execute_result"
    }
   ],
   "source": [
    "# 產生2個相同shape的陣列\n",
    "a = np.arange(10).reshape(2,5)\n",
    "b = np.arange(10,20,1).reshape(2,5)\n",
    "a,b"
   ]
  },
  {
   "cell_type": "code",
   "execution_count": 157,
   "id": "fc7480e3-1c40-4164-9dce-57d594c483f0",
   "metadata": {},
   "outputs": [
    {
     "data": {
      "text/plain": [
       "(array([[[ 0,  1,  2,  3,  4],\n",
       "         [ 5,  6,  7,  8,  9]],\n",
       " \n",
       "        [[10, 11, 12, 13, 14],\n",
       "         [15, 16, 17, 18, 19]]]),\n",
       " (2, 2, 5))"
      ]
     },
     "execution_count": 157,
     "metadata": {},
     "output_type": "execute_result"
    }
   ],
   "source": [
    "# 沿著第1維度堆疊，根據API文件定義，a和b會變成shape(1,2,5)\n",
    "# 增加後，第1維度堆疊，1+1=2!! \n",
    "np.stack( (a,b) , axis=0) , np.stack( (a,b) , axis=0).shape"
   ]
  },
  {
   "cell_type": "code",
   "execution_count": 149,
   "id": "2f5672c4-ed12-48fd-b4bf-de9abd81a2f6",
   "metadata": {},
   "outputs": [
    {
     "data": {
      "text/plain": [
       "(array([[0, 1, 2, 3, 4],\n",
       "        [5, 6, 7, 8, 9]]),\n",
       " array([[10, 11, 12, 13, 14],\n",
       "        [15, 16, 17, 18, 19]]),\n",
       " array([[ 0,  1,  2,  3,  4],\n",
       "        [ 5,  6,  7,  8,  9],\n",
       "        [10, 11, 12, 13, 14],\n",
       "        [15, 16, 17, 18, 19]]),\n",
       " (4, 5))"
      ]
     },
     "execution_count": 149,
     "metadata": {},
     "output_type": "execute_result"
    }
   ],
   "source": [
    "# 套用vstack，會發現結果只有2維\n",
    "# 這是因為vstack鎖定在axis=0上運算，不進行擴增維度\n",
    "# 所以在第一維度的堆疊就是把第一維度上的元素堆在一起，也就是2+2=4!!\n",
    "a , b  , np.vstack( (a,b) ) , np.vstack( (a,b) ).shape"
   ]
  },
  {
   "cell_type": "code",
   "execution_count": 168,
   "id": "77e3684b-6888-46b7-9823-683b497ee91c",
   "metadata": {},
   "outputs": [
    {
     "data": {
      "text/plain": [
       "(array([0, 1, 2, 3]), array([4, 5, 6, 7]), (4,), (4,))"
      ]
     },
     "execution_count": 168,
     "metadata": {},
     "output_type": "execute_result"
    }
   ],
   "source": [
    "# 如果被堆疊的元素本身只有1維，那麼vstack會在新增第1維度並在其上堆疊\n",
    "m = np.arange(4)\n",
    "n = np.arange(4,8,1)\n",
    "m,n,m.shape,n.shape"
   ]
  },
  {
   "cell_type": "code",
   "execution_count": 170,
   "id": "48e3935d-d5f5-4be9-86b5-051335d40284",
   "metadata": {},
   "outputs": [
    {
     "data": {
      "text/plain": [
       "(array([[0, 1, 2, 3],\n",
       "        [4, 5, 6, 7]]),\n",
       " (2, 4))"
      ]
     },
     "execution_count": 170,
     "metadata": {},
     "output_type": "execute_result"
    }
   ],
   "source": [
    "# 使用vstack和hstack\n",
    "# 可以看到 shape從原本1維增加到2維\n",
    "np.vstack((m,n)) , np.vstack((m,n)).shape"
   ]
  },
  {
   "cell_type": "code",
   "execution_count": 169,
   "id": "bec6bc16-6222-475e-b1f5-1c644269afbf",
   "metadata": {},
   "outputs": [
    {
     "data": {
      "text/plain": [
       "(array([0, 1, 2, 3, 4, 5, 6, 7]), (8,))"
      ]
     },
     "execution_count": 169,
     "metadata": {},
     "output_type": "execute_result"
    }
   ],
   "source": [
    "# hstack等價於axis=1，也就是第2維度，也就是 [...] 內部\n",
    "# 在 [...] 做堆疊，其實就是把內容給串接起來，因此還是1維\n",
    "np.hstack((m,n)) , np.hstack((m,n)).shape"
   ]
  },
  {
   "cell_type": "code",
   "execution_count": 176,
   "id": "d5360b14-d668-4f3f-8465-61bf80c6a05b",
   "metadata": {},
   "outputs": [
    {
     "data": {
      "text/plain": [
       "(array([[0, 1, 2, 3],\n",
       "        [4, 5, 6, 7]]),\n",
       " (2, 4))"
      ]
     },
     "execution_count": 176,
     "metadata": {},
     "output_type": "execute_result"
    }
   ],
   "source": [
    "# 回過頭看 stack方法在1維陣列是否有相同效果\n",
    "\n",
    "# 可以看到 stack方法仍維持其準則，新增維度並在上面進行堆疊動作\n",
    "# 所以stack和vstack在1維陣列上具備相同效果!\n",
    "np.stack( [m,n] , axis = 0) , np.stack( [m,n] , axis = 0).shape"
   ]
  },
  {
   "cell_type": "code",
   "execution_count": 175,
   "id": "c207ccd4-005d-4386-8802-eb8adfb52a49",
   "metadata": {},
   "outputs": [
    {
     "data": {
      "text/plain": [
       "(array([[0, 4],\n",
       "        [1, 5],\n",
       "        [2, 6],\n",
       "        [3, 7]]),\n",
       " (4, 2))"
      ]
     },
     "execution_count": 175,
     "metadata": {},
     "output_type": "execute_result"
    }
   ],
   "source": [
    "# 原先的 [0,1,2,3] 經過新增維度後變成 [ [0],[1],[2],[3] ] => shape(4,1)\n",
    "# 第2維度即為內層的中括號[.]，因此 [ [0],[1],[2],[3] ] 和 [ [4],[5],[6],[7] ]做運算\n",
    "# 根據np array初始運算規則，兩個shape相同的array運算是對應元素做運算\n",
    "# 所以[0]和[4]做堆疊，那就是[0,4]囉!\n",
    "# 根據結果，我們得到stack和hstack在1維陣列上\"不\"具備相同效果!\n",
    "np.stack( [m,n] , axis = 1) , np.stack( [m,n] , axis = 1).shape"
   ]
  },
  {
   "cell_type": "code",
   "execution_count": null,
   "id": "47efefc8-5ec2-48f0-8deb-d9108a3ba388",
   "metadata": {},
   "outputs": [],
   "source": []
  },
  {
   "cell_type": "code",
   "execution_count": null,
   "id": "f023880b-bd6a-42d3-a594-9b7053143e3e",
   "metadata": {},
   "outputs": [],
   "source": []
  }
 ],
 "metadata": {
  "kernelspec": {
   "display_name": "Python 3 (ipykernel)",
   "language": "python",
   "name": "python3"
  },
  "language_info": {
   "codemirror_mode": {
    "name": "ipython",
    "version": 3
   },
   "file_extension": ".py",
   "mimetype": "text/x-python",
   "name": "python",
   "nbconvert_exporter": "python",
   "pygments_lexer": "ipython3",
   "version": "3.10.2"
  }
 },
 "nbformat": 4,
 "nbformat_minor": 5
}
