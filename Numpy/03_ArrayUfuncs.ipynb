{
 "cells": [
  {
   "cell_type": "markdown",
   "id": "93fa25f7-8d06-453b-9f84-48b795bb0ece",
   "metadata": {},
   "source": [
    "# Numpy Ufunctions"
   ]
  },
  {
   "cell_type": "markdown",
   "id": "0f6286d6-a389-4d0d-bf91-cc7a147e26b9",
   "metadata": {},
   "source": [
    "### Basic Operators\n",
    "Numpy的快速在於使用向量化的運算，而提供這些高速運算的func.即為Ufunctions(universal function)  \n",
    "以下介紹Numpy內算術用的Ufunc: \n",
    "> array運算子 : 包含+,-,/,*,//,**,%,布林運算子,binary運算子...etc  \n",
    "> 絕對值 : abs()   \n",
    "> 三角函數 : sin , cos , tan , ... etc  \n",
    "> 指數對數 : exp , power , log2 , log10 , log ... etc  "
   ]
  },
  {
   "cell_type": "code",
   "execution_count": 2,
   "id": "3a5a0541-325d-41aa-9af2-8205207e4ef2",
   "metadata": {},
   "outputs": [],
   "source": [
    "import numpy as np\n",
    "x = [1,2,3]"
   ]
  },
  {
   "cell_type": "code",
   "execution_count": 5,
   "id": "7d3bf9fd-88f8-4530-b4a3-afc38b8542cc",
   "metadata": {},
   "outputs": [
    {
     "data": {
      "text/plain": [
       "array([ 2.71828183,  7.3890561 , 20.08553692])"
      ]
     },
     "execution_count": 5,
     "metadata": {},
     "output_type": "execute_result"
    }
   ],
   "source": [
    "np.exp(x)"
   ]
  },
  {
   "cell_type": "code",
   "execution_count": 6,
   "id": "faa3139f-800a-4621-98c2-6301f04f587d",
   "metadata": {},
   "outputs": [
    {
     "data": {
      "text/plain": [
       "array([0.        , 0.30103   , 0.47712125])"
      ]
     },
     "execution_count": 6,
     "metadata": {},
     "output_type": "execute_result"
    }
   ],
   "source": [
    "np.log10(x)"
   ]
  },
  {
   "cell_type": "code",
   "execution_count": 8,
   "id": "20923a8b-2308-415a-9885-61df67c72821",
   "metadata": {},
   "outputs": [
    {
     "data": {
      "text/plain": [
       "array([  10,  100, 1000], dtype=int32)"
      ]
     },
     "execution_count": 8,
     "metadata": {},
     "output_type": "execute_result"
    }
   ],
   "source": [
    "np.power(10,x)"
   ]
  },
  {
   "cell_type": "markdown",
   "id": "6c7672c1-37f2-4877-a95b-f74854be9570",
   "metadata": {},
   "source": [
    "### 設定輸出\n",
    "使用out arg可以讓運算結果賦值給另一個變數，類似R語言的 result -> variable  \n"
   ]
  },
  {
   "cell_type": "code",
   "execution_count": 14,
   "id": "29cb02ea-801c-4a9d-b0e2-6828ea1ff3a7",
   "metadata": {},
   "outputs": [
    {
     "data": {
      "text/plain": [
       "array([ 0., 10., 20., 30., 40.])"
      ]
     },
     "execution_count": 14,
     "metadata": {},
     "output_type": "execute_result"
    }
   ],
   "source": [
    "# 傳出運算結果\n",
    "x = np.arange(5)\n",
    "y = np.empty(5)\n",
    "np.multiply(x,10,out=y)"
   ]
  },
  {
   "cell_type": "code",
   "execution_count": 13,
   "id": "7916913d-fd77-4953-ad30-161f7a8f1b4f",
   "metadata": {},
   "outputs": [
    {
     "data": {
      "text/plain": [
       "array([ 0., 10., 20., 30., 40.])"
      ]
     },
     "execution_count": 13,
     "metadata": {},
     "output_type": "execute_result"
    }
   ],
   "source": [
    "y"
   ]
  },
  {
   "cell_type": "code",
   "execution_count": 18,
   "id": "a8ddb2f1-a672-482a-be26-9abe93bf446f",
   "metadata": {},
   "outputs": [
    {
     "data": {
      "text/plain": [
       "(array([ 0., 10., 20., 30., 40.]),\n",
       " array([ 0.,  0., 10.,  0., 20.,  0., 30.,  0., 40.,  0.]))"
      ]
     },
     "execution_count": 18,
     "metadata": {},
     "output_type": "execute_result"
    }
   ],
   "source": [
    "# 指定傳出結果的放置位置\n",
    "y = np.empty(10)\n",
    "np.multiply(x,10,out=y[::2]) , y"
   ]
  },
  {
   "cell_type": "code",
   "execution_count": 16,
   "id": "59475473-7466-4295-aa7e-0142a1d9ccb7",
   "metadata": {},
   "outputs": [],
   "source": [
    "# 注意out接收的長度要一致，否則會報錯\n",
    "#np.multiply(x,10,out=y[::2])"
   ]
  },
  {
   "cell_type": "markdown",
   "id": "ee2f90c5-5898-4357-a272-ef1be52c479f",
   "metadata": {},
   "source": [
    "### 連乘積與外積\n",
    "> .reduce() 可以讓前一個運算遍歷所有元素，直到沒元素並回傳結果  \n",
    "> .outer() 計算成對輸出，類似九九乘法表的形式  "
   ]
  },
  {
   "cell_type": "code",
   "execution_count": 22,
   "id": "e3d43a36-dd72-46ac-89e7-0a6c2d435c23",
   "metadata": {},
   "outputs": [
    {
     "data": {
      "text/plain": [
       "15"
      ]
     },
     "execution_count": 22,
     "metadata": {},
     "output_type": "execute_result"
    }
   ],
   "source": [
    "# 相當於連加 1+2+3+4+5 = 15\n",
    "x = np.arange(1,6)\n",
    "np.add.reduce(x)"
   ]
  },
  {
   "cell_type": "code",
   "execution_count": 21,
   "id": "a2e1d7ad-28fe-40a5-9995-ddb203f0df00",
   "metadata": {},
   "outputs": [
    {
     "data": {
      "text/plain": [
       "120"
      ]
     },
     "execution_count": 21,
     "metadata": {},
     "output_type": "execute_result"
    }
   ],
   "source": [
    "# 也能用於連乘 1*2*3*4*5 = 5! = 120\n",
    "x = np.arange(1,6)\n",
    "np.multiply.reduce(x)"
   ]
  },
  {
   "cell_type": "code",
   "execution_count": 23,
   "id": "488b95c2-683a-494c-83cd-70c5b324260f",
   "metadata": {},
   "outputs": [
    {
     "data": {
      "text/plain": [
       "array([[ 1,  2,  3,  4,  5],\n",
       "       [ 2,  4,  6,  8, 10],\n",
       "       [ 3,  6,  9, 12, 15],\n",
       "       [ 4,  8, 12, 16, 20],\n",
       "       [ 5, 10, 15, 20, 25]])"
      ]
     },
     "execution_count": 23,
     "metadata": {},
     "output_type": "execute_result"
    }
   ],
   "source": [
    "# 外積\n",
    "np.multiply.outer(x,x)"
   ]
  },
  {
   "cell_type": "markdown",
   "id": "f62ca07e-914c-4544-96bf-d1bfa8b8a4a4",
   "metadata": {},
   "source": [
    "### Comparison Operator\n",
    "對陣列的每一個元素做指定條件的比較，運算子和對應的ufunc如下:\n",
    "> `==` : np.equal()  \n",
    "> `!=` : np.not_equal()  \n",
    "> `<` : np.less()  \n",
    "> `<=` : np.less_equal()  \n",
    "> `>` : np.less_greater()  \n",
    "> `>=` : np.greater_equal()  "
   ]
  },
  {
   "cell_type": "code",
   "execution_count": 3,
   "id": "bcb797bf-fbce-41c7-82f6-64a76b7af6ec",
   "metadata": {},
   "outputs": [
    {
     "name": "stdout",
     "output_type": "stream",
     "text": [
      "arr =\n",
      "[[1. 2. 3.]\n",
      " [4. 5. 6.]]\n",
      "\n",
      "arr2 =\n",
      "[[ 0.  4.  1.]\n",
      " [ 7.  2. 12.]]\n",
      "\n"
     ]
    },
    {
     "data": {
      "text/plain": [
       "(array([[False,  True, False],\n",
       "        [ True, False,  True]]),\n",
       " array([[False, False, False],\n",
       "        [False, False, False]]),\n",
       " array([[ True, False,  True],\n",
       "        [False,  True, False]]))"
      ]
     },
     "execution_count": 3,
     "metadata": {},
     "output_type": "execute_result"
    }
   ],
   "source": [
    "arr = np.array([[1., 2., 3.], [4., 5., 6.]])\n",
    "arr2 = np.array([[0., 4., 1.], [7., 2., 12.]])\n",
    "print(f'arr =\\n{arr}\\n\\narr2 =\\n{arr2}\\n')\n",
    "arr2 > arr, arr2 == arr, arr2 < arr"
   ]
  },
  {
   "cell_type": "markdown",
   "id": "bb77d073-55c1-4aa8-b7fb-aba4435aa359",
   "metadata": {},
   "source": [
    "### Boolean Operator\n",
    "運算子和其等價的ufunc如下:\n",
    "> `&` : np.bitwise_and  \n",
    "> `|` : np.bitwise_or  \n",
    "> `^` : np.bitwise_xor  \n",
    "> `~` : np.bitwise_not  "
   ]
  },
  {
   "cell_type": "code",
   "execution_count": 21,
   "id": "9c5201ce-1669-4b12-8748-aa7390281567",
   "metadata": {},
   "outputs": [
    {
     "data": {
      "text/plain": [
       "array([[-1.16488681,  0.04296004,  1.62482742,  1.36147399,  0.13424933],\n",
       "       [-2.05473431, -0.04540973, -0.06304158, -0.4835946 , -0.5697449 ],\n",
       "       [-1.14117705, -0.39374707,  0.41181516,  0.45198879, -0.4303424 ],\n",
       "       [ 0.46650991,  1.51997476,  0.03753472,  0.65336038, -1.15676546],\n",
       "       [ 0.62971563,  0.42933432,  0.62626542, -1.10938906, -0.47857121]])"
      ]
     },
     "execution_count": 21,
     "metadata": {},
     "output_type": "execute_result"
    }
   ],
   "source": [
    "import pandas as pd\n",
    "X = np.random.randn(5,5)\n",
    "X"
   ]
  },
  {
   "cell_type": "code",
   "execution_count": 22,
   "id": "83b57732-1fc1-47f7-bc1c-86e584a5ad8f",
   "metadata": {},
   "outputs": [
    {
     "data": {
      "text/plain": [
       "3"
      ]
     },
     "execution_count": 22,
     "metadata": {},
     "output_type": "execute_result"
    }
   ],
   "source": [
    "# 查看有多少元素在這個區間內\n",
    "np.sum( (X>0.5) & (X<1.2) )"
   ]
  },
  {
   "cell_type": "code",
   "execution_count": 23,
   "id": "9b6fe864-1101-4b1e-9add-dddb633b8a6a",
   "metadata": {},
   "outputs": [
    {
     "data": {
      "text/plain": [
       "array([[False, False, False, False, False],\n",
       "       [False, False, False, False, False],\n",
       "       [False, False, False, False, False],\n",
       "       [False, False, False,  True, False],\n",
       "       [ True, False,  True, False, False]])"
      ]
     },
     "execution_count": 23,
     "metadata": {},
     "output_type": "execute_result"
    }
   ],
   "source": [
    "(X>0.5) & (X<1.2)"
   ]
  },
  {
   "cell_type": "code",
   "execution_count": 28,
   "id": "5407fbc8",
   "metadata": {},
   "outputs": [
    {
     "data": {
      "text/plain": [
       "22"
      ]
     },
     "execution_count": 28,
     "metadata": {},
     "output_type": "execute_result"
    }
   ],
   "source": [
    "# 查看有多少有多少元素不在這個區間內\n",
    "np.sum( ~(X>1.2) )"
   ]
  },
  {
   "cell_type": "code",
   "execution_count": 29,
   "id": "421aa9cf",
   "metadata": {},
   "outputs": [
    {
     "data": {
      "text/plain": [
       "array([[ True,  True, False, False,  True],\n",
       "       [ True,  True,  True,  True,  True],\n",
       "       [ True,  True,  True,  True,  True],\n",
       "       [ True, False,  True,  True,  True],\n",
       "       [ True,  True,  True,  True,  True]])"
      ]
     },
     "execution_count": 29,
     "metadata": {},
     "output_type": "execute_result"
    }
   ],
   "source": [
    "~(X>1.2)"
   ]
  },
  {
   "cell_type": "code",
   "execution_count": null,
   "id": "480dddf2-b513-486c-b466-7e12ae0cc574",
   "metadata": {},
   "outputs": [],
   "source": []
  }
 ],
 "metadata": {
  "kernelspec": {
   "display_name": "Python 3 (ipykernel)",
   "language": "python",
   "name": "python3"
  },
  "language_info": {
   "codemirror_mode": {
    "name": "ipython",
    "version": 3
   },
   "file_extension": ".py",
   "mimetype": "text/x-python",
   "name": "python",
   "nbconvert_exporter": "python",
   "pygments_lexer": "ipython3",
   "version": "3.10.2"
  }
 },
 "nbformat": 4,
 "nbformat_minor": 5
}
