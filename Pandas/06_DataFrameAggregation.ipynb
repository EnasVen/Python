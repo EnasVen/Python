{
 "cells": [
  {
   "cell_type": "markdown",
   "id": "145a31fe-223d-4761-bd7d-f8993f50b713",
   "metadata": {},
   "source": [
    "# DataFrame Aggregation"
   ]
  },
  {
   "cell_type": "markdown",
   "id": "14cbeabb-35f2-4ef0-95ad-841f61f1ea7e",
   "metadata": {},
   "source": [
    "### Concat & Append\n",
    "d.f.資料框之間的串接可透過concat與append完成"
   ]
  },
  {
   "cell_type": "code",
   "execution_count": 1,
   "id": "2b02b9a7-8d05-4741-a36b-aec9d21137d4",
   "metadata": {},
   "outputs": [],
   "source": [
    "import numpy as np\n",
    "import pandas as pd"
   ]
  },
  {
   "cell_type": "code",
   "execution_count": null,
   "id": "d51dbb02-2691-49b3-893c-9270baece012",
   "metadata": {},
   "outputs": [],
   "source": []
  },
  {
   "cell_type": "code",
   "execution_count": null,
   "id": "8da16a7b-9b7d-4e72-8972-ec7ea7043048",
   "metadata": {},
   "outputs": [],
   "source": []
  },
  {
   "cell_type": "code",
   "execution_count": null,
   "id": "63c2302f-2f65-49f6-932e-b458c57ddcf6",
   "metadata": {},
   "outputs": [],
   "source": []
  },
  {
   "cell_type": "code",
   "execution_count": null,
   "id": "2e880f14-3c25-4f81-a74d-bc52872c1089",
   "metadata": {},
   "outputs": [],
   "source": []
  },
  {
   "cell_type": "code",
   "execution_count": null,
   "id": "a778d804-15e1-43f1-8a5b-b8ce87635c42",
   "metadata": {},
   "outputs": [],
   "source": []
  },
  {
   "cell_type": "code",
   "execution_count": null,
   "id": "8c546fbf-870d-45c0-bdae-509c447c3c61",
   "metadata": {},
   "outputs": [],
   "source": []
  },
  {
   "cell_type": "code",
   "execution_count": null,
   "id": "f130d19c-64e6-4f36-a1b5-25a5f381d59a",
   "metadata": {},
   "outputs": [],
   "source": []
  },
  {
   "cell_type": "code",
   "execution_count": null,
   "id": "9c37306e-1b25-451b-902e-d7ed73c050a1",
   "metadata": {},
   "outputs": [],
   "source": []
  }
 ],
 "metadata": {
  "kernelspec": {
   "display_name": "Python 3 (ipykernel)",
   "language": "python",
   "name": "python3"
  },
  "language_info": {
   "codemirror_mode": {
    "name": "ipython",
    "version": 3
   },
   "file_extension": ".py",
   "mimetype": "text/x-python",
   "name": "python",
   "nbconvert_exporter": "python",
   "pygments_lexer": "ipython3",
   "version": "3.10.4"
  }
 },
 "nbformat": 4,
 "nbformat_minor": 5
}
