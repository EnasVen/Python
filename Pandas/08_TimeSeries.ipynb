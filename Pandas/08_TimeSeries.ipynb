{
 "cells": [
  {
   "cell_type": "markdown",
   "id": "8f8af00f-2aac-4221-98d9-cd62e52ae4d6",
   "metadata": {},
   "source": [
    "# Time Series"
   ]
  },
  {
   "cell_type": "markdown",
   "id": "6362ae9c-d8ee-4a76-aaf5-df485cc56c0c",
   "metadata": {},
   "source": [
    "### Python 原生時間型別\n",
    "根據Python官方手冊(Docs) https://docs.python.org/3/library/datetime.html  \n",
    "在頁面內搜尋 strftime() and strptime() Format Codes  \n",
    "可以找到相關代碼的對應意義!"
   ]
  },
  {
   "cell_type": "code",
   "execution_count": 2,
   "id": "1c1dfb4d-d4ac-4260-898a-3154d3e77713",
   "metadata": {},
   "outputs": [],
   "source": [
    "from datetime import datetime"
   ]
  },
  {
   "cell_type": "code",
   "execution_count": 4,
   "id": "fcb72a20-446a-48e6-8202-d6a36b8446bd",
   "metadata": {},
   "outputs": [
    {
     "data": {
      "text/plain": [
       "datetime.datetime(2015, 7, 4, 0, 0)"
      ]
     },
     "execution_count": 4,
     "metadata": {},
     "output_type": "execute_result"
    }
   ],
   "source": [
    "datetime(year=2015,month=7,day=4)"
   ]
  },
  {
   "cell_type": "code",
   "execution_count": 5,
   "id": "59925893-2ee0-4baa-a7ea-bdf652b2e868",
   "metadata": {},
   "outputs": [
    {
     "data": {
      "text/plain": [
       "datetime.datetime(2006, 11, 21, 16, 30)"
      ]
     },
     "execution_count": 5,
     "metadata": {},
     "output_type": "execute_result"
    }
   ],
   "source": [
    "dt = datetime.strptime(\"21/11/06 16:30\", \"%d/%m/%y %H:%M\")\n",
    "dt"
   ]
  },
  {
   "cell_type": "code",
   "execution_count": 7,
   "id": "5ea6429f-b7f6-40eb-92ff-af46ed49817d",
   "metadata": {},
   "outputs": [
    {
     "data": {
      "text/plain": [
       "'Tuesday'"
      ]
     },
     "execution_count": 7,
     "metadata": {},
     "output_type": "execute_result"
    }
   ],
   "source": [
    "# 找出該日期是星期幾\n",
    "dt.strftime('%A')"
   ]
  },
  {
   "cell_type": "markdown",
   "id": "77673f54-bb12-441f-bf45-84352357aa7a",
   "metadata": {},
   "source": [
    "### Numpy的datetime64\n",
    "Numpy利用dtype把日期編碼成64位元的整數，讓時間的運算能夠套用Numpy的快速與便利性。  \n",
    "np.datetime('YYYY-MM-DD hh:mm:ss.ms' , 'unit')  "
   ]
  },
  {
   "cell_type": "code",
   "execution_count": 8,
   "id": "e0db2fa2-9d94-411c-be53-eb6e45c052ad",
   "metadata": {},
   "outputs": [
    {
     "data": {
      "text/plain": [
       "array('2015-07-09', dtype='datetime64[D]')"
      ]
     },
     "execution_count": 8,
     "metadata": {},
     "output_type": "execute_result"
    }
   ],
   "source": [
    "import numpy as np\n",
    "date = np.array('2015-07-09' , dtype=np.datetime64)\n",
    "date"
   ]
  },
  {
   "cell_type": "code",
   "execution_count": 10,
   "id": "a9a51a6b-2cd8-4a34-8dd9-99ed5b11e7fe",
   "metadata": {},
   "outputs": [
    {
     "data": {
      "text/plain": [
       "array(['2015-07-09', '2015-07-10', '2015-07-11', '2015-07-12',\n",
       "       '2015-07-13', '2015-07-14', '2015-07-15', '2015-07-16',\n",
       "       '2015-07-17', '2015-07-18', '2015-07-19', '2015-07-20'],\n",
       "      dtype='datetime64[D]')"
      ]
     },
     "execution_count": 10,
     "metadata": {},
     "output_type": "execute_result"
    }
   ],
   "source": [
    "# default 加天數\n",
    "date + np.arange(12)"
   ]
  },
  {
   "cell_type": "code",
   "execution_count": 17,
   "id": "47d0f6b8-cef8-47e5-98df-ddb15e3db037",
   "metadata": {},
   "outputs": [
    {
     "data": {
      "text/plain": [
       "numpy.datetime64('2020-11-10T12:59:30.800000000')"
      ]
     },
     "execution_count": 17,
     "metadata": {},
     "output_type": "execute_result"
    }
   ],
   "source": [
    "np.datetime64('2020-11-10 12:59:30.80' , 'ns')"
   ]
  },
  {
   "cell_type": "markdown",
   "id": "4cb47313-f6d2-42a4-949e-5da1fe9c8ae9",
   "metadata": {},
   "source": [
    "### Pandas時間資料結構\n",
    "pd透過TimeStamp物件以及DataFrameIndex，讓時間可以在DataFrame以及Series內被當作Index索引。  "
   ]
  },
  {
   "cell_type": "code",
   "execution_count": 21,
   "id": "ccd378f1-e44b-4543-ad2c-e22b45335f7d",
   "metadata": {},
   "outputs": [
    {
     "data": {
      "text/plain": [
       "Timestamp('2015-07-04 00:00:00')"
      ]
     },
     "execution_count": 21,
     "metadata": {},
     "output_type": "execute_result"
    }
   ],
   "source": [
    "# to_datetime()\n",
    "import pandas as pd\n",
    "date  =pd.to_datetime(\"4th of July , 2015\")\n",
    "date"
   ]
  },
  {
   "cell_type": "code",
   "execution_count": 22,
   "id": "d41d185c-1ab6-4b2e-9d71-22e941017017",
   "metadata": {},
   "outputs": [
    {
     "data": {
      "text/plain": [
       "'Saturday'"
      ]
     },
     "execution_count": 22,
     "metadata": {},
     "output_type": "execute_result"
    }
   ],
   "source": [
    "date.strftime('%A')"
   ]
  },
  {
   "cell_type": "code",
   "execution_count": 23,
   "id": "4c1a5409-3d50-436b-a7a8-615975a67f99",
   "metadata": {},
   "outputs": [
    {
     "data": {
      "text/plain": [
       "DatetimeIndex(['2015-07-04', '2015-07-05', '2015-07-06', '2015-07-07',\n",
       "               '2015-07-08', '2015-07-09', '2015-07-10', '2015-07-11',\n",
       "               '2015-07-12', '2015-07-13', '2015-07-14', '2015-07-15'],\n",
       "              dtype='datetime64[ns]', freq=None)"
      ]
     },
     "execution_count": 23,
     "metadata": {},
     "output_type": "execute_result"
    }
   ],
   "source": [
    "# 向量化操作  +0~11天\n",
    "date + pd.to_timedelta( np.arange(12) , 'D' ) "
   ]
  },
  {
   "cell_type": "code",
   "execution_count": 27,
   "id": "11ac3866-4b5f-4255-8e4d-277e9b0c39db",
   "metadata": {},
   "outputs": [
    {
     "data": {
      "text/plain": [
       "DatetimeIndex(['2015-07-04', '2015-07-11', '2015-07-18', '2015-07-25',\n",
       "               '2015-08-01', '2015-08-08', '2015-08-15', '2015-08-22',\n",
       "               '2015-08-29', '2015-09-05', '2015-09-12', '2015-09-19'],\n",
       "              dtype='datetime64[ns]', freq=None)"
      ]
     },
     "execution_count": 27,
     "metadata": {},
     "output_type": "execute_result"
    }
   ],
   "source": [
    "# 向量化操作  +0~11週\n",
    "date + pd.to_timedelta( np.arange(12) , 'W' ) "
   ]
  },
  {
   "cell_type": "code",
   "execution_count": 31,
   "id": "49ea07e3-8eb0-4e37-918e-6642229b30a7",
   "metadata": {},
   "outputs": [
    {
     "data": {
      "text/plain": [
       "2014-07-04    0\n",
       "2015-07-04    1\n",
       "2016-07-04    2\n",
       "2017-07-04    3\n",
       "dtype: int64"
      ]
     },
     "execution_count": 31,
     "metadata": {},
     "output_type": "execute_result"
    }
   ],
   "source": [
    "# 建立時間索引的Series\n",
    "index = pd.DatetimeIndex(['2014-07-04','2015-07-04','2016-07-04','2017-07-04'])\n",
    "data = pd.Series([0,1,2,3] , index=index)\n",
    "data"
   ]
  },
  {
   "cell_type": "code",
   "execution_count": 33,
   "id": "d467e18f-6c24-4081-b833-c33f1d64b4b5",
   "metadata": {},
   "outputs": [
    {
     "data": {
      "text/plain": [
       "2014-07-04    0\n",
       "2015-07-04    1\n",
       "2016-07-04    2\n",
       "2017-07-04    3\n",
       "dtype: int64"
      ]
     },
     "execution_count": 33,
     "metadata": {},
     "output_type": "execute_result"
    }
   ],
   "source": [
    "# 透過時間做索引\n",
    "data['2014-07-04':]"
   ]
  },
  {
   "cell_type": "code",
   "execution_count": 35,
   "id": "021b912e-55c6-4287-ad4c-1143b68980db",
   "metadata": {},
   "outputs": [
    {
     "data": {
      "text/plain": [
       "2017-07-04    3\n",
       "dtype: int64"
      ]
     },
     "execution_count": 35,
     "metadata": {},
     "output_type": "execute_result"
    }
   ],
   "source": [
    "data['2017']"
   ]
  },
  {
   "cell_type": "markdown",
   "id": "e5036e47-8072-48e6-8efc-311ed84338d3",
   "metadata": {},
   "source": [
    "### Pandas時間資料結構"
   ]
  },
  {
   "cell_type": "code",
   "execution_count": null,
   "id": "5fd27b21-ecd3-4efe-8a3f-49b54f9ea70a",
   "metadata": {},
   "outputs": [],
   "source": []
  },
  {
   "cell_type": "code",
   "execution_count": null,
   "id": "2c99ab90-373e-40fd-8d3c-869fd0f2278a",
   "metadata": {},
   "outputs": [],
   "source": []
  },
  {
   "cell_type": "code",
   "execution_count": null,
   "id": "45c560da-d581-4424-8910-e0c6380160ce",
   "metadata": {},
   "outputs": [],
   "source": []
  },
  {
   "cell_type": "code",
   "execution_count": null,
   "id": "59842935-8da8-4f49-a0fb-67d9a663401b",
   "metadata": {},
   "outputs": [],
   "source": []
  },
  {
   "cell_type": "code",
   "execution_count": null,
   "id": "1bdc0164-c100-4897-92e3-1cadb93f3245",
   "metadata": {},
   "outputs": [],
   "source": []
  },
  {
   "cell_type": "code",
   "execution_count": null,
   "id": "823fdd7f-09b6-47ba-9eab-a9b6522f59e0",
   "metadata": {},
   "outputs": [],
   "source": []
  }
 ],
 "metadata": {
  "kernelspec": {
   "display_name": "Python 3 (ipykernel)",
   "language": "python",
   "name": "python3"
  },
  "language_info": {
   "codemirror_mode": {
    "name": "ipython",
    "version": 3
   },
   "file_extension": ".py",
   "mimetype": "text/x-python",
   "name": "python",
   "nbconvert_exporter": "python",
   "pygments_lexer": "ipython3",
   "version": "3.10.4"
  }
 },
 "nbformat": 4,
 "nbformat_minor": 5
}
