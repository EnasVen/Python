{
 "cells": [
  {
   "cell_type": "markdown",
   "id": "8f8af00f-2aac-4221-98d9-cd62e52ae4d6",
   "metadata": {},
   "source": [
    "# Time Series"
   ]
  },
  {
   "cell_type": "markdown",
   "id": "6362ae9c-d8ee-4a76-aaf5-df485cc56c0c",
   "metadata": {},
   "source": [
    "### Python 原生時間型別\n",
    "根據Python官方手冊(Docs) https://docs.python.org/3/library/datetime.html  \n",
    "在頁面內搜尋 strftime() and strptime() Format Codes  \n",
    "可以找到相關代碼的對應意義!"
   ]
  },
  {
   "cell_type": "code",
   "execution_count": 20,
   "id": "1c1dfb4d-d4ac-4260-898a-3154d3e77713",
   "metadata": {},
   "outputs": [],
   "source": [
    "from datetime import datetime"
   ]
  },
  {
   "cell_type": "code",
   "execution_count": 4,
   "id": "fcb72a20-446a-48e6-8202-d6a36b8446bd",
   "metadata": {},
   "outputs": [
    {
     "data": {
      "text/plain": [
       "datetime.datetime(2015, 7, 4, 0, 0)"
      ]
     },
     "execution_count": 4,
     "metadata": {},
     "output_type": "execute_result"
    }
   ],
   "source": [
    "datetime(year=2015,month=7,day=4)"
   ]
  },
  {
   "cell_type": "code",
   "execution_count": 5,
   "id": "59925893-2ee0-4baa-a7ea-bdf652b2e868",
   "metadata": {},
   "outputs": [
    {
     "data": {
      "text/plain": [
       "datetime.datetime(2006, 11, 21, 16, 30)"
      ]
     },
     "execution_count": 5,
     "metadata": {},
     "output_type": "execute_result"
    }
   ],
   "source": [
    "dt = datetime.strptime(\"21/11/06 16:30\", \"%d/%m/%y %H:%M\")\n",
    "dt"
   ]
  },
  {
   "cell_type": "code",
   "execution_count": 7,
   "id": "5ea6429f-b7f6-40eb-92ff-af46ed49817d",
   "metadata": {},
   "outputs": [
    {
     "data": {
      "text/plain": [
       "'Tuesday'"
      ]
     },
     "execution_count": 7,
     "metadata": {},
     "output_type": "execute_result"
    }
   ],
   "source": [
    "# 找出該日期是星期幾\n",
    "dt.strftime('%A')"
   ]
  },
  {
   "cell_type": "markdown",
   "id": "77673f54-bb12-441f-bf45-84352357aa7a",
   "metadata": {},
   "source": [
    "### Numpy的datetime64\n",
    "Numpy利用dtype把日期編碼成64位元的整數，讓時間的運算能夠套用Numpy的快速與便利性。  \n",
    "np.datetime('YYYY-MM-DD hh:mm:ss.ms' , 'unit')  "
   ]
  },
  {
   "cell_type": "code",
   "execution_count": 21,
   "id": "e0db2fa2-9d94-411c-be53-eb6e45c052ad",
   "metadata": {},
   "outputs": [
    {
     "data": {
      "text/plain": [
       "array('2015-07-09', dtype='datetime64[D]')"
      ]
     },
     "execution_count": 21,
     "metadata": {},
     "output_type": "execute_result"
    }
   ],
   "source": [
    "import numpy as np\n",
    "date = np.array('2015-07-09' , dtype=np.datetime64)\n",
    "date"
   ]
  },
  {
   "cell_type": "code",
   "execution_count": 10,
   "id": "a9a51a6b-2cd8-4a34-8dd9-99ed5b11e7fe",
   "metadata": {},
   "outputs": [
    {
     "data": {
      "text/plain": [
       "array(['2015-07-09', '2015-07-10', '2015-07-11', '2015-07-12',\n",
       "       '2015-07-13', '2015-07-14', '2015-07-15', '2015-07-16',\n",
       "       '2015-07-17', '2015-07-18', '2015-07-19', '2015-07-20'],\n",
       "      dtype='datetime64[D]')"
      ]
     },
     "execution_count": 10,
     "metadata": {},
     "output_type": "execute_result"
    }
   ],
   "source": [
    "# default 加天數\n",
    "date + np.arange(12)"
   ]
  },
  {
   "cell_type": "code",
   "execution_count": 17,
   "id": "47d0f6b8-cef8-47e5-98df-ddb15e3db037",
   "metadata": {},
   "outputs": [
    {
     "data": {
      "text/plain": [
       "numpy.datetime64('2020-11-10T12:59:30.800000000')"
      ]
     },
     "execution_count": 17,
     "metadata": {},
     "output_type": "execute_result"
    }
   ],
   "source": [
    "np.datetime64('2020-11-10 12:59:30.80' , 'ns')"
   ]
  },
  {
   "cell_type": "markdown",
   "id": "4cb47313-f6d2-42a4-949e-5da1fe9c8ae9",
   "metadata": {},
   "source": [
    "### Pandas時間資料結構\n",
    "pd透過TimeStamp物件以及DataFrameIndex，讓時間可以在DataFrame以及Series內被當作Index索引。  "
   ]
  },
  {
   "cell_type": "code",
   "execution_count": 1,
   "id": "ccd378f1-e44b-4543-ad2c-e22b45335f7d",
   "metadata": {},
   "outputs": [
    {
     "data": {
      "text/plain": [
       "Timestamp('2015-07-04 00:00:00')"
      ]
     },
     "execution_count": 1,
     "metadata": {},
     "output_type": "execute_result"
    }
   ],
   "source": [
    "# to_datetime()\n",
    "import pandas as pd\n",
    "date  =pd.to_datetime(\"4th of July , 2015\")\n",
    "date"
   ]
  },
  {
   "cell_type": "code",
   "execution_count": 22,
   "id": "d41d185c-1ab6-4b2e-9d71-22e941017017",
   "metadata": {},
   "outputs": [
    {
     "data": {
      "text/plain": [
       "'Saturday'"
      ]
     },
     "execution_count": 22,
     "metadata": {},
     "output_type": "execute_result"
    }
   ],
   "source": [
    "date.strftime('%A')"
   ]
  },
  {
   "cell_type": "code",
   "execution_count": 23,
   "id": "4c1a5409-3d50-436b-a7a8-615975a67f99",
   "metadata": {},
   "outputs": [
    {
     "data": {
      "text/plain": [
       "DatetimeIndex(['2015-07-04', '2015-07-05', '2015-07-06', '2015-07-07',\n",
       "               '2015-07-08', '2015-07-09', '2015-07-10', '2015-07-11',\n",
       "               '2015-07-12', '2015-07-13', '2015-07-14', '2015-07-15'],\n",
       "              dtype='datetime64[ns]', freq=None)"
      ]
     },
     "execution_count": 23,
     "metadata": {},
     "output_type": "execute_result"
    }
   ],
   "source": [
    "# 向量化操作  +0~11天\n",
    "date + pd.to_timedelta( np.arange(12) , 'D' ) "
   ]
  },
  {
   "cell_type": "code",
   "execution_count": 27,
   "id": "11ac3866-4b5f-4255-8e4d-277e9b0c39db",
   "metadata": {},
   "outputs": [
    {
     "data": {
      "text/plain": [
       "DatetimeIndex(['2015-07-04', '2015-07-11', '2015-07-18', '2015-07-25',\n",
       "               '2015-08-01', '2015-08-08', '2015-08-15', '2015-08-22',\n",
       "               '2015-08-29', '2015-09-05', '2015-09-12', '2015-09-19'],\n",
       "              dtype='datetime64[ns]', freq=None)"
      ]
     },
     "execution_count": 27,
     "metadata": {},
     "output_type": "execute_result"
    }
   ],
   "source": [
    "# 向量化操作  +0~11週\n",
    "date + pd.to_timedelta( np.arange(12) , 'W' ) "
   ]
  },
  {
   "cell_type": "code",
   "execution_count": 31,
   "id": "49ea07e3-8eb0-4e37-918e-6642229b30a7",
   "metadata": {},
   "outputs": [
    {
     "data": {
      "text/plain": [
       "2014-07-04    0\n",
       "2015-07-04    1\n",
       "2016-07-04    2\n",
       "2017-07-04    3\n",
       "dtype: int64"
      ]
     },
     "execution_count": 31,
     "metadata": {},
     "output_type": "execute_result"
    }
   ],
   "source": [
    "# 建立時間索引的Series\n",
    "index = pd.DatetimeIndex(['2014-07-04','2015-07-04','2016-07-04','2017-07-04'])\n",
    "data = pd.Series([0,1,2,3] , index=index)\n",
    "data"
   ]
  },
  {
   "cell_type": "code",
   "execution_count": 33,
   "id": "d467e18f-6c24-4081-b833-c33f1d64b4b5",
   "metadata": {},
   "outputs": [
    {
     "data": {
      "text/plain": [
       "2014-07-04    0\n",
       "2015-07-04    1\n",
       "2016-07-04    2\n",
       "2017-07-04    3\n",
       "dtype: int64"
      ]
     },
     "execution_count": 33,
     "metadata": {},
     "output_type": "execute_result"
    }
   ],
   "source": [
    "# 透過時間做索引\n",
    "data['2014-07-04':]"
   ]
  },
  {
   "cell_type": "code",
   "execution_count": 35,
   "id": "021b912e-55c6-4287-ad4c-1143b68980db",
   "metadata": {},
   "outputs": [
    {
     "data": {
      "text/plain": [
       "2017-07-04    3\n",
       "dtype: int64"
      ]
     },
     "execution_count": 35,
     "metadata": {},
     "output_type": "execute_result"
    }
   ],
   "source": [
    "data['2017']"
   ]
  },
  {
   "cell_type": "markdown",
   "id": "e5036e47-8072-48e6-8efc-311ed84338d3",
   "metadata": {},
   "source": [
    "### Pandas時間資料結構\n",
    "Time Stamps (建立在numpy datetime64之下) => 索引結構為DateTimeIndex  \n",
    "Time Periods (以numpy datetime64編碼固定頻率間隔) => 索引結構為PeriodIndex  \n",
    "Time Deltas (以numpy datetime64為基礎，取代原生datetime.timedelta) => 索引結構為TimedeltaIndex  \n",
    "\n",
    "其中以DateTimeIndex和PeriodIndex 最常使用，而最常被使用的函數則是pd.to_datatime()，他可以接受非常多種格式的時間字串組成的list。    \n"
   ]
  },
  {
   "cell_type": "code",
   "execution_count": 5,
   "id": "5fd27b21-ecd3-4efe-8a3f-49b54f9ea70a",
   "metadata": {},
   "outputs": [
    {
     "data": {
      "text/plain": [
       "DatetimeIndex(['2015-07-03', '2020-07-04', '2020-07-06', '2017-07-10',\n",
       "               '2022-05-31'],\n",
       "              dtype='datetime64[ns]', freq=None)"
      ]
     },
     "execution_count": 5,
     "metadata": {},
     "output_type": "execute_result"
    }
   ],
   "source": [
    "dates = pd.to_datetime([datetime(2015,7,3) , '4th of July , 2020' , '2020-Jul-6' , '07-10-2017' , '20220531'])\n",
    "dates"
   ]
  },
  {
   "cell_type": "code",
   "execution_count": 6,
   "id": "2c99ab90-373e-40fd-8d3c-869fd0f2278a",
   "metadata": {},
   "outputs": [
    {
     "data": {
      "text/plain": [
       "PeriodIndex(['2015-07-03', '2020-07-04', '2020-07-06', '2017-07-10',\n",
       "             '2022-05-31'],\n",
       "            dtype='period[D]')"
      ]
     },
     "execution_count": 6,
     "metadata": {},
     "output_type": "execute_result"
    }
   ],
   "source": [
    "# 任一 DateTimeIndex 可透過 to_period()函數加上一個頻率單位編碼轉換成 PeriodIndex\n",
    "dates.to_period('D')"
   ]
  },
  {
   "cell_type": "code",
   "execution_count": 7,
   "id": "45c560da-d581-4424-8910-e0c6380160ce",
   "metadata": {},
   "outputs": [
    {
     "data": {
      "text/plain": [
       "TimedeltaIndex(['0 days', '1828 days', '1830 days', '738 days', '2524 days'], dtype='timedelta64[ns]', freq=None)"
      ]
     },
     "execution_count": 7,
     "metadata": {},
     "output_type": "execute_result"
    }
   ],
   "source": [
    "# 日期相減時會產生TimeDeltaIndex物件\n",
    "dates - dates[0]"
   ]
  },
  {
   "cell_type": "markdown",
   "id": "c2499576",
   "metadata": {},
   "source": [
    "### 規則性的序列\n",
    "> pd.date_range() : 建立日期序列，產生time stamps  \n",
    "> pd.period_range() : 產生periods  \n",
    "> pd.timedelta_range() :產生time deltas  \n",
    "\n",
    ">|型別\t|標量class\t|陣列class\t|pandas資料型別\t|主要建立方法|\n",
    ">|----|----|----|----|----|\n",
    ">|Date times  |Timestamp\t|DatetimeIndex\t|datetime64[ns] or datetime64[ns, tz]\t|`to_datetime or date_range`|\n",
    ">|Time deltas\t|Timedelta\t|TimedeltaIndex\t|timedelta64[ns]\t|to_timedelta or timedelta_range|\n",
    ">|Time spans\t|Period\t|PeriodIndex\t|period [freq]\t|`Period or period_range`|\n",
    ">|Date offsets\t|DateOffset\t|None\t|None\t|DateOffset|"
   ]
  },
  {
   "cell_type": "code",
   "execution_count": 8,
   "id": "dba1dac3",
   "metadata": {},
   "outputs": [
    {
     "data": {
      "text/plain": [
       "DatetimeIndex(['2015-07-03', '2015-07-04', '2015-07-05', '2015-07-06',\n",
       "               '2015-07-07', '2015-07-08', '2015-07-09', '2015-07-10',\n",
       "               '2015-07-11', '2015-07-12'],\n",
       "              dtype='datetime64[ns]', freq='D')"
      ]
     },
     "execution_count": 8,
     "metadata": {},
     "output_type": "execute_result"
    }
   ],
   "source": [
    "# 給定起始日期 + 結束日期\n",
    "# 注意有包含結束\n",
    "pd.date_range('2015-07-03' , '2015-07-12')"
   ]
  },
  {
   "cell_type": "code",
   "execution_count": 9,
   "id": "879c435e",
   "metadata": {},
   "outputs": [
    {
     "data": {
      "text/plain": [
       "DatetimeIndex(['2015-07-03', '2015-07-04', '2015-07-05', '2015-07-06',\n",
       "               '2015-07-07', '2015-07-08', '2015-07-09', '2015-07-10',\n",
       "               '2015-07-11', '2015-07-12'],\n",
       "              dtype='datetime64[ns]', freq='D')"
      ]
     },
     "execution_count": 9,
     "metadata": {},
     "output_type": "execute_result"
    }
   ],
   "source": [
    "# 給定起始日期 + period長度\n",
    "pd.date_range('2015-07-03' , periods=10)"
   ]
  },
  {
   "cell_type": "code",
   "execution_count": 11,
   "id": "df1c5d6b",
   "metadata": {},
   "outputs": [
    {
     "data": {
      "text/plain": [
       "DatetimeIndex(['2015-07-03 00:00:00', '2015-07-03 01:00:00',\n",
       "               '2015-07-03 02:00:00', '2015-07-03 03:00:00',\n",
       "               '2015-07-03 04:00:00', '2015-07-03 05:00:00',\n",
       "               '2015-07-03 06:00:00', '2015-07-03 07:00:00',\n",
       "               '2015-07-03 08:00:00', '2015-07-03 09:00:00'],\n",
       "              dtype='datetime64[ns]', freq='H')"
      ]
     },
     "execution_count": 11,
     "metadata": {},
     "output_type": "execute_result"
    }
   ],
   "source": [
    "# 給定起始日期 + period長度 + 間隔時間單位 (預設為day)\n",
    "pd.date_range('2015-07-03' , periods=10 , freq='H')\n"
   ]
  },
  {
   "cell_type": "code",
   "execution_count": 12,
   "id": "210bd9c9",
   "metadata": {},
   "outputs": [
    {
     "data": {
      "text/plain": [
       "PeriodIndex(['2015-07', '2015-08', '2015-09', '2015-10', '2015-11', '2015-12',\n",
       "             '2016-01', '2016-02', '2016-03', '2016-04'],\n",
       "            dtype='period[M]')"
      ]
     },
     "execution_count": 12,
     "metadata": {},
     "output_type": "execute_result"
    }
   ],
   "source": [
    "# 建立年-月的period\n",
    "pd.period_range('2015-07' , periods=10 , freq='M')"
   ]
  },
  {
   "cell_type": "code",
   "execution_count": 17,
   "id": "4e0babd1",
   "metadata": {},
   "outputs": [
    {
     "data": {
      "text/plain": [
       "TimedeltaIndex(['0 days 00:00:00', '0 days 01:00:00', '0 days 02:00:00',\n",
       "                '0 days 03:00:00', '0 days 04:00:00', '0 days 05:00:00',\n",
       "                '0 days 06:00:00', '0 days 07:00:00', '0 days 08:00:00',\n",
       "                '0 days 09:00:00'],\n",
       "               dtype='timedelta64[ns]', freq='H')"
      ]
     },
     "execution_count": 17,
     "metadata": {},
     "output_type": "execute_result"
    }
   ],
   "source": [
    "# 每次增加1小時的delta序列\n",
    "pd.timedelta_range(0 , periods=10 , freq='H')"
   ]
  },
  {
   "cell_type": "code",
   "execution_count": 18,
   "id": "3946ba7b",
   "metadata": {},
   "outputs": [
    {
     "data": {
      "text/plain": [
       "TimedeltaIndex(['0 days 00:00:00', '0 days 02:30:00', '0 days 05:00:00',\n",
       "                '0 days 07:30:00', '0 days 10:00:00', '0 days 12:30:00',\n",
       "                '0 days 15:00:00', '0 days 17:30:00', '0 days 20:00:00',\n",
       "                '0 days 22:30:00'],\n",
       "               dtype='timedelta64[ns]', freq='150T')"
      ]
     },
     "execution_count": 18,
     "metadata": {},
     "output_type": "execute_result"
    }
   ],
   "source": [
    "# 每次增加2.5小時的delta序列\n",
    "pd.timedelta_range(0 , periods=10 , freq='2H30T')"
   ]
  },
  {
   "cell_type": "markdown",
   "id": "c49fe0e1",
   "metadata": {},
   "source": [
    "### 頻率和位移值代碼\n",
    "| 頻率\t|日期偏移量\t|說明|\n",
    "|:---------------------:|---------------------|------|\n",
    "| D                     | Day                 | 日曆日|\n",
    "| B\t                    | BusinessDay         | 工作日|\n",
    "| H                    \t| Hour\t              | 小時|\n",
    "| T 或 min              | Minute\t             | 分|\n",
    "| S                    \t| Second\t          | 秒|\n",
    "| L 或 ms\t           | Milli\t             | 毫秒|\n",
    "| U\t                    | Micro\t              | 微秒|\n",
    "| M\t                    | MonthEnd\t          | 每月最後一個日曆日|\n",
    "| BM\t                | BusinessMonthEnd    | 每月最後一個工作日|\n",
    "| MS\t                | MonthBegin          | 每月第一個日曆日|\n",
    "| BMS\t                | BussinessMonthBegin | 每月第一個工作日|\n",
    "| W-MON、W-TUE、…\t      | Week                | 指定星期幾 (MON、TUE、WED、THU、FRI、SAT、SUN)|\n",
    "| WOM-1MON、WOM-2MON、… | WeekOfMonth\t        | 產生每月第一、第二、第三或第四周的星期幾。例如WOM-3FRI表示每月第3個星期五|\n",
    "| Q-JAN、Q-FEB、…\t      | QuarterEnd\t         | 以指定月份結束的年度，每季度最後一個月的最後一個日曆日|\n",
    "| BQ-JAN、BQ-FEB、…\t  | BusinessQuarterEnd\t | 以指定月份結束的年度，每季度最後一個月的最後一個工作日|\n",
    "| QS-JAN、QS-FEB、…\t  | QuarterBegin\t     | 以指定月份結束的年度，每季度最後一個月的第一個日曆日|\n",
    "| BQS-JAN、BQS-FEB、…\t  | BusinessQuarterBegin | 以指定月份結束的年度，每季度最後一個月的第一個工作日|\n",
    "| A-JAN、A-FEB、…\t      | YearEnd              | 每年指定月份的最後一個日曆日|\n",
    "| BA-JAN、BA-FEB、…\t  | BusinessYearEnd\t     | 每年指定月份的最後一個工作日|\n",
    "| AS-JAN、AS-FEB、…\t  | YearBegin\t         | 每年指定月份的第一個日曆日|\n",
    "| BAS-JAN、BAS-FEB、…\t  | BusinessYearBegin\t | 每年指定月份的第一個工作日|\n"
   ]
  },
  {
   "cell_type": "code",
   "execution_count": 23,
   "id": "736bd471",
   "metadata": {},
   "outputs": [
    {
     "data": {
      "text/plain": [
       "DatetimeIndex(['2015-07-01', '2015-07-02', '2015-07-03', '2015-07-06',\n",
       "               '2015-07-07', '2015-07-08', '2015-07-09', '2015-07-10',\n",
       "               '2015-07-13', '2015-07-14'],\n",
       "              dtype='datetime64[ns]', freq='B')"
      ]
     },
     "execution_count": 23,
     "metadata": {},
     "output_type": "execute_result"
    }
   ],
   "source": [
    "# 所有時間相關的編碼可以在pd.tseries.offsets內找到\n",
    "from pandas.tseries.offsets import BDay\n",
    "pd.date_range('2015-07-01' , periods=10 , freq=BDay())"
   ]
  },
  {
   "cell_type": "markdown",
   "id": "6b6f02f8",
   "metadata": {},
   "source": [
    "### 重新取樣與時間偏移"
   ]
  },
  {
   "cell_type": "code",
   "execution_count": 24,
   "id": "6ac4fa65",
   "metadata": {},
   "outputs": [
    {
     "name": "stdout",
     "output_type": "stream",
     "text": [
      "ts :\n",
      "2018-01-01    46\n",
      "2018-01-02    94\n",
      "2018-01-03    12\n",
      "2018-01-04    96\n",
      "2018-01-05    80\n",
      "              ..\n",
      "2020-09-22    83\n",
      "2020-09-23    80\n",
      "2020-09-24    28\n",
      "2020-09-25    15\n",
      "2020-09-26    72\n",
      "Freq: D, Length: 1000, dtype: int32\n",
      "\n",
      "ts['2018'] :\n",
      "2018-01-01    46\n",
      "2018-01-02    94\n",
      "2018-01-03    12\n",
      "2018-01-04    96\n",
      "2018-01-05    80\n",
      "              ..\n",
      "2018-12-27    38\n",
      "2018-12-28    41\n",
      "2018-12-29    81\n",
      "2018-12-30    11\n",
      "2018-12-31    35\n",
      "Freq: D, Length: 365, dtype: int32\n",
      "\n",
      "ts['2018-05'][:] :\n",
      "2018-05-01    44\n",
      "2018-05-02    45\n",
      "2018-05-03    57\n",
      "2018-05-04    24\n",
      "2018-05-05    63\n",
      "2018-05-06    40\n",
      "2018-05-07    99\n",
      "2018-05-08    37\n",
      "2018-05-09    83\n",
      "2018-05-10    90\n",
      "2018-05-11    26\n",
      "2018-05-12    36\n",
      "2018-05-13    42\n",
      "2018-05-14    30\n",
      "2018-05-15    94\n",
      "2018-05-16    25\n",
      "2018-05-17    63\n",
      "2018-05-18    24\n",
      "2018-05-19    13\n",
      "2018-05-20    38\n",
      "2018-05-21    22\n",
      "2018-05-22    83\n",
      "2018-05-23    99\n",
      "2018-05-24    21\n",
      "2018-05-25    63\n",
      "2018-05-26    22\n",
      "2018-05-27    96\n",
      "2018-05-28    22\n",
      "2018-05-29    84\n",
      "2018-05-30    78\n",
      "2018-05-31    86\n",
      "Freq: D, dtype: int32\n",
      "\n",
      "ts.truncate(after='1/9/2018') :\n",
      "2018-01-01    46\n",
      "2018-01-02    94\n",
      "2018-01-03    12\n",
      "2018-01-04    96\n",
      "2018-01-05    80\n",
      "2018-01-06    18\n",
      "2018-01-07    40\n",
      "2018-01-08    51\n",
      "2018-01-09    79\n",
      "Freq: D, dtype: int32\n",
      "\n",
      "ts.truncate(before='1/9/2018') :\n",
      "2018-01-09    79\n",
      "2018-01-10    32\n",
      "2018-01-11    30\n",
      "2018-01-12    54\n",
      "2018-01-13    54\n",
      "              ..\n",
      "2020-09-22    83\n",
      "2020-09-23    80\n",
      "2020-09-24    28\n",
      "2020-09-25    15\n",
      "2020-09-26    72\n",
      "Freq: D, Length: 992, dtype: int32\n"
     ]
    }
   ],
   "source": [
    "ts = pd.Series(np.random.randint(10, 100, 1000), index=pd.date_range('1/1/2018', periods=1000))\n",
    "print(f'ts :\\n{ts}\\n\\n'\n",
    "      f\"ts['2018'] :\\n{ts['2018']}\\n\\n\"\n",
    "      f\"ts['2018-05'][:] :\\n{ts['2018-05'][:]}\\n\\n\"\n",
    "      f\"ts.truncate(after='1/9/2018') :\\n{ts.truncate(after='1/9/2018')}\\n\\n\"\n",
    "      f\"ts.truncate(before='1/9/2018') :\\n{ts.truncate(before='1/9/2018')}\")"
   ]
  },
  {
   "cell_type": "code",
   "execution_count": 25,
   "id": "60a61b8c",
   "metadata": {},
   "outputs": [
    {
     "name": "stdout",
     "output_type": "stream",
     "text": [
      "2018-01-01    46\n",
      "2018-01-02    94\n",
      "2018-01-03    12\n",
      "2018-01-04    96\n",
      "2018-01-05    80\n",
      "2018-01-06    18\n",
      "2018-01-07    40\n",
      "2018-01-08    51\n",
      "2018-01-09    79\n",
      "2018-01-10    32\n",
      "Freq: D, dtype: int32\n",
      "\n",
      "2018-01-31    1618\n",
      "2018-02-28    1607\n",
      "2018-03-30    1441\n",
      "2018-04-30    1448\n",
      "2018-05-31    1649\n",
      "2018-06-29    1641\n",
      "2018-07-31    1689\n",
      "2018-08-31    1768\n",
      "2018-09-28    1549\n",
      "2018-10-31    1807\n",
      "Freq: BM, dtype: int32\n",
      "\n"
     ]
    }
   ],
   "source": [
    "resampler = ts.resample(rule='BM').sum()  # try sum 2D : 2 days, M\n",
    "print(f'{ts[:10]}\\n\\n'\n",
    "      f'{resampler[:10]}\\n')"
   ]
  },
  {
   "cell_type": "code",
   "execution_count": 26,
   "id": "b9d204f7",
   "metadata": {},
   "outputs": [
    {
     "data": {
      "text/html": [
       "<div>\n",
       "<style scoped>\n",
       "    .dataframe tbody tr th:only-of-type {\n",
       "        vertical-align: middle;\n",
       "    }\n",
       "\n",
       "    .dataframe tbody tr th {\n",
       "        vertical-align: top;\n",
       "    }\n",
       "\n",
       "    .dataframe thead th {\n",
       "        text-align: right;\n",
       "    }\n",
       "</style>\n",
       "<table border=\"1\" class=\"dataframe\">\n",
       "  <thead>\n",
       "    <tr style=\"text-align: right;\">\n",
       "      <th></th>\n",
       "      <th>Col1</th>\n",
       "      <th>Col2</th>\n",
       "      <th>Col3</th>\n",
       "    </tr>\n",
       "  </thead>\n",
       "  <tbody>\n",
       "    <tr>\n",
       "      <th>2020-01-01</th>\n",
       "      <td>10</td>\n",
       "      <td>13</td>\n",
       "      <td>17</td>\n",
       "    </tr>\n",
       "    <tr>\n",
       "      <th>2020-01-02</th>\n",
       "      <td>20</td>\n",
       "      <td>23</td>\n",
       "      <td>27</td>\n",
       "    </tr>\n",
       "    <tr>\n",
       "      <th>2020-01-03</th>\n",
       "      <td>15</td>\n",
       "      <td>18</td>\n",
       "      <td>22</td>\n",
       "    </tr>\n",
       "    <tr>\n",
       "      <th>2020-01-04</th>\n",
       "      <td>30</td>\n",
       "      <td>33</td>\n",
       "      <td>37</td>\n",
       "    </tr>\n",
       "    <tr>\n",
       "      <th>2020-01-05</th>\n",
       "      <td>45</td>\n",
       "      <td>48</td>\n",
       "      <td>52</td>\n",
       "    </tr>\n",
       "  </tbody>\n",
       "</table>\n",
       "</div>"
      ],
      "text/plain": [
       "            Col1  Col2  Col3\n",
       "2020-01-01    10    13    17\n",
       "2020-01-02    20    23    27\n",
       "2020-01-03    15    18    22\n",
       "2020-01-04    30    33    37\n",
       "2020-01-05    45    48    52"
      ]
     },
     "execution_count": 26,
     "metadata": {},
     "output_type": "execute_result"
    }
   ],
   "source": [
    "# shift 將資料位移\n",
    "df = pd.DataFrame({\"Col1\": [10, 20, 15, 30, 45],\n",
    "                   \"Col2\": [13, 23, 18, 33, 48],\n",
    "                   \"Col3\": [17, 27, 22, 37, 52]},\n",
    "                  index=pd.date_range(\"2020-01-01\", \"2020-01-05\"))\n",
    "df"
   ]
  },
  {
   "cell_type": "code",
   "execution_count": 28,
   "id": "edd565a6",
   "metadata": {},
   "outputs": [
    {
     "data": {
      "text/html": [
       "<div>\n",
       "<style scoped>\n",
       "    .dataframe tbody tr th:only-of-type {\n",
       "        vertical-align: middle;\n",
       "    }\n",
       "\n",
       "    .dataframe tbody tr th {\n",
       "        vertical-align: top;\n",
       "    }\n",
       "\n",
       "    .dataframe thead th {\n",
       "        text-align: right;\n",
       "    }\n",
       "</style>\n",
       "<table border=\"1\" class=\"dataframe\">\n",
       "  <thead>\n",
       "    <tr style=\"text-align: right;\">\n",
       "      <th></th>\n",
       "      <th>Col1</th>\n",
       "      <th>Col2</th>\n",
       "      <th>Col3</th>\n",
       "    </tr>\n",
       "  </thead>\n",
       "  <tbody>\n",
       "    <tr>\n",
       "      <th>2020-01-01</th>\n",
       "      <td>0</td>\n",
       "      <td>0</td>\n",
       "      <td>0</td>\n",
       "    </tr>\n",
       "    <tr>\n",
       "      <th>2020-01-02</th>\n",
       "      <td>0</td>\n",
       "      <td>0</td>\n",
       "      <td>0</td>\n",
       "    </tr>\n",
       "    <tr>\n",
       "      <th>2020-01-03</th>\n",
       "      <td>0</td>\n",
       "      <td>0</td>\n",
       "      <td>0</td>\n",
       "    </tr>\n",
       "    <tr>\n",
       "      <th>2020-01-04</th>\n",
       "      <td>10</td>\n",
       "      <td>13</td>\n",
       "      <td>17</td>\n",
       "    </tr>\n",
       "    <tr>\n",
       "      <th>2020-01-05</th>\n",
       "      <td>20</td>\n",
       "      <td>23</td>\n",
       "      <td>27</td>\n",
       "    </tr>\n",
       "  </tbody>\n",
       "</table>\n",
       "</div>"
      ],
      "text/plain": [
       "            Col1  Col2  Col3\n",
       "2020-01-01     0     0     0\n",
       "2020-01-02     0     0     0\n",
       "2020-01-03     0     0     0\n",
       "2020-01-04    10    13    17\n",
       "2020-01-05    20    23    27"
      ]
     },
     "execution_count": 28,
     "metadata": {},
     "output_type": "execute_result"
    }
   ],
   "source": [
    "# 注意前面的資料因為位移而缺失，因此使用fill_value填補\n",
    "df.shift(periods=3, fill_value=0)"
   ]
  },
  {
   "cell_type": "code",
   "execution_count": 29,
   "id": "3dc65da5",
   "metadata": {},
   "outputs": [
    {
     "data": {
      "text/html": [
       "<div>\n",
       "<style scoped>\n",
       "    .dataframe tbody tr th:only-of-type {\n",
       "        vertical-align: middle;\n",
       "    }\n",
       "\n",
       "    .dataframe tbody tr th {\n",
       "        vertical-align: top;\n",
       "    }\n",
       "\n",
       "    .dataframe thead th {\n",
       "        text-align: right;\n",
       "    }\n",
       "</style>\n",
       "<table border=\"1\" class=\"dataframe\">\n",
       "  <thead>\n",
       "    <tr style=\"text-align: right;\">\n",
       "      <th></th>\n",
       "      <th>Col1</th>\n",
       "      <th>Col2</th>\n",
       "      <th>Col3</th>\n",
       "    </tr>\n",
       "  </thead>\n",
       "  <tbody>\n",
       "    <tr>\n",
       "      <th>2020-01-04</th>\n",
       "      <td>10</td>\n",
       "      <td>13</td>\n",
       "      <td>17</td>\n",
       "    </tr>\n",
       "    <tr>\n",
       "      <th>2020-01-05</th>\n",
       "      <td>20</td>\n",
       "      <td>23</td>\n",
       "      <td>27</td>\n",
       "    </tr>\n",
       "    <tr>\n",
       "      <th>2020-01-06</th>\n",
       "      <td>15</td>\n",
       "      <td>18</td>\n",
       "      <td>22</td>\n",
       "    </tr>\n",
       "    <tr>\n",
       "      <th>2020-01-07</th>\n",
       "      <td>30</td>\n",
       "      <td>33</td>\n",
       "      <td>37</td>\n",
       "    </tr>\n",
       "    <tr>\n",
       "      <th>2020-01-08</th>\n",
       "      <td>45</td>\n",
       "      <td>48</td>\n",
       "      <td>52</td>\n",
       "    </tr>\n",
       "  </tbody>\n",
       "</table>\n",
       "</div>"
      ],
      "text/plain": [
       "            Col1  Col2  Col3\n",
       "2020-01-04    10    13    17\n",
       "2020-01-05    20    23    27\n",
       "2020-01-06    15    18    22\n",
       "2020-01-07    30    33    37\n",
       "2020-01-08    45    48    52"
      ]
     },
     "execution_count": 29,
     "metadata": {},
     "output_type": "execute_result"
    }
   ],
   "source": [
    "# tshift 將index位移\n",
    "# 目前已停用，全部使用shift來完成\n",
    "df.shift(periods=3, freq=\"D\")"
   ]
  },
  {
   "cell_type": "code",
   "execution_count": 31,
   "id": "141ddf4f",
   "metadata": {},
   "outputs": [
    {
     "data": {
      "text/html": [
       "<div>\n",
       "<style scoped>\n",
       "    .dataframe tbody tr th:only-of-type {\n",
       "        vertical-align: middle;\n",
       "    }\n",
       "\n",
       "    .dataframe tbody tr th {\n",
       "        vertical-align: top;\n",
       "    }\n",
       "\n",
       "    .dataframe thead th {\n",
       "        text-align: right;\n",
       "    }\n",
       "</style>\n",
       "<table border=\"1\" class=\"dataframe\">\n",
       "  <thead>\n",
       "    <tr style=\"text-align: right;\">\n",
       "      <th></th>\n",
       "      <th>Col1</th>\n",
       "      <th>Col2</th>\n",
       "      <th>Col3</th>\n",
       "    </tr>\n",
       "  </thead>\n",
       "  <tbody>\n",
       "    <tr>\n",
       "      <th>2020-01-01</th>\n",
       "      <td>NaN</td>\n",
       "      <td>10</td>\n",
       "      <td>13</td>\n",
       "    </tr>\n",
       "    <tr>\n",
       "      <th>2020-01-02</th>\n",
       "      <td>NaN</td>\n",
       "      <td>20</td>\n",
       "      <td>23</td>\n",
       "    </tr>\n",
       "    <tr>\n",
       "      <th>2020-01-03</th>\n",
       "      <td>NaN</td>\n",
       "      <td>15</td>\n",
       "      <td>18</td>\n",
       "    </tr>\n",
       "    <tr>\n",
       "      <th>2020-01-04</th>\n",
       "      <td>NaN</td>\n",
       "      <td>30</td>\n",
       "      <td>33</td>\n",
       "    </tr>\n",
       "    <tr>\n",
       "      <th>2020-01-05</th>\n",
       "      <td>NaN</td>\n",
       "      <td>45</td>\n",
       "      <td>48</td>\n",
       "    </tr>\n",
       "  </tbody>\n",
       "</table>\n",
       "</div>"
      ],
      "text/plain": [
       "            Col1  Col2  Col3\n",
       "2020-01-01   NaN    10    13\n",
       "2020-01-02   NaN    20    23\n",
       "2020-01-03   NaN    15    18\n",
       "2020-01-04   NaN    30    33\n",
       "2020-01-05   NaN    45    48"
      ]
     },
     "execution_count": 31,
     "metadata": {},
     "output_type": "execute_result"
    }
   ],
   "source": [
    "# 移動欄位方向\n",
    "df.shift(periods=1, axis=\"columns\")"
   ]
  },
  {
   "cell_type": "code",
   "execution_count": null,
   "id": "1bdc0164-c100-4897-92e3-1cadb93f3245",
   "metadata": {},
   "outputs": [],
   "source": []
  },
  {
   "cell_type": "code",
   "execution_count": null,
   "id": "823fdd7f-09b6-47ba-9eab-a9b6522f59e0",
   "metadata": {},
   "outputs": [],
   "source": []
  }
 ],
 "metadata": {
  "kernelspec": {
   "display_name": "Python 3 (ipykernel)",
   "language": "python",
   "name": "python3"
  },
  "language_info": {
   "codemirror_mode": {
    "name": "ipython",
    "version": 3
   },
   "file_extension": ".py",
   "mimetype": "text/x-python",
   "name": "python",
   "nbconvert_exporter": "python",
   "pygments_lexer": "ipython3",
   "version": "3.10.2"
  }
 },
 "nbformat": 4,
 "nbformat_minor": 5
}
