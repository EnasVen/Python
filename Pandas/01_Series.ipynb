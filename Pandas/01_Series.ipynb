{
 "cells": [
  {
   "cell_type": "markdown",
   "id": "a650d91d",
   "metadata": {},
   "source": [
    "# Series"
   ]
  },
  {
   "cell_type": "markdown",
   "id": "357f11ba-68ae-4a51-b7fa-a8df6a22d3c7",
   "metadata": {
    "tags": []
   },
   "source": [
    "### Construction\n",
    "Series物件可透過以下方法建立:\n",
    "1. 原生資料型態list\n",
    "2. np array\n",
    "3. dict"
   ]
  },
  {
   "cell_type": "markdown",
   "id": "85622b8d",
   "metadata": {},
   "source": [
    "### Pandas Object\n",
    "Series為pandas內的物件類別，類似np內的一維陣列。  \n",
    "根據官方API文件 https://pandas.pydata.org/docs/reference/api/pandas.Series.html  \n",
    "可透過list、np array甚至是dictionary來建立series物件。  \n",
    "> `.Series( data=None [, index=None, dtype=None, copy=False])`  \n",
    "\n",
    "data為array-like物件、iterable物件甚至是單一數值  \n",
    "index可為array-like陣列 或者 Index (1d)物件  \n",
    "copy預設值為False，會根據input資料型別來判斷深淺copy  "
   ]
  },
  {
   "cell_type": "code",
   "execution_count": 2,
   "id": "8d0f2bcf",
   "metadata": {},
   "outputs": [
    {
     "data": {
      "text/plain": [
       "'1.4.2'"
      ]
     },
     "execution_count": 2,
     "metadata": {},
     "output_type": "execute_result"
    }
   ],
   "source": [
    "import numpy as np\n",
    "import pandas as pd\n",
    "pd.__version__"
   ]
  },
  {
   "cell_type": "code",
   "execution_count": 3,
   "id": "9486b53d",
   "metadata": {},
   "outputs": [
    {
     "data": {
      "text/plain": [
       "0    1\n",
       "1    2\n",
       "2    3\n",
       "3    4\n",
       "4    5\n",
       "dtype: int64"
      ]
     },
     "execution_count": 3,
     "metadata": {},
     "output_type": "execute_result"
    }
   ],
   "source": [
    "# 使用list建立series\n",
    "# 注意資料型態為i64，且陣列後逗點不觸發error\n",
    "data = pd.Series([1,2,3,4,5,])\n",
    "data"
   ]
  },
  {
   "cell_type": "code",
   "execution_count": 4,
   "id": "1ba1ae8f",
   "metadata": {},
   "outputs": [
    {
     "data": {
      "text/plain": [
       "0    0\n",
       "1    1\n",
       "2    2\n",
       "3    3\n",
       "4    4\n",
       "5    5\n",
       "6    6\n",
       "7    7\n",
       "8    8\n",
       "9    9\n",
       "dtype: int32"
      ]
     },
     "execution_count": 4,
     "metadata": {},
     "output_type": "execute_result"
    }
   ],
   "source": [
    "# 使用np array建立series\n",
    "# 注意資料型態為i32\n",
    "data = pd.Series( np.arange(10))\n",
    "data"
   ]
  },
  {
   "cell_type": "code",
   "execution_count": 20,
   "id": "586a2898",
   "metadata": {},
   "outputs": [],
   "source": [
    "# 使用dict建立series\n",
    "p = {\n",
    "    'A':12,\n",
    "    'B':13,\n",
    "    'C':14,\n",
    "    'D':15\n",
    "}\n",
    "X=pd.Series(p)"
   ]
  },
  {
   "cell_type": "markdown",
   "id": "49a6e10b",
   "metadata": {},
   "source": [
    "### Series Attributes\n",
    "series包含以下屬性:\n",
    "> values : 讀取series值  \n",
    "> index : 讀取指標(類似R語言的rowname)  \n",
    "> shape : 讀取一維陣列的shape  \n",
    "> ndim : 讀取維度數  \n",
    "> dtypes : 讀取資料型態  \n",
    "> size : 讀取series內的元素個數  \n",
    "> nbytes : 讀取整個series共占用多少bytes  "
   ]
  },
  {
   "cell_type": "code",
   "execution_count": 2,
   "id": "a58c97b3",
   "metadata": {},
   "outputs": [
    {
     "name": "stdout",
     "output_type": "stream",
     "text": [
      "data =\n",
      "0    0.25\n",
      "1    0.50\n",
      "2    0.75\n",
      "3    1.00\n",
      "dtype: float64\n",
      "\n",
      "data.values\t= [0.25 0.5  0.75 1.  ]\n",
      "data.index\t= RangeIndex(start=0, stop=4, step=1)\n",
      "data.shape\t= (4,)\n",
      "data.ndim\t= 1\n",
      "data.dtypes\t= float64\n",
      "data.size\t= 4\n",
      "data.nbytes\t= 32\n"
     ]
    }
   ],
   "source": [
    "# 讀取series的屬性\n",
    "data = pd.Series([0.25, 0.5, 0.75, 1.0])\n",
    "print(f'data =\\n{data}\\n\\n'\n",
    "      f'data.values\\t= {data.values}\\n'\n",
    "      f'data.index\\t= {data.index}\\n'\n",
    "      f'data.shape\\t= {data.shape}\\n'\n",
    "      f'data.ndim\\t= {data.ndim}\\n'\n",
    "      f'data.dtypes\\t= {data.dtypes}\\n'\n",
    "      f'data.size\\t= {data.size}\\n'\n",
    "      f'data.nbytes\\t= {data.nbytes}')"
   ]
  },
  {
   "cell_type": "code",
   "execution_count": 3,
   "id": "18217bea",
   "metadata": {},
   "outputs": [
    {
     "data": {
      "text/plain": [
       "a    1\n",
       "a    2\n",
       "a    3\n",
       "d    4\n",
       "d    5\n",
       "dtype: int64"
      ]
     },
     "execution_count": 3,
     "metadata": {},
     "output_type": "execute_result"
    }
   ],
   "source": [
    "# index 可以重複\n",
    "data = pd.Series([1,2,3,4,5,] , index=['a','a','a','d','d'])\n",
    "data"
   ]
  },
  {
   "cell_type": "code",
   "execution_count": 4,
   "id": "6093ae32",
   "metadata": {},
   "outputs": [
    {
     "data": {
      "text/plain": [
       "0    0.25\n",
       "1    0.50\n",
       "2    0.75\n",
       "3    1.00\n",
       "4     NaN\n",
       "5     NaN\n",
       "Name: myseries, dtype: float64"
      ]
     },
     "execution_count": 4,
     "metadata": {},
     "output_type": "execute_result"
    }
   ],
   "source": [
    "# Series的name(名稱屬性)會在其納入DataFrame後，成為colnum Name\n",
    "data = pd.Series([0.25, 0.5, 0.75, 1.0, None, np.nan])\n",
    "data.name = 'myseries'\n",
    "data"
   ]
  },
  {
   "cell_type": "markdown",
   "id": "84246372",
   "metadata": {},
   "source": [
    "### Series Indexing\n",
    "series索引方式同1d array"
   ]
  },
  {
   "cell_type": "code",
   "execution_count": 6,
   "id": "71a9ccc1",
   "metadata": {},
   "outputs": [
    {
     "data": {
      "text/plain": [
       "1    1\n",
       "2    2\n",
       "dtype: int32"
      ]
     },
     "execution_count": 6,
     "metadata": {},
     "output_type": "execute_result"
    }
   ],
   "source": [
    "# 如 Numpy陣列，可透過相同索引方法來存取資料\n",
    "data[1:3]"
   ]
  },
  {
   "cell_type": "code",
   "execution_count": 6,
   "id": "fba38630",
   "metadata": {},
   "outputs": [
    {
     "data": {
      "text/plain": [
       "a    1\n",
       "b    2\n",
       "c    3\n",
       "d    4\n",
       "e    5\n",
       "dtype: int64"
      ]
     },
     "execution_count": 6,
     "metadata": {},
     "output_type": "execute_result"
    }
   ],
   "source": [
    "# np array使用整數去索引，但pandas Series需要使用明確定義和值相關的索引，例如:字串\n",
    "data = pd.Series([1,2,3,4,5,] , index=['a','b','c','d','e'])\n",
    "data"
   ]
  },
  {
   "cell_type": "code",
   "execution_count": 7,
   "id": "fd5c68fb",
   "metadata": {},
   "outputs": [
    {
     "data": {
      "text/plain": [
       "(2, 3)"
      ]
     },
     "execution_count": 7,
     "metadata": {},
     "output_type": "execute_result"
    }
   ],
   "source": [
    "# 指定index或使用int進行索引\n",
    "data['b'] , data[2] "
   ]
  },
  {
   "cell_type": "code",
   "execution_count": 5,
   "id": "46e8f78c",
   "metadata": {},
   "outputs": [
    {
     "data": {
      "text/plain": [
       "b    2\n",
       "c    3\n",
       "d    4\n",
       "e    5\n",
       "dtype: int64"
      ]
     },
     "execution_count": 5,
     "metadata": {},
     "output_type": "execute_result"
    }
   ],
   "source": [
    "# 注意e有包含在內，explicit索引會包含end point!!\n",
    "data = pd.Series([1,2,3,4,5,] , index=['a','b','c','d','e'])\n",
    "data['b':'e']"
   ]
  },
  {
   "cell_type": "code",
   "execution_count": 21,
   "id": "358e809f",
   "metadata": {},
   "outputs": [
    {
     "data": {
      "text/plain": [
       "(15,\n",
       " A    12\n",
       " B    13\n",
       " C    14\n",
       " dtype: int64)"
      ]
     },
     "execution_count": 21,
     "metadata": {},
     "output_type": "execute_result"
    }
   ],
   "source": [
    "# 使用index索引\n",
    "X['D'] , X['A':'C']"
   ]
  },
  {
   "cell_type": "code",
   "execution_count": 23,
   "id": "60e04e9a",
   "metadata": {},
   "outputs": [
    {
     "data": {
      "text/plain": [
       "11    10\n",
       "12    10\n",
       "13    10\n",
       "dtype: int64"
      ]
     },
     "execution_count": 23,
     "metadata": {},
     "output_type": "execute_result"
    }
   ],
   "source": [
    "# 類廣播: 純量作為input data，會自動複製到各index的對應值\n",
    "pd.Series(10 , index=[11,12,13])"
   ]
  },
  {
   "cell_type": "code",
   "execution_count": 25,
   "id": "7aa15cfd",
   "metadata": {},
   "outputs": [
    {
     "data": {
      "text/plain": [
       "2    a\n",
       "1    b\n",
       "3    c\n",
       "dtype: object"
      ]
     },
     "execution_count": 25,
     "metadata": {},
     "output_type": "execute_result"
    }
   ],
   "source": [
    "# 以dict建立Series，index\"不會\"排序後呈現\n",
    "pd.Series({2:'a' , 1:'b' , 3:'c'})"
   ]
  },
  {
   "cell_type": "code",
   "execution_count": 26,
   "id": "b31a93f2",
   "metadata": {},
   "outputs": [
    {
     "data": {
      "text/plain": [
       "3    c\n",
       "1    b\n",
       "dtype: object"
      ]
     },
     "execution_count": 26,
     "metadata": {},
     "output_type": "execute_result"
    }
   ],
   "source": [
    "# 透過index選擇性呈現結果\n",
    "pd.Series({2:'a' , 1:'b' , 3:'c'} , index=[3,1])"
   ]
  },
  {
   "cell_type": "code",
   "execution_count": 5,
   "id": "bf6719d2",
   "metadata": {},
   "outputs": [
    {
     "name": "stdout",
     "output_type": "stream",
     "text": [
      "series1 =\n",
      "a    1\n",
      "b    2\n",
      "c    3\n",
      "d    4\n",
      "dtype: int64\n",
      "\n"
     ]
    }
   ],
   "source": [
    "# series 索引、切片與刪除\n",
    "series1=pd.Series([1,2,3,4], index=['a','b','c','d'])\n",
    "print(f\"series1 =\\n{series1}\\n\")"
   ]
  },
  {
   "cell_type": "code",
   "execution_count": 6,
   "id": "0e3c0024",
   "metadata": {},
   "outputs": [
    {
     "name": "stdout",
     "output_type": "stream",
     "text": [
      "series1['d'] = 999\n",
      "a      1\n",
      "b      2\n",
      "c      3\n",
      "d    999\n",
      "dtype: int64\n",
      "\n"
     ]
    }
   ],
   "source": [
    "# 單一賦值\n",
    "series1['d'] = 999\n",
    "print(f\"series1['d'] = 999\\n{series1}\\n\")"
   ]
  },
  {
   "cell_type": "code",
   "execution_count": 7,
   "id": "9971411f",
   "metadata": {},
   "outputs": [
    {
     "name": "stdout",
     "output_type": "stream",
     "text": [
      "series1[series1<=2] = -1\n",
      "a     -1\n",
      "b     -1\n",
      "c      3\n",
      "d    999\n",
      "dtype: int64\n",
      "\n"
     ]
    }
   ],
   "source": [
    "# 範圍修改\n",
    "series1[series1<=2] = -1\n",
    "print (f'series1[series1<=2] = -1\\n{series1}\\n')\n"
   ]
  },
  {
   "cell_type": "code",
   "execution_count": 8,
   "id": "2de5dd28",
   "metadata": {},
   "outputs": [
    {
     "name": "stdout",
     "output_type": "stream",
     "text": [
      "series1['e'] =100\n",
      "a     -1\n",
      "b     -1\n",
      "c      3\n",
      "d    999\n",
      "e    100\n",
      "dtype: int64\n",
      "\n"
     ]
    }
   ],
   "source": [
    "# 建立新的index與對應值\n",
    "series1['e'] =100 \n",
    "print(f\"series1['e'] =100\\n{series1}\\n\")"
   ]
  },
  {
   "cell_type": "code",
   "execution_count": 9,
   "id": "7b311312",
   "metadata": {},
   "outputs": [
    {
     "name": "stdout",
     "output_type": "stream",
     "text": [
      "series1.drop('a', inplace=True)\n",
      "b     -1\n",
      "c      3\n",
      "d    999\n",
      "e    100\n",
      "dtype: int64\n",
      "\n"
     ]
    }
   ],
   "source": [
    "# drop()方法刪去index與其對應值，可使用inplace來確認是否要連動修改原始資料\n",
    "series1.drop('a', inplace=True) \n",
    "print(f\"series1.drop('a', inplace=True)\\n{series1}\\n\")"
   ]
  },
  {
   "cell_type": "code",
   "execution_count": 10,
   "id": "bc5964eb",
   "metadata": {},
   "outputs": [
    {
     "name": "stdout",
     "output_type": "stream",
     "text": [
      "series1.drop(['b','c'], inplace=True)\n",
      "d    999\n",
      "e    100\n",
      "dtype: int64\n",
      "\n"
     ]
    }
   ],
   "source": [
    "series1.drop(['b','c'], inplace=True)\n",
    "print(f\"series1.drop(['b','c'], inplace=True)\\n{series1}\\n\")"
   ]
  },
  {
   "cell_type": "code",
   "execution_count": 11,
   "id": "60482550",
   "metadata": {},
   "outputs": [
    {
     "name": "stdout",
     "output_type": "stream",
     "text": [
      "del series1['d']\n",
      "e    100\n",
      "dtype: int64\n"
     ]
    }
   ],
   "source": [
    "# 使用 del 關鍵字移除指定index與其對應值\n",
    "del series1['d'] \n",
    "print(f\"del series1['d']\\n{series1}\")"
   ]
  }
 ],
 "metadata": {
  "kernelspec": {
   "display_name": "Python 3 (ipykernel)",
   "language": "python",
   "name": "python3"
  },
  "language_info": {
   "codemirror_mode": {
    "name": "ipython",
    "version": 3
   },
   "file_extension": ".py",
   "mimetype": "text/x-python",
   "name": "python",
   "nbconvert_exporter": "python",
   "pygments_lexer": "ipython3",
   "version": "3.9.12"
  }
 },
 "nbformat": 4,
 "nbformat_minor": 5
}
