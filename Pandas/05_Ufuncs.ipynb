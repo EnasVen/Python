{
 "cells": [
  {
   "cell_type": "markdown",
   "id": "6880f40f",
   "metadata": {},
   "source": [
    "# Ufuncs"
   ]
  },
  {
   "cell_type": "markdown",
   "id": "7474491f",
   "metadata": {},
   "source": [
    "### Pandas Ufuncs\n",
    "由於pandas是設計來和numpy溝通，因此numpy上面的ufuncs都可以在Series和DataFrame上運作  \n",
    "單元運算如:指數、對數、三角函數...etc，ufunc輸出後會保留index和colName  \n",
    "二元運算如:加法、乘法...etc，ufunc輸出後會自動對齊index  "
   ]
  },
  {
   "cell_type": "code",
   "execution_count": 1,
   "id": "18018048",
   "metadata": {},
   "outputs": [],
   "source": [
    "import numpy as np\n",
    "import pandas as pd"
   ]
  },
  {
   "cell_type": "code",
   "execution_count": 3,
   "id": "23a3a7fb",
   "metadata": {},
   "outputs": [
    {
     "data": {
      "text/html": [
       "<div>\n",
       "<style scoped>\n",
       "    .dataframe tbody tr th:only-of-type {\n",
       "        vertical-align: middle;\n",
       "    }\n",
       "\n",
       "    .dataframe tbody tr th {\n",
       "        vertical-align: top;\n",
       "    }\n",
       "\n",
       "    .dataframe thead th {\n",
       "        text-align: right;\n",
       "    }\n",
       "</style>\n",
       "<table border=\"1\" class=\"dataframe\">\n",
       "  <thead>\n",
       "    <tr style=\"text-align: right;\">\n",
       "      <th></th>\n",
       "      <th>A</th>\n",
       "      <th>B</th>\n",
       "      <th>C</th>\n",
       "      <th>D</th>\n",
       "    </tr>\n",
       "  </thead>\n",
       "  <tbody>\n",
       "    <tr>\n",
       "      <th>0</th>\n",
       "      <td>0</td>\n",
       "      <td>0</td>\n",
       "      <td>1</td>\n",
       "      <td>4</td>\n",
       "    </tr>\n",
       "    <tr>\n",
       "      <th>1</th>\n",
       "      <td>6</td>\n",
       "      <td>5</td>\n",
       "      <td>6</td>\n",
       "      <td>6</td>\n",
       "    </tr>\n",
       "    <tr>\n",
       "      <th>2</th>\n",
       "      <td>5</td>\n",
       "      <td>2</td>\n",
       "      <td>7</td>\n",
       "      <td>4</td>\n",
       "    </tr>\n",
       "  </tbody>\n",
       "</table>\n",
       "</div>"
      ],
      "text/plain": [
       "   A  B  C  D\n",
       "0  0  0  1  4\n",
       "1  6  5  6  6\n",
       "2  5  2  7  4"
      ]
     },
     "execution_count": 3,
     "metadata": {},
     "output_type": "execute_result"
    }
   ],
   "source": [
    "rng = np.random.RandomState(50)\n",
    "df = pd.DataFrame(rng.randint(0,10,(3,4)) ,\n",
    "                 columns=['A','B','C','D']\n",
    "                 )\n",
    "df"
   ]
  },
  {
   "cell_type": "markdown",
   "id": "c8476ca0",
   "metadata": {},
   "source": [
    "### Ufunc保留指標與欄位"
   ]
  },
  {
   "cell_type": "code",
   "execution_count": 5,
   "id": "75060912",
   "metadata": {
    "scrolled": true
   },
   "outputs": [
    {
     "data": {
      "text/html": [
       "<div>\n",
       "<style scoped>\n",
       "    .dataframe tbody tr th:only-of-type {\n",
       "        vertical-align: middle;\n",
       "    }\n",
       "\n",
       "    .dataframe tbody tr th {\n",
       "        vertical-align: top;\n",
       "    }\n",
       "\n",
       "    .dataframe thead th {\n",
       "        text-align: right;\n",
       "    }\n",
       "</style>\n",
       "<table border=\"1\" class=\"dataframe\">\n",
       "  <thead>\n",
       "    <tr style=\"text-align: right;\">\n",
       "      <th></th>\n",
       "      <th>A</th>\n",
       "      <th>B</th>\n",
       "      <th>C</th>\n",
       "      <th>D</th>\n",
       "    </tr>\n",
       "  </thead>\n",
       "  <tbody>\n",
       "    <tr>\n",
       "      <th>0</th>\n",
       "      <td>1.000000</td>\n",
       "      <td>1.000000</td>\n",
       "      <td>2.718282</td>\n",
       "      <td>54.598150</td>\n",
       "    </tr>\n",
       "    <tr>\n",
       "      <th>1</th>\n",
       "      <td>403.428793</td>\n",
       "      <td>148.413159</td>\n",
       "      <td>403.428793</td>\n",
       "      <td>403.428793</td>\n",
       "    </tr>\n",
       "    <tr>\n",
       "      <th>2</th>\n",
       "      <td>148.413159</td>\n",
       "      <td>7.389056</td>\n",
       "      <td>1096.633158</td>\n",
       "      <td>54.598150</td>\n",
       "    </tr>\n",
       "  </tbody>\n",
       "</table>\n",
       "</div>"
      ],
      "text/plain": [
       "            A           B            C           D\n",
       "0    1.000000    1.000000     2.718282   54.598150\n",
       "1  403.428793  148.413159   403.428793  403.428793\n",
       "2  148.413159    7.389056  1096.633158   54.598150"
      ]
     },
     "execution_count": 5,
     "metadata": {},
     "output_type": "execute_result"
    }
   ],
   "source": [
    "np.exp(df)"
   ]
  },
  {
   "cell_type": "code",
   "execution_count": 6,
   "id": "6a3ad3cf",
   "metadata": {
    "scrolled": true
   },
   "outputs": [
    {
     "data": {
      "text/html": [
       "<div>\n",
       "<style scoped>\n",
       "    .dataframe tbody tr th:only-of-type {\n",
       "        vertical-align: middle;\n",
       "    }\n",
       "\n",
       "    .dataframe tbody tr th {\n",
       "        vertical-align: top;\n",
       "    }\n",
       "\n",
       "    .dataframe thead th {\n",
       "        text-align: right;\n",
       "    }\n",
       "</style>\n",
       "<table border=\"1\" class=\"dataframe\">\n",
       "  <thead>\n",
       "    <tr style=\"text-align: right;\">\n",
       "      <th></th>\n",
       "      <th>A</th>\n",
       "      <th>B</th>\n",
       "      <th>C</th>\n",
       "      <th>D</th>\n",
       "    </tr>\n",
       "  </thead>\n",
       "  <tbody>\n",
       "    <tr>\n",
       "      <th>0</th>\n",
       "      <td>0.000000</td>\n",
       "      <td>0.000000</td>\n",
       "      <td>0.707107</td>\n",
       "      <td>1.224647e-16</td>\n",
       "    </tr>\n",
       "    <tr>\n",
       "      <th>1</th>\n",
       "      <td>-1.000000</td>\n",
       "      <td>-0.707107</td>\n",
       "      <td>-1.000000</td>\n",
       "      <td>-1.000000e+00</td>\n",
       "    </tr>\n",
       "    <tr>\n",
       "      <th>2</th>\n",
       "      <td>-0.707107</td>\n",
       "      <td>1.000000</td>\n",
       "      <td>-0.707107</td>\n",
       "      <td>1.224647e-16</td>\n",
       "    </tr>\n",
       "  </tbody>\n",
       "</table>\n",
       "</div>"
      ],
      "text/plain": [
       "          A         B         C             D\n",
       "0  0.000000  0.000000  0.707107  1.224647e-16\n",
       "1 -1.000000 -0.707107 -1.000000 -1.000000e+00\n",
       "2 -0.707107  1.000000 -0.707107  1.224647e-16"
      ]
     },
     "execution_count": 6,
     "metadata": {},
     "output_type": "execute_result"
    }
   ],
   "source": [
    "np.sin(df*np.pi/4)"
   ]
  },
  {
   "cell_type": "markdown",
   "id": "85537df5",
   "metadata": {},
   "source": [
    "### Ufunc Index 對齊"
   ]
  },
  {
   "cell_type": "code",
   "execution_count": 7,
   "id": "1c0c5817",
   "metadata": {},
   "outputs": [
    {
     "data": {
      "text/plain": [
       "A        NaN\n",
       "C    3.47619\n",
       "N        NaN\n",
       "T    0.37500\n",
       "dtype: float64"
      ]
     },
     "execution_count": 7,
     "metadata": {},
     "output_type": "execute_result"
    }
   ],
   "source": [
    "# Series (除法對齊)\n",
    "area = pd.Series({'A':105,'T':99,'C':73} , name='AREA')\n",
    "popu = pd.Series({'C':21,'T':264,'N':42} , name='POPU')\n",
    "area / popu"
   ]
  },
  {
   "cell_type": "code",
   "execution_count": 8,
   "id": "d886c08b",
   "metadata": {},
   "outputs": [
    {
     "name": "stderr",
     "output_type": "stream",
     "text": [
      "C:\\Users\\proph\\AppData\\Local\\Temp\\ipykernel_28532\\3332844161.py:1: FutureWarning: Index.__or__ operating as a set operation is deprecated, in the future this will be a logical operation matching Series.__or__.  Use index.union(other) instead.\n",
      "  area.index | popu.index\n"
     ]
    },
    {
     "data": {
      "text/plain": [
       "Index(['A', 'C', 'N', 'T'], dtype='object')"
      ]
     },
     "execution_count": 8,
     "metadata": {},
     "output_type": "execute_result"
    }
   ],
   "source": [
    "area.index | popu.index"
   ]
  },
  {
   "cell_type": "code",
   "execution_count": 10,
   "id": "434957da",
   "metadata": {},
   "outputs": [
    {
     "data": {
      "text/plain": [
       "Index(['A', 'C', 'N', 'T'], dtype='object')"
      ]
     },
     "execution_count": 10,
     "metadata": {},
     "output_type": "execute_result"
    }
   ],
   "source": [
    "pd.Index.union(area.index ,popu.index)"
   ]
  },
  {
   "cell_type": "code",
   "execution_count": 11,
   "id": "9ad8786c",
   "metadata": {},
   "outputs": [
    {
     "data": {
      "text/plain": [
       "0    NaN\n",
       "1    5.0\n",
       "2    9.0\n",
       "3    NaN\n",
       "dtype: float64"
      ]
     },
     "execution_count": 11,
     "metadata": {},
     "output_type": "execute_result"
    }
   ],
   "source": [
    "# Series (加法對齊)\n",
    "a = pd.Series([2,4,6] , index=[0,1,2], name='A')\n",
    "b = pd.Series([1,3,5] , index=[1,2,3], name='B')\n",
    "a+b"
   ]
  },
  {
   "cell_type": "code",
   "execution_count": 14,
   "id": "ebe2f092",
   "metadata": {},
   "outputs": [
    {
     "data": {
      "text/plain": [
       "0    1001.0\n",
       "1       5.0\n",
       "2       9.0\n",
       "3    1004.0\n",
       "dtype: float64"
      ]
     },
     "execution_count": 14,
     "metadata": {},
     "output_type": "execute_result"
    }
   ],
   "source": [
    "# 直接使用add()方法也可以，這個方法可以註明當不match時要填入的缺失值下去運算，否則預設為NaN\n",
    "a.add(b , fill_value = 999)"
   ]
  },
  {
   "cell_type": "code",
   "execution_count": 15,
   "id": "cc1458e7",
   "metadata": {},
   "outputs": [],
   "source": [
    "# DataFrame\n",
    "A = pd.DataFrame(rng.randint(0,20,(2,2)) , columns=list('AB'))\n",
    "B = pd.DataFrame(rng.randint(0,10,(3,3)) , columns=list('BAC'))"
   ]
  },
  {
   "cell_type": "code",
   "execution_count": 16,
   "id": "0db2f256",
   "metadata": {},
   "outputs": [
    {
     "data": {
      "text/html": [
       "<div>\n",
       "<style scoped>\n",
       "    .dataframe tbody tr th:only-of-type {\n",
       "        vertical-align: middle;\n",
       "    }\n",
       "\n",
       "    .dataframe tbody tr th {\n",
       "        vertical-align: top;\n",
       "    }\n",
       "\n",
       "    .dataframe thead th {\n",
       "        text-align: right;\n",
       "    }\n",
       "</style>\n",
       "<table border=\"1\" class=\"dataframe\">\n",
       "  <thead>\n",
       "    <tr style=\"text-align: right;\">\n",
       "      <th></th>\n",
       "      <th>A</th>\n",
       "      <th>B</th>\n",
       "    </tr>\n",
       "  </thead>\n",
       "  <tbody>\n",
       "    <tr>\n",
       "      <th>0</th>\n",
       "      <td>14</td>\n",
       "      <td>3</td>\n",
       "    </tr>\n",
       "    <tr>\n",
       "      <th>1</th>\n",
       "      <td>6</td>\n",
       "      <td>11</td>\n",
       "    </tr>\n",
       "  </tbody>\n",
       "</table>\n",
       "</div>"
      ],
      "text/plain": [
       "    A   B\n",
       "0  14   3\n",
       "1   6  11"
      ]
     },
     "execution_count": 16,
     "metadata": {},
     "output_type": "execute_result"
    }
   ],
   "source": [
    "A"
   ]
  },
  {
   "cell_type": "code",
   "execution_count": 17,
   "id": "f1bf5261",
   "metadata": {},
   "outputs": [
    {
     "data": {
      "text/html": [
       "<div>\n",
       "<style scoped>\n",
       "    .dataframe tbody tr th:only-of-type {\n",
       "        vertical-align: middle;\n",
       "    }\n",
       "\n",
       "    .dataframe tbody tr th {\n",
       "        vertical-align: top;\n",
       "    }\n",
       "\n",
       "    .dataframe thead th {\n",
       "        text-align: right;\n",
       "    }\n",
       "</style>\n",
       "<table border=\"1\" class=\"dataframe\">\n",
       "  <thead>\n",
       "    <tr style=\"text-align: right;\">\n",
       "      <th></th>\n",
       "      <th>B</th>\n",
       "      <th>A</th>\n",
       "      <th>C</th>\n",
       "    </tr>\n",
       "  </thead>\n",
       "  <tbody>\n",
       "    <tr>\n",
       "      <th>0</th>\n",
       "      <td>1</td>\n",
       "      <td>5</td>\n",
       "      <td>9</td>\n",
       "    </tr>\n",
       "    <tr>\n",
       "      <th>1</th>\n",
       "      <td>0</td>\n",
       "      <td>6</td>\n",
       "      <td>3</td>\n",
       "    </tr>\n",
       "    <tr>\n",
       "      <th>2</th>\n",
       "      <td>2</td>\n",
       "      <td>9</td>\n",
       "      <td>3</td>\n",
       "    </tr>\n",
       "  </tbody>\n",
       "</table>\n",
       "</div>"
      ],
      "text/plain": [
       "   B  A  C\n",
       "0  1  5  9\n",
       "1  0  6  3\n",
       "2  2  9  3"
      ]
     },
     "execution_count": 17,
     "metadata": {},
     "output_type": "execute_result"
    }
   ],
   "source": [
    "B"
   ]
  },
  {
   "cell_type": "code",
   "execution_count": 18,
   "id": "1612c5af",
   "metadata": {},
   "outputs": [
    {
     "data": {
      "text/html": [
       "<div>\n",
       "<style scoped>\n",
       "    .dataframe tbody tr th:only-of-type {\n",
       "        vertical-align: middle;\n",
       "    }\n",
       "\n",
       "    .dataframe tbody tr th {\n",
       "        vertical-align: top;\n",
       "    }\n",
       "\n",
       "    .dataframe thead th {\n",
       "        text-align: right;\n",
       "    }\n",
       "</style>\n",
       "<table border=\"1\" class=\"dataframe\">\n",
       "  <thead>\n",
       "    <tr style=\"text-align: right;\">\n",
       "      <th></th>\n",
       "      <th>A</th>\n",
       "      <th>B</th>\n",
       "      <th>C</th>\n",
       "    </tr>\n",
       "  </thead>\n",
       "  <tbody>\n",
       "    <tr>\n",
       "      <th>0</th>\n",
       "      <td>19.0</td>\n",
       "      <td>4.0</td>\n",
       "      <td>NaN</td>\n",
       "    </tr>\n",
       "    <tr>\n",
       "      <th>1</th>\n",
       "      <td>12.0</td>\n",
       "      <td>11.0</td>\n",
       "      <td>NaN</td>\n",
       "    </tr>\n",
       "    <tr>\n",
       "      <th>2</th>\n",
       "      <td>NaN</td>\n",
       "      <td>NaN</td>\n",
       "      <td>NaN</td>\n",
       "    </tr>\n",
       "  </tbody>\n",
       "</table>\n",
       "</div>"
      ],
      "text/plain": [
       "      A     B   C\n",
       "0  19.0   4.0 NaN\n",
       "1  12.0  11.0 NaN\n",
       "2   NaN   NaN NaN"
      ]
     },
     "execution_count": 18,
     "metadata": {},
     "output_type": "execute_result"
    }
   ],
   "source": [
    "A+B"
   ]
  },
  {
   "cell_type": "code",
   "execution_count": 23,
   "id": "1c50a1fb",
   "metadata": {},
   "outputs": [
    {
     "data": {
      "text/plain": [
       "8.5"
      ]
     },
     "execution_count": 23,
     "metadata": {},
     "output_type": "execute_result"
    }
   ],
   "source": [
    "# 計算整體平均\n",
    "fill = A.stack().mean()\n",
    "fill"
   ]
  },
  {
   "cell_type": "code",
   "execution_count": 24,
   "id": "62c6968d",
   "metadata": {},
   "outputs": [
    {
     "data": {
      "text/html": [
       "<div>\n",
       "<style scoped>\n",
       "    .dataframe tbody tr th:only-of-type {\n",
       "        vertical-align: middle;\n",
       "    }\n",
       "\n",
       "    .dataframe tbody tr th {\n",
       "        vertical-align: top;\n",
       "    }\n",
       "\n",
       "    .dataframe thead th {\n",
       "        text-align: right;\n",
       "    }\n",
       "</style>\n",
       "<table border=\"1\" class=\"dataframe\">\n",
       "  <thead>\n",
       "    <tr style=\"text-align: right;\">\n",
       "      <th></th>\n",
       "      <th>A</th>\n",
       "      <th>B</th>\n",
       "      <th>C</th>\n",
       "    </tr>\n",
       "  </thead>\n",
       "  <tbody>\n",
       "    <tr>\n",
       "      <th>0</th>\n",
       "      <td>19.0</td>\n",
       "      <td>4.0</td>\n",
       "      <td>17.5</td>\n",
       "    </tr>\n",
       "    <tr>\n",
       "      <th>1</th>\n",
       "      <td>12.0</td>\n",
       "      <td>11.0</td>\n",
       "      <td>11.5</td>\n",
       "    </tr>\n",
       "    <tr>\n",
       "      <th>2</th>\n",
       "      <td>17.5</td>\n",
       "      <td>10.5</td>\n",
       "      <td>11.5</td>\n",
       "    </tr>\n",
       "  </tbody>\n",
       "</table>\n",
       "</div>"
      ],
      "text/plain": [
       "      A     B     C\n",
       "0  19.0   4.0  17.5\n",
       "1  12.0  11.0  11.5\n",
       "2  17.5  10.5  11.5"
      ]
     },
     "execution_count": 24,
     "metadata": {},
     "output_type": "execute_result"
    }
   ],
   "source": [
    "# 使用整體平均替代缺失值\n",
    "A.add(B,fill_value=fill)"
   ]
  },
  {
   "cell_type": "markdown",
   "id": "449c56b1",
   "metadata": {},
   "source": [
    "### Numpy 算術運算子 對應 Pandas的方法  \n",
    "Python運算子 | Pandas方法  \n",
    "`+`         <=>   add()  \n",
    "`-`         <=>   sub() , subtract()  \n",
    "`*`         <=>   mul() , multiply()  \n",
    "`/`         <=>   truediv() , div() , divide()  \n",
    "`//`        <=>   floordiv()  \n",
    "`%`         <=>   mod()  \n",
    "`**`        <=>   pow()  "
   ]
  },
  {
   "cell_type": "code",
   "execution_count": 26,
   "id": "dff644f3",
   "metadata": {},
   "outputs": [
    {
     "data": {
      "text/plain": [
       "array([[3, 3, 2, 0],\n",
       "       [3, 2, 0, 3],\n",
       "       [0, 0, 7, 3]])"
      ]
     },
     "execution_count": 26,
     "metadata": {},
     "output_type": "execute_result"
    }
   ],
   "source": [
    "# Numpy broadcasting\n",
    "A = rng.randint(10,size=(3,4))\n",
    "A"
   ]
  },
  {
   "cell_type": "code",
   "execution_count": 27,
   "id": "1bd91c37",
   "metadata": {},
   "outputs": [
    {
     "data": {
      "text/plain": [
       "array([[ 0,  0,  0,  0],\n",
       "       [ 0, -1, -2,  3],\n",
       "       [-3, -3,  5,  3]])"
      ]
     },
     "execution_count": 27,
     "metadata": {},
     "output_type": "execute_result"
    }
   ],
   "source": [
    "A-A[0]"
   ]
  },
  {
   "cell_type": "code",
   "execution_count": 28,
   "id": "b9346437",
   "metadata": {},
   "outputs": [
    {
     "data": {
      "text/html": [
       "<div>\n",
       "<style scoped>\n",
       "    .dataframe tbody tr th:only-of-type {\n",
       "        vertical-align: middle;\n",
       "    }\n",
       "\n",
       "    .dataframe tbody tr th {\n",
       "        vertical-align: top;\n",
       "    }\n",
       "\n",
       "    .dataframe thead th {\n",
       "        text-align: right;\n",
       "    }\n",
       "</style>\n",
       "<table border=\"1\" class=\"dataframe\">\n",
       "  <thead>\n",
       "    <tr style=\"text-align: right;\">\n",
       "      <th></th>\n",
       "      <th>Q</th>\n",
       "      <th>R</th>\n",
       "      <th>S</th>\n",
       "      <th>T</th>\n",
       "    </tr>\n",
       "  </thead>\n",
       "  <tbody>\n",
       "    <tr>\n",
       "      <th>0</th>\n",
       "      <td>3</td>\n",
       "      <td>3</td>\n",
       "      <td>2</td>\n",
       "      <td>0</td>\n",
       "    </tr>\n",
       "    <tr>\n",
       "      <th>1</th>\n",
       "      <td>3</td>\n",
       "      <td>2</td>\n",
       "      <td>0</td>\n",
       "      <td>3</td>\n",
       "    </tr>\n",
       "    <tr>\n",
       "      <th>2</th>\n",
       "      <td>0</td>\n",
       "      <td>0</td>\n",
       "      <td>7</td>\n",
       "      <td>3</td>\n",
       "    </tr>\n",
       "  </tbody>\n",
       "</table>\n",
       "</div>"
      ],
      "text/plain": [
       "   Q  R  S  T\n",
       "0  3  3  2  0\n",
       "1  3  2  0  3\n",
       "2  0  0  7  3"
      ]
     },
     "execution_count": 28,
     "metadata": {},
     "output_type": "execute_result"
    }
   ],
   "source": [
    "df= pd.DataFrame(A , columns=list('QRST'))\n",
    "df"
   ]
  },
  {
   "cell_type": "code",
   "execution_count": 29,
   "id": "bf280734",
   "metadata": {},
   "outputs": [
    {
     "data": {
      "text/html": [
       "<div>\n",
       "<style scoped>\n",
       "    .dataframe tbody tr th:only-of-type {\n",
       "        vertical-align: middle;\n",
       "    }\n",
       "\n",
       "    .dataframe tbody tr th {\n",
       "        vertical-align: top;\n",
       "    }\n",
       "\n",
       "    .dataframe thead th {\n",
       "        text-align: right;\n",
       "    }\n",
       "</style>\n",
       "<table border=\"1\" class=\"dataframe\">\n",
       "  <thead>\n",
       "    <tr style=\"text-align: right;\">\n",
       "      <th></th>\n",
       "      <th>Q</th>\n",
       "      <th>R</th>\n",
       "      <th>S</th>\n",
       "      <th>T</th>\n",
       "    </tr>\n",
       "  </thead>\n",
       "  <tbody>\n",
       "    <tr>\n",
       "      <th>0</th>\n",
       "      <td>0</td>\n",
       "      <td>1</td>\n",
       "      <td>2</td>\n",
       "      <td>-3</td>\n",
       "    </tr>\n",
       "    <tr>\n",
       "      <th>1</th>\n",
       "      <td>0</td>\n",
       "      <td>0</td>\n",
       "      <td>0</td>\n",
       "      <td>0</td>\n",
       "    </tr>\n",
       "    <tr>\n",
       "      <th>2</th>\n",
       "      <td>-3</td>\n",
       "      <td>-2</td>\n",
       "      <td>7</td>\n",
       "      <td>0</td>\n",
       "    </tr>\n",
       "  </tbody>\n",
       "</table>\n",
       "</div>"
      ],
      "text/plain": [
       "   Q  R  S  T\n",
       "0  0  1  2 -3\n",
       "1  0  0  0  0\n",
       "2 -3 -2  7  0"
      ]
     },
     "execution_count": 29,
     "metadata": {},
     "output_type": "execute_result"
    }
   ],
   "source": [
    "# pandas 套用 broadcasting\n",
    "df - df.iloc[1]"
   ]
  },
  {
   "cell_type": "code",
   "execution_count": 32,
   "id": "8908b75e",
   "metadata": {},
   "outputs": [
    {
     "data": {
      "text/plain": [
       "(0    3\n",
       " 1    2\n",
       " 2    0\n",
       " Name: R, dtype: int32,\n",
       "    Q  R  S  T\n",
       " 0  0  0 -1 -3\n",
       " 1  1  0 -2  1\n",
       " 2  0  0  7  3)"
      ]
     },
     "execution_count": 32,
     "metadata": {},
     "output_type": "execute_result"
    }
   ],
   "source": [
    "# pandas 指定軸做減法\n",
    "df['R'] , df.subtract(df['R'] , axis=0)"
   ]
  },
  {
   "cell_type": "code",
   "execution_count": 33,
   "id": "192464a9",
   "metadata": {},
   "outputs": [
    {
     "data": {
      "text/plain": [
       "Q    3\n",
       "S    2\n",
       "Name: 0, dtype: int32"
      ]
     },
     "execution_count": 33,
     "metadata": {},
     "output_type": "execute_result"
    }
   ],
   "source": [
    "df.iloc[0,::2]"
   ]
  },
  {
   "cell_type": "code",
   "execution_count": 34,
   "id": "c6cdac56",
   "metadata": {},
   "outputs": [
    {
     "data": {
      "text/html": [
       "<div>\n",
       "<style scoped>\n",
       "    .dataframe tbody tr th:only-of-type {\n",
       "        vertical-align: middle;\n",
       "    }\n",
       "\n",
       "    .dataframe tbody tr th {\n",
       "        vertical-align: top;\n",
       "    }\n",
       "\n",
       "    .dataframe thead th {\n",
       "        text-align: right;\n",
       "    }\n",
       "</style>\n",
       "<table border=\"1\" class=\"dataframe\">\n",
       "  <thead>\n",
       "    <tr style=\"text-align: right;\">\n",
       "      <th></th>\n",
       "      <th>Q</th>\n",
       "      <th>R</th>\n",
       "      <th>S</th>\n",
       "      <th>T</th>\n",
       "    </tr>\n",
       "  </thead>\n",
       "  <tbody>\n",
       "    <tr>\n",
       "      <th>0</th>\n",
       "      <td>0.0</td>\n",
       "      <td>NaN</td>\n",
       "      <td>0.0</td>\n",
       "      <td>NaN</td>\n",
       "    </tr>\n",
       "    <tr>\n",
       "      <th>1</th>\n",
       "      <td>0.0</td>\n",
       "      <td>NaN</td>\n",
       "      <td>-2.0</td>\n",
       "      <td>NaN</td>\n",
       "    </tr>\n",
       "    <tr>\n",
       "      <th>2</th>\n",
       "      <td>-3.0</td>\n",
       "      <td>NaN</td>\n",
       "      <td>5.0</td>\n",
       "      <td>NaN</td>\n",
       "    </tr>\n",
       "  </tbody>\n",
       "</table>\n",
       "</div>"
      ],
      "text/plain": [
       "     Q   R    S   T\n",
       "0  0.0 NaN  0.0 NaN\n",
       "1  0.0 NaN -2.0 NaN\n",
       "2 -3.0 NaN  5.0 NaN"
      ]
     },
     "execution_count": 34,
     "metadata": {},
     "output_type": "execute_result"
    }
   ],
   "source": [
    "df - df.iloc[0,::2]"
   ]
  },
  {
   "cell_type": "markdown",
   "id": "aeb06209",
   "metadata": {},
   "source": [
    "### NaN 與 None\n",
    "在Python內缺失資料用None或者NaN表示，當陣列或pd物件內包含None時，運算上就會報錯。  \n",
    "包含None的資料，其整體型別會被表示為object。  \n",
    "而object物件在運算上較原生資料型別來的慢，因此缺失值表示法常用為NaN。  \n",
    "NaN為浮點數，這代表NaN在處理上會比object來的快許多!  \n"
   ]
  },
  {
   "cell_type": "code",
   "execution_count": 40,
   "id": "93c9138d",
   "metadata": {},
   "outputs": [
    {
     "data": {
      "text/plain": [
       "0"
      ]
     },
     "execution_count": 40,
     "metadata": {},
     "output_type": "execute_result"
    }
   ],
   "source": [
    "np.array([0,15,20]).min() "
   ]
  },
  {
   "cell_type": "code",
   "execution_count": 41,
   "id": "1067763d",
   "metadata": {},
   "outputs": [
    {
     "ename": "TypeError",
     "evalue": "'<=' not supported between instances of 'int' and 'NoneType'",
     "output_type": "error",
     "traceback": [
      "\u001b[1;31m---------------------------------------------------------------------------\u001b[0m",
      "\u001b[1;31mTypeError\u001b[0m                                 Traceback (most recent call last)",
      "Input \u001b[1;32mIn [41]\u001b[0m, in \u001b[0;36m<module>\u001b[1;34m\u001b[0m\n\u001b[0;32m      1\u001b[0m \u001b[38;5;66;03m# 運算None出現錯誤\u001b[39;00m\n\u001b[0;32m      2\u001b[0m \u001b[38;5;66;03m# 注意錯誤訊息，int和None物件並沒有定義運算\u001b[39;00m\n\u001b[1;32m----> 3\u001b[0m \u001b[43mnp\u001b[49m\u001b[38;5;241;43m.\u001b[39;49m\u001b[43marray\u001b[49m\u001b[43m(\u001b[49m\u001b[43m[\u001b[49m\u001b[38;5;241;43m0\u001b[39;49m\u001b[43m,\u001b[49m\u001b[38;5;241;43m15\u001b[39;49m\u001b[43m,\u001b[49m\u001b[38;5;241;43m20\u001b[39;49m\u001b[43m,\u001b[49m\u001b[38;5;28;43;01mNone\u001b[39;49;00m\u001b[43m]\u001b[49m\u001b[43m)\u001b[49m\u001b[38;5;241;43m.\u001b[39;49m\u001b[43mmin\u001b[49m\u001b[43m(\u001b[49m\u001b[43m)\u001b[49m\n",
      "File \u001b[1;32m~\\AppData\\Local\\Programs\\Python\\Python310\\lib\\site-packages\\numpy\\core\\_methods.py:44\u001b[0m, in \u001b[0;36m_amin\u001b[1;34m(a, axis, out, keepdims, initial, where)\u001b[0m\n\u001b[0;32m     42\u001b[0m \u001b[38;5;28;01mdef\u001b[39;00m \u001b[38;5;21m_amin\u001b[39m(a, axis\u001b[38;5;241m=\u001b[39m\u001b[38;5;28;01mNone\u001b[39;00m, out\u001b[38;5;241m=\u001b[39m\u001b[38;5;28;01mNone\u001b[39;00m, keepdims\u001b[38;5;241m=\u001b[39m\u001b[38;5;28;01mFalse\u001b[39;00m,\n\u001b[0;32m     43\u001b[0m           initial\u001b[38;5;241m=\u001b[39m_NoValue, where\u001b[38;5;241m=\u001b[39m\u001b[38;5;28;01mTrue\u001b[39;00m):\n\u001b[1;32m---> 44\u001b[0m     \u001b[38;5;28;01mreturn\u001b[39;00m \u001b[43mumr_minimum\u001b[49m\u001b[43m(\u001b[49m\u001b[43ma\u001b[49m\u001b[43m,\u001b[49m\u001b[43m \u001b[49m\u001b[43maxis\u001b[49m\u001b[43m,\u001b[49m\u001b[43m \u001b[49m\u001b[38;5;28;43;01mNone\u001b[39;49;00m\u001b[43m,\u001b[49m\u001b[43m \u001b[49m\u001b[43mout\u001b[49m\u001b[43m,\u001b[49m\u001b[43m \u001b[49m\u001b[43mkeepdims\u001b[49m\u001b[43m,\u001b[49m\u001b[43m \u001b[49m\u001b[43minitial\u001b[49m\u001b[43m,\u001b[49m\u001b[43m \u001b[49m\u001b[43mwhere\u001b[49m\u001b[43m)\u001b[49m\n",
      "\u001b[1;31mTypeError\u001b[0m: '<=' not supported between instances of 'int' and 'NoneType'"
     ]
    }
   ],
   "source": [
    "# 運算None出現錯誤\n",
    "# 注意錯誤訊息，int和None物件並沒有定義運算\n",
    "np.array([0,15,20,None]).min() "
   ]
  },
  {
   "cell_type": "code",
   "execution_count": 36,
   "id": "c73c2c94",
   "metadata": {},
   "outputs": [
    {
     "name": "stdout",
     "output_type": "stream",
     "text": [
      "dtype = object\n",
      "40 ms ± 901 µs per loop (mean ± std. dev. of 7 runs, 10 loops each)\n",
      "\n",
      "dtype = int\n",
      "1.57 ms ± 9.82 µs per loop (mean ± std. dev. of 7 runs, 1,000 loops each)\n",
      "\n"
     ]
    }
   ],
   "source": [
    "# 運算速度差異\n",
    "for type in ['object','int']:\n",
    "    print(\"dtype =\",type)\n",
    "    %timeit np.arange(1e6 , dtype=type).sum()\n",
    "    print()"
   ]
  },
  {
   "cell_type": "code",
   "execution_count": 43,
   "id": "da28affb",
   "metadata": {},
   "outputs": [
    {
     "data": {
      "text/plain": [
       "dtype('float64')"
      ]
     },
     "execution_count": 43,
     "metadata": {},
     "output_type": "execute_result"
    }
   ],
   "source": [
    "# NaN的運算，注意整體資料型態變成float64\n",
    "vals2 = np.array([1,np.nan,3,5])\n",
    "vals2.dtype"
   ]
  },
  {
   "cell_type": "code",
   "execution_count": 44,
   "id": "7933b4a4",
   "metadata": {},
   "outputs": [
    {
     "data": {
      "text/plain": [
       "(nan, nan)"
      ]
     },
     "execution_count": 44,
     "metadata": {},
     "output_type": "execute_result"
    }
   ],
   "source": [
    "# 和javaScript相同，NaN操作後仍是NaN\n",
    "1 + np.nan , 0*np.nan"
   ]
  },
  {
   "cell_type": "code",
   "execution_count": 46,
   "id": "1c23d962",
   "metadata": {},
   "outputs": [
    {
     "data": {
      "text/plain": [
       "1.0"
      ]
     },
     "execution_count": 46,
     "metadata": {},
     "output_type": "execute_result"
    }
   ],
   "source": [
    "# numpy內特殊函數能夠排外NaN並處理\n",
    "np.nanmin(vals2)"
   ]
  },
  {
   "cell_type": "markdown",
   "id": "ca28c130",
   "metadata": {},
   "source": [
    "### Pandas 處理遺失值\n",
    "Pandas遇到 NA值(遺失)或者None時會根據資料型態做整體轉換:  \n",
    "\n",
    "float =>  無轉換 => 使用 np.nan  \n",
    "object =>  無轉換 => 使用 None 或者 np.nan  \n",
    "integer =>  轉換成float64 => np.nan    \n",
    "boolean =>  轉換成object => None 或者 np.nan  \n",
    "\n",
    "須注意在Python內字串資料總是以 object 的型態儲存!\n",
    "我們可以透過以下4種方法來處理空值(null):\n",
    "1. isnull() : 產生一個boolean mask來顯示缺失資料\n",
    "2. notnull() : isnull()的反操作\n",
    "3. dropna() :  回傳過濾掉NA的資料\n",
    "4. fillna() : 回傳取代空值NA的資料"
   ]
  },
  {
   "cell_type": "code",
   "execution_count": 48,
   "id": "9356401d",
   "metadata": {},
   "outputs": [
    {
     "data": {
      "text/plain": [
       "0    False\n",
       "1     True\n",
       "2    False\n",
       "3     True\n",
       "dtype: bool"
      ]
     },
     "execution_count": 48,
     "metadata": {},
     "output_type": "execute_result"
    }
   ],
   "source": [
    "# 偵測空值\n",
    "data = pd.Series([1,np.nan,'hello',None])\n",
    "data.isnull()"
   ]
  },
  {
   "cell_type": "code",
   "execution_count": 49,
   "id": "943cd122",
   "metadata": {},
   "outputs": [
    {
     "data": {
      "text/plain": [
       "0        1\n",
       "2    hello\n",
       "dtype: object"
      ]
     },
     "execution_count": 49,
     "metadata": {},
     "output_type": "execute_result"
    }
   ],
   "source": [
    "# 利用偵測空值的布林mask來索引\n",
    "data[data.notnull()]"
   ]
  },
  {
   "cell_type": "code",
   "execution_count": 50,
   "id": "37a01d56",
   "metadata": {},
   "outputs": [
    {
     "data": {
      "text/plain": [
       "0        1\n",
       "2    hello\n",
       "dtype: object"
      ]
     },
     "execution_count": 50,
     "metadata": {},
     "output_type": "execute_result"
    }
   ],
   "source": [
    "# 移除空值\n",
    "data.dropna()"
   ]
  },
  {
   "cell_type": "code",
   "execution_count": 51,
   "id": "3c020a3b",
   "metadata": {},
   "outputs": [
    {
     "name": "stdout",
     "output_type": "stream",
     "text": [
      "     0    1    2\n",
      "0  1.0  6.5  3.0\n",
      "1  1.0  NaN  NaN\n",
      "2  NaN  NaN  NaN\n",
      "3  NaN  6.5  3.0\n",
      "\n",
      "     0    1    2\n",
      "0  1.0  6.5  3.0\n"
     ]
    }
   ],
   "source": [
    "# d.f. 移除空值有以下變形\n",
    "from numpy import nan\n",
    "data = pd.DataFrame([[1., 6.5, 3.], [1., nan, nan],\n",
    "                     [nan, nan, nan], [nan, 6.5, 3.]])\n",
    "cleaned = data.dropna()\n",
    "print(f'{data}\\n\\n'\n",
    "      f'{cleaned}')"
   ]
  },
  {
   "cell_type": "code",
   "execution_count": 53,
   "id": "bdadd6a1",
   "metadata": {},
   "outputs": [
    {
     "data": {
      "text/plain": [
       "(     0    1    2\n",
       " 0  1.0  6.5  3.0\n",
       " 1  1.0  NaN  NaN\n",
       " 2  NaN  NaN  NaN\n",
       " 3  NaN  6.5  3.0,\n",
       "      0    1    2\n",
       " 0  1.0  6.5  3.0\n",
       " 1  1.0  NaN  NaN\n",
       " 3  NaN  6.5  3.0)"
      ]
     },
     "execution_count": 53,
     "metadata": {},
     "output_type": "execute_result"
    }
   ],
   "source": [
    "# 只移除全部都是NaN的資料列\n",
    "data, data.dropna(how='all')"
   ]
  },
  {
   "cell_type": "code",
   "execution_count": 60,
   "id": "df1fb1f4",
   "metadata": {},
   "outputs": [
    {
     "data": {
      "text/plain": [
       "(     0    1    2   4\n",
       " 0  1.0  6.5  3.0 NaN\n",
       " 1  1.0  NaN  NaN NaN\n",
       " 2  NaN  NaN  NaN NaN\n",
       " 3  NaN  6.5  3.0 NaN,\n",
       "      0    1    2\n",
       " 0  1.0  6.5  3.0\n",
       " 1  1.0  NaN  NaN\n",
       " 2  NaN  NaN  NaN\n",
       " 3  NaN  6.5  3.0)"
      ]
     },
     "execution_count": 60,
     "metadata": {},
     "output_type": "execute_result"
    }
   ],
   "source": [
    "# 指定操作軸\n",
    "# 注意how引數可為any或者all\n",
    "data[4] = nan    # column 4\n",
    "data, data.dropna(axis=1, how='all') "
   ]
  },
  {
   "cell_type": "code",
   "execution_count": 55,
   "id": "f1665715",
   "metadata": {},
   "outputs": [
    {
     "name": "stdout",
     "output_type": "stream",
     "text": [
      "          0         1         2\n",
      "0 -0.114399       NaN       NaN\n",
      "1 -0.595751       NaN       NaN\n",
      "2 -0.391346       NaN  0.699021\n",
      "3 -0.869674       NaN  0.204392\n",
      "4       NaN       NaN       NaN\n",
      "5  3.431717 -0.108276  1.587292\n",
      "6 -1.128167 -0.288163  0.013278\n",
      "\n",
      "          0         1         2\n",
      "5  3.431717 -0.108276  1.587292\n",
      "6 -1.128167 -0.288163  0.013278\n",
      "\n",
      "          0         1         2\n",
      "2 -0.391346       NaN  0.699021\n",
      "3 -0.869674       NaN  0.204392\n",
      "5  3.431717 -0.108276  1.587292\n",
      "6 -1.128167 -0.288163  0.013278\n"
     ]
    }
   ],
   "source": [
    "# 指定超過2個NaN的資料要移除\n",
    "df = pd.DataFrame(np.random.randn(7, 3))\n",
    "df.iloc[:4, 1] = nan\n",
    "df.iloc[:2, 2] = nan\n",
    "df.iloc[4, :] = nan\n",
    "print(f'{df}\\n\\n'\n",
    "      f'{df.dropna()}\\n\\n'\n",
    "      f'{df.dropna(thresh=2)}') "
   ]
  },
  {
   "cell_type": "code",
   "execution_count": 56,
   "id": "64d12517",
   "metadata": {},
   "outputs": [
    {
     "data": {
      "text/plain": [
       "(          0         1         2\n",
       " 0  1.255824       NaN       NaN\n",
       " 1  0.504171       NaN       NaN\n",
       " 2 -1.257268       NaN  0.712701\n",
       " 3  0.570519       NaN  0.201638\n",
       " 4  0.015863  0.996492 -0.033933\n",
       " 5 -0.108160  0.208272  0.189202\n",
       " 6 -0.365714  0.196896  1.414097,\n",
       "           0         1         2\n",
       " 0  1.255824  0.000000  0.000000\n",
       " 1  0.504171  0.000000  0.000000\n",
       " 2 -1.257268  0.000000  0.712701\n",
       " 3  0.570519  0.000000  0.201638\n",
       " 4  0.015863  0.996492 -0.033933\n",
       " 5 -0.108160  0.208272  0.189202\n",
       " 6 -0.365714  0.196896  1.414097)"
      ]
     },
     "execution_count": 56,
     "metadata": {},
     "output_type": "execute_result"
    }
   ],
   "source": [
    "# 填入空值\n",
    "df = pd.DataFrame(np.random.randn(7, 3))\n",
    "df.iloc[:4, 1] = nan\n",
    "df.iloc[:2, 2] = nan\n",
    "df, df.fillna(0)"
   ]
  },
  {
   "cell_type": "code",
   "execution_count": 59,
   "id": "02b92bb9",
   "metadata": {},
   "outputs": [
    {
     "data": {
      "text/plain": [
       "(          0         1         2  AAA\n",
       " 0  1.255824       NaN       NaN  NaN\n",
       " 1  0.504171       NaN       NaN  NaN\n",
       " 2 -1.257268       NaN  0.712701  NaN\n",
       " 3  0.570519       NaN  0.201638  NaN\n",
       " 4  0.015863  0.996492 -0.033933  NaN\n",
       " 5 -0.108160  0.208272  0.189202  NaN\n",
       " 6 -0.365714  0.196896  1.414097  NaN,\n",
       "           0         1         2  AAA\n",
       " 0  1.255824  0.500000  0.000000  0.0\n",
       " 1  0.504171  0.500000  0.000000  0.0\n",
       " 2 -1.257268  0.500000  0.712701  0.0\n",
       " 3  0.570519  0.500000  0.201638  0.0\n",
       " 4  0.015863  0.996492 -0.033933  0.0\n",
       " 5 -0.108160  0.208272  0.189202  0.0\n",
       " 6 -0.365714  0.196896  1.414097  0.0)"
      ]
     },
     "execution_count": 59,
     "metadata": {},
     "output_type": "execute_result"
    }
   ],
   "source": [
    "# 指定column做填入\n",
    "df['AAA'] = nan \n",
    "df, df.fillna({1: 0.5, 2: 0 , 'AAA':0})"
   ]
  },
  {
   "cell_type": "code",
   "execution_count": 61,
   "id": "6f05da06",
   "metadata": {},
   "outputs": [
    {
     "data": {
      "text/html": [
       "<div>\n",
       "<style scoped>\n",
       "    .dataframe tbody tr th:only-of-type {\n",
       "        vertical-align: middle;\n",
       "    }\n",
       "\n",
       "    .dataframe tbody tr th {\n",
       "        vertical-align: top;\n",
       "    }\n",
       "\n",
       "    .dataframe thead th {\n",
       "        text-align: right;\n",
       "    }\n",
       "</style>\n",
       "<table border=\"1\" class=\"dataframe\">\n",
       "  <thead>\n",
       "    <tr style=\"text-align: right;\">\n",
       "      <th></th>\n",
       "      <th>0</th>\n",
       "      <th>1</th>\n",
       "      <th>2</th>\n",
       "      <th>AAA</th>\n",
       "    </tr>\n",
       "  </thead>\n",
       "  <tbody>\n",
       "    <tr>\n",
       "      <th>0</th>\n",
       "      <td>1.255824</td>\n",
       "      <td>NaN</td>\n",
       "      <td>NaN</td>\n",
       "      <td>NaN</td>\n",
       "    </tr>\n",
       "    <tr>\n",
       "      <th>1</th>\n",
       "      <td>0.504171</td>\n",
       "      <td>NaN</td>\n",
       "      <td>NaN</td>\n",
       "      <td>NaN</td>\n",
       "    </tr>\n",
       "    <tr>\n",
       "      <th>2</th>\n",
       "      <td>-1.257268</td>\n",
       "      <td>NaN</td>\n",
       "      <td>0.712701</td>\n",
       "      <td>NaN</td>\n",
       "    </tr>\n",
       "    <tr>\n",
       "      <th>3</th>\n",
       "      <td>0.570519</td>\n",
       "      <td>NaN</td>\n",
       "      <td>0.201638</td>\n",
       "      <td>NaN</td>\n",
       "    </tr>\n",
       "    <tr>\n",
       "      <th>4</th>\n",
       "      <td>0.015863</td>\n",
       "      <td>0.996492</td>\n",
       "      <td>-0.033933</td>\n",
       "      <td>NaN</td>\n",
       "    </tr>\n",
       "    <tr>\n",
       "      <th>5</th>\n",
       "      <td>-0.108160</td>\n",
       "      <td>0.208272</td>\n",
       "      <td>0.189202</td>\n",
       "      <td>NaN</td>\n",
       "    </tr>\n",
       "    <tr>\n",
       "      <th>6</th>\n",
       "      <td>-0.365714</td>\n",
       "      <td>0.196896</td>\n",
       "      <td>1.414097</td>\n",
       "      <td>NaN</td>\n",
       "    </tr>\n",
       "  </tbody>\n",
       "</table>\n",
       "</div>"
      ],
      "text/plain": [
       "          0         1         2  AAA\n",
       "0  1.255824       NaN       NaN  NaN\n",
       "1  0.504171       NaN       NaN  NaN\n",
       "2 -1.257268       NaN  0.712701  NaN\n",
       "3  0.570519       NaN  0.201638  NaN\n",
       "4  0.015863  0.996492 -0.033933  NaN\n",
       "5 -0.108160  0.208272  0.189202  NaN\n",
       "6 -0.365714  0.196896  1.414097  NaN"
      ]
     },
     "execution_count": 61,
     "metadata": {},
     "output_type": "execute_result"
    }
   ],
   "source": [
    "# 填入NA位置的方法還有透過鄰近值做填補\n",
    "# ffill/bfill = forward/backwward-fill\n",
    "df.fillna(method='ffill')"
   ]
  },
  {
   "cell_type": "code",
   "execution_count": 64,
   "id": "158091b0",
   "metadata": {},
   "outputs": [
    {
     "data": {
      "text/html": [
       "<div>\n",
       "<style scoped>\n",
       "    .dataframe tbody tr th:only-of-type {\n",
       "        vertical-align: middle;\n",
       "    }\n",
       "\n",
       "    .dataframe tbody tr th {\n",
       "        vertical-align: top;\n",
       "    }\n",
       "\n",
       "    .dataframe thead th {\n",
       "        text-align: right;\n",
       "    }\n",
       "</style>\n",
       "<table border=\"1\" class=\"dataframe\">\n",
       "  <thead>\n",
       "    <tr style=\"text-align: right;\">\n",
       "      <th></th>\n",
       "      <th>0</th>\n",
       "      <th>1</th>\n",
       "      <th>2</th>\n",
       "      <th>AAA</th>\n",
       "    </tr>\n",
       "  </thead>\n",
       "  <tbody>\n",
       "    <tr>\n",
       "      <th>0</th>\n",
       "      <td>1.255824</td>\n",
       "      <td>NaN</td>\n",
       "      <td>NaN</td>\n",
       "      <td>NaN</td>\n",
       "    </tr>\n",
       "    <tr>\n",
       "      <th>1</th>\n",
       "      <td>0.504171</td>\n",
       "      <td>NaN</td>\n",
       "      <td>NaN</td>\n",
       "      <td>NaN</td>\n",
       "    </tr>\n",
       "    <tr>\n",
       "      <th>2</th>\n",
       "      <td>-1.257268</td>\n",
       "      <td>0.712701</td>\n",
       "      <td>0.712701</td>\n",
       "      <td>NaN</td>\n",
       "    </tr>\n",
       "    <tr>\n",
       "      <th>3</th>\n",
       "      <td>0.570519</td>\n",
       "      <td>0.201638</td>\n",
       "      <td>0.201638</td>\n",
       "      <td>NaN</td>\n",
       "    </tr>\n",
       "    <tr>\n",
       "      <th>4</th>\n",
       "      <td>0.015863</td>\n",
       "      <td>0.996492</td>\n",
       "      <td>-0.033933</td>\n",
       "      <td>NaN</td>\n",
       "    </tr>\n",
       "    <tr>\n",
       "      <th>5</th>\n",
       "      <td>-0.108160</td>\n",
       "      <td>0.208272</td>\n",
       "      <td>0.189202</td>\n",
       "      <td>NaN</td>\n",
       "    </tr>\n",
       "    <tr>\n",
       "      <th>6</th>\n",
       "      <td>-0.365714</td>\n",
       "      <td>0.196896</td>\n",
       "      <td>1.414097</td>\n",
       "      <td>NaN</td>\n",
       "    </tr>\n",
       "  </tbody>\n",
       "</table>\n",
       "</div>"
      ],
      "text/plain": [
       "          0         1         2  AAA\n",
       "0  1.255824       NaN       NaN  NaN\n",
       "1  0.504171       NaN       NaN  NaN\n",
       "2 -1.257268  0.712701  0.712701  NaN\n",
       "3  0.570519  0.201638  0.201638  NaN\n",
       "4  0.015863  0.996492 -0.033933  NaN\n",
       "5 -0.108160  0.208272  0.189202  NaN\n",
       "6 -0.365714  0.196896  1.414097  NaN"
      ]
     },
     "execution_count": 64,
     "metadata": {},
     "output_type": "execute_result"
    }
   ],
   "source": [
    "# axis預設為0，可自動調整填補方向\n",
    "df.fillna(method='bfill' , axis=1)"
   ]
  },
  {
   "cell_type": "markdown",
   "id": "34c4d8cb-5c89-4fff-94fa-cd6716778087",
   "metadata": {},
   "source": [
    "### 資料切割、取代與置換\n",
    "cut()與qcut()可以幫助我們對資料進行比例切割  \n",
    "dupliceted()與replace()可移除重複資料與資料取代  "
   ]
  },
  {
   "cell_type": "markdown",
   "id": "39f4a954-b76e-4a4b-bdab-ff4cb131bdaa",
   "metadata": {},
   "source": [
    "##### Duplicated"
   ]
  },
  {
   "cell_type": "code",
   "execution_count": 3,
   "id": "998a3d4b-200e-4a86-a200-55805ec219c6",
   "metadata": {},
   "outputs": [
    {
     "data": {
      "text/html": [
       "<div>\n",
       "<style scoped>\n",
       "    .dataframe tbody tr th:only-of-type {\n",
       "        vertical-align: middle;\n",
       "    }\n",
       "\n",
       "    .dataframe tbody tr th {\n",
       "        vertical-align: top;\n",
       "    }\n",
       "\n",
       "    .dataframe thead th {\n",
       "        text-align: right;\n",
       "    }\n",
       "</style>\n",
       "<table border=\"1\" class=\"dataframe\">\n",
       "  <thead>\n",
       "    <tr style=\"text-align: right;\">\n",
       "      <th></th>\n",
       "      <th>k1</th>\n",
       "      <th>k2</th>\n",
       "    </tr>\n",
       "  </thead>\n",
       "  <tbody>\n",
       "    <tr>\n",
       "      <th>0</th>\n",
       "      <td>one</td>\n",
       "      <td>1</td>\n",
       "    </tr>\n",
       "    <tr>\n",
       "      <th>1</th>\n",
       "      <td>two</td>\n",
       "      <td>1</td>\n",
       "    </tr>\n",
       "    <tr>\n",
       "      <th>2</th>\n",
       "      <td>one</td>\n",
       "      <td>2</td>\n",
       "    </tr>\n",
       "    <tr>\n",
       "      <th>3</th>\n",
       "      <td>two</td>\n",
       "      <td>3</td>\n",
       "    </tr>\n",
       "    <tr>\n",
       "      <th>4</th>\n",
       "      <td>one</td>\n",
       "      <td>3</td>\n",
       "    </tr>\n",
       "    <tr>\n",
       "      <th>5</th>\n",
       "      <td>two</td>\n",
       "      <td>4</td>\n",
       "    </tr>\n",
       "    <tr>\n",
       "      <th>6</th>\n",
       "      <td>two</td>\n",
       "      <td>4</td>\n",
       "    </tr>\n",
       "  </tbody>\n",
       "</table>\n",
       "</div>"
      ],
      "text/plain": [
       "    k1  k2\n",
       "0  one   1\n",
       "1  two   1\n",
       "2  one   2\n",
       "3  two   3\n",
       "4  one   3\n",
       "5  two   4\n",
       "6  two   4"
      ]
     },
     "execution_count": 3,
     "metadata": {},
     "output_type": "execute_result"
    }
   ],
   "source": [
    "data = pd.DataFrame({'k1': ['one', 'two'] * 3 + ['two'],\n",
    "                     'k2': [1, 1, 2, 3, 3, 4, 4]})\n",
    "data"
   ]
  },
  {
   "cell_type": "code",
   "execution_count": 5,
   "id": "d88b515b-f10e-4b82-9020-cdd922f8b5a3",
   "metadata": {},
   "outputs": [
    {
     "data": {
      "text/plain": [
       "0    False\n",
       "1    False\n",
       "2    False\n",
       "3    False\n",
       "4    False\n",
       "5    False\n",
       "6     True\n",
       "dtype: bool"
      ]
     },
     "execution_count": 5,
     "metadata": {},
     "output_type": "execute_result"
    }
   ],
   "source": [
    "# 可以看到最後一筆變成True，因為(two,4)已重複\n",
    "data.duplicated()"
   ]
  },
  {
   "cell_type": "code",
   "execution_count": 6,
   "id": "7c637eaa-ad00-4258-bf84-317df345ca5d",
   "metadata": {},
   "outputs": [
    {
     "data": {
      "text/html": [
       "<div>\n",
       "<style scoped>\n",
       "    .dataframe tbody tr th:only-of-type {\n",
       "        vertical-align: middle;\n",
       "    }\n",
       "\n",
       "    .dataframe tbody tr th {\n",
       "        vertical-align: top;\n",
       "    }\n",
       "\n",
       "    .dataframe thead th {\n",
       "        text-align: right;\n",
       "    }\n",
       "</style>\n",
       "<table border=\"1\" class=\"dataframe\">\n",
       "  <thead>\n",
       "    <tr style=\"text-align: right;\">\n",
       "      <th></th>\n",
       "      <th>k1</th>\n",
       "      <th>k2</th>\n",
       "    </tr>\n",
       "  </thead>\n",
       "  <tbody>\n",
       "    <tr>\n",
       "      <th>0</th>\n",
       "      <td>one</td>\n",
       "      <td>1</td>\n",
       "    </tr>\n",
       "    <tr>\n",
       "      <th>1</th>\n",
       "      <td>two</td>\n",
       "      <td>1</td>\n",
       "    </tr>\n",
       "    <tr>\n",
       "      <th>2</th>\n",
       "      <td>one</td>\n",
       "      <td>2</td>\n",
       "    </tr>\n",
       "    <tr>\n",
       "      <th>3</th>\n",
       "      <td>two</td>\n",
       "      <td>3</td>\n",
       "    </tr>\n",
       "    <tr>\n",
       "      <th>4</th>\n",
       "      <td>one</td>\n",
       "      <td>3</td>\n",
       "    </tr>\n",
       "    <tr>\n",
       "      <th>5</th>\n",
       "      <td>two</td>\n",
       "      <td>4</td>\n",
       "    </tr>\n",
       "  </tbody>\n",
       "</table>\n",
       "</div>"
      ],
      "text/plain": [
       "    k1  k2\n",
       "0  one   1\n",
       "1  two   1\n",
       "2  one   2\n",
       "3  two   3\n",
       "4  one   3\n",
       "5  two   4"
      ]
     },
     "execution_count": 6,
     "metadata": {},
     "output_type": "execute_result"
    }
   ],
   "source": [
    "# 移除重複值\n",
    "data.drop_duplicates()"
   ]
  },
  {
   "cell_type": "code",
   "execution_count": 9,
   "id": "31fc1450-21da-46a2-911c-846dcc8cffd4",
   "metadata": {},
   "outputs": [
    {
     "data": {
      "text/html": [
       "<div>\n",
       "<style scoped>\n",
       "    .dataframe tbody tr th:only-of-type {\n",
       "        vertical-align: middle;\n",
       "    }\n",
       "\n",
       "    .dataframe tbody tr th {\n",
       "        vertical-align: top;\n",
       "    }\n",
       "\n",
       "    .dataframe thead th {\n",
       "        text-align: right;\n",
       "    }\n",
       "</style>\n",
       "<table border=\"1\" class=\"dataframe\">\n",
       "  <thead>\n",
       "    <tr style=\"text-align: right;\">\n",
       "      <th></th>\n",
       "      <th>k1</th>\n",
       "      <th>k2</th>\n",
       "      <th>v1</th>\n",
       "    </tr>\n",
       "  </thead>\n",
       "  <tbody>\n",
       "    <tr>\n",
       "      <th>0</th>\n",
       "      <td>one</td>\n",
       "      <td>1</td>\n",
       "      <td>0</td>\n",
       "    </tr>\n",
       "    <tr>\n",
       "      <th>1</th>\n",
       "      <td>two</td>\n",
       "      <td>1</td>\n",
       "      <td>1</td>\n",
       "    </tr>\n",
       "    <tr>\n",
       "      <th>2</th>\n",
       "      <td>one</td>\n",
       "      <td>2</td>\n",
       "      <td>2</td>\n",
       "    </tr>\n",
       "    <tr>\n",
       "      <th>3</th>\n",
       "      <td>two</td>\n",
       "      <td>3</td>\n",
       "      <td>3</td>\n",
       "    </tr>\n",
       "    <tr>\n",
       "      <th>4</th>\n",
       "      <td>one</td>\n",
       "      <td>3</td>\n",
       "      <td>4</td>\n",
       "    </tr>\n",
       "    <tr>\n",
       "      <th>5</th>\n",
       "      <td>two</td>\n",
       "      <td>4</td>\n",
       "      <td>5</td>\n",
       "    </tr>\n",
       "    <tr>\n",
       "      <th>6</th>\n",
       "      <td>two</td>\n",
       "      <td>4</td>\n",
       "      <td>6</td>\n",
       "    </tr>\n",
       "  </tbody>\n",
       "</table>\n",
       "</div>"
      ],
      "text/plain": [
       "    k1  k2  v1\n",
       "0  one   1   0\n",
       "1  two   1   1\n",
       "2  one   2   2\n",
       "3  two   3   3\n",
       "4  one   3   4\n",
       "5  two   4   5\n",
       "6  two   4   6"
      ]
     },
     "execution_count": 9,
     "metadata": {},
     "output_type": "execute_result"
    }
   ],
   "source": [
    "# 可以選擇保留第一筆重複或者最後一筆\n",
    "data['v1'] = range(7)\n",
    "data"
   ]
  },
  {
   "cell_type": "code",
   "execution_count": 12,
   "id": "7d49f3e8-051e-4c3f-bc3c-59ba7eac43cf",
   "metadata": {},
   "outputs": [
    {
     "data": {
      "text/html": [
       "<div>\n",
       "<style scoped>\n",
       "    .dataframe tbody tr th:only-of-type {\n",
       "        vertical-align: middle;\n",
       "    }\n",
       "\n",
       "    .dataframe tbody tr th {\n",
       "        vertical-align: top;\n",
       "    }\n",
       "\n",
       "    .dataframe thead th {\n",
       "        text-align: right;\n",
       "    }\n",
       "</style>\n",
       "<table border=\"1\" class=\"dataframe\">\n",
       "  <thead>\n",
       "    <tr style=\"text-align: right;\">\n",
       "      <th></th>\n",
       "      <th>k1</th>\n",
       "      <th>k2</th>\n",
       "      <th>v1</th>\n",
       "    </tr>\n",
       "  </thead>\n",
       "  <tbody>\n",
       "    <tr>\n",
       "      <th>0</th>\n",
       "      <td>one</td>\n",
       "      <td>1</td>\n",
       "      <td>0</td>\n",
       "    </tr>\n",
       "    <tr>\n",
       "      <th>1</th>\n",
       "      <td>two</td>\n",
       "      <td>1</td>\n",
       "      <td>1</td>\n",
       "    </tr>\n",
       "  </tbody>\n",
       "</table>\n",
       "</div>"
      ],
      "text/plain": [
       "    k1  k2  v1\n",
       "0  one   1   0\n",
       "1  two   1   1"
      ]
     },
     "execution_count": 12,
     "metadata": {},
     "output_type": "execute_result"
    }
   ],
   "source": [
    "# 移除 k1 欄位重複值，預設保留第一個\n",
    "data.drop_duplicates(['k1'])"
   ]
  },
  {
   "cell_type": "code",
   "execution_count": 11,
   "id": "a8045b1b-5cce-4717-8fc9-47e82fdb4483",
   "metadata": {},
   "outputs": [
    {
     "data": {
      "text/html": [
       "<div>\n",
       "<style scoped>\n",
       "    .dataframe tbody tr th:only-of-type {\n",
       "        vertical-align: middle;\n",
       "    }\n",
       "\n",
       "    .dataframe tbody tr th {\n",
       "        vertical-align: top;\n",
       "    }\n",
       "\n",
       "    .dataframe thead th {\n",
       "        text-align: right;\n",
       "    }\n",
       "</style>\n",
       "<table border=\"1\" class=\"dataframe\">\n",
       "  <thead>\n",
       "    <tr style=\"text-align: right;\">\n",
       "      <th></th>\n",
       "      <th>k1</th>\n",
       "      <th>k2</th>\n",
       "      <th>v1</th>\n",
       "    </tr>\n",
       "  </thead>\n",
       "  <tbody>\n",
       "    <tr>\n",
       "      <th>0</th>\n",
       "      <td>one</td>\n",
       "      <td>1</td>\n",
       "      <td>0</td>\n",
       "    </tr>\n",
       "    <tr>\n",
       "      <th>1</th>\n",
       "      <td>two</td>\n",
       "      <td>1</td>\n",
       "      <td>1</td>\n",
       "    </tr>\n",
       "    <tr>\n",
       "      <th>2</th>\n",
       "      <td>one</td>\n",
       "      <td>2</td>\n",
       "      <td>2</td>\n",
       "    </tr>\n",
       "    <tr>\n",
       "      <th>3</th>\n",
       "      <td>two</td>\n",
       "      <td>3</td>\n",
       "      <td>3</td>\n",
       "    </tr>\n",
       "    <tr>\n",
       "      <th>4</th>\n",
       "      <td>one</td>\n",
       "      <td>3</td>\n",
       "      <td>4</td>\n",
       "    </tr>\n",
       "    <tr>\n",
       "      <th>6</th>\n",
       "      <td>two</td>\n",
       "      <td>4</td>\n",
       "      <td>6</td>\n",
       "    </tr>\n",
       "  </tbody>\n",
       "</table>\n",
       "</div>"
      ],
      "text/plain": [
       "    k1  k2  v1\n",
       "0  one   1   0\n",
       "1  two   1   1\n",
       "2  one   2   2\n",
       "3  two   3   3\n",
       "4  one   3   4\n",
       "6  two   4   6"
      ]
     },
     "execution_count": 11,
     "metadata": {},
     "output_type": "execute_result"
    }
   ],
   "source": [
    "# 保留最後一個重複值\n",
    "data.drop_duplicates(['k1', 'k2'], keep='last')"
   ]
  },
  {
   "cell_type": "markdown",
   "id": "c30f3a8a-25b3-4acc-a8f4-c522fa3190ce",
   "metadata": {},
   "source": [
    "##### Replace"
   ]
  },
  {
   "cell_type": "code",
   "execution_count": 17,
   "id": "2c16c44c-60b4-4d7f-b002-d503272e1fc0",
   "metadata": {},
   "outputs": [
    {
     "data": {
      "text/plain": [
       "0       1.0\n",
       "1    -999.0\n",
       "2       2.0\n",
       "3    -999.0\n",
       "4   -1000.0\n",
       "5       3.0\n",
       "dtype: float64"
      ]
     },
     "execution_count": 17,
     "metadata": {},
     "output_type": "execute_result"
    }
   ],
   "source": [
    "data = pd.Series([1., -999., 2., -999., -1000., 3.])\n",
    "data"
   ]
  },
  {
   "cell_type": "code",
   "execution_count": 18,
   "id": "cb0a7f1b-147a-42e8-ab5f-0398b357cf57",
   "metadata": {},
   "outputs": [
    {
     "data": {
      "text/plain": [
       "0       1.0\n",
       "1       NaN\n",
       "2       2.0\n",
       "3       NaN\n",
       "4   -1000.0\n",
       "5       3.0\n",
       "dtype: float64"
      ]
     },
     "execution_count": 18,
     "metadata": {},
     "output_type": "execute_result"
    }
   ],
   "source": [
    "# 換掉-999為NaN\n",
    "data.replace(-999, np.nan)"
   ]
  },
  {
   "cell_type": "code",
   "execution_count": 20,
   "id": "fab946be-52c9-49c7-9f9b-d72dc88c55cb",
   "metadata": {},
   "outputs": [
    {
     "data": {
      "text/plain": [
       "0    1.0\n",
       "1    NaN\n",
       "2    2.0\n",
       "3    NaN\n",
       "4    NaN\n",
       "5    3.0\n",
       "dtype: float64"
      ]
     },
     "execution_count": 20,
     "metadata": {},
     "output_type": "execute_result"
    }
   ],
   "source": [
    "# 換掉-999以及-1000為NaN\n",
    "data.replace([-999, -1000], np.nan)"
   ]
  },
  {
   "cell_type": "code",
   "execution_count": 22,
   "id": "fb398c65-9299-4ec0-a9e6-2db8f29b5a10",
   "metadata": {},
   "outputs": [
    {
     "data": {
      "text/plain": [
       "(0    1.0\n",
       " 1    NaN\n",
       " 2    2.0\n",
       " 3    NaN\n",
       " 4    0.0\n",
       " 5    3.0\n",
       " dtype: float64,\n",
       " 0    1.0\n",
       " 1    NaN\n",
       " 2    2.0\n",
       " 3    NaN\n",
       " 4    0.0\n",
       " 5    3.0\n",
       " dtype: float64)"
      ]
     },
     "execution_count": 22,
     "metadata": {},
     "output_type": "execute_result"
    }
   ],
   "source": [
    "# 使用list或者dict的方式指定都可以\n",
    "data.replace([-999, -1000], [np.nan, 0]), data.replace({-999: np.nan, -1000: 0})"
   ]
  },
  {
   "cell_type": "markdown",
   "id": "432703a0-4615-4278-ac79-90cd7fc857ec",
   "metadata": {},
   "source": [
    "##### cut & qcut"
   ]
  },
  {
   "cell_type": "code",
   "execution_count": 23,
   "id": "b98046ad-b5f7-4537-8627-cf7cad0d9b6e",
   "metadata": {},
   "outputs": [
    {
     "data": {
      "text/plain": [
       "[NaN, NaN, (18.0, 25.0], (25.0, 35.0], (18.0, 25.0], ..., (25, 35], (60, 100], (35, 60], (35, 60], (25, 35]]\n",
       "Length: 14\n",
       "Categories (4, interval[int64, right]): [(18, 25] < (25, 35] < (35, 60] < (60, 100]]"
      ]
     },
     "execution_count": 23,
     "metadata": {},
     "output_type": "execute_result"
    }
   ],
   "source": [
    "# 指定 bins 間隔來切割\n",
    "# 注意前2筆不在切割範圍內，所以回傳NaN!\n",
    "ages = [12, 18, 20, 28, 25, 27, 21, 23, 37, 31, 61, 45, 41, 32]\n",
    "\n",
    "bins = [18, 25, 35, 60, 100]\n",
    "cats = pd.cut(ages, bins)\n",
    "cats"
   ]
  },
  {
   "cell_type": "code",
   "execution_count": 33,
   "id": "e6266594-5a74-43d9-9f85-5376baa0ac66",
   "metadata": {},
   "outputs": [
    {
     "name": "stdout",
     "output_type": "stream",
     "text": [
      "[-1 -1  0  1  0  1  0  0  2  1  3  2  2  1] \n",
      "\n",
      "IntervalIndex([(18, 25], (25, 35], (35, 60], (60, 100]], dtype='interval[int64, right]') \n",
      "\n",
      "(18, 25]     4\n",
      "(25, 35]     4\n",
      "(35, 60]     3\n",
      "(60, 100]    1\n",
      "dtype: int64\n"
     ]
    }
   ],
   "source": [
    "# code屬性回傳該筆資料屬於哪個區段\n",
    "# 注意前兩筆是NaN所以回傳-1\n",
    "print(cats.codes, '\\n')\n",
    "print(cats.categories, '\\n')\n",
    "print(pd.value_counts(cats))"
   ]
  },
  {
   "cell_type": "code",
   "execution_count": 26,
   "id": "51a390ab-e035-427b-a635-ca7086cec4e2",
   "metadata": {},
   "outputs": [
    {
     "name": "stdout",
     "output_type": "stream",
     "text": [
      "ages\t : [12, 18, 20, 28, 25, 27, 21, 23, 37, 31, 61, 45, 41, 32]\n",
      "\n",
      "bins\t : [18, 25, 35, 60, 100]\n",
      "\n",
      "pd.cut\t :\n",
      "[NaN, NaN, 'Youth', 'YoungAdult', 'Youth', ..., 'YoungAdult', 'Senior', 'MiddleAged', 'MiddleAged', 'YoungAdult']\n",
      "Length: 14\n",
      "Categories (4, object): ['Youth' < 'YoungAdult' < 'MiddleAged' < 'Senior']\n"
     ]
    }
   ],
   "source": [
    "# 指定切割後的類別名稱\n",
    "group_names = ['Youth', 'YoungAdult', 'MiddleAged', 'Senior']\n",
    "print(f'ages\\t : {ages}\\n\\n'\n",
    "      f'bins\\t : {bins}\\n\\n'\n",
    "      f'pd.cut\\t :\\n{pd.cut(ages, bins, labels=group_names)}')"
   ]
  },
  {
   "cell_type": "code",
   "execution_count": 34,
   "id": "a3243f7c-60b1-45c6-b52b-d7e873bc7e2a",
   "metadata": {},
   "outputs": [
    {
     "name": "stdout",
     "output_type": "stream",
     "text": [
      "data[:10] :\n",
      "[-0.76529235  1.01057972  2.19724265  1.00936626  0.77427903 -0.24245216\n",
      "  0.62585299 -0.31176085  0.31793325  0.24502484  0.05073809  0.44774607\n",
      " -3.87935164 -0.67466071 -1.12835202 -0.09279127  1.13196589  1.57864755\n",
      "  2.27146676 -0.02522283]\n",
      "\n",
      "cats :\n",
      "['Q1', 'Q4', 'Q4', 'Q4', 'Q4', ..., 'Q1', 'Q4', 'Q4', 'Q1', 'Q2']\n",
      "Length: 1000\n",
      "Categories (4, object): ['Q1' < 'Q2' < 'Q3' < 'Q4']\n",
      "\n",
      "cats.codes[:50] :\n",
      "[0 3 3 3 3 1 2 1 2 2 2 2 0 0 0 1 3 3 3 1 0 3 2 3 1 1 1 1 0 2 2 2 1 1 1 1 3\n",
      " 0 1 0 2 3 0 2 1 0 3 3 2 0]\n",
      "\n",
      "pd.value_counts(cats) :\n",
      "Q1    250\n",
      "Q2    250\n",
      "Q3    250\n",
      "Q4    250\n",
      "dtype: int64\n"
     ]
    }
   ],
   "source": [
    "# 等比例切4份 \n",
    "data = np.random.randn(1000)  # Normally distributed\n",
    "cats = pd.qcut(data, 4, labels=['Q1', 'Q2', 'Q3', 'Q4'])  # Cut into quartiles\n",
    "print(f'data[:10] :\\n{data[:20]}\\n\\n'\n",
    "      f'cats :\\n{cats}\\n\\n'\n",
    "      f'cats.codes[:50] :\\n{cats.codes[:50]}\\n\\n'\n",
    "      f'pd.value_counts(cats) :\\n{pd.value_counts(cats)}')"
   ]
  },
  {
   "cell_type": "code",
   "execution_count": 35,
   "id": "8d1d80e2-ce1c-47d9-b04a-900959fa7cc5",
   "metadata": {},
   "outputs": [
    {
     "name": "stdout",
     "output_type": "stream",
     "text": [
      "[-0.76529235  1.01057972  2.19724265  1.00936626  0.77427903 -0.24245216\n",
      "  0.62585299 -0.31176085  0.31793325  0.24502484  0.05073809  0.44774607\n",
      " -3.87935164 -0.67466071 -1.12835202 -0.09279127  1.13196589  1.57864755\n",
      "  2.27146676 -0.02522283]\n",
      "\n",
      "[(-1.25405, 0.0053047], (0.0053047, 1.30091], (1.30091, 3.22979], (0.0053047, 1.30091], (0.0053047, 1.30091], ..., (-1.25405, 0.0053047], (1.30091, 3.22979], (0.0053047, 1.30091], (-1.25405, 0.0053047], (-1.25405, 0.0053047]]\n",
      "Length: 1000\n",
      "Categories (4, interval[float64, right]): [(-3.87936, -1.25405] < (-1.25405, 0.0053047] < (0.0053047, 1.30091] < (1.30091, 3.22979]]\n",
      "\n",
      "(-1.25405, 0.0053047]    400\n",
      "(0.0053047, 1.30091]     400\n",
      "(-3.87936, -1.25405]     100\n",
      "(1.30091, 3.22979]       100\n",
      "dtype: int64\n"
     ]
    }
   ],
   "source": [
    "# 不等比例切分\n",
    "cats = pd.qcut(data, [0, 0.1, 0.5, 0.9, 1.], precision=5)\n",
    "print(f'{data[:20]}\\n\\n'\n",
    "      f'{cats}\\n\\n'\n",
    "      f'{pd.value_counts(cats)}')"
   ]
  },
  {
   "cell_type": "code",
   "execution_count": null,
   "id": "cbdd91a4-8a11-4f6a-adce-b1e0c985a8af",
   "metadata": {},
   "outputs": [],
   "source": []
  },
  {
   "cell_type": "code",
   "execution_count": null,
   "id": "53d40a3f-4d80-462e-8b11-c1cbe8c1bd57",
   "metadata": {},
   "outputs": [],
   "source": []
  },
  {
   "cell_type": "code",
   "execution_count": null,
   "id": "fadaad42-40d7-43b4-a9b3-6552d04ffd59",
   "metadata": {},
   "outputs": [],
   "source": []
  }
 ],
 "metadata": {
  "kernelspec": {
   "display_name": "Python 3 (ipykernel)",
   "language": "python",
   "name": "python3"
  },
  "language_info": {
   "codemirror_mode": {
    "name": "ipython",
    "version": 3
   },
   "file_extension": ".py",
   "mimetype": "text/x-python",
   "name": "python",
   "nbconvert_exporter": "python",
   "pygments_lexer": "ipython3",
   "version": "3.10.4"
  }
 },
 "nbformat": 4,
 "nbformat_minor": 5
}
