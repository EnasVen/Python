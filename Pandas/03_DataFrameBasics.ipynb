{
 "cells": [
  {
   "cell_type": "markdown",
   "id": "a5a3bbb7",
   "metadata": {},
   "source": [
    "# DataFrame"
   ]
  },
  {
   "cell_type": "markdown",
   "id": "d758e1f1-f8e4-4882-9cf3-69fb5f1de517",
   "metadata": {},
   "source": [
    "### Construction\n",
    "pandas的DataFrame可透過以下方法建立:\n",
    "1. 單一Series物件  \n",
    "2. dict的list物件\n",
    "3. Series物件的dict\n",
    "4. 2d-np array \n",
    "5. np結構陣列"
   ]
  },
  {
   "cell_type": "code",
   "execution_count": 1,
   "id": "a570adcc",
   "metadata": {
    "tags": []
   },
   "outputs": [],
   "source": [
    "import pandas as pd\n",
    "import numpy as np"
   ]
  },
  {
   "cell_type": "code",
   "execution_count": null,
   "id": "77269e34-72ac-4962-b50c-c25ffa00e042",
   "metadata": {},
   "outputs": [],
   "source": [
    "# 單一Series物件"
   ]
  },
  {
   "cell_type": "code",
   "execution_count": 2,
   "id": "c42632cb-9324-4ff9-82dc-97bda7e5e157",
   "metadata": {},
   "outputs": [
    {
     "data": {
      "text/html": [
       "<div>\n",
       "<style scoped>\n",
       "    .dataframe tbody tr th:only-of-type {\n",
       "        vertical-align: middle;\n",
       "    }\n",
       "\n",
       "    .dataframe tbody tr th {\n",
       "        vertical-align: top;\n",
       "    }\n",
       "\n",
       "    .dataframe thead th {\n",
       "        text-align: right;\n",
       "    }\n",
       "</style>\n",
       "<table border=\"1\" class=\"dataframe\">\n",
       "  <thead>\n",
       "    <tr style=\"text-align: right;\">\n",
       "      <th></th>\n",
       "      <th>A</th>\n",
       "    </tr>\n",
       "  </thead>\n",
       "  <tbody>\n",
       "    <tr>\n",
       "      <th>0</th>\n",
       "      <td>1</td>\n",
       "    </tr>\n",
       "    <tr>\n",
       "      <th>1</th>\n",
       "      <td>2</td>\n",
       "    </tr>\n",
       "    <tr>\n",
       "      <th>2</th>\n",
       "      <td>3</td>\n",
       "    </tr>\n",
       "    <tr>\n",
       "      <th>3</th>\n",
       "      <td>4</td>\n",
       "    </tr>\n",
       "  </tbody>\n",
       "</table>\n",
       "</div>"
      ],
      "text/plain": [
       "   A\n",
       "0  1\n",
       "1  2\n",
       "2  3\n",
       "3  4"
      ]
     },
     "execution_count": 2,
     "metadata": {},
     "output_type": "execute_result"
    }
   ],
   "source": [
    "x = pd.Series([1,2,3,4])\n",
    "pd.DataFrame(x , columns=['A'])"
   ]
  },
  {
   "cell_type": "code",
   "execution_count": 5,
   "id": "9674108a-1540-4615-b71d-c0780e61cb76",
   "metadata": {
    "tags": []
   },
   "outputs": [
    {
     "data": {
      "text/html": [
       "<div>\n",
       "<style scoped>\n",
       "    .dataframe tbody tr th:only-of-type {\n",
       "        vertical-align: middle;\n",
       "    }\n",
       "\n",
       "    .dataframe tbody tr th {\n",
       "        vertical-align: top;\n",
       "    }\n",
       "\n",
       "    .dataframe thead th {\n",
       "        text-align: right;\n",
       "    }\n",
       "</style>\n",
       "<table border=\"1\" class=\"dataframe\">\n",
       "  <thead>\n",
       "    <tr style=\"text-align: right;\">\n",
       "      <th></th>\n",
       "      <th>a</th>\n",
       "      <th>b</th>\n",
       "    </tr>\n",
       "  </thead>\n",
       "  <tbody>\n",
       "    <tr>\n",
       "      <th>0</th>\n",
       "      <td>0</td>\n",
       "      <td>0</td>\n",
       "    </tr>\n",
       "    <tr>\n",
       "      <th>1</th>\n",
       "      <td>1</td>\n",
       "      <td>2</td>\n",
       "    </tr>\n",
       "    <tr>\n",
       "      <th>2</th>\n",
       "      <td>2</td>\n",
       "      <td>4</td>\n",
       "    </tr>\n",
       "  </tbody>\n",
       "</table>\n",
       "</div>"
      ],
      "text/plain": [
       "   a  b\n",
       "0  0  0\n",
       "1  1  2\n",
       "2  2  4"
      ]
     },
     "execution_count": 5,
     "metadata": {},
     "output_type": "execute_result"
    }
   ],
   "source": [
    "# dict的list物件\n",
    "# 注意pd會自動將key轉成col name\n",
    "x = [{'a':i,'b':2*i} for i in range(3)]\n",
    "pd.DataFrame(x)"
   ]
  },
  {
   "cell_type": "code",
   "execution_count": 7,
   "id": "5aad7fd6-7da9-47cc-b2b8-04eba8c82430",
   "metadata": {},
   "outputs": [
    {
     "data": {
      "text/html": [
       "<div>\n",
       "<style scoped>\n",
       "    .dataframe tbody tr th:only-of-type {\n",
       "        vertical-align: middle;\n",
       "    }\n",
       "\n",
       "    .dataframe tbody tr th {\n",
       "        vertical-align: top;\n",
       "    }\n",
       "\n",
       "    .dataframe thead th {\n",
       "        text-align: right;\n",
       "    }\n",
       "</style>\n",
       "<table border=\"1\" class=\"dataframe\">\n",
       "  <thead>\n",
       "    <tr style=\"text-align: right;\">\n",
       "      <th></th>\n",
       "      <th>A</th>\n",
       "      <th>B</th>\n",
       "    </tr>\n",
       "  </thead>\n",
       "  <tbody>\n",
       "    <tr>\n",
       "      <th>0</th>\n",
       "      <td>1</td>\n",
       "      <td>7</td>\n",
       "    </tr>\n",
       "    <tr>\n",
       "      <th>1</th>\n",
       "      <td>2</td>\n",
       "      <td>8</td>\n",
       "    </tr>\n",
       "    <tr>\n",
       "      <th>2</th>\n",
       "      <td>3</td>\n",
       "      <td>9</td>\n",
       "    </tr>\n",
       "    <tr>\n",
       "      <th>3</th>\n",
       "      <td>4</td>\n",
       "      <td>10</td>\n",
       "    </tr>\n",
       "  </tbody>\n",
       "</table>\n",
       "</div>"
      ],
      "text/plain": [
       "   A   B\n",
       "0  1   7\n",
       "1  2   8\n",
       "2  3   9\n",
       "3  4  10"
      ]
     },
     "execution_count": 7,
     "metadata": {},
     "output_type": "execute_result"
    }
   ],
   "source": [
    "# Series物件的dict\n",
    "x = pd.Series([1,2,3,4])\n",
    "y = pd.Series([7,8,9,10])\n",
    "pd.DataFrame({'A':x , 'B':y})"
   ]
  },
  {
   "cell_type": "code",
   "execution_count": 10,
   "id": "68291094-753c-4cb6-b716-3d04f9fc8911",
   "metadata": {},
   "outputs": [
    {
     "data": {
      "text/html": [
       "<div>\n",
       "<style scoped>\n",
       "    .dataframe tbody tr th:only-of-type {\n",
       "        vertical-align: middle;\n",
       "    }\n",
       "\n",
       "    .dataframe tbody tr th {\n",
       "        vertical-align: top;\n",
       "    }\n",
       "\n",
       "    .dataframe thead th {\n",
       "        text-align: right;\n",
       "    }\n",
       "</style>\n",
       "<table border=\"1\" class=\"dataframe\">\n",
       "  <thead>\n",
       "    <tr style=\"text-align: right;\">\n",
       "      <th></th>\n",
       "      <th>MM</th>\n",
       "      <th>NN</th>\n",
       "    </tr>\n",
       "  </thead>\n",
       "  <tbody>\n",
       "    <tr>\n",
       "      <th>58</th>\n",
       "      <td>0.506048</td>\n",
       "      <td>0.510478</td>\n",
       "    </tr>\n",
       "    <tr>\n",
       "      <th>59</th>\n",
       "      <td>0.403463</td>\n",
       "      <td>0.553143</td>\n",
       "    </tr>\n",
       "    <tr>\n",
       "      <th>60</th>\n",
       "      <td>0.208655</td>\n",
       "      <td>0.095105</td>\n",
       "    </tr>\n",
       "  </tbody>\n",
       "</table>\n",
       "</div>"
      ],
      "text/plain": [
       "          MM        NN\n",
       "58  0.506048  0.510478\n",
       "59  0.403463  0.553143\n",
       "60  0.208655  0.095105"
      ]
     },
     "execution_count": 10,
     "metadata": {},
     "output_type": "execute_result"
    }
   ],
   "source": [
    "# 2d-np array\n",
    "# 使用二維np array並指定col與index name\n",
    "pd.DataFrame(np.random.rand(3,2) , columns=['MM','NN'] , index= [58,59,60])"
   ]
  },
  {
   "cell_type": "code",
   "execution_count": 11,
   "id": "5c78b3b6-4d27-4068-a8be-f97363186e28",
   "metadata": {},
   "outputs": [
    {
     "data": {
      "text/plain": [
       "array([(0, 0.), (0, 0.), (0, 0.)], dtype=[('A', '<i8'), ('B', '<f8')])"
      ]
     },
     "execution_count": 11,
     "metadata": {},
     "output_type": "execute_result"
    }
   ],
   "source": [
    "# np結構陣列\n",
    "A = np.zeros(3,dtype=[('A','i8') , ('B','f8')])\n",
    "A"
   ]
  },
  {
   "cell_type": "code",
   "execution_count": 12,
   "id": "9700dbe2-05a6-4a72-a410-2885c2e905bf",
   "metadata": {},
   "outputs": [
    {
     "data": {
      "text/html": [
       "<div>\n",
       "<style scoped>\n",
       "    .dataframe tbody tr th:only-of-type {\n",
       "        vertical-align: middle;\n",
       "    }\n",
       "\n",
       "    .dataframe tbody tr th {\n",
       "        vertical-align: top;\n",
       "    }\n",
       "\n",
       "    .dataframe thead th {\n",
       "        text-align: right;\n",
       "    }\n",
       "</style>\n",
       "<table border=\"1\" class=\"dataframe\">\n",
       "  <thead>\n",
       "    <tr style=\"text-align: right;\">\n",
       "      <th></th>\n",
       "      <th>A</th>\n",
       "      <th>B</th>\n",
       "    </tr>\n",
       "  </thead>\n",
       "  <tbody>\n",
       "    <tr>\n",
       "      <th>0</th>\n",
       "      <td>0</td>\n",
       "      <td>0.0</td>\n",
       "    </tr>\n",
       "    <tr>\n",
       "      <th>1</th>\n",
       "      <td>0</td>\n",
       "      <td>0.0</td>\n",
       "    </tr>\n",
       "    <tr>\n",
       "      <th>2</th>\n",
       "      <td>0</td>\n",
       "      <td>0.0</td>\n",
       "    </tr>\n",
       "  </tbody>\n",
       "</table>\n",
       "</div>"
      ],
      "text/plain": [
       "   A    B\n",
       "0  0  0.0\n",
       "1  0  0.0\n",
       "2  0  0.0"
      ]
     },
     "execution_count": 12,
     "metadata": {},
     "output_type": "execute_result"
    }
   ],
   "source": [
    "pd.DataFrame(A)"
   ]
  },
  {
   "cell_type": "markdown",
   "id": "7a25fd19",
   "metadata": {},
   "source": [
    "### Pandas Object\n",
    "如果把series看作為一維陣列，那麼datafrrame就是series的組合，視為二維陣列。(Excel csv file)  \n",
    "每一column視為一個series，需為同樣資料型別;不同column間可以為不同資料型別(類似R的date.frame)  \n",
    "同一column內如果出現不同資料型別，則該column的型別會顯示object!"
   ]
  },
  {
   "cell_type": "code",
   "execution_count": 35,
   "id": "93c21227",
   "metadata": {},
   "outputs": [
    {
     "data": {
      "text/plain": [
       "({'state': ['Ohio', 'Ohio', 'Ohio', 50, 'Nevada', 'Nevada'],\n",
       "  'year': [2000, 2001, 2002, 2001, 2002, 2003],\n",
       "  'popu': [1.5, 1.7, 3.6, 2.4, 2.9, 3.2]},\n",
       " dict)"
      ]
     },
     "execution_count": 35,
     "metadata": {},
     "output_type": "execute_result"
    }
   ],
   "source": [
    "# 建立dict物件，故意將column state內的第4個元素改成int\n",
    "x = {'state': ['Ohio', 'Ohio', 'Ohio', 50 , 'Nevada', 'Nevada'],\n",
    "        'year': [2000, 2001, 2002, 2001, 2002, 2003],\n",
    "        'popu': [1.5, 1.7, 3.6, 2.4, 2.9, 3.2]}\n",
    "x , type(x)"
   ]
  },
  {
   "cell_type": "code",
   "execution_count": 36,
   "id": "9f0769ea",
   "metadata": {},
   "outputs": [
    {
     "data": {
      "text/plain": [
       "pandas.core.frame.DataFrame"
      ]
     },
     "execution_count": 36,
     "metadata": {},
     "output_type": "execute_result"
    }
   ],
   "source": [
    "# 建立pd Dataframe物件\n",
    "X = pd.DataFrame(x)\n",
    "type(X)"
   ]
  },
  {
   "cell_type": "code",
   "execution_count": 37,
   "id": "2ac39a4a",
   "metadata": {
    "scrolled": true
   },
   "outputs": [
    {
     "data": {
      "text/html": [
       "<div>\n",
       "<style scoped>\n",
       "    .dataframe tbody tr th:only-of-type {\n",
       "        vertical-align: middle;\n",
       "    }\n",
       "\n",
       "    .dataframe tbody tr th {\n",
       "        vertical-align: top;\n",
       "    }\n",
       "\n",
       "    .dataframe thead th {\n",
       "        text-align: right;\n",
       "    }\n",
       "</style>\n",
       "<table border=\"1\" class=\"dataframe\">\n",
       "  <thead>\n",
       "    <tr style=\"text-align: right;\">\n",
       "      <th></th>\n",
       "      <th>year</th>\n",
       "      <th>popu</th>\n",
       "    </tr>\n",
       "  </thead>\n",
       "  <tbody>\n",
       "    <tr>\n",
       "      <th>count</th>\n",
       "      <td>6.000000</td>\n",
       "      <td>6.000000</td>\n",
       "    </tr>\n",
       "    <tr>\n",
       "      <th>mean</th>\n",
       "      <td>2001.500000</td>\n",
       "      <td>2.550000</td>\n",
       "    </tr>\n",
       "    <tr>\n",
       "      <th>std</th>\n",
       "      <td>1.048809</td>\n",
       "      <td>0.836062</td>\n",
       "    </tr>\n",
       "    <tr>\n",
       "      <th>min</th>\n",
       "      <td>2000.000000</td>\n",
       "      <td>1.500000</td>\n",
       "    </tr>\n",
       "    <tr>\n",
       "      <th>25%</th>\n",
       "      <td>2001.000000</td>\n",
       "      <td>1.875000</td>\n",
       "    </tr>\n",
       "    <tr>\n",
       "      <th>50%</th>\n",
       "      <td>2001.500000</td>\n",
       "      <td>2.650000</td>\n",
       "    </tr>\n",
       "    <tr>\n",
       "      <th>75%</th>\n",
       "      <td>2002.000000</td>\n",
       "      <td>3.125000</td>\n",
       "    </tr>\n",
       "    <tr>\n",
       "      <th>max</th>\n",
       "      <td>2003.000000</td>\n",
       "      <td>3.600000</td>\n",
       "    </tr>\n",
       "  </tbody>\n",
       "</table>\n",
       "</div>"
      ],
      "text/plain": [
       "              year      popu\n",
       "count     6.000000  6.000000\n",
       "mean   2001.500000  2.550000\n",
       "std       1.048809  0.836062\n",
       "min    2000.000000  1.500000\n",
       "25%    2001.000000  1.875000\n",
       "50%    2001.500000  2.650000\n",
       "75%    2002.000000  3.125000\n",
       "max    2003.000000  3.600000"
      ]
     },
     "execution_count": 37,
     "metadata": {},
     "output_type": "execute_result"
    }
   ],
   "source": [
    "# 注意state column消失，因為裡面有數字又有文字\n",
    "X.describe()"
   ]
  },
  {
   "cell_type": "code",
   "execution_count": 39,
   "id": "125e1027",
   "metadata": {},
   "outputs": [
    {
     "name": "stdout",
     "output_type": "stream",
     "text": [
      "<class 'pandas.core.frame.DataFrame'>\n",
      "RangeIndex: 6 entries, 0 to 5\n",
      "Data columns (total 3 columns):\n",
      " #   Column  Non-Null Count  Dtype  \n",
      "---  ------  --------------  -----  \n",
      " 0   state   6 non-null      object \n",
      " 1   year    6 non-null      int64  \n",
      " 2   popu    6 non-null      float64\n",
      "dtypes: float64(1), int64(1), object(1)\n",
      "memory usage: 272.0+ bytes\n"
     ]
    }
   ],
   "source": [
    "# 可以看到state column的Dtype為object，其餘都是純i64 , f64\n",
    "X.info()"
   ]
  },
  {
   "cell_type": "code",
   "execution_count": 40,
   "id": "be33b2e4",
   "metadata": {},
   "outputs": [
    {
     "data": {
      "text/html": [
       "<div>\n",
       "<style scoped>\n",
       "    .dataframe tbody tr th:only-of-type {\n",
       "        vertical-align: middle;\n",
       "    }\n",
       "\n",
       "    .dataframe tbody tr th {\n",
       "        vertical-align: top;\n",
       "    }\n",
       "\n",
       "    .dataframe thead th {\n",
       "        text-align: right;\n",
       "    }\n",
       "</style>\n",
       "<table border=\"1\" class=\"dataframe\">\n",
       "  <thead>\n",
       "    <tr style=\"text-align: right;\">\n",
       "      <th></th>\n",
       "      <th>state</th>\n",
       "      <th>year</th>\n",
       "      <th>popu</th>\n",
       "    </tr>\n",
       "  </thead>\n",
       "  <tbody>\n",
       "    <tr>\n",
       "      <th>0</th>\n",
       "      <td>Ohio</td>\n",
       "      <td>2000</td>\n",
       "      <td>1.5</td>\n",
       "    </tr>\n",
       "    <tr>\n",
       "      <th>1</th>\n",
       "      <td>Ohio</td>\n",
       "      <td>2001</td>\n",
       "      <td>1.7</td>\n",
       "    </tr>\n",
       "    <tr>\n",
       "      <th>2</th>\n",
       "      <td>Ohio</td>\n",
       "      <td>2002</td>\n",
       "      <td>3.6</td>\n",
       "    </tr>\n",
       "    <tr>\n",
       "      <th>3</th>\n",
       "      <td>50</td>\n",
       "      <td>2001</td>\n",
       "      <td>2.4</td>\n",
       "    </tr>\n",
       "    <tr>\n",
       "      <th>4</th>\n",
       "      <td>Nevada</td>\n",
       "      <td>2002</td>\n",
       "      <td>2.9</td>\n",
       "    </tr>\n",
       "    <tr>\n",
       "      <th>5</th>\n",
       "      <td>Nevada</td>\n",
       "      <td>2003</td>\n",
       "      <td>3.2</td>\n",
       "    </tr>\n",
       "  </tbody>\n",
       "</table>\n",
       "</div>"
      ],
      "text/plain": [
       "    state  year  popu\n",
       "0    Ohio  2000   1.5\n",
       "1    Ohio  2001   1.7\n",
       "2    Ohio  2002   3.6\n",
       "3      50  2001   2.4\n",
       "4  Nevada  2002   2.9\n",
       "5  Nevada  2003   3.2"
      ]
     },
     "execution_count": 40,
     "metadata": {},
     "output_type": "execute_result"
    }
   ],
   "source": [
    "X"
   ]
  },
  {
   "cell_type": "code",
   "execution_count": 29,
   "id": "91320f94",
   "metadata": {},
   "outputs": [
    {
     "data": {
      "text/plain": [
       "pandas.core.series.Series"
      ]
     },
     "execution_count": 29,
     "metadata": {},
     "output_type": "execute_result"
    }
   ],
   "source": [
    "# 每一column視為pd Series\n",
    "type(X.iloc[:,1])"
   ]
  },
  {
   "cell_type": "code",
   "execution_count": 41,
   "id": "d920dba6",
   "metadata": {},
   "outputs": [
    {
     "data": {
      "text/plain": [
       "(50, int)"
      ]
     },
     "execution_count": 41,
     "metadata": {},
     "output_type": "execute_result"
    }
   ],
   "source": [
    "# 不同於R的dataframe或matrix，元素並不會強制轉型，索引後仍保持int型別\n",
    "X.iloc[3,0] , type(X.iloc[3,0])"
   ]
  },
  {
   "cell_type": "code",
   "execution_count": 42,
   "id": "adabce6e",
   "metadata": {},
   "outputs": [
    {
     "name": "stdout",
     "output_type": "stream",
     "text": [
      "data :\n",
      "{'state': ['Ohio', 'Ohio', 'Ohio', 'Nevada', 'Nevada', 'Nevada'], 'year': [2000, 2001, 2002, 2001, 2002, 2003], 'popu': [1.5, 1.7, 3.6, 2.4, 2.9, 3.2]}\n",
      "\n",
      "data['state'] : ['Ohio', 'Ohio', 'Ohio', 'Nevada', 'Nevada', 'Nevada']\n",
      "\n",
      "    state  year  popu\n",
      "0    Ohio  2000   1.5\n",
      "1    Ohio  2001   1.7\n",
      "2    Ohio  2002   3.6\n",
      "3  Nevada  2001   2.4\n",
      "4  Nevada  2002   2.9\n",
      "5  Nevada  2003   3.2\n"
     ]
    }
   ],
   "source": [
    "# 將dict轉成d.f.，這次使用正常資料\n",
    "data = {'state': ['Ohio', 'Ohio', 'Ohio', 'Nevada', 'Nevada', 'Nevada'],\n",
    "        'year': [2000, 2001, 2002, 2001, 2002, 2003],\n",
    "        'popu': [1.5, 1.7, 3.6, 2.4, 2.9, 3.2]}\n",
    "print(f\"data :\\n{data}\\n\\n\"\n",
    "      f\"data['state'] : {data['state']}\\n\\n\"\n",
    "      f\"{pd.DataFrame(data)}\")"
   ]
  },
  {
   "cell_type": "code",
   "execution_count": 6,
   "id": "9811a1e5",
   "metadata": {},
   "outputs": [
    {
     "name": "stdout",
     "output_type": "stream",
     "text": [
      "    state  year  popu\n",
      "d    Ohio  2000   1.5\n",
      "f    Ohio  2001   1.7\n",
      "g    Ohio  2002   3.6\n",
      "h  Nevada  2001   2.4\n",
      "j  Nevada  2002   2.9\n",
      "k  Nevada  2003   3.2\n",
      "\n",
      "          d     f     g       h       j       k\n",
      "state  Ohio  Ohio  Ohio  Nevada  Nevada  Nevada\n",
      "year   2000  2001  2002    2001    2002    2003\n",
      "popu    1.5   1.7   3.6     2.4     2.9     3.2\n"
     ]
    }
   ],
   "source": [
    "# d.f.視為二維陣列，轉置操作同數學矩陣 (類似R的matrix型別)\n",
    "# 須注意transpose後 rowname換到colname!\n",
    "df = pd.DataFrame(data, index=['d','f','g','h','j','k'])\n",
    "print(f'{df}\\n\\n{df.T}')"
   ]
  },
  {
   "cell_type": "code",
   "execution_count": 43,
   "id": "e891e630",
   "metadata": {},
   "outputs": [
    {
     "data": {
      "text/plain": [
       "state    [Ohio, Ohio, Ohio, 50, Nevada, Nevada]\n",
       "year       [2000, 2001, 2002, 2001, 2002, 2003]\n",
       "popu             [1.5, 1.7, 3.6, 2.4, 2.9, 3.2]\n",
       "dtype: object"
      ]
     },
     "execution_count": 43,
     "metadata": {},
     "output_type": "execute_result"
    }
   ],
   "source": [
    "X = pd.Series(x)\n",
    "X"
   ]
  },
  {
   "cell_type": "code",
   "execution_count": 44,
   "id": "3c1620c3",
   "metadata": {},
   "outputs": [
    {
     "data": {
      "text/plain": [
       "(3,)"
      ]
     },
     "execution_count": 44,
     "metadata": {},
     "output_type": "execute_result"
    }
   ],
   "source": [
    "X.shape"
   ]
  },
  {
   "cell_type": "code",
   "execution_count": 45,
   "id": "cd36a3d6",
   "metadata": {},
   "outputs": [
    {
     "data": {
      "text/plain": [
       "3"
      ]
     },
     "execution_count": 45,
     "metadata": {},
     "output_type": "execute_result"
    }
   ],
   "source": [
    "X.size"
   ]
  },
  {
   "cell_type": "code",
   "execution_count": 47,
   "id": "b7639a9c",
   "metadata": {},
   "outputs": [
    {
     "data": {
      "text/plain": [
       "(['Ohio', 'Ohio', 'Ohio', 50, 'Nevada', 'Nevada'], list)"
      ]
     },
     "execution_count": 47,
     "metadata": {},
     "output_type": "execute_result"
    }
   ],
   "source": [
    "# 每一column視為list\n",
    "X[0] , type(X[0])"
   ]
  },
  {
   "cell_type": "code",
   "execution_count": 106,
   "id": "9a216093",
   "metadata": {},
   "outputs": [
    {
     "name": "stdout",
     "output_type": "stream",
     "text": [
      "data :\n",
      "              area      popu\n",
      "California  423967  38332521\n",
      "Texas       695662  26448193\n",
      "New York    141297  19651127\n",
      "Florida     170312  19552860\n",
      "Illinois    149995  12882135\n",
      "\n",
      "data.area :\n",
      "California    423967\n",
      "Texas         695662\n",
      "New York      141297\n",
      "Florida       170312\n",
      "Illinois      149995\n",
      "Name: area, dtype: int64\n",
      "\n",
      "data['area'] :\n",
      "California    423967\n",
      "Texas         695662\n",
      "New York      141297\n",
      "Florida       170312\n",
      "Illinois      149995\n",
      "Name: area, dtype: int64\n",
      "\n",
      "data.popu :\n",
      "California    38332521\n",
      "Texas         26448193\n",
      "New York      19651127\n",
      "Florida       19552860\n",
      "Illinois      12882135\n",
      "Name: popu, dtype: int64\n",
      "\n",
      "data['popu'] :\n",
      "California    38332521\n",
      "Texas         26448193\n",
      "New York      19651127\n",
      "Florida       19552860\n",
      "Illinois      12882135\n",
      "Name: popu, dtype: int64\n"
     ]
    }
   ],
   "source": [
    "# d.f.可透過Series組合\n",
    "area = pd.Series({'California': 423967, 'Texas': 695662,\n",
    "                  'New York': 141297, 'Florida': 170312,\n",
    "                  'Illinois': 149995})\n",
    "popu = pd.Series({'California': 38332521, 'Texas': 26448193,\n",
    "                 'New York': 19651127, 'Florida': 19552860,\n",
    "                 'Illinois': 12882135})\n",
    "data = pd.DataFrame({'area':area, 'popu':popu})\n",
    "\n",
    "print(f'data :\\n{data}\\n\\n'\n",
    "      f'data.area :\\n{data.area}\\n\\n'\n",
    "      f\"data['area'] :\\n{data['area']}\\n\\n\"\n",
    "      f'data.popu :\\n{data.popu}\\n\\n'\n",
    "      f\"data['popu'] :\\n{data['popu']}\")"
   ]
  },
  {
   "cell_type": "code",
   "execution_count": 108,
   "id": "6bf7d605",
   "metadata": {},
   "outputs": [
    {
     "data": {
      "text/html": [
       "<div>\n",
       "<style scoped>\n",
       "    .dataframe tbody tr th:only-of-type {\n",
       "        vertical-align: middle;\n",
       "    }\n",
       "\n",
       "    .dataframe tbody tr th {\n",
       "        vertical-align: top;\n",
       "    }\n",
       "\n",
       "    .dataframe thead th {\n",
       "        text-align: right;\n",
       "    }\n",
       "</style>\n",
       "<table border=\"1\" class=\"dataframe\">\n",
       "  <thead>\n",
       "    <tr style=\"text-align: right;\">\n",
       "      <th></th>\n",
       "      <th>area</th>\n",
       "      <th>popu</th>\n",
       "      <th>density</th>\n",
       "    </tr>\n",
       "  </thead>\n",
       "  <tbody>\n",
       "    <tr>\n",
       "      <th>California</th>\n",
       "      <td>423967</td>\n",
       "      <td>38332521</td>\n",
       "      <td>90.413926</td>\n",
       "    </tr>\n",
       "    <tr>\n",
       "      <th>Texas</th>\n",
       "      <td>695662</td>\n",
       "      <td>26448193</td>\n",
       "      <td>38.018740</td>\n",
       "    </tr>\n",
       "    <tr>\n",
       "      <th>New York</th>\n",
       "      <td>141297</td>\n",
       "      <td>19651127</td>\n",
       "      <td>139.076746</td>\n",
       "    </tr>\n",
       "    <tr>\n",
       "      <th>Florida</th>\n",
       "      <td>170312</td>\n",
       "      <td>19552860</td>\n",
       "      <td>114.806121</td>\n",
       "    </tr>\n",
       "    <tr>\n",
       "      <th>Illinois</th>\n",
       "      <td>149995</td>\n",
       "      <td>12882135</td>\n",
       "      <td>85.883763</td>\n",
       "    </tr>\n",
       "  </tbody>\n",
       "</table>\n",
       "</div>"
      ],
      "text/plain": [
       "              area      popu     density\n",
       "California  423967  38332521   90.413926\n",
       "Texas       695662  26448193   38.018740\n",
       "New York    141297  19651127  139.076746\n",
       "Florida     170312  19552860  114.806121\n",
       "Illinois    149995  12882135   85.883763"
      ]
     },
     "execution_count": 108,
     "metadata": {},
     "output_type": "execute_result"
    }
   ],
   "source": [
    "# 新增欄位(類似R的data.frame新增欄位的語法: df$z = df$x + df$y)\n",
    "data['density'] = data['popu'] / data['area']\n",
    "data.density = data.popu / data.area     # same\n",
    "data"
   ]
  },
  {
   "cell_type": "code",
   "execution_count": 111,
   "id": "22bae1f3",
   "metadata": {},
   "outputs": [
    {
     "name": "stdout",
     "output_type": "stream",
     "text": [
      "data['area'] :\n",
      "California    423967\n",
      "Texas         695662\n",
      "New York      141297\n",
      "Florida       170312\n",
      "Illinois      149995\n",
      "Name: area, dtype: int64\n",
      "\n",
      "data.area :\n",
      "California    423967\n",
      "Texas         695662\n",
      "New York      141297\n",
      "Florida       170312\n",
      "Illinois      149995\n",
      "Name: area, dtype: int64\n",
      "\n",
      "data.area.ndim\t: 1\n",
      "\n",
      "type(data.area)\t: <class 'pandas.core.series.Series'>\n"
     ]
    }
   ],
   "source": [
    "# 取出指定欄位可透過 df['name'] 或者 df.colname來讀取\n",
    "# 須注意取出來的欄位為Series物件\n",
    "print(f\"data['area'] :\\n{data['area']}\\n\\n\"\n",
    "      f\"data.area :\\n{data.area}\\n\\n\"\n",
    "      f\"data.area.ndim\\t: {data.area.ndim}\\n\\n\"\n",
    "      f\"type(data.area)\\t: {type(data.area)}\")"
   ]
  },
  {
   "cell_type": "code",
   "execution_count": 113,
   "id": "986368eb",
   "metadata": {},
   "outputs": [
    {
     "name": "stdout",
     "output_type": "stream",
     "text": [
      "              area\n",
      "California  423967\n",
      "Texas       695662\n",
      "New York    141297\n",
      "Florida     170312\n",
      "Illinois    149995\n",
      "\n",
      "data[['area']].ndim : 2\n",
      "\n",
      "<class 'pandas.core.frame.DataFrame'>\n"
     ]
    }
   ],
   "source": [
    "# 使用 df[['colname']] 取出來的為dataframe!\n",
    "print(f\"{data[['area']]}\\n\\n\"\n",
    "      f\"data[['area']].ndim : {data[['area']].ndim}\\n\\n\"\n",
    "      f\"{type(data[['area']])}\")"
   ]
  },
  {
   "cell_type": "markdown",
   "id": "001326b0",
   "metadata": {},
   "source": [
    "### DataFrame Attributes\n",
    "d.f.具備以下基本屬性:\n",
    ">  index : 顯示rownames  \n",
    "> columns : 顯示colnames  \n",
    "> ndim : 顯示維度數(d.f.為2維)  \n",
    "> size : 顯示d.f.所有元素個數  \n",
    "> shape : 顯示d.f.是幾列幾行的資料框  \n"
   ]
  },
  {
   "cell_type": "code",
   "execution_count": 48,
   "id": "6f6c77aa",
   "metadata": {},
   "outputs": [],
   "source": [
    "df = pd.DataFrame(data, index=['d','f','g','h','j','k'])"
   ]
  },
  {
   "cell_type": "code",
   "execution_count": 53,
   "id": "b05eabf9",
   "metadata": {},
   "outputs": [
    {
     "name": "stdout",
     "output_type": "stream",
     "text": [
      "df :\n",
      "    state  year  popu\n",
      "d    Ohio  2000   1.5\n",
      "f    Ohio  2001   1.7\n",
      "g    Ohio  2002   3.6\n",
      "h  Nevada  2001   2.4\n",
      "j  Nevada  2002   2.9\n",
      "k  Nevada  2003   3.2\n",
      "\n",
      "df.index\t= Index(['d', 'f', 'g', 'h', 'j', 'k'], dtype='object')\n",
      "df.columns\t= Index(['state', 'year', 'popu'], dtype='object')\n",
      "\n",
      "df.values =\n",
      "[['Ohio' 2000 1.5]\n",
      " ['Ohio' 2001 1.7]\n",
      " ['Ohio' 2002 3.6]\n",
      " ['Nevada' 2001 2.4]\n",
      " ['Nevada' 2002 2.9]\n",
      " ['Nevada' 2003 3.2]]\n",
      "\n",
      "type(df.values)\t= <class 'numpy.ndarray'>\n",
      "df.ndim\t\t= 2\n",
      "df.size\t\t= 18\n",
      "df.shape\t= (6, 3)\n"
     ]
    }
   ],
   "source": [
    "# d.f.讀取屬性\n",
    "print(f'df :\\n{df}\\n\\n'\n",
    "      f'df.index\\t= {df.index}\\n'\n",
    "      f'df.columns\\t= {df.columns}\\n\\n'\n",
    "      f'df.values =\\n{df.values}\\n\\n'\n",
    "      f'type(df.values)\\t= {type(df.values)}\\n'\n",
    "      f'df.ndim\\t\\t= {df.ndim}\\n'\n",
    "      f'df.size\\t\\t= {df.size}\\n'\n",
    "      f'df.shape\\t= {df.shape}')"
   ]
  },
  {
   "cell_type": "code",
   "execution_count": 51,
   "id": "d52d2109",
   "metadata": {},
   "outputs": [
    {
     "data": {
      "text/plain": [
       "(pandas.core.indexes.base.Index, pandas.core.indexes.base.Index)"
      ]
     },
     "execution_count": 51,
     "metadata": {},
     "output_type": "execute_result"
    }
   ],
   "source": [
    "# 注意index和columns屬性回傳的是pd的Index型別物件\n",
    "type(df.index) , type(df.columns)"
   ]
  },
  {
   "cell_type": "markdown",
   "id": "e366adc2",
   "metadata": {},
   "source": [
    "### DataFrame Inspection\n",
    "d.f.可透過以下方法進行資料檢視:\n",
    "> describe() : 顯示d.f.內Index,Column個數,Column是否包含null空值,欄位資料型態,占用記憶體...etc  \n",
    "> info() : 顯示各欄位(資料型態必須一致)的總數,平均,標準差,最大最小值與25%/50%/75%百分位數  \n",
    "> head(value)/tail(value) : 顯示頭/尾幾筆資料，不給value值的話預設5筆  "
   ]
  },
  {
   "cell_type": "code",
   "execution_count": 55,
   "id": "627ff7f6",
   "metadata": {},
   "outputs": [
    {
     "name": "stdout",
     "output_type": "stream",
     "text": [
      "<class 'pandas.core.frame.DataFrame'>\n",
      "Index: 6 entries, d to k\n",
      "Data columns (total 3 columns):\n",
      " #   Column  Non-Null Count  Dtype  \n",
      "---  ------  --------------  -----  \n",
      " 0   state   6 non-null      object \n",
      " 1   year    6 non-null      int64  \n",
      " 2   popu    6 non-null      float64\n",
      "dtypes: float64(1), int64(1), object(1)\n",
      "memory usage: 192.0+ bytes\n",
      "df :\n",
      "    state  year  popu\n",
      "d    Ohio  2000   1.5\n",
      "f    Ohio  2001   1.7\n",
      "g    Ohio  2002   3.6\n",
      "h  Nevada  2001   2.4\n",
      "j  Nevada  2002   2.9\n",
      "k  Nevada  2003   3.2\n",
      "\n",
      "df.describe() :\n",
      "              year      popu\n",
      "count     6.000000  6.000000\n",
      "mean   2001.500000  2.550000\n",
      "std       1.048809  0.836062\n",
      "min    2000.000000  1.500000\n",
      "25%    2001.000000  1.875000\n",
      "50%    2001.500000  2.650000\n",
      "75%    2002.000000  3.125000\n",
      "max    2003.000000  3.600000 end\n",
      "\n",
      "df.info :\n",
      "None\n",
      "\n",
      "df.head() :\n",
      "    state  year  popu\n",
      "d    Ohio  2000   1.5\n",
      "f    Ohio  2001   1.7\n",
      "g    Ohio  2002   3.6\n",
      "h  Nevada  2001   2.4\n",
      "j  Nevada  2002   2.9\n",
      "\n",
      "df.tail(6) :\n",
      "    state  year  popu\n",
      "d    Ohio  2000   1.5\n",
      "f    Ohio  2001   1.7\n",
      "g    Ohio  2002   3.6\n",
      "h  Nevada  2001   2.4\n",
      "j  Nevada  2002   2.9\n",
      "k  Nevada  2003   3.2\n",
      "\n"
     ]
    }
   ],
   "source": [
    "# 顯示d.f.部分資料與基礎資訊\n",
    "print(f'df :\\n{df}\\n\\n'\n",
    "      f'df.describe() :\\n{df.describe()} end\\n\\n'\n",
    "      f'df.info :\\n{df.info()}\\n\\n'\n",
    "      f'df.head() :\\n{df.head()}\\n\\n'\n",
    "      f'df.tail(6) :\\n{df.tail(6)}\\n')"
   ]
  },
  {
   "cell_type": "markdown",
   "id": "c6ec16c8",
   "metadata": {},
   "source": [
    "### Column & Row \n",
    "透過rename()、set_axis()方法或columns屬性，達到全修改與部分修改column name 的功能  \n",
    "根據Pandas API文件 https://pandas.pydata.org/docs/reference/api/pandas.DataFrame.rename.html  \n",
    "> `.rename(index=None, columns=None, axis=None, inplace=False)`  \n",
    "\n",
    "其中:\n",
    "1. index可設定rowname，使用dict做mapping  \n",
    "2. columns可設定欄位名稱，使用dict做mapping  \n",
    "3. axis預設為0(row維度)  \n",
    "4. inplace預設為False，代表是否要置換原資料  \n",
    "\n",
    "根據Pandas API文件 https://pandas.pydata.org/docs/reference/api/pandas.DataFrame.set_axis.html?highlight=set_axis#pandas.DataFrame.set_axis  \n",
    "> `.set_axis(labels, axis=0, inplace=False)`  \n",
    "\n",
    "其中:\n",
    "1. labels為list-like 或者 Index物件  \n",
    "2. axis預設為0，可設定1或者columns,index  \n",
    "3. inplace為布林值，可決定是否要更改原資料 "
   ]
  },
  {
   "cell_type": "code",
   "execution_count": 59,
   "id": "9c728933",
   "metadata": {},
   "outputs": [
    {
     "data": {
      "text/html": [
       "<div>\n",
       "<style scoped>\n",
       "    .dataframe tbody tr th:only-of-type {\n",
       "        vertical-align: middle;\n",
       "    }\n",
       "\n",
       "    .dataframe tbody tr th {\n",
       "        vertical-align: top;\n",
       "    }\n",
       "\n",
       "    .dataframe thead th {\n",
       "        text-align: right;\n",
       "    }\n",
       "</style>\n",
       "<table border=\"1\" class=\"dataframe\">\n",
       "  <thead>\n",
       "    <tr style=\"text-align: right;\">\n",
       "      <th></th>\n",
       "      <th>team</th>\n",
       "      <th>points</th>\n",
       "      <th>assists</th>\n",
       "      <th>rebounds</th>\n",
       "    </tr>\n",
       "  </thead>\n",
       "  <tbody>\n",
       "    <tr>\n",
       "      <th>0</th>\n",
       "      <td>A</td>\n",
       "      <td>25</td>\n",
       "      <td>5</td>\n",
       "      <td>11</td>\n",
       "    </tr>\n",
       "    <tr>\n",
       "      <th>1</th>\n",
       "      <td>A</td>\n",
       "      <td>12</td>\n",
       "      <td>7</td>\n",
       "      <td>8</td>\n",
       "    </tr>\n",
       "    <tr>\n",
       "      <th>2</th>\n",
       "      <td>A</td>\n",
       "      <td>15</td>\n",
       "      <td>7</td>\n",
       "      <td>10</td>\n",
       "    </tr>\n",
       "    <tr>\n",
       "      <th>3</th>\n",
       "      <td>A</td>\n",
       "      <td>14</td>\n",
       "      <td>9</td>\n",
       "      <td>6</td>\n",
       "    </tr>\n",
       "    <tr>\n",
       "      <th>4</th>\n",
       "      <td>B</td>\n",
       "      <td>19</td>\n",
       "      <td>12</td>\n",
       "      <td>6</td>\n",
       "    </tr>\n",
       "    <tr>\n",
       "      <th>5</th>\n",
       "      <td>B</td>\n",
       "      <td>23</td>\n",
       "      <td>9</td>\n",
       "      <td>5</td>\n",
       "    </tr>\n",
       "    <tr>\n",
       "      <th>6</th>\n",
       "      <td>B</td>\n",
       "      <td>25</td>\n",
       "      <td>9</td>\n",
       "      <td>9</td>\n",
       "    </tr>\n",
       "    <tr>\n",
       "      <th>7</th>\n",
       "      <td>B</td>\n",
       "      <td>29</td>\n",
       "      <td>4</td>\n",
       "      <td>12</td>\n",
       "    </tr>\n",
       "  </tbody>\n",
       "</table>\n",
       "</div>"
      ],
      "text/plain": [
       "  team  points  assists  rebounds\n",
       "0    A      25        5        11\n",
       "1    A      12        7         8\n",
       "2    A      15        7        10\n",
       "3    A      14        9         6\n",
       "4    B      19       12         6\n",
       "5    B      23        9         5\n",
       "6    B      25        9         9\n",
       "7    B      29        4        12"
      ]
     },
     "execution_count": 59,
     "metadata": {},
     "output_type": "execute_result"
    }
   ],
   "source": [
    "# 定義初始d.f.\n",
    "df = pd.DataFrame({'team':['A', 'A', 'A', 'A', 'B', 'B', 'B', 'B'],\n",
    "                   'points': [25, 12, 15, 14, 19, 23, 25, 29],\n",
    "                   'assists': [5, 7, 7, 9, 12, 9, 9, 4],\n",
    "                   'rebounds': [11, 8, 10, 6, 6, 5, 9, 12]})\n",
    "df"
   ]
  },
  {
   "cell_type": "markdown",
   "id": "109d3de3",
   "metadata": {},
   "source": [
    "##### 顯示column name 方法1"
   ]
  },
  {
   "cell_type": "code",
   "execution_count": 60,
   "id": "de72c3ce",
   "metadata": {},
   "outputs": [
    {
     "data": {
      "text/plain": [
       "['team', 'points', 'assists', 'rebounds']"
      ]
     },
     "execution_count": 60,
     "metadata": {},
     "output_type": "execute_result"
    }
   ],
   "source": [
    "# 注意結果回傳list\n",
    "list(df)"
   ]
  },
  {
   "cell_type": "markdown",
   "id": "48eb85f1",
   "metadata": {},
   "source": [
    "##### 顯示column name 方法2"
   ]
  },
  {
   "cell_type": "code",
   "execution_count": 62,
   "id": "b7fc1077",
   "metadata": {},
   "outputs": [
    {
     "data": {
      "text/plain": [
       "Index(['team', 'points', 'assists', 'rebounds'], dtype='object')"
      ]
     },
     "execution_count": 62,
     "metadata": {},
     "output_type": "execute_result"
    }
   ],
   "source": [
    "# 注意結果回傳Index型別物件\n",
    "df.columns"
   ]
  },
  {
   "cell_type": "markdown",
   "id": "d34638f1",
   "metadata": {},
   "source": [
    "##### 重新命名column name 方法1"
   ]
  },
  {
   "cell_type": "code",
   "execution_count": 93,
   "id": "a91ba458",
   "metadata": {},
   "outputs": [
    {
     "data": {
      "text/html": [
       "<div>\n",
       "<style scoped>\n",
       "    .dataframe tbody tr th:only-of-type {\n",
       "        vertical-align: middle;\n",
       "    }\n",
       "\n",
       "    .dataframe tbody tr th {\n",
       "        vertical-align: top;\n",
       "    }\n",
       "\n",
       "    .dataframe thead th {\n",
       "        text-align: right;\n",
       "    }\n",
       "</style>\n",
       "<table border=\"1\" class=\"dataframe\">\n",
       "  <thead>\n",
       "    <tr style=\"text-align: right;\">\n",
       "      <th></th>\n",
       "      <th>BBAteam</th>\n",
       "      <th>BBApoints</th>\n",
       "      <th>BBAassists</th>\n",
       "      <th>BBArebounds</th>\n",
       "    </tr>\n",
       "  </thead>\n",
       "  <tbody>\n",
       "    <tr>\n",
       "      <th>0</th>\n",
       "      <td>A</td>\n",
       "      <td>25</td>\n",
       "      <td>5</td>\n",
       "      <td>11</td>\n",
       "    </tr>\n",
       "    <tr>\n",
       "      <th>1</th>\n",
       "      <td>A</td>\n",
       "      <td>12</td>\n",
       "      <td>7</td>\n",
       "      <td>8</td>\n",
       "    </tr>\n",
       "    <tr>\n",
       "      <th>2</th>\n",
       "      <td>A</td>\n",
       "      <td>15</td>\n",
       "      <td>7</td>\n",
       "      <td>10</td>\n",
       "    </tr>\n",
       "    <tr>\n",
       "      <th>3</th>\n",
       "      <td>A</td>\n",
       "      <td>14</td>\n",
       "      <td>9</td>\n",
       "      <td>6</td>\n",
       "    </tr>\n",
       "    <tr>\n",
       "      <th>4</th>\n",
       "      <td>B</td>\n",
       "      <td>19</td>\n",
       "      <td>12</td>\n",
       "      <td>6</td>\n",
       "    </tr>\n",
       "    <tr>\n",
       "      <th>5</th>\n",
       "      <td>B</td>\n",
       "      <td>23</td>\n",
       "      <td>9</td>\n",
       "      <td>5</td>\n",
       "    </tr>\n",
       "    <tr>\n",
       "      <th>6</th>\n",
       "      <td>B</td>\n",
       "      <td>25</td>\n",
       "      <td>9</td>\n",
       "      <td>9</td>\n",
       "    </tr>\n",
       "    <tr>\n",
       "      <th>7</th>\n",
       "      <td>B</td>\n",
       "      <td>29</td>\n",
       "      <td>4</td>\n",
       "      <td>12</td>\n",
       "    </tr>\n",
       "  </tbody>\n",
       "</table>\n",
       "</div>"
      ],
      "text/plain": [
       "  BBAteam  BBApoints  BBAassists  BBArebounds\n",
       "0       A         25           5           11\n",
       "1       A         12           7            8\n",
       "2       A         15           7           10\n",
       "3       A         14           9            6\n",
       "4       B         19          12            6\n",
       "5       B         23           9            5\n",
       "6       B         25           9            9\n",
       "7       B         29           4           12"
      ]
     },
     "execution_count": 93,
     "metadata": {},
     "output_type": "execute_result"
    }
   ],
   "source": [
    "# 注意格式為dict，使用key:value做前後對應，例如: 變更前:變更後\n",
    "# 注意這個方法可以選擇部分column變更\n",
    "df.rename(columns = {'team':'team_name', 'points':'points_scored'}, inplace = True)\n",
    "df"
   ]
  },
  {
   "cell_type": "markdown",
   "id": "d8c36740",
   "metadata": {},
   "source": [
    "##### 重新命名column name 方法2"
   ]
  },
  {
   "cell_type": "code",
   "execution_count": 66,
   "id": "cc8a2ae4",
   "metadata": {},
   "outputs": [
    {
     "data": {
      "text/html": [
       "<div>\n",
       "<style scoped>\n",
       "    .dataframe tbody tr th:only-of-type {\n",
       "        vertical-align: middle;\n",
       "    }\n",
       "\n",
       "    .dataframe tbody tr th {\n",
       "        vertical-align: top;\n",
       "    }\n",
       "\n",
       "    .dataframe thead th {\n",
       "        text-align: right;\n",
       "    }\n",
       "</style>\n",
       "<table border=\"1\" class=\"dataframe\">\n",
       "  <thead>\n",
       "    <tr style=\"text-align: right;\">\n",
       "      <th></th>\n",
       "      <th>new_col1</th>\n",
       "      <th>new_col2</th>\n",
       "      <th>new_col3</th>\n",
       "      <th>new_col4</th>\n",
       "    </tr>\n",
       "  </thead>\n",
       "  <tbody>\n",
       "    <tr>\n",
       "      <th>0</th>\n",
       "      <td>A</td>\n",
       "      <td>25</td>\n",
       "      <td>5</td>\n",
       "      <td>11</td>\n",
       "    </tr>\n",
       "    <tr>\n",
       "      <th>1</th>\n",
       "      <td>A</td>\n",
       "      <td>12</td>\n",
       "      <td>7</td>\n",
       "      <td>8</td>\n",
       "    </tr>\n",
       "    <tr>\n",
       "      <th>2</th>\n",
       "      <td>A</td>\n",
       "      <td>15</td>\n",
       "      <td>7</td>\n",
       "      <td>10</td>\n",
       "    </tr>\n",
       "    <tr>\n",
       "      <th>3</th>\n",
       "      <td>A</td>\n",
       "      <td>14</td>\n",
       "      <td>9</td>\n",
       "      <td>6</td>\n",
       "    </tr>\n",
       "    <tr>\n",
       "      <th>4</th>\n",
       "      <td>B</td>\n",
       "      <td>19</td>\n",
       "      <td>12</td>\n",
       "      <td>6</td>\n",
       "    </tr>\n",
       "    <tr>\n",
       "      <th>5</th>\n",
       "      <td>B</td>\n",
       "      <td>23</td>\n",
       "      <td>9</td>\n",
       "      <td>5</td>\n",
       "    </tr>\n",
       "    <tr>\n",
       "      <th>6</th>\n",
       "      <td>B</td>\n",
       "      <td>25</td>\n",
       "      <td>9</td>\n",
       "      <td>9</td>\n",
       "    </tr>\n",
       "    <tr>\n",
       "      <th>7</th>\n",
       "      <td>B</td>\n",
       "      <td>29</td>\n",
       "      <td>4</td>\n",
       "      <td>12</td>\n",
       "    </tr>\n",
       "  </tbody>\n",
       "</table>\n",
       "</div>"
      ],
      "text/plain": [
       "  new_col1  new_col2  new_col3  new_col4\n",
       "0        A        25         5        11\n",
       "1        A        12         7         8\n",
       "2        A        15         7        10\n",
       "3        A        14         9         6\n",
       "4        B        19        12         6\n",
       "5        B        23         9         5\n",
       "6        B        25         9         9\n",
       "7        B        29         4        12"
      ]
     },
     "execution_count": 66,
     "metadata": {},
     "output_type": "execute_result"
    }
   ],
   "source": [
    "# 使用讀取屬性+賦值的方法變更欄位值\n",
    "df.columns = ['new_col1', 'new_col2', 'new_col3', 'new_col4']\n",
    "df"
   ]
  },
  {
   "cell_type": "markdown",
   "id": "b61ff6ca",
   "metadata": {},
   "source": [
    "##### 重新命名column name 方法3"
   ]
  },
  {
   "cell_type": "code",
   "execution_count": 92,
   "id": "c0e77062",
   "metadata": {},
   "outputs": [
    {
     "data": {
      "text/plain": [
       "<pandas.core.strings.accessor.StringMethods at 0x273bf8ddab0>"
      ]
     },
     "execution_count": 92,
     "metadata": {},
     "output_type": "execute_result"
    }
   ],
   "source": [
    "# 注意這個方法只挑選部分欄位做改變\n",
    "# 如果沒有對應的欄位名稱，不會報錯\n",
    "df.columns.str"
   ]
  },
  {
   "cell_type": "code",
   "execution_count": 70,
   "id": "0520b0c2",
   "metadata": {},
   "outputs": [
    {
     "data": {
      "text/html": [
       "<div>\n",
       "<style scoped>\n",
       "    .dataframe tbody tr th:only-of-type {\n",
       "        vertical-align: middle;\n",
       "    }\n",
       "\n",
       "    .dataframe tbody tr th {\n",
       "        vertical-align: top;\n",
       "    }\n",
       "\n",
       "    .dataframe thead th {\n",
       "        text-align: right;\n",
       "    }\n",
       "</style>\n",
       "<table border=\"1\" class=\"dataframe\">\n",
       "  <thead>\n",
       "    <tr style=\"text-align: right;\">\n",
       "      <th></th>\n",
       "      <th>XXXX</th>\n",
       "      <th>new_col2</th>\n",
       "      <th>new_col3</th>\n",
       "      <th>new_col4</th>\n",
       "    </tr>\n",
       "  </thead>\n",
       "  <tbody>\n",
       "    <tr>\n",
       "      <th>0</th>\n",
       "      <td>A</td>\n",
       "      <td>25</td>\n",
       "      <td>5</td>\n",
       "      <td>11</td>\n",
       "    </tr>\n",
       "    <tr>\n",
       "      <th>1</th>\n",
       "      <td>A</td>\n",
       "      <td>12</td>\n",
       "      <td>7</td>\n",
       "      <td>8</td>\n",
       "    </tr>\n",
       "    <tr>\n",
       "      <th>2</th>\n",
       "      <td>A</td>\n",
       "      <td>15</td>\n",
       "      <td>7</td>\n",
       "      <td>10</td>\n",
       "    </tr>\n",
       "    <tr>\n",
       "      <th>3</th>\n",
       "      <td>A</td>\n",
       "      <td>14</td>\n",
       "      <td>9</td>\n",
       "      <td>6</td>\n",
       "    </tr>\n",
       "    <tr>\n",
       "      <th>4</th>\n",
       "      <td>B</td>\n",
       "      <td>19</td>\n",
       "      <td>12</td>\n",
       "      <td>6</td>\n",
       "    </tr>\n",
       "    <tr>\n",
       "      <th>5</th>\n",
       "      <td>B</td>\n",
       "      <td>23</td>\n",
       "      <td>9</td>\n",
       "      <td>5</td>\n",
       "    </tr>\n",
       "    <tr>\n",
       "      <th>6</th>\n",
       "      <td>B</td>\n",
       "      <td>25</td>\n",
       "      <td>9</td>\n",
       "      <td>9</td>\n",
       "    </tr>\n",
       "    <tr>\n",
       "      <th>7</th>\n",
       "      <td>B</td>\n",
       "      <td>29</td>\n",
       "      <td>4</td>\n",
       "      <td>12</td>\n",
       "    </tr>\n",
       "  </tbody>\n",
       "</table>\n",
       "</div>"
      ],
      "text/plain": [
       "  XXXX  new_col2  new_col3  new_col4\n",
       "0    A        25         5        11\n",
       "1    A        12         7         8\n",
       "2    A        15         7        10\n",
       "3    A        14         9         6\n",
       "4    B        19        12         6\n",
       "5    B        23         9         5\n",
       "6    B        25         9         9\n",
       "7    B        29         4        12"
      ]
     },
     "execution_count": 70,
     "metadata": {},
     "output_type": "execute_result"
    }
   ],
   "source": [
    "df.columns = df.columns.str.replace('new_col1', 'XXXX')\n",
    "df"
   ]
  },
  {
   "cell_type": "markdown",
   "id": "32da8765",
   "metadata": {},
   "source": [
    "##### 重新命名column name 方法4"
   ]
  },
  {
   "cell_type": "code",
   "execution_count": 91,
   "id": "3fd6e4d5",
   "metadata": {},
   "outputs": [
    {
     "data": {
      "text/plain": [
       "['BBAteam', 'BBApoints', 'BBAassists', 'BBArebounds']"
      ]
     },
     "execution_count": 91,
     "metadata": {},
     "output_type": "execute_result"
    }
   ],
   "source": [
    "# 注意原資料的column具備相同模式的開頭符號\n",
    "df = pd.DataFrame({'BBAteam':['A', 'A', 'A', 'A', 'B', 'B', 'B', 'B'],\n",
    "                   'BBApoints': [25, 12, 15, 14, 19, 23, 25, 29],\n",
    "                   'BBAassists': [5, 7, 7, 9, 12, 9, 9, 4],\n",
    "                   'BBArebounds': [11, 8, 10, 6, 6, 5, 9, 12]})\n",
    "list(df)"
   ]
  },
  {
   "cell_type": "code",
   "execution_count": 90,
   "id": "d20462cf",
   "metadata": {},
   "outputs": [
    {
     "data": {
      "text/plain": [
       "['000team', '000points', '000assists', '000rebounds']"
      ]
     },
     "execution_count": 90,
     "metadata": {},
     "output_type": "execute_result"
    }
   ],
   "source": [
    "# 針對欄位名稱內的特定字串做置換\n",
    "df.columns = df.columns.str.replace('BBA', '000')\n",
    "list(df)"
   ]
  },
  {
   "cell_type": "code",
   "execution_count": 89,
   "id": "d4f7c982",
   "metadata": {},
   "outputs": [
    {
     "name": "stderr",
     "output_type": "stream",
     "text": [
      "C:\\Users\\proph\\AppData\\Local\\Temp\\ipykernel_3436\\3896561422.py:2: FutureWarning: The default value of regex will change from True to False in a future version. In addition, single character regular expressions will *not* be treated as literal strings when regex=True.\n",
      "  df.columns = df.columns.str.replace('?', '000')\n"
     ]
    },
    {
     "data": {
      "text/plain": [
       "['000team', '000points', '000assists', '000rebounds']"
      ]
     },
     "execution_count": 89,
     "metadata": {},
     "output_type": "execute_result"
    }
   ],
   "source": []
  },
  {
   "cell_type": "markdown",
   "id": "d38fadb4",
   "metadata": {},
   "source": [
    "##### 重新命名column name 方法5"
   ]
  },
  {
   "cell_type": "code",
   "execution_count": 101,
   "id": "c8cd23a0",
   "metadata": {},
   "outputs": [],
   "source": [
    "df = pd.DataFrame({\"A\": [1, 2, 3], \"B\": [4, 5, 6]})"
   ]
  },
  {
   "cell_type": "code",
   "execution_count": 96,
   "id": "c298cadf",
   "metadata": {},
   "outputs": [
    {
     "data": {
      "text/html": [
       "<div>\n",
       "<style scoped>\n",
       "    .dataframe tbody tr th:only-of-type {\n",
       "        vertical-align: middle;\n",
       "    }\n",
       "\n",
       "    .dataframe tbody tr th {\n",
       "        vertical-align: top;\n",
       "    }\n",
       "\n",
       "    .dataframe thead th {\n",
       "        text-align: right;\n",
       "    }\n",
       "</style>\n",
       "<table border=\"1\" class=\"dataframe\">\n",
       "  <thead>\n",
       "    <tr style=\"text-align: right;\">\n",
       "      <th></th>\n",
       "      <th>A</th>\n",
       "      <th>B</th>\n",
       "    </tr>\n",
       "  </thead>\n",
       "  <tbody>\n",
       "    <tr>\n",
       "      <th>a</th>\n",
       "      <td>1</td>\n",
       "      <td>4</td>\n",
       "    </tr>\n",
       "    <tr>\n",
       "      <th>b</th>\n",
       "      <td>2</td>\n",
       "      <td>5</td>\n",
       "    </tr>\n",
       "    <tr>\n",
       "      <th>c</th>\n",
       "      <td>3</td>\n",
       "      <td>6</td>\n",
       "    </tr>\n",
       "  </tbody>\n",
       "</table>\n",
       "</div>"
      ],
      "text/plain": [
       "   A  B\n",
       "a  1  4\n",
       "b  2  5\n",
       "c  3  6"
      ]
     },
     "execution_count": 96,
     "metadata": {},
     "output_type": "execute_result"
    }
   ],
   "source": [
    "# 指定axis為設定index\n",
    "df.set_axis(['a', 'b', 'c'], axis='index')"
   ]
  },
  {
   "cell_type": "code",
   "execution_count": 102,
   "id": "c36fab17",
   "metadata": {},
   "outputs": [
    {
     "data": {
      "text/html": [
       "<div>\n",
       "<style scoped>\n",
       "    .dataframe tbody tr th:only-of-type {\n",
       "        vertical-align: middle;\n",
       "    }\n",
       "\n",
       "    .dataframe tbody tr th {\n",
       "        vertical-align: top;\n",
       "    }\n",
       "\n",
       "    .dataframe thead th {\n",
       "        text-align: right;\n",
       "    }\n",
       "</style>\n",
       "<table border=\"1\" class=\"dataframe\">\n",
       "  <thead>\n",
       "    <tr style=\"text-align: right;\">\n",
       "      <th></th>\n",
       "      <th>I</th>\n",
       "      <th>II</th>\n",
       "    </tr>\n",
       "  </thead>\n",
       "  <tbody>\n",
       "    <tr>\n",
       "      <th>0</th>\n",
       "      <td>1</td>\n",
       "      <td>4</td>\n",
       "    </tr>\n",
       "    <tr>\n",
       "      <th>1</th>\n",
       "      <td>2</td>\n",
       "      <td>5</td>\n",
       "    </tr>\n",
       "    <tr>\n",
       "      <th>2</th>\n",
       "      <td>3</td>\n",
       "      <td>6</td>\n",
       "    </tr>\n",
       "  </tbody>\n",
       "</table>\n",
       "</div>"
      ],
      "text/plain": [
       "   I  II\n",
       "0  1   4\n",
       "1  2   5\n",
       "2  3   6"
      ]
     },
     "execution_count": 102,
     "metadata": {},
     "output_type": "execute_result"
    }
   ],
   "source": [
    "# 指定axis為設定column name\n",
    "df.set_axis(['I', 'II'], axis='columns')"
   ]
  },
  {
   "cell_type": "code",
   "execution_count": 103,
   "id": "88619965",
   "metadata": {},
   "outputs": [
    {
     "data": {
      "text/html": [
       "<div>\n",
       "<style scoped>\n",
       "    .dataframe tbody tr th:only-of-type {\n",
       "        vertical-align: middle;\n",
       "    }\n",
       "\n",
       "    .dataframe tbody tr th {\n",
       "        vertical-align: top;\n",
       "    }\n",
       "\n",
       "    .dataframe thead th {\n",
       "        text-align: right;\n",
       "    }\n",
       "</style>\n",
       "<table border=\"1\" class=\"dataframe\">\n",
       "  <thead>\n",
       "    <tr style=\"text-align: right;\">\n",
       "      <th></th>\n",
       "      <th>A</th>\n",
       "      <th>B</th>\n",
       "    </tr>\n",
       "  </thead>\n",
       "  <tbody>\n",
       "    <tr>\n",
       "      <th>0</th>\n",
       "      <td>1</td>\n",
       "      <td>4</td>\n",
       "    </tr>\n",
       "    <tr>\n",
       "      <th>1</th>\n",
       "      <td>2</td>\n",
       "      <td>5</td>\n",
       "    </tr>\n",
       "    <tr>\n",
       "      <th>2</th>\n",
       "      <td>3</td>\n",
       "      <td>6</td>\n",
       "    </tr>\n",
       "  </tbody>\n",
       "</table>\n",
       "</div>"
      ],
      "text/plain": [
       "   A  B\n",
       "0  1  4\n",
       "1  2  5\n",
       "2  3  6"
      ]
     },
     "execution_count": 103,
     "metadata": {},
     "output_type": "execute_result"
    }
   ],
   "source": [
    "df"
   ]
  },
  {
   "cell_type": "code",
   "execution_count": 105,
   "id": "ff6aef12",
   "metadata": {},
   "outputs": [
    {
     "data": {
      "text/html": [
       "<div>\n",
       "<style scoped>\n",
       "    .dataframe tbody tr th:only-of-type {\n",
       "        vertical-align: middle;\n",
       "    }\n",
       "\n",
       "    .dataframe tbody tr th {\n",
       "        vertical-align: top;\n",
       "    }\n",
       "\n",
       "    .dataframe thead th {\n",
       "        text-align: right;\n",
       "    }\n",
       "</style>\n",
       "<table border=\"1\" class=\"dataframe\">\n",
       "  <thead>\n",
       "    <tr style=\"text-align: right;\">\n",
       "      <th></th>\n",
       "      <th>005</th>\n",
       "      <th>007</th>\n",
       "    </tr>\n",
       "  </thead>\n",
       "  <tbody>\n",
       "    <tr>\n",
       "      <th>0</th>\n",
       "      <td>1</td>\n",
       "      <td>4</td>\n",
       "    </tr>\n",
       "    <tr>\n",
       "      <th>1</th>\n",
       "      <td>2</td>\n",
       "      <td>5</td>\n",
       "    </tr>\n",
       "    <tr>\n",
       "      <th>2</th>\n",
       "      <td>3</td>\n",
       "      <td>6</td>\n",
       "    </tr>\n",
       "  </tbody>\n",
       "</table>\n",
       "</div>"
      ],
      "text/plain": [
       "   005  007\n",
       "0    1    4\n",
       "1    2    5\n",
       "2    3    6"
      ]
     },
     "execution_count": 105,
     "metadata": {},
     "output_type": "execute_result"
    }
   ],
   "source": [
    "# 利用inplace變更原資料\n",
    "df.set_axis(['005', '007'], axis='columns', inplace=True)\n",
    "df"
   ]
  },
  {
   "cell_type": "code",
   "execution_count": null,
   "id": "e55b7f5f",
   "metadata": {},
   "outputs": [],
   "source": []
  },
  {
   "cell_type": "code",
   "execution_count": null,
   "id": "b590cf74",
   "metadata": {},
   "outputs": [],
   "source": []
  },
  {
   "cell_type": "code",
   "execution_count": null,
   "id": "ebc14b31",
   "metadata": {},
   "outputs": [],
   "source": []
  },
  {
   "cell_type": "code",
   "execution_count": null,
   "id": "4b9b6a36",
   "metadata": {},
   "outputs": [],
   "source": []
  },
  {
   "cell_type": "code",
   "execution_count": null,
   "id": "5508c4f6",
   "metadata": {},
   "outputs": [],
   "source": []
  }
 ],
 "metadata": {
  "kernelspec": {
   "display_name": "Python 3 (ipykernel)",
   "language": "python",
   "name": "python3"
  },
  "language_info": {
   "codemirror_mode": {
    "name": "ipython",
    "version": 3
   },
   "file_extension": ".py",
   "mimetype": "text/x-python",
   "name": "python",
   "nbconvert_exporter": "python",
   "pygments_lexer": "ipython3",
   "version": "3.9.12"
  }
 },
 "nbformat": 4,
 "nbformat_minor": 5
}
