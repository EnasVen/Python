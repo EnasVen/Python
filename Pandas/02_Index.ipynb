{
 "cells": [
  {
   "cell_type": "markdown",
   "id": "595bd6b5",
   "metadata": {},
   "source": [
    "# Index"
   ]
  },
  {
   "cell_type": "markdown",
   "id": "27b0658f",
   "metadata": {},
   "source": [
    "### Pandas Object\n",
    "所有Pandas物件都會使用Index物件作為其索引標籤(rowNames)。  \n",
    "Index物件具備順序性與不可變更性質(immutable)。  \n",
    "不特別設定index屬性，則pd物件的index以0為起始的整數序列。  \n",
    "Index物件具備以下屬性:\n",
    "> size : index物件內共有幾個元素  \n",
    "> shape : 以一維陣列shape檢視  \n",
    "> ndim : 讀取共有幾個維度  \n",
    "> dtype : 此一維陣列的元素資料型態  "
   ]
  },
  {
   "cell_type": "code",
   "execution_count": 4,
   "id": "296adf3a",
   "metadata": {},
   "outputs": [],
   "source": [
    "import pandas as pd"
   ]
  },
  {
   "cell_type": "code",
   "execution_count": 7,
   "id": "ce42ddc4",
   "metadata": {},
   "outputs": [
    {
     "data": {
      "text/plain": [
       "(Int64Index([2, 3, 5, 7, 11], dtype='int64'),\n",
       " Int64Index([2, 3, 5], dtype='int64'))"
      ]
     },
     "execution_count": 7,
     "metadata": {},
     "output_type": "execute_result"
    }
   ],
   "source": [
    "ind = pd.Index([2, 3, 5, 7, 11])  # just a index \n",
    "ind , ind[0:3]"
   ]
  },
  {
   "cell_type": "code",
   "execution_count": 8,
   "id": "b757bb00",
   "metadata": {},
   "outputs": [
    {
     "ename": "TypeError",
     "evalue": "Index does not support mutable operations",
     "output_type": "error",
     "traceback": [
      "\u001b[1;31m---------------------------------------------------------------------------\u001b[0m",
      "\u001b[1;31mTypeError\u001b[0m                                 Traceback (most recent call last)",
      "Input \u001b[1;32mIn [8]\u001b[0m, in \u001b[0;36m<module>\u001b[1;34m\u001b[0m\n\u001b[0;32m      1\u001b[0m \u001b[38;5;66;03m# 修改 Index 物件會報錯\u001b[39;00m\n\u001b[1;32m----> 2\u001b[0m ind[\u001b[38;5;241m0\u001b[39m] \u001b[38;5;241m=\u001b[39m \u001b[38;5;241m55\u001b[39m\n",
      "File \u001b[1;32m~\\AppData\\Local\\Programs\\Python\\Python310\\lib\\site-packages\\pandas\\core\\indexes\\base.py:5021\u001b[0m, in \u001b[0;36mIndex.__setitem__\u001b[1;34m(self, key, value)\u001b[0m\n\u001b[0;32m   5019\u001b[0m \u001b[38;5;129m@final\u001b[39m\n\u001b[0;32m   5020\u001b[0m \u001b[38;5;28;01mdef\u001b[39;00m \u001b[38;5;21m__setitem__\u001b[39m(\u001b[38;5;28mself\u001b[39m, key, value):\n\u001b[1;32m-> 5021\u001b[0m     \u001b[38;5;28;01mraise\u001b[39;00m \u001b[38;5;167;01mTypeError\u001b[39;00m(\u001b[38;5;124m\"\u001b[39m\u001b[38;5;124mIndex does not support mutable operations\u001b[39m\u001b[38;5;124m\"\u001b[39m)\n",
      "\u001b[1;31mTypeError\u001b[0m: Index does not support mutable operations"
     ]
    }
   ],
   "source": [
    "# 修改 Index 物件會報錯\n",
    "ind[0] = 55"
   ]
  },
  {
   "cell_type": "code",
   "execution_count": 9,
   "id": "46722c5a",
   "metadata": {},
   "outputs": [
    {
     "data": {
      "text/plain": [
       "MultiIndex([('TP', 1),\n",
       "            ('TP', 3),\n",
       "            ('TY', 1),\n",
       "            ('TY', 6),\n",
       "            ('KS', 2)],\n",
       "           )"
      ]
     },
     "execution_count": 9,
     "metadata": {},
     "output_type": "execute_result"
    }
   ],
   "source": [
    "# 檢視屬性\n",
    "ind = pd.Index([('TP',1), ('TP',3), ('TY',1), ('TY', 6), ('KS',2)])  # just a index \n",
    "ind"
   ]
  },
  {
   "cell_type": "code",
   "execution_count": 10,
   "id": "57ba49bf",
   "metadata": {},
   "outputs": [
    {
     "name": "stdout",
     "output_type": "stream",
     "text": [
      "ind\t\t:\n",
      "MultiIndex([('TP', 1),\n",
      "            ('TP', 3),\n",
      "            ('TY', 1),\n",
      "            ('TY', 6),\n",
      "            ('KS', 2)],\n",
      "           )\n",
      "ind.size\t: 5\n",
      "ind.shape\t: (5,)\n",
      "ind.ndim\t: 1\n",
      "ind.dtype\t: object\n"
     ]
    }
   ],
   "source": [
    "# index 不可變但可重複\n",
    "print(f'ind\\t\\t:\\n{ind}\\n'\n",
    "      f'ind.size\\t: {ind.size}\\n'\n",
    "      f'ind.shape\\t: {ind.shape}\\n'\n",
    "      f'ind.ndim\\t: {ind.ndim}\\n'\n",
    "      f'ind.dtype\\t: {ind.dtype}')  "
   ]
  },
  {
   "cell_type": "markdown",
   "id": "0beb5f4a",
   "metadata": {},
   "source": [
    "### loc & iloc\n",
    "在Pandas物件內，使用此2種方法可以執行物件的索引。  \n",
    "兩者的區別:\n",
    "1. loc可使用字串索引；而iloc只能使用整數索引  \n",
    "2. loc的索引有包含end point；而iloc的索引沒有包含end point  "
   ]
  },
  {
   "cell_type": "code",
   "execution_count": 11,
   "id": "115e550f",
   "metadata": {},
   "outputs": [
    {
     "name": "stdout",
     "output_type": "stream",
     "text": [
      "0    0.25\n",
      "1    0.50\n",
      "2    0.75\n",
      "3    1.00\n",
      "dtype: float64\n",
      "\n",
      "1.0\n",
      "\n",
      "1    0.50\n",
      "2    0.75\n",
      "dtype: float64\n",
      "\n",
      "1    0.50\n",
      "2    0.75\n",
      "3    1.00\n",
      "dtype: float64\n"
     ]
    }
   ],
   "source": [
    "# loc\n",
    "data = pd.Series([0.25, 0.5, 0.75, 1.0])\n",
    "\n",
    "print(f'{data}\\n\\n'\n",
    "      f'{data.loc[3]}\\n\\n'\n",
    "      f'{data[1:3]}\\n\\n'   # position index\n",
    "      f'{data.loc[1:3]}') # 包含 3"
   ]
  },
  {
   "cell_type": "code",
   "execution_count": 12,
   "id": "8fc964d8",
   "metadata": {},
   "outputs": [
    {
     "name": "stdout",
     "output_type": "stream",
     "text": [
      "0    0.25\n",
      "1    0.50\n",
      "2    0.75\n",
      "3    1.00\n",
      "dtype: float64\n",
      "\n",
      "1.0\n",
      "\n",
      "1    0.50\n",
      "2    0.75\n",
      "dtype: float64\n"
     ]
    }
   ],
   "source": [
    "# iloc\n",
    "print(f'{data}\\n\\n'\n",
    "      f'{data.iloc[3]}\\n\\n'\n",
    "      f'{data.iloc[1:3]}') # 不包含 3"
   ]
  },
  {
   "cell_type": "code",
   "execution_count": 16,
   "id": "4b5166c1",
   "metadata": {},
   "outputs": [
    {
     "name": "stdout",
     "output_type": "stream",
     "text": [
      "5    0.25\n",
      "4    0.50\n",
      "3    0.75\n",
      "2    1.00\n",
      "dtype: float64\n",
      "\n",
      "0.75\n"
     ]
    }
   ],
   "source": [
    "# 使用 at[] 方法索引 key 對應的值\n",
    "data = pd.Series([0.25, 0.5, 0.75, 1.0], index=['5','4','3','2'])\n",
    "print(f\"{data}\\n\\n\"\n",
    "      f\"{data.at['3']}\") # key"
   ]
  },
  {
   "cell_type": "code",
   "execution_count": 17,
   "id": "b9cf585e",
   "metadata": {},
   "outputs": [
    {
     "name": "stdout",
     "output_type": "stream",
     "text": [
      "5    0.25\n",
      "4    0.50\n",
      "3    0.75\n",
      "2    1.00\n",
      "dtype: float64\n",
      "\n",
      "0.75\n",
      "\n",
      "3    0.75\n",
      "4    0.50\n",
      "5    0.25\n",
      "dtype: float64\n",
      "\n",
      "5    0.25\n",
      "4    0.50\n",
      "3    0.75\n",
      "dtype: float64\n"
     ]
    }
   ],
   "source": [
    "# '3':'5':-1 代表 index 3~5 全都抓\n",
    "print(f\"{data}\\n\\n\"\n",
    "      f\"{data.loc['3']}\\n\\n\"\n",
    "      f\"{data['3':'5':-1]}\\n\\n\"\n",
    "      f\"{data.loc['5':'3']}\") "
   ]
  },
  {
   "cell_type": "code",
   "execution_count": null,
   "id": "d7d037b7",
   "metadata": {},
   "outputs": [],
   "source": []
  }
 ],
 "metadata": {
  "kernelspec": {
   "display_name": "Python 3 (ipykernel)",
   "language": "python",
   "name": "python3"
  },
  "language_info": {
   "codemirror_mode": {
    "name": "ipython",
    "version": 3
   },
   "file_extension": ".py",
   "mimetype": "text/x-python",
   "name": "python",
   "nbconvert_exporter": "python",
   "pygments_lexer": "ipython3",
   "version": "3.10.2"
  }
 },
 "nbformat": 4,
 "nbformat_minor": 5
}
