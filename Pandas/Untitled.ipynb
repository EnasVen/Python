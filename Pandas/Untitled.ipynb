{
 "cells": [
  {
   "cell_type": "code",
   "execution_count": null,
   "id": "29505493-1a3a-4d4b-b6f1-fd74a9df127c",
   "metadata": {},
   "outputs": [],
   "source": []
  },
  {
   "cell_type": "code",
   "execution_count": null,
   "id": "f2508a75-b4eb-4548-81f2-ae2f62487604",
   "metadata": {},
   "outputs": [],
   "source": []
  },
  {
   "cell_type": "code",
   "execution_count": 1,
   "id": "6dae4825-2279-4866-96f2-356bf3155c33",
   "metadata": {},
   "outputs": [],
   "source": [
    "import numpy as np\n",
    "import pandas as pd"
   ]
  },
  {
   "cell_type": "code",
   "execution_count": 6,
   "id": "4ce9af94-0e03-4637-8262-fef2cd4d8bb3",
   "metadata": {},
   "outputs": [
    {
     "data": {
      "text/plain": [
       "3.708429769266189"
      ]
     },
     "execution_count": 6,
     "metadata": {},
     "output_type": "execute_result"
    }
   ],
   "source": [
    "a = np.array([3,2,2,2])\n",
    "np.linalg.norm(a,ord=3)"
   ]
  },
  {
   "cell_type": "code",
   "execution_count": 8,
   "id": "1bf092c2-f0b5-4367-859d-8d4374a9fa9c",
   "metadata": {},
   "outputs": [
    {
     "data": {
      "text/plain": [
       "3.708429769266189"
      ]
     },
     "execution_count": 8,
     "metadata": {},
     "output_type": "execute_result"
    }
   ],
   "source": [
    "51**(1/3)"
   ]
  },
  {
   "cell_type": "code",
   "execution_count": 9,
   "id": "a3bec98e-b4e9-491f-a5c2-09a8e1e0ab2f",
   "metadata": {},
   "outputs": [],
   "source": [
    "sales = [('acc',['A','B','C','D']) , ('Jan2022',[150,50,200]) , ('Feb2022',[10,20,30]) , ('Mar2022',[17,33,2]) ]"
   ]
  },
  {
   "cell_type": "code",
   "execution_count": 19,
   "id": "2ef76d38-f8da-4272-8764-dd20fd65a349",
   "metadata": {},
   "outputs": [
    {
     "data": {
      "text/html": [
       "<div>\n",
       "<style scoped>\n",
       "    .dataframe tbody tr th:only-of-type {\n",
       "        vertical-align: middle;\n",
       "    }\n",
       "\n",
       "    .dataframe tbody tr th {\n",
       "        vertical-align: top;\n",
       "    }\n",
       "\n",
       "    .dataframe thead th {\n",
       "        text-align: right;\n",
       "    }\n",
       "</style>\n",
       "<table border=\"1\" class=\"dataframe\">\n",
       "  <thead>\n",
       "    <tr style=\"text-align: right;\">\n",
       "      <th></th>\n",
       "      <th>acc</th>\n",
       "      <th>A</th>\n",
       "      <th>B</th>\n",
       "      <th>C</th>\n",
       "    </tr>\n",
       "  </thead>\n",
       "  <tbody>\n",
       "    <tr>\n",
       "      <th>0</th>\n",
       "      <td>Jan2022</td>\n",
       "      <td>150</td>\n",
       "      <td>50</td>\n",
       "      <td>200</td>\n",
       "    </tr>\n",
       "    <tr>\n",
       "      <th>1</th>\n",
       "      <td>Feb2022</td>\n",
       "      <td>10</td>\n",
       "      <td>20</td>\n",
       "      <td>30</td>\n",
       "    </tr>\n",
       "    <tr>\n",
       "      <th>2</th>\n",
       "      <td>Mar2022</td>\n",
       "      <td>17</td>\n",
       "      <td>33</td>\n",
       "      <td>2</td>\n",
       "    </tr>\n",
       "  </tbody>\n",
       "</table>\n",
       "</div>"
      ],
      "text/plain": [
       "       acc    A   B    C\n",
       "0  Jan2022  150  50  200\n",
       "1  Feb2022   10  20   30\n",
       "2  Mar2022   17  33    2"
      ]
     },
     "execution_count": 19,
     "metadata": {},
     "output_type": "execute_result"
    }
   ],
   "source": [
    "sales = [('Jan2022',150,50,200) , ('Feb2022',10,20,30) , ('Mar2022',17,33,2) ]\n",
    "pd.DataFrame.from_records(sales , columns = ['acc','A','B','C'] )"
   ]
  },
  {
   "cell_type": "code",
   "execution_count": 20,
   "id": "212189ee-bc4a-4ba0-b83a-a99901c27d02",
   "metadata": {},
   "outputs": [
    {
     "data": {
      "text/plain": [
       "'1.4.2'"
      ]
     },
     "execution_count": 20,
     "metadata": {},
     "output_type": "execute_result"
    }
   ],
   "source": [
    "pd.__version__"
   ]
  },
  {
   "cell_type": "code",
   "execution_count": null,
   "id": "1081ba25-8e01-426f-9e8a-ca2f17f55b3f",
   "metadata": {},
   "outputs": [],
   "source": []
  },
  {
   "cell_type": "code",
   "execution_count": null,
   "id": "67a1f802-6683-49b9-95b7-b585eefb6b30",
   "metadata": {},
   "outputs": [],
   "source": []
  },
  {
   "cell_type": "code",
   "execution_count": null,
   "id": "ac3e282c-2dd2-4b61-be29-13430a4260e6",
   "metadata": {},
   "outputs": [],
   "source": []
  }
 ],
 "metadata": {
  "kernelspec": {
   "display_name": "Python 3 (ipykernel)",
   "language": "python",
   "name": "python3"
  },
  "language_info": {
   "codemirror_mode": {
    "name": "ipython",
    "version": 3
   },
   "file_extension": ".py",
   "mimetype": "text/x-python",
   "name": "python",
   "nbconvert_exporter": "python",
   "pygments_lexer": "ipython3",
   "version": "3.9.12"
  }
 },
 "nbformat": 4,
 "nbformat_minor": 5
}
